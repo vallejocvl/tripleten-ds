{
  "cells": [
    {
      "cell_type": "code",
      "execution_count": null,
      "id": "6443a8c4",
      "metadata": {
        "id": "6443a8c4"
      },
      "outputs": [],
      "source": [
        "import time\n",
        "import numpy as np\n",
        "import pandas as pd"
      ]
    },
    {
      "cell_type": "markdown",
      "id": "fe9919e2",
      "metadata": {
        "id": "fe9919e2"
      },
      "source": [
        "# 📊 Complejidad Computacional: ¿Qué tan rápido es un algoritmo?\n",
        "\n",
        "Cuando escribimos un programa, muchas veces queremos saber **qué tan eficiente es**. La **complejidad computacional** es una forma de medir cuánto **tiempo** o **memoria** necesita un algoritmo a medida que los datos crecen.\n",
        "\n",
        "---\n",
        "\n",
        "## 🎯 ¿Por qué importa esto?\n",
        "\n",
        "Imagina que tienes una lista con 10 contactos y haces una búsqueda. ¡Es rápido!\n",
        "\n",
        "Pero... ¿y si fueran 1 millón de contactos?  \n",
        "Ahí es donde se nota si tu algoritmo es **eficiente** o no.\n",
        "\n",
        "---\n",
        "\n",
        "## 🕒 Tipos comunes de complejidad de tiempo (Big O)\n",
        "\n",
        "| Notación | Nombre                    | Qué significa en palabras simples |\n",
        "|----------|----------------------------|-----------------------------------|\n",
        "| O(1)     | Constante                 | Siempre se tarda lo mismo         |\n",
        "| O(n)     | Lineal                    | Tarda más si hay más datos        |\n",
        "| O(n²)    | Cuadrática                | Muy lento si crecen los datos     |\n",
        "| O(log n) | Logarítmica               | Muy eficiente con muchos datos    |\n",
        "\n",
        "---\n",
        "\n",
        "## 🧁 Ejemplo de la vida real:\n",
        "\n",
        "Imagina que estás buscando un ingrediente en la despensa.\n",
        "\n",
        "- Si tienes solo 3 cajones y sabes exactamente cuál es: **O(1)**  \n",
        "- Si tienes que revisar cada cajón uno por uno: **O(n)**  \n",
        "- Si por cada cajón tienes que revisar 10 frascos y hay 10 cajones: **O(n²)**\n",
        "\n",
        "---\n",
        "\n",
        "## 📌 En resumen:\n",
        "\n",
        "La complejidad computacional nos ayuda a decidir **qué tan bueno es un algoritmo** cuando los datos crecen. No es solo que funcione, sino que funcione **rápido y con pocos recursos**.\n"
      ]
    },
    {
      "cell_type": "code",
      "execution_count": null,
      "id": "fdb367b2",
      "metadata": {
        "id": "fdb367b2"
      },
      "outputs": [],
      "source": [
        "# O(1): Constante\n",
        "def obtener_primer_elemento(lista):\n",
        "    return lista[0]\n",
        "\n",
        "# O(n): Lineal\n",
        "def imprimir_todos(lista):\n",
        "    for elemento in lista:\n",
        "        elemento\n",
        "\n",
        "# O(n^2): Cuadrática\n",
        "def comparar_todos(lista):\n",
        "    for i in lista:\n",
        "        for j in lista:\n",
        "            i+j\n",
        "\n",
        "\n",
        "def medir_tiempo(funcion, lista, etiqueta):\n",
        "    inicio = time.time()\n",
        "    funcion(lista)\n",
        "    fin = time.time()\n",
        "    print(f\"{etiqueta}: {fin - inicio:.6f} segundos\")\n",
        "\n",
        "# Generamos listas de diferentes tamaños\n",
        "lista_pequeña = list(range(1000))\n",
        "lista_grande = list(range(10000))"
      ]
    },
    {
      "cell_type": "markdown",
      "id": "e150d6cb",
      "metadata": {
        "id": "e150d6cb"
      },
      "source": [
        "## Listas pequeñas"
      ]
    },
    {
      "cell_type": "code",
      "execution_count": null,
      "id": "9d934958",
      "metadata": {
        "id": "9d934958",
        "outputId": "16da7bc8-85e2-489b-c268-34ea70a665a7"
      },
      "outputs": [
        {
          "name": "stdout",
          "output_type": "stream",
          "text": [
            "O(1): 0.000001 segundos\n",
            "O(n): 0.000011 segundos\n",
            "O(n^2): 0.021925 segundos\n"
          ]
        }
      ],
      "source": [
        "medir_tiempo(obtener_primer_elemento, lista_pequeña, \"O(1)\")\n",
        "medir_tiempo(imprimir_todos, lista_pequeña, \"O(n)\")\n",
        "medir_tiempo(comparar_todos, lista_pequeña, \"O(n^2)\")"
      ]
    },
    {
      "cell_type": "markdown",
      "id": "8c185014",
      "metadata": {
        "id": "8c185014"
      },
      "source": [
        "## Listas grandes"
      ]
    },
    {
      "cell_type": "code",
      "execution_count": null,
      "id": "ea010a7f",
      "metadata": {
        "id": "ea010a7f",
        "outputId": "b9d4c45c-d600-4dfa-ed4b-16e4a81f008e"
      },
      "outputs": [
        {
          "name": "stdout",
          "output_type": "stream",
          "text": [
            "O(1): 0.000001 segundos\n",
            "O(n): 0.000139 segundos\n",
            "O(n^2): 2.031842 segundos\n"
          ]
        }
      ],
      "source": [
        "medir_tiempo(obtener_primer_elemento, lista_grande, \"O(1)\")\n",
        "medir_tiempo(imprimir_todos, lista_grande, \"O(n)\")\n",
        "medir_tiempo(comparar_todos, lista_grande, \"O(n^2)\")"
      ]
    },
    {
      "cell_type": "markdown",
      "id": "78bf83b7",
      "metadata": {
        "id": "78bf83b7"
      },
      "source": [
        "## Ejercicio: Inversión de palabras en una cadena de texto"
      ]
    },
    {
      "cell_type": "markdown",
      "id": "1a1aafeb",
      "metadata": {
        "id": "1a1aafeb"
      },
      "source": [
        "\n",
        "\n",
        "### Descripción\n",
        "Desarrolla una función llamada `invertir_palabras` que reciba como parámetro una cadena de texto (string) y realice las siguientes operaciones:\n",
        "\n",
        "1. Eliminar los espacios adicionales al inicio y al final de la cadena\n",
        "2. Convertir todas las palabras a minúsculas\n",
        "3. Invertir el orden de las palabras en la cadena\n",
        "4. Retornar la nueva cadena con las palabras en orden inverso\n",
        "\n",
        "### Ejemplo\n",
        "Si la función recibe como entrada:\n",
        "\n",
        "```\" El   Cielo Es aZul claro   \"```\n",
        "\n",
        "Debe retornar:\n",
        "\n",
        "```\"claro azul es cielo el\"```"
      ]
    },
    {
      "cell_type": "code",
      "execution_count": null,
      "id": "9cfc9a7e",
      "metadata": {
        "id": "9cfc9a7e"
      },
      "outputs": [],
      "source": []
    },
    {
      "cell_type": "markdown",
      "id": "1ec8afb5",
      "metadata": {
        "id": "1ec8afb5"
      },
      "source": [
        "## Solución"
      ]
    },
    {
      "cell_type": "code",
      "execution_count": null,
      "id": "82753a57",
      "metadata": {
        "id": "82753a57",
        "outputId": "ea3e49dc-cfd1-4434-8e3d-cfb62f710e9c"
      },
      "outputs": [
        {
          "name": "stdout",
          "output_type": "stream",
          "text": [
            "0.000054 segundos\n",
            "claro azul es cielo el\n"
          ]
        }
      ],
      "source": [
        "def invertir_palabras(texto):\n",
        "   # 1. Eliminar espacios adicionales al inicio y final, y convertir a minúsculas\n",
        "   texto_limpio = texto.strip().lower()\n",
        "\n",
        "   # 2. Dividir el texto en palabras, usando split() que maneja automáticamente\n",
        "   # múltiples espacios como un solo separador\n",
        "   palabras = texto_limpio.split()\n",
        "\n",
        "   # 3. Invertir el orden de las palabras y unirlas con un espacio\n",
        "   resultado = \" \".join(palabras[::-1])\n",
        "\n",
        "   return resultado\n",
        "\n",
        "texto_prueba = \" El   Cielo Es aZul claro   \"\n",
        "\n",
        "inicio = time.time()\n",
        "resultado = invertir_palabras(texto_prueba)\n",
        "fin = time.time()\n",
        "print(f\"{fin - inicio:.6f} segundos\")\n",
        "print(resultado)  # Debería imprimir: \"claro azul es cielo el\""
      ]
    },
    {
      "cell_type": "markdown",
      "id": "a4e69f99",
      "metadata": {
        "id": "a4e69f99"
      },
      "source": [
        "# Gradiente Descendente para Regresión Lineal con Dos Variables\n",
        "\n",
        "## 1. Definición del modelo\n",
        "La regresión lineal con dos variables se representa como:\n",
        "$$y = \\theta_0 + \\theta_1 x_1 + \\theta_2 x_2$$\n",
        "\n",
        "Donde:\n",
        "- $y$ es la variable dependiente (lo que queremos predecir)\n",
        "- $x_1$ y $x_2$ son las variables independientes (características)\n",
        "- $\\theta_0$, $\\theta_1$ y $\\theta_2$ son los parámetros del modelo que debemos optimizar\n",
        "\n",
        "## 2. Definición de la función de costo\n",
        "Utilizamos el Error Cuadrático Medio (MSE):\n",
        "$$J(\\theta_0, \\theta_1, \\theta_2) = \\frac{1}{2m} \\sum_{i=1}^{m} (h(x^{(i)}) - y^{(i)})^2$$\n",
        "\n",
        "Donde:\n",
        "- $m$ es el número de ejemplos de entrenamiento\n",
        "- $h(x^{(i)}) = \\theta_0 + \\theta_1 x_1^{(i)} + \\theta_2 x_2^{(i)}$ es la predicción para el ejemplo $i$\n",
        "- $y^{(i)}$ es el valor real para el ejemplo $i$\n",
        "\n",
        "## 3. Cálculo de los gradientes\n",
        "Para actualizar los parámetros, necesitamos calcular las derivadas parciales:\n",
        "\n",
        "$$\\frac{\\partial J}{\\partial \\theta_0} = \\frac{1}{m} \\sum_{i=1}^{m} (h(x^{(i)}) - y^{(i)})$$\n",
        "\n",
        "$$\\frac{\\partial J}{\\partial \\theta_1} = \\frac{1}{m} \\sum_{i=1}^{m} (h(x^{(i)}) - y^{(i)}) \\cdot x_1^{(i)}$$\n",
        "\n",
        "$$\\frac{\\partial J}{\\partial \\theta_2} = \\frac{1}{m} \\sum_{i=1}^{m} (h(x^{(i)}) - y^{(i)}) \\cdot x_2^{(i)}$$\n",
        "\n",
        "## 4. Inicialización de los parámetros\n",
        "Establecemos valores iniciales para $\\theta_0$, $\\theta_1$ y $\\theta_2$, generalmente en cero:\n",
        "```python\n",
        "theta_0 = 0\n",
        "theta_1 = 0\n",
        "theta_2 = 0\n",
        "```\n",
        "\n",
        "## 5. Algoritmo iterativo\n",
        "Para cada iteración hasta la convergencia:\n",
        "\n",
        "a) Calculamos las predicciones para todos los ejemplos:\n",
        "   $$h(x^{(i)}) = \\theta_0 + \\theta_1 x_1^{(i)} + \\theta_2 x_2^{(i)}, \\quad \\text{para } i = 1 \\text{ hasta } m$$\n",
        "\n",
        "b) Calculamos los errores:\n",
        "   $$\\text{error}^{(i)} = h(x^{(i)}) - y^{(i)}, \\quad \\text{para } i = 1 \\text{ hasta } m$$\n",
        "\n",
        "c) Calculamos los gradientes:\n",
        "   $$\\text{grad}_{\\theta_0} = \\frac{1}{m} \\sum_{i=1}^{m} \\text{error}^{(i)}$$\n",
        "   \n",
        "   $$\\text{grad}_{\\theta_1} = \\frac{1}{m} \\sum_{i=1}^{m} \\text{error}^{(i)} \\cdot x_1^{(i)}$$\n",
        "   \n",
        "   $$\\text{grad}_{\\theta_2} = \\frac{1}{m} \\sum_{i=1}^{m} \\text{error}^{(i)} \\cdot x_2^{(i)}$$\n",
        "\n",
        "d) Actualizamos los parámetros simultáneamente:\n",
        "   $$\\theta_0 = \\theta_0 - \\alpha \\cdot \\text{grad}_{\\theta_0}$$\n",
        "   \n",
        "   $$\\theta_1 = \\theta_1 - \\alpha \\cdot \\text{grad}_{\\theta_1}$$\n",
        "   \n",
        "   $$\\theta_2 = \\theta_2 - \\alpha \\cdot \\text{grad}_{\\theta_2}$$\n",
        "\n",
        "   Donde $\\alpha$ es la tasa de aprendizaje (un valor pequeño positivo)\n",
        "\n",
        "## 6. Criterio de detención\n",
        "Continuamos las iteraciones hasta que:\n",
        "- El número de iteraciones alcance un máximo predefinido\n",
        "- El cambio en la función de costo sea menor que un umbral $(|J(\\theta)_{new} - J(\\theta)_{old}| < \\varepsilon)$\n",
        "- La magnitud de los gradientes sea menor que un umbral\n",
        "\n",
        "## 7. Resultado final\n",
        "Una vez que el algoritmo converge, obtenemos los valores óptimos de $\\theta_0$, $\\theta_1$ y $\\theta_2$ que minimizan la función de costo.\n"
      ]
    },
    {
      "cell_type": "markdown",
      "id": "4f98ebcf",
      "metadata": {
        "id": "4f98ebcf"
      },
      "source": [
        "## Ejemplo"
      ]
    },
    {
      "cell_type": "code",
      "execution_count": null,
      "id": "e26f7022",
      "metadata": {
        "id": "e26f7022"
      },
      "outputs": [],
      "source": [
        "# Datos de entrada: 2 ejemplos (filas), 3 características (columnas)\n",
        "X = np.array([\n",
        "    [1.0, 2.0, 3.0],\n",
        "    [4.0, 5.0, 6.0]\n",
        "])\n",
        "\n",
        "# Etiquetas reales\n",
        "y = np.array([14.0, 32.0])\n",
        "\n",
        "# Número de ejemplos\n",
        "m = len(y)\n",
        "\n",
        "# Inicializamos los pesos y el bias\n",
        "w = np.array([0.0, 0.0, 0.0])  # pesos w1, w2, w3\n",
        "b = 0.0  # bias w0\n",
        "\n",
        "# Tasa de aprendizaje\n",
        "alpha = 0.01"
      ]
    },
    {
      "cell_type": "markdown",
      "id": "668d6f99",
      "metadata": {
        "id": "668d6f99"
      },
      "source": [
        "### 📘 Derivadas parciales respecto a los pesos\n",
        "\n",
        "$$\n",
        "\\frac{\\partial J}{\\partial w_1} = \\frac{2}{m} \\sum_{i=1}^m \\left( \\hat{y}^{(i)} - y^{(i)} \\right) \\cdot x_1^{(i)}\n",
        "$$\n",
        "\n",
        "$$\n",
        "\\frac{\\partial J}{\\partial w_2} = \\frac{2}{m} \\sum_{i=1}^m \\left( \\hat{y}^{(i)} - y^{(i)} \\right) \\cdot x_2^{(i)}\n",
        "$$\n",
        "\n",
        "$$\n",
        "\\frac{\\partial J}{\\partial w_3} = \\frac{2}{m} \\sum_{i=1}^m \\left( \\hat{y}^{(i)} - y^{(i)} \\right) \\cdot x_3^{(i)}\n",
        "$$\n",
        "\n",
        "$$\n",
        "\\frac{\\partial J}{\\partial b} = \\frac{2}{m} \\sum_{i=1}^m \\left( \\hat{y}^{(i)} - y^{(i)} \\right)\n",
        "$$\n"
      ]
    },
    {
      "cell_type": "markdown",
      "id": "44c66edb",
      "metadata": {
        "id": "44c66edb"
      },
      "source": [
        "### 1 Iteración"
      ]
    },
    {
      "cell_type": "code",
      "execution_count": null,
      "id": "268a931f",
      "metadata": {
        "id": "268a931f",
        "outputId": "2c063b81-7d7d-4669-b467-210f6bb4b81c"
      },
      "outputs": [
        {
          "name": "stdout",
          "output_type": "stream",
          "text": [
            "Iteración 1:\n",
            "  b = 0.46\n",
            "  w = [1.42 1.88 2.34]\n"
          ]
        }
      ],
      "source": [
        "# Predicciones\n",
        "y_hat_1 = b + np.dot(X[0], w)\n",
        "y_hat_2 = b + np.dot(X[1], w)\n",
        "\n",
        "# Errores\n",
        "error_1 = y_hat_1 - y[0]\n",
        "error_2 = y_hat_2 - y[1]\n",
        "\n",
        "# Gradientes\n",
        "grad_b = (2/m) * (error_1 + error_2)\n",
        "grad_w = (2/m) * (error_1 * X[0] + error_2 * X[1])\n",
        "\n",
        "# Actualización\n",
        "b = b - alpha * grad_b\n",
        "w = w - alpha * grad_w\n",
        "\n",
        "print(\"Iteración 1:\")\n",
        "print(\"  b =\", b)\n",
        "print(\"  w =\", w)\n"
      ]
    },
    {
      "cell_type": "markdown",
      "id": "484998b6",
      "metadata": {
        "id": "484998b6"
      },
      "source": [
        "### 2 Iteración"
      ]
    },
    {
      "cell_type": "code",
      "execution_count": null,
      "id": "1b4c163d",
      "metadata": {
        "id": "1b4c163d",
        "outputId": "6f036391-f3ee-4b42-c55e-bdc06d34056c"
      },
      "outputs": [
        {
          "name": "stdout",
          "output_type": "stream",
          "text": [
            "\n",
            "Iteración 2:\n",
            "  b = 0.49760000000000004\n",
            "  w = [1.5302 2.0278 2.5254]\n"
          ]
        }
      ],
      "source": [
        "# Nuevas predicciones\n",
        "y_hat_1 = b + np.dot(X[0], w)\n",
        "y_hat_2 = b + np.dot(X[1], w)\n",
        "\n",
        "# Nuevos errores\n",
        "error_1 = y_hat_1 - y[0]\n",
        "error_2 = y_hat_2 - y[1]\n",
        "\n",
        "# Nuevos gradientes\n",
        "grad_b = (2/m) * (error_1 + error_2)\n",
        "grad_w = (2/m) * (error_1 * X[0] + error_2 * X[1])\n",
        "\n",
        "# Actualización\n",
        "b = b - alpha * grad_b\n",
        "w = w - alpha * grad_w\n",
        "\n",
        "print(\"\\nIteración 2:\")\n",
        "print(\"  b =\", b)\n",
        "print(\"  w =\", w)"
      ]
    },
    {
      "cell_type": "markdown",
      "id": "4bba7eca",
      "metadata": {
        "id": "4bba7eca"
      },
      "source": [
        "### 3 Iteración"
      ]
    },
    {
      "cell_type": "code",
      "execution_count": null,
      "id": "825c7a20",
      "metadata": {
        "id": "825c7a20",
        "outputId": "ff0674d4-b5f1-472a-af36-2346cad94fc9"
      },
      "outputs": [
        {
          "name": "stdout",
          "output_type": "stream",
          "text": [
            "\n",
            "Iteración 3:\n",
            "  b = 0.5019060000000001\n",
            "  w = [1.537212 2.039118 2.541024]\n"
          ]
        }
      ],
      "source": [
        "# Nuevas predicciones\n",
        "y_hat_1 = b + np.dot(X[0], w)\n",
        "y_hat_2 = b + np.dot(X[1], w)\n",
        "\n",
        "# Nuevos errores\n",
        "error_1 = y_hat_1 - y[0]\n",
        "error_2 = y_hat_2 - y[1]\n",
        "\n",
        "# Nuevos gradientes\n",
        "grad_b = (2/m) * (error_1 + error_2)\n",
        "grad_w = (2/m) * (error_1 * X[0] + error_2 * X[1])\n",
        "\n",
        "# Actualización\n",
        "b = b - alpha * grad_b\n",
        "w = w - alpha * grad_w\n",
        "\n",
        "print(\"\\nIteración 3:\")\n",
        "print(\"  b =\", b)\n",
        "print(\"  w =\", w)"
      ]
    },
    {
      "cell_type": "markdown",
      "id": "4eace6af",
      "metadata": {
        "id": "4eace6af"
      },
      "source": [
        "## Ejercicio\n",
        "\n",
        "Genera una función de python que generalice el proceso anterior.\n",
        "\n",
        "La función debe recibir como paramentros:\n",
        "\n",
        "- X: matriz de características (shape: m x n)\n",
        "- y: vector de etiquetas verdaderas (shape: m)\n",
        "- w_inicial: vector de pesos iniciales (shape: n)\n",
        "- b_inicial: valor inicial del bias\n",
        "- alpha: tasa de aprendizaje\n",
        "- num_iteraciones: número de iteraciones del gradiente descendiente.\n",
        "\n",
        "Debe retornar:\n",
        "- Los pesos para cada caracteristica."
      ]
    },
    {
      "cell_type": "code",
      "execution_count": null,
      "id": "1c71913a",
      "metadata": {
        "id": "1c71913a",
        "outputId": "7e3a02d9-7027-46de-dbae-f48360df1450"
      },
      "outputs": [
        {
          "data": {
            "text/html": [
              "<div>\n",
              "<style scoped>\n",
              "    .dataframe tbody tr th:only-of-type {\n",
              "        vertical-align: middle;\n",
              "    }\n",
              "\n",
              "    .dataframe tbody tr th {\n",
              "        vertical-align: top;\n",
              "    }\n",
              "\n",
              "    .dataframe thead th {\n",
              "        text-align: right;\n",
              "    }\n",
              "</style>\n",
              "<table border=\"1\" class=\"dataframe\">\n",
              "  <thead>\n",
              "    <tr style=\"text-align: right;\">\n",
              "      <th></th>\n",
              "      <th>feature_1</th>\n",
              "      <th>feature_2</th>\n",
              "      <th>feature_3</th>\n",
              "      <th>target</th>\n",
              "    </tr>\n",
              "  </thead>\n",
              "  <tbody>\n",
              "    <tr>\n",
              "      <th>0</th>\n",
              "      <td>0.496714</td>\n",
              "      <td>-0.138264</td>\n",
              "      <td>0.647689</td>\n",
              "      <td>6.212522</td>\n",
              "    </tr>\n",
              "    <tr>\n",
              "      <th>1</th>\n",
              "      <td>1.523030</td>\n",
              "      <td>-0.234153</td>\n",
              "      <td>-0.234137</td>\n",
              "      <td>-6.137244</td>\n",
              "    </tr>\n",
              "    <tr>\n",
              "      <th>2</th>\n",
              "      <td>1.579213</td>\n",
              "      <td>0.767435</td>\n",
              "      <td>-0.469474</td>\n",
              "      <td>-3.520479</td>\n",
              "    </tr>\n",
              "    <tr>\n",
              "      <th>3</th>\n",
              "      <td>0.542560</td>\n",
              "      <td>-0.463418</td>\n",
              "      <td>-0.465730</td>\n",
              "      <td>-6.541029</td>\n",
              "    </tr>\n",
              "    <tr>\n",
              "      <th>4</th>\n",
              "      <td>0.241962</td>\n",
              "      <td>-1.913280</td>\n",
              "      <td>-1.724918</td>\n",
              "      <td>-25.543557</td>\n",
              "    </tr>\n",
              "    <tr>\n",
              "      <th>...</th>\n",
              "      <td>...</td>\n",
              "      <td>...</td>\n",
              "      <td>...</td>\n",
              "      <td>...</td>\n",
              "    </tr>\n",
              "    <tr>\n",
              "      <th>95</th>\n",
              "      <td>-1.952088</td>\n",
              "      <td>-0.151785</td>\n",
              "      <td>0.588317</td>\n",
              "      <td>12.933592</td>\n",
              "    </tr>\n",
              "    <tr>\n",
              "      <th>96</th>\n",
              "      <td>0.280992</td>\n",
              "      <td>-0.622700</td>\n",
              "      <td>-0.208122</td>\n",
              "      <td>-4.209009</td>\n",
              "    </tr>\n",
              "    <tr>\n",
              "      <th>97</th>\n",
              "      <td>-0.493001</td>\n",
              "      <td>-0.589365</td>\n",
              "      <td>0.849602</td>\n",
              "      <td>9.163587</td>\n",
              "    </tr>\n",
              "    <tr>\n",
              "      <th>98</th>\n",
              "      <td>0.357015</td>\n",
              "      <td>-0.692910</td>\n",
              "      <td>0.899600</td>\n",
              "      <td>6.448950</td>\n",
              "    </tr>\n",
              "    <tr>\n",
              "      <th>99</th>\n",
              "      <td>0.307300</td>\n",
              "      <td>0.812862</td>\n",
              "      <td>0.629629</td>\n",
              "      <td>11.562482</td>\n",
              "    </tr>\n",
              "  </tbody>\n",
              "</table>\n",
              "<p>100 rows × 4 columns</p>\n",
              "</div>"
            ],
            "text/plain": [
              "    feature_1  feature_2  feature_3     target\n",
              "0    0.496714  -0.138264   0.647689   6.212522\n",
              "1    1.523030  -0.234153  -0.234137  -6.137244\n",
              "2    1.579213   0.767435  -0.469474  -3.520479\n",
              "3    0.542560  -0.463418  -0.465730  -6.541029\n",
              "4    0.241962  -1.913280  -1.724918 -25.543557\n",
              "..        ...        ...        ...        ...\n",
              "95  -1.952088  -0.151785   0.588317  12.933592\n",
              "96   0.280992  -0.622700  -0.208122  -4.209009\n",
              "97  -0.493001  -0.589365   0.849602   9.163587\n",
              "98   0.357015  -0.692910   0.899600   6.448950\n",
              "99   0.307300   0.812862   0.629629  11.562482\n",
              "\n",
              "[100 rows x 4 columns]"
            ]
          },
          "execution_count": 106,
          "metadata": {},
          "output_type": "execute_result"
        }
      ],
      "source": [
        "# Configuración de semillas para reproducibilidad\n",
        "np.random.seed(42)\n",
        "\n",
        "# Número de ejemplos y características\n",
        "num_samples = 100\n",
        "num_features = 3\n",
        "\n",
        "# Generar características aleatorias\n",
        "X = np.random.randn(num_samples, num_features)\n",
        "\n",
        "# Definir pesos reales para la regresión lineal (incluyendo un sesgo)\n",
        "true_weights = np.array([2, -3, 5, 10])  # El primer peso es el sesgo (bias)\n",
        "X_bias = np.c_[np.ones(num_samples), X]  # Añadir una columna de 1's para el sesgo\n",
        "\n",
        "# Generar las etiquetas Y (target) usando la fórmula Y = X * pesos + ruido\n",
        "Y = np.dot(X_bias, true_weights) + np.random.randn(num_samples) * 0.1  # Añadimos algo de ruido\n",
        "\n",
        "# Convertir en un DataFrame\n",
        "df = pd.DataFrame(X, columns=[f'feature_{i+1}' for i in range(num_features)])\n",
        "df['target'] = Y\n",
        "\n",
        "# Ver los primeros datos generados\n",
        "df"
      ]
    },
    {
      "cell_type": "code",
      "execution_count": null,
      "id": "eb805a1c",
      "metadata": {
        "id": "eb805a1c"
      },
      "outputs": [],
      "source": [
        "def gradient_descent(X, Y, learning_rate, initial_weights, num_iterations):\n",
        "    \"\"\"\n",
        "    Entrena los pesos para una regresión lineal utilizando el algoritmo de gradiente descendente.\n",
        "\n",
        "    Parameters:\n",
        "    X : numpy array\n",
        "        Array de características (features), donde cada fila es un ejemplo y cada columna es una característica.\n",
        "    Y : numpy array\n",
        "        Array de etiquetas (target).\n",
        "    learning_rate : float\n",
        "        Tasa de aprendizaje para el gradiente descendente.\n",
        "    initial_weights : numpy array\n",
        "        Pesos iniciales (un vector con la misma cantidad de elementos que las columnas de X).\n",
        "    num_iterations : int\n",
        "        Número de iteraciones para realizar el entrenamiento.\n",
        "\n",
        "    Returns:\n",
        "    numpy array\n",
        "        Los pesos entrenados después de las iteraciones.\n",
        "    \"\"\"\n",
        "\n",
        "    # Inicializar los pesos con los valores proporcionados\n",
        "    weights = initial_weights.copy()\n",
        "\n",
        "    # Agregar una columna de 1's a X para incluir el término de sesgo (bias)\n",
        "    X = np.c_[np.ones(X.shape[0]), X]  # Añade una columna de 1's al principio de X\n",
        "\n",
        "\n",
        "    # Realizar las iteraciones del gradiente descendente\n",
        "    for i in range(num_iterations):\n",
        "        # Calcular la predicción (Y_pred = X * pesos)\n",
        "        Y_pred = np.dot(X, weights)\n",
        "\n",
        "        # Calcular el error (diferencia entre la predicción y los valores reales)\n",
        "        error = Y_pred - Y\n",
        "\n",
        "        # Calcular el gradiente (derivada parcial del error con respecto a los pesos)\n",
        "        gradient = np.dot(X.T, error) * (2/len(Y))\n",
        "\n",
        "        # Actualizar los pesos utilizando el gradiente descendente\n",
        "        weights -= learning_rate * gradient\n",
        "\n",
        "        # Opcional: Imprimir el error en cada iteración para ver cómo disminuye\n",
        "        if i % 50 == 0:  # Imprimir cada 100 iteraciones\n",
        "            mse = np.mean(error ** 2)\n",
        "            print(f\"Iteración {i}, MSE: {mse:.4f}\")\n",
        "\n",
        "    return weights"
      ]
    },
    {
      "cell_type": "code",
      "execution_count": null,
      "id": "e7086e61",
      "metadata": {
        "id": "e7086e61",
        "outputId": "c1ee663b-1deb-4988-f1be-537e473b41d9"
      },
      "outputs": [
        {
          "name": "stdout",
          "output_type": "stream",
          "text": [
            "Iteración 0, MSE: 149.0272\n",
            "Iteración 50, MSE: 0.0076\n",
            "Iteración 100, MSE: 0.0076\n",
            "Iteración 150, MSE: 0.0076\n",
            "Iteración 200, MSE: 0.0076\n",
            "Iteración 250, MSE: 0.0076\n",
            "Iteración 300, MSE: 0.0076\n",
            "Iteración 350, MSE: 0.0076\n",
            "Iteración 400, MSE: 0.0076\n",
            "Iteración 450, MSE: 0.0076\n"
          ]
        }
      ],
      "source": [
        "X = df[['feature_1','feature_2','feature_3']].values\n",
        "y = df['target'].values\n",
        "w_inicial = np.array([0.0, 0.0, 0.0,0.0])\n",
        "alpha = 0.1\n",
        "iteraciones = 500\n",
        "\n",
        "# Entrenamiento\n",
        "w_final= gradient_descent(X, y, alpha, w_inicial, iteraciones)"
      ]
    },
    {
      "cell_type": "code",
      "execution_count": null,
      "id": "0faf26ae",
      "metadata": {
        "id": "0faf26ae",
        "outputId": "642d84ef-5a64-4be8-9819-321f8f1a6fd0"
      },
      "outputs": [
        {
          "data": {
            "text/plain": [
              "array([ 2, -3,  5, 10])"
            ]
          },
          "execution_count": 111,
          "metadata": {},
          "output_type": "execute_result"
        }
      ],
      "source": [
        "true_weights"
      ]
    },
    {
      "cell_type": "code",
      "execution_count": null,
      "id": "06957b8c",
      "metadata": {
        "id": "06957b8c",
        "outputId": "dd413265-52ca-4a60-b417-ed815717ed8a"
      },
      "outputs": [
        {
          "data": {
            "text/plain": [
              "array([ 2.01128623, -3.00776633,  4.99500364,  9.98924067])"
            ]
          },
          "execution_count": 112,
          "metadata": {},
          "output_type": "execute_result"
        }
      ],
      "source": [
        "w_final"
      ]
    },
    {
      "cell_type": "markdown",
      "id": "2e22980e",
      "metadata": {
        "id": "2e22980e"
      },
      "source": [
        "## Explicación del código de la función `gradient_descent`\n",
        "\n",
        "La función `gradient_descent` entrena los pesos de un modelo de regresión lineal utilizando el algoritmo de **gradiente descendente**. Este algoritmo ajusta los pesos del modelo para minimizar la diferencia entre las predicciones del modelo y los valores reales de la variable objetivo (Y).\n",
        "\n",
        "### Parámetros de la función:\n",
        "\n",
        "- `X`: **numpy array**\n",
        "  - Conjunto de características (features) de los datos, donde cada fila representa un ejemplo y cada columna representa una característica.\n",
        "  \n",
        "- `Y`: **numpy array**\n",
        "  - Conjunto de etiquetas o valores objetivo (target) correspondientes a las filas de `X`.\n",
        "  \n",
        "- `learning_rate`: **float**\n",
        "  - Tasa de aprendizaje que controla el tamaño de los pasos al actualizar los pesos en cada iteración.\n",
        "\n",
        "- `initial_weights`: **numpy array**\n",
        "  - Pesos iniciales del modelo (un vector con la misma cantidad de elementos que las columnas de `X`), que se utilizarán al inicio del entrenamiento.\n",
        "\n",
        "- `num_iterations`: **int**\n",
        "  - Número de iteraciones que se realizarán durante el entrenamiento para ajustar los pesos.\n",
        "\n",
        "### Proceso paso a paso:\n",
        "\n",
        "1. **Inicialización de los pesos:**\n",
        "   ```python\n",
        "   weights = initial_weights.copy()\n",
        "   ```\n",
        "  \n",
        "    Se inicializan los pesos con los valores proporcionados en el parámetro initial_weights. Se hace una copia para no modificar la variable original.\n",
        "\n",
        "2. **Agregar término de sesgo (bias):**\n",
        "\n",
        "    ```python\n",
        "    X = np.c_[np.ones(X.shape[0]), X]\n",
        "    ```\n",
        "    Se agrega una columna de 1's al principio de la matriz X para incluir el término de sesgo (bias) en el modelo. Esto permite que el modelo aprenda un valor constante adicional que se suma a las predicciones.\n",
        "\n",
        "3. **Iteraciones del gradiente descendente:**\n",
        "\n",
        "    La función realiza un ciclo que se repite durante num_iterations iteraciones, donde en cada paso:\n",
        "\n",
        "    - **Predicción:**:\n",
        "\n",
        "      ```python\n",
        "      Y_pred = np.dot(X, weights)\n",
        "      ```\n",
        "      Se calcula la predicción del modelo multiplicando la matriz de características X por los pesos actuales.\n",
        "\n",
        "    - **Cálculo del error:**:\n",
        "\n",
        "      ```python\n",
        "      error = Y_pred - Y\n",
        "      ```\n",
        "      Se calcula el error o la diferencia entre la predicción Y_pred y los valores reales Y.\n",
        "\n",
        "    - **Cálculo del gradiente:**:\n",
        "\n",
        "      ```python\n",
        "      gradient = np.dot(X.T, error) * (2/len(Y))\n",
        "      ```\n",
        "      Se calcula el gradiente, que es la derivada parcial del error con respecto a los pesos. Este gradiente indica la dirección en la que deben ajustarse los pesos para reducir el error.\n",
        "    \n",
        "    - **Cálculo del gradiente:**:\n",
        "\n",
        "      ```python\n",
        "      weights -= learning_rate * gradient\n",
        "      ```\n",
        "      Se actualizan los pesos utilizando el gradiente calculado y la tasa de aprendizaje. El ajuste es proporcional al gradiente, es decir, los pesos se mueven en la dirección opuesta al gradiente para minimizar el error.\n",
        "\n",
        "\n"
      ]
    },
    {
      "cell_type": "markdown",
      "id": "63b50773",
      "metadata": {
        "id": "63b50773"
      },
      "source": []
    }
  ],
  "metadata": {
    "colab": {
      "provenance": []
    },
    "kernelspec": {
      "display_name": "ds_s12",
      "language": "python",
      "name": "python3"
    },
    "language_info": {
      "codemirror_mode": {
        "name": "ipython",
        "version": 3
      },
      "file_extension": ".py",
      "mimetype": "text/x-python",
      "name": "python",
      "nbconvert_exporter": "python",
      "pygments_lexer": "ipython3",
      "version": "3.13.3"
    }
  },
  "nbformat": 4,
  "nbformat_minor": 5
}
