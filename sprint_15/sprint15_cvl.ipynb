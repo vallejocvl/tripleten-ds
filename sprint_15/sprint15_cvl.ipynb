{
 "cells": [
  {
   "cell_type": "markdown",
   "metadata": {},
   "source": [
    "# Descripción del proyecto\n",
    "\n",
    "La compañía Sweet Lift Taxi ha recopilado datos históricos sobre pedidos de taxis en los aeropuertos. Para atraer a más conductores durante las horas pico, necesitamos predecir la cantidad de pedidos de taxis para la próxima hora. Construye un modelo para dicha predicción.\n",
    "\n",
    "La métrica RECM en el conjunto de prueba no debe ser superior a 48.\n",
    "\n",
    "## Instrucciones del proyecto.\n",
    "\n",
    "1. Descarga los datos y haz el remuestreo por una hora.\n",
    "2. Analiza los datos\n",
    "3. Entrena diferentes modelos con diferentes hiperparámetros. La muestra de prueba debe ser el 10% del conjunto de datos inicial.4. Prueba los datos usando la muestra de prueba y proporciona una conclusión.\n",
    "\n",
    "## Descripción de los datos\n",
    "\n",
    "Los datos se almacenan en el archivo `taxi.csv`. \t\n",
    "El número de pedidos está en la columna `num_orders`."
   ]
  },
  {
   "cell_type": "markdown",
   "metadata": {},
   "source": [
    "## Preparación"
   ]
  },
  {
   "cell_type": "code",
   "execution_count": null,
   "metadata": {},
   "outputs": [],
   "source": []
  },
  {
   "cell_type": "markdown",
   "metadata": {},
   "source": [
    "## Análisis"
   ]
  },
  {
   "cell_type": "code",
   "execution_count": null,
   "metadata": {},
   "outputs": [],
   "source": []
  },
  {
   "cell_type": "markdown",
   "metadata": {},
   "source": [
    "## Formación"
   ]
  },
  {
   "cell_type": "code",
   "execution_count": null,
   "metadata": {},
   "outputs": [],
   "source": []
  },
  {
   "cell_type": "markdown",
   "metadata": {},
   "source": [
    "## Prueba"
   ]
  },
  {
   "cell_type": "code",
   "execution_count": null,
   "metadata": {},
   "outputs": [],
   "source": []
  },
  {
   "cell_type": "markdown",
   "metadata": {},
   "source": [
    "# Lista de revisión"
   ]
  },
  {
   "cell_type": "markdown",
   "metadata": {},
   "source": [
    "- [x]  \t\n",
    "Jupyter Notebook está abierto.\n",
    "- [ ]  El código no tiene errores\n",
    "- [ ]  Las celdas con el código han sido colocadas en el orden de ejecución.\n",
    "- [ ]  \t\n",
    "Los datos han sido descargados y preparados.\n",
    "- [ ]  Se ha realizado el paso 2: los datos han sido analizados\n",
    "- [ ]  Se entrenó el modelo y se seleccionaron los hiperparámetros\n",
    "- [ ]  Se han evaluado los modelos. Se expuso una conclusión\n",
    "- [ ] La *RECM* para el conjunto de prueba no es más de 48"
   ]
  }
 ],
 "metadata": {
  "kernelspec": {
   "display_name": "Python 3 (ipykernel)",
   "language": "python",
   "name": "python3"
  },
  "language_info": {
   "codemirror_mode": {
    "name": "ipython",
    "version": 3
   },
   "file_extension": ".py",
   "mimetype": "text/x-python",
   "name": "python",
   "nbconvert_exporter": "python",
   "pygments_lexer": "ipython3",
   "version": "3.9.23"
  }
 },
 "nbformat": 4,
 "nbformat_minor": 4
}
