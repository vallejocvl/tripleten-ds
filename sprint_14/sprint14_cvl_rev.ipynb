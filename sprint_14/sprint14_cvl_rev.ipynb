{
 "cells": [
  {
   "cell_type": "markdown",
   "metadata": {},
   "source": [
    "# Descripcion del Proyecto"
   ]
  },
  {
   "cell_type": "markdown",
   "metadata": {},
   "source": [
    "Rusty Bargain es un servicio de venta de coches de segunda mano que está desarrollando una app para atraer a nuevos clientes. Gracias a esa app, puedes averiguar rápidamente el valor de mercado de tu coche. Tienes acceso al historial, especificaciones técnicas, versiones de equipamiento y precios. Tienes que crear un modelo que determine el valor de mercado.\n",
    "\n",
    "A Rusty Bargain le interesa:\n",
    "\n",
    "- la calidad de la predicción\n",
    "- la velocidad de la predicción\n",
    "- el tiempo requerido para el entrenamiento"
   ]
  },
  {
   "cell_type": "markdown",
   "metadata": {},
   "source": [
    "## Instrucciones del Proyecto\n",
    "\n",
    "1. Descarga y examina los datos.\n",
    "2. Entrena diferentes modelos con varios hiperparámetros (debes hacer al menos dos modelos diferentes, pero más es mejor. Recuerda, varias implementaciones de potenciación del gradiente no cuentan como modelos diferentes). El punto principal de este paso es comparar métodos de potenciación del gradiente con bosque aleatorio, árbol de decisión y regresión lineal.\n",
    "3. Analiza la velocidad y la calidad de los modelos.\n",
    "\n",
    "Observaciones:\n",
    "\n",
    "- Utiliza la métrica RECM para evaluar los modelos.\n",
    "- La regresión lineal no es muy buena para el ajuste de hiperparámetros, pero es perfecta para hacer una prueba de cordura de otros métodos. Si la potenciación del gradiente funciona peor que la regresión lineal, definitivamente algo salió mal.\n",
    "- Aprende por tu propia cuenta sobre la librería LightGBM y sus herramientas para crear modelos de potenciación del gradiente (gradient boosting).\n",
    "- Idealmente, tu proyecto debe tener regresión lineal para una prueba de cordura, un algoritmo basado en árbol con ajuste de hiperparámetros (preferiblemente, bosque aleatorio), LightGBM con ajuste de hiperparámetros (prueba un par de conjuntos), y CatBoost y XGBoost con ajuste de hiperparámetros (opcional).\n",
    "- Toma nota de la codificación de características categóricas para algoritmos simples. LightGBM y CatBoost tienen su implementación, pero XGBoost requiere OHE.\n",
    "- Puedes usar un comando especial para encontrar el tiempo de ejecución del código de celda en Jupyter Notebook. Encuentra ese comando.\n",
    "- Dado que el entrenamiento de un modelo de potenciación del gradiente puede llevar mucho tiempo, cambia solo algunos parámetros del modelo.\n",
    "- Si Jupyter Notebook deja de funcionar, elimina las variables excesivas por medio del operador del: \n",
    "del features_train\n"
   ]
  },
  {
   "cell_type": "markdown",
   "metadata": {},
   "source": [
    "## Descripción de los Datos\n",
    "\n",
    "El dataset está almacenado en el archivo /datasets/car_data.csv. descargar dataset. https://practicum-content.s3.us-west-1.amazonaws.com/datasets/car_data.csv\n",
    "\n",
    "\n",
    "**Características**\n",
    "\n",
    "- *DateCrawled* — fecha en la que se descargó el perfil de la base de datos\n",
    "- *VehicleType* — tipo de carrocería del vehículo\n",
    "- *RegistrationYear* — año de matriculación del vehículo\n",
    "- *Gearbox* — tipo de caja de cambios\n",
    "- *Power* — potencia (CV)\n",
    "- *Model* — modelo del vehículo\n",
    "- *Mileage* — kilometraje (medido en km de acuerdo con las especificidades regionales del conjunto de datos)\n",
    "- *RegistrationMonth* — mes de matriculación del vehículo\n",
    "- *FuelType* — tipo de combustible\n",
    "- *Brand* — marca del vehículo\n",
    "- *NotRepaired* — vehículo con o sin reparación\n",
    "- *DateCreated* — fecha de creación del perfil\n",
    "- *NumberOfPictures* — número de fotos del vehículo\n",
    "- *PostalCode* — código postal del propietario del perfil (usuario)\n",
    "- *LastSeen* — fecha de la última vez que el usuario estuvo activo\n",
    "\n",
    "**Objetivo**\n",
    "\n",
    "- *Price* — precio (en euros)\n"
   ]
  },
  {
   "cell_type": "markdown",
   "metadata": {},
   "source": [
    "## Evaluación del Proyecto\n",
    "\n",
    "Hemos definido los criterios de evaluación para el proyecto. Léelos con atención antes de pasar al ejercicio.\n",
    "\n",
    "Esto es en lo que se fijarán los revisores al examinar tu proyecto:\n",
    "\n",
    "- ¿Seguiste todos los pasos de las instrucciones?\n",
    "- ¿Cómo preparaste los datos?\n",
    "- ¿Qué modelos e hiperparámetros consideraste?\n",
    "- ¿Conseguiste evitar la duplicación del código?\n",
    "- ¿Cuáles son tus hallazgos?\n",
    "- ¿Mantuviste la estructura del proyecto?\n",
    "- ¿Mantuviste el código ordenado?\n",
    "\n",
    "Ya tienes tus hojas informativas y los resúmenes de los capítulos, por lo que todo está listo para continuar con el proyecto."
   ]
  },
  {
   "cell_type": "markdown",
   "metadata": {},
   "source": [
    "El servicio de venta de autos usados Rusty Bargain está desarrollando una aplicación para atraer nuevos clientes. Gracias a esa app, puedes averiguar rápidamente el valor de mercado de tu coche. Tienes acceso al historial: especificaciones técnicas, versiones de equipamiento y precios. Tienes que crear un modelo que determine el valor de mercado.\n",
    "A Rusty Bargain le interesa:\n",
    "- la calidad de la predicción;\n",
    "- la velocidad de la predicción;\n",
    "- el tiempo requerido para el entrenamiento"
   ]
  },
  {
   "cell_type": "markdown",
   "metadata": {},
   "source": [
    "## Preparación de datos"
   ]
  },
  {
   "cell_type": "markdown",
   "metadata": {},
   "source": [
    "### Importar Librerias y DF"
   ]
  },
  {
   "cell_type": "code",
   "execution_count": 103,
   "metadata": {},
   "outputs": [],
   "source": [
    "import pandas as pd\n",
    "import numpy as np\n",
    "import matplotlib.pyplot as plt\n",
    "import seaborn as sns\n",
    "import time\n",
    "import lightgbm as lgb\n",
    "\n",
    "from sklearn.model_selection import train_test_split\n",
    "from sklearn.preprocessing import StandardScaler, OneHotEncoder\n",
    "from sklearn.ensemble import RandomForestRegressor\n",
    "from sklearn.tree import DecisionTreeRegressor\n",
    "from sklearn.linear_model import LinearRegression, Ridge, Lasso\n",
    "from catboost import CatBoostRegressor\n",
    "from xgboost import XGBRegressor\n",
    "from sklearn.model_selection import GridSearchCV\n",
    "from sklearn.pipeline import Pipeline\n",
    "from sklearn.metrics import make_scorer, mean_squared_error\n",
    "from sklearn.compose import ColumnTransformer"
   ]
  },
  {
   "cell_type": "code",
   "execution_count": 71,
   "metadata": {},
   "outputs": [
    {
     "name": "stdout",
     "output_type": "stream",
     "text": [
      "<class 'pandas.core.frame.DataFrame'>\n",
      "RangeIndex: 354369 entries, 0 to 354368\n",
      "Data columns (total 16 columns):\n",
      " #   Column             Non-Null Count   Dtype \n",
      "---  ------             --------------   ----- \n",
      " 0   DateCrawled        354369 non-null  object\n",
      " 1   Price              354369 non-null  int64 \n",
      " 2   VehicleType        316879 non-null  object\n",
      " 3   RegistrationYear   354369 non-null  int64 \n",
      " 4   Gearbox            334536 non-null  object\n",
      " 5   Power              354369 non-null  int64 \n",
      " 6   Model              334664 non-null  object\n",
      " 7   Mileage            354369 non-null  int64 \n",
      " 8   RegistrationMonth  354369 non-null  int64 \n",
      " 9   FuelType           321474 non-null  object\n",
      " 10  Brand              354369 non-null  object\n",
      " 11  NotRepaired        283215 non-null  object\n",
      " 12  DateCreated        354369 non-null  object\n",
      " 13  NumberOfPictures   354369 non-null  int64 \n",
      " 14  PostalCode         354369 non-null  int64 \n",
      " 15  LastSeen           354369 non-null  object\n",
      "dtypes: int64(7), object(9)\n",
      "memory usage: 43.3+ MB\n"
     ]
    }
   ],
   "source": [
    "df = pd.read_csv('datasets/car_data.csv')\n",
    "df.info()"
   ]
  },
  {
   "cell_type": "code",
   "execution_count": 72,
   "metadata": {},
   "outputs": [
    {
     "data": {
      "text/html": [
       "<div>\n",
       "<style scoped>\n",
       "    .dataframe tbody tr th:only-of-type {\n",
       "        vertical-align: middle;\n",
       "    }\n",
       "\n",
       "    .dataframe tbody tr th {\n",
       "        vertical-align: top;\n",
       "    }\n",
       "\n",
       "    .dataframe thead th {\n",
       "        text-align: right;\n",
       "    }\n",
       "</style>\n",
       "<table border=\"1\" class=\"dataframe\">\n",
       "  <thead>\n",
       "    <tr style=\"text-align: right;\">\n",
       "      <th></th>\n",
       "      <th>DateCrawled</th>\n",
       "      <th>Price</th>\n",
       "      <th>VehicleType</th>\n",
       "      <th>RegistrationYear</th>\n",
       "      <th>Gearbox</th>\n",
       "      <th>Power</th>\n",
       "      <th>Model</th>\n",
       "      <th>Mileage</th>\n",
       "      <th>RegistrationMonth</th>\n",
       "      <th>FuelType</th>\n",
       "      <th>Brand</th>\n",
       "      <th>NotRepaired</th>\n",
       "      <th>DateCreated</th>\n",
       "      <th>NumberOfPictures</th>\n",
       "      <th>PostalCode</th>\n",
       "      <th>LastSeen</th>\n",
       "    </tr>\n",
       "  </thead>\n",
       "  <tbody>\n",
       "    <tr>\n",
       "      <th>0</th>\n",
       "      <td>24/03/2016 11:52</td>\n",
       "      <td>480</td>\n",
       "      <td>NaN</td>\n",
       "      <td>1993</td>\n",
       "      <td>manual</td>\n",
       "      <td>0</td>\n",
       "      <td>golf</td>\n",
       "      <td>150000</td>\n",
       "      <td>0</td>\n",
       "      <td>petrol</td>\n",
       "      <td>volkswagen</td>\n",
       "      <td>NaN</td>\n",
       "      <td>24/03/2016 00:00</td>\n",
       "      <td>0</td>\n",
       "      <td>70435</td>\n",
       "      <td>07/04/2016 03:16</td>\n",
       "    </tr>\n",
       "    <tr>\n",
       "      <th>1</th>\n",
       "      <td>24/03/2016 10:58</td>\n",
       "      <td>18300</td>\n",
       "      <td>coupe</td>\n",
       "      <td>2011</td>\n",
       "      <td>manual</td>\n",
       "      <td>190</td>\n",
       "      <td>NaN</td>\n",
       "      <td>125000</td>\n",
       "      <td>5</td>\n",
       "      <td>gasoline</td>\n",
       "      <td>audi</td>\n",
       "      <td>yes</td>\n",
       "      <td>24/03/2016 00:00</td>\n",
       "      <td>0</td>\n",
       "      <td>66954</td>\n",
       "      <td>07/04/2016 01:46</td>\n",
       "    </tr>\n",
       "    <tr>\n",
       "      <th>2</th>\n",
       "      <td>14/03/2016 12:52</td>\n",
       "      <td>9800</td>\n",
       "      <td>suv</td>\n",
       "      <td>2004</td>\n",
       "      <td>auto</td>\n",
       "      <td>163</td>\n",
       "      <td>grand</td>\n",
       "      <td>125000</td>\n",
       "      <td>8</td>\n",
       "      <td>gasoline</td>\n",
       "      <td>jeep</td>\n",
       "      <td>NaN</td>\n",
       "      <td>14/03/2016 00:00</td>\n",
       "      <td>0</td>\n",
       "      <td>90480</td>\n",
       "      <td>05/04/2016 12:47</td>\n",
       "    </tr>\n",
       "    <tr>\n",
       "      <th>3</th>\n",
       "      <td>17/03/2016 16:54</td>\n",
       "      <td>1500</td>\n",
       "      <td>small</td>\n",
       "      <td>2001</td>\n",
       "      <td>manual</td>\n",
       "      <td>75</td>\n",
       "      <td>golf</td>\n",
       "      <td>150000</td>\n",
       "      <td>6</td>\n",
       "      <td>petrol</td>\n",
       "      <td>volkswagen</td>\n",
       "      <td>no</td>\n",
       "      <td>17/03/2016 00:00</td>\n",
       "      <td>0</td>\n",
       "      <td>91074</td>\n",
       "      <td>17/03/2016 17:40</td>\n",
       "    </tr>\n",
       "    <tr>\n",
       "      <th>4</th>\n",
       "      <td>31/03/2016 17:25</td>\n",
       "      <td>3600</td>\n",
       "      <td>small</td>\n",
       "      <td>2008</td>\n",
       "      <td>manual</td>\n",
       "      <td>69</td>\n",
       "      <td>fabia</td>\n",
       "      <td>90000</td>\n",
       "      <td>7</td>\n",
       "      <td>gasoline</td>\n",
       "      <td>skoda</td>\n",
       "      <td>no</td>\n",
       "      <td>31/03/2016 00:00</td>\n",
       "      <td>0</td>\n",
       "      <td>60437</td>\n",
       "      <td>06/04/2016 10:17</td>\n",
       "    </tr>\n",
       "  </tbody>\n",
       "</table>\n",
       "</div>"
      ],
      "text/plain": [
       "        DateCrawled  Price VehicleType  RegistrationYear Gearbox  Power  \\\n",
       "0  24/03/2016 11:52    480         NaN              1993  manual      0   \n",
       "1  24/03/2016 10:58  18300       coupe              2011  manual    190   \n",
       "2  14/03/2016 12:52   9800         suv              2004    auto    163   \n",
       "3  17/03/2016 16:54   1500       small              2001  manual     75   \n",
       "4  31/03/2016 17:25   3600       small              2008  manual     69   \n",
       "\n",
       "   Model  Mileage  RegistrationMonth  FuelType       Brand NotRepaired  \\\n",
       "0   golf   150000                  0    petrol  volkswagen         NaN   \n",
       "1    NaN   125000                  5  gasoline        audi         yes   \n",
       "2  grand   125000                  8  gasoline        jeep         NaN   \n",
       "3   golf   150000                  6    petrol  volkswagen          no   \n",
       "4  fabia    90000                  7  gasoline       skoda          no   \n",
       "\n",
       "        DateCreated  NumberOfPictures  PostalCode          LastSeen  \n",
       "0  24/03/2016 00:00                 0       70435  07/04/2016 03:16  \n",
       "1  24/03/2016 00:00                 0       66954  07/04/2016 01:46  \n",
       "2  14/03/2016 00:00                 0       90480  05/04/2016 12:47  \n",
       "3  17/03/2016 00:00                 0       91074  17/03/2016 17:40  \n",
       "4  31/03/2016 00:00                 0       60437  06/04/2016 10:17  "
      ]
     },
     "execution_count": 72,
     "metadata": {},
     "output_type": "execute_result"
    }
   ],
   "source": [
    "df.head()"
   ]
  },
  {
   "cell_type": "code",
   "execution_count": 73,
   "metadata": {},
   "outputs": [
    {
     "data": {
      "text/plain": [
       "NotRepaired          0.200791\n",
       "VehicleType          0.105794\n",
       "FuelType             0.092827\n",
       "Gearbox              0.055967\n",
       "Model                0.055606\n",
       "DateCrawled          0.000000\n",
       "Price                0.000000\n",
       "RegistrationYear     0.000000\n",
       "Power                0.000000\n",
       "Mileage              0.000000\n",
       "RegistrationMonth    0.000000\n",
       "Brand                0.000000\n",
       "DateCreated          0.000000\n",
       "NumberOfPictures     0.000000\n",
       "PostalCode           0.000000\n",
       "LastSeen             0.000000\n",
       "dtype: float64"
      ]
     },
     "execution_count": 73,
     "metadata": {},
     "output_type": "execute_result"
    }
   ],
   "source": [
    "df.isna().mean().sort_values(ascending=False)"
   ]
  },
  {
   "cell_type": "code",
   "execution_count": 74,
   "metadata": {},
   "outputs": [
    {
     "data": {
      "text/plain": [
       "262"
      ]
     },
     "execution_count": 74,
     "metadata": {},
     "output_type": "execute_result"
    }
   ],
   "source": [
    "df.duplicated().sum()"
   ]
  },
  {
   "cell_type": "markdown",
   "metadata": {},
   "source": [
    "Hay columnas que no son relevantes para mi modelo, entre estas se encuentra la fecha en la que se descargo al información, el codigo postal, numero de fotografias y el resto de las fechas. Tambien retiraria el mes de matriculación ya que tomaremos el año de matriculación como el año del modelo del vehiculo. El mes podria agregarnos ruido inecesario."
   ]
  },
  {
   "cell_type": "code",
   "execution_count": 75,
   "metadata": {},
   "outputs": [],
   "source": [
    "#Dropeamos las columnas que no nos serviran para entrenar nuestro modelo\n",
    "columns_to_drop = ['DateCrawled','DateCreated','NumberOfPictures','PostalCode','LastSeen','RegistrationMonth']\n",
    "df = df.drop(columns = columns_to_drop)"
   ]
  },
  {
   "cell_type": "code",
   "execution_count": 76,
   "metadata": {},
   "outputs": [
    {
     "data": {
      "text/plain": [
       "array(['petrol', 'gasoline', nan, 'lpg', 'other', 'hybrid', 'cng',\n",
       "       'electric'], dtype=object)"
      ]
     },
     "execution_count": 76,
     "metadata": {},
     "output_type": "execute_result"
    }
   ],
   "source": [
    "df['FuelType'].unique()"
   ]
  },
  {
   "cell_type": "markdown",
   "metadata": {},
   "source": [
    "Encontramos que petrol y gasoline significan lo mismo, petrol es el nombre usado en UK, gasoline es en America. Estandarizamos el nombre a gasoline."
   ]
  },
  {
   "cell_type": "code",
   "execution_count": 77,
   "metadata": {},
   "outputs": [],
   "source": [
    "# Cambiamos petrol a gasoline\n",
    "df['FuelType'] = df['FuelType'].replace('petrol', 'gasoline')\n",
    "# Imputamos valores desconocido a categoria unknown\n",
    "df['FuelType'] = df['FuelType'].fillna('unknown')"
   ]
  },
  {
   "cell_type": "code",
   "execution_count": 78,
   "metadata": {},
   "outputs": [
    {
     "data": {
      "text/html": [
       "<div>\n",
       "<style scoped>\n",
       "    .dataframe tbody tr th:only-of-type {\n",
       "        vertical-align: middle;\n",
       "    }\n",
       "\n",
       "    .dataframe tbody tr th {\n",
       "        vertical-align: top;\n",
       "    }\n",
       "\n",
       "    .dataframe thead th {\n",
       "        text-align: right;\n",
       "    }\n",
       "</style>\n",
       "<table border=\"1\" class=\"dataframe\">\n",
       "  <thead>\n",
       "    <tr style=\"text-align: right;\">\n",
       "      <th></th>\n",
       "      <th>Price</th>\n",
       "      <th>VehicleType</th>\n",
       "      <th>RegistrationYear</th>\n",
       "      <th>Gearbox</th>\n",
       "      <th>Power</th>\n",
       "      <th>Model</th>\n",
       "      <th>Mileage</th>\n",
       "      <th>FuelType</th>\n",
       "      <th>Brand</th>\n",
       "      <th>NotRepaired</th>\n",
       "    </tr>\n",
       "  </thead>\n",
       "  <tbody>\n",
       "    <tr>\n",
       "      <th>0</th>\n",
       "      <td>480</td>\n",
       "      <td>NaN</td>\n",
       "      <td>1993</td>\n",
       "      <td>manual</td>\n",
       "      <td>0</td>\n",
       "      <td>golf</td>\n",
       "      <td>150000</td>\n",
       "      <td>gasoline</td>\n",
       "      <td>volkswagen</td>\n",
       "      <td>NaN</td>\n",
       "    </tr>\n",
       "    <tr>\n",
       "      <th>1</th>\n",
       "      <td>18300</td>\n",
       "      <td>coupe</td>\n",
       "      <td>2011</td>\n",
       "      <td>manual</td>\n",
       "      <td>190</td>\n",
       "      <td>NaN</td>\n",
       "      <td>125000</td>\n",
       "      <td>gasoline</td>\n",
       "      <td>audi</td>\n",
       "      <td>yes</td>\n",
       "    </tr>\n",
       "    <tr>\n",
       "      <th>2</th>\n",
       "      <td>9800</td>\n",
       "      <td>suv</td>\n",
       "      <td>2004</td>\n",
       "      <td>auto</td>\n",
       "      <td>163</td>\n",
       "      <td>grand</td>\n",
       "      <td>125000</td>\n",
       "      <td>gasoline</td>\n",
       "      <td>jeep</td>\n",
       "      <td>NaN</td>\n",
       "    </tr>\n",
       "    <tr>\n",
       "      <th>3</th>\n",
       "      <td>1500</td>\n",
       "      <td>small</td>\n",
       "      <td>2001</td>\n",
       "      <td>manual</td>\n",
       "      <td>75</td>\n",
       "      <td>golf</td>\n",
       "      <td>150000</td>\n",
       "      <td>gasoline</td>\n",
       "      <td>volkswagen</td>\n",
       "      <td>no</td>\n",
       "    </tr>\n",
       "    <tr>\n",
       "      <th>4</th>\n",
       "      <td>3600</td>\n",
       "      <td>small</td>\n",
       "      <td>2008</td>\n",
       "      <td>manual</td>\n",
       "      <td>69</td>\n",
       "      <td>fabia</td>\n",
       "      <td>90000</td>\n",
       "      <td>gasoline</td>\n",
       "      <td>skoda</td>\n",
       "      <td>no</td>\n",
       "    </tr>\n",
       "  </tbody>\n",
       "</table>\n",
       "</div>"
      ],
      "text/plain": [
       "   Price VehicleType  RegistrationYear Gearbox  Power  Model  Mileage  \\\n",
       "0    480         NaN              1993  manual      0   golf   150000   \n",
       "1  18300       coupe              2011  manual    190    NaN   125000   \n",
       "2   9800         suv              2004    auto    163  grand   125000   \n",
       "3   1500       small              2001  manual     75   golf   150000   \n",
       "4   3600       small              2008  manual     69  fabia    90000   \n",
       "\n",
       "   FuelType       Brand NotRepaired  \n",
       "0  gasoline  volkswagen         NaN  \n",
       "1  gasoline        audi         yes  \n",
       "2  gasoline        jeep         NaN  \n",
       "3  gasoline  volkswagen          no  \n",
       "4  gasoline       skoda          no  "
      ]
     },
     "execution_count": 78,
     "metadata": {},
     "output_type": "execute_result"
    }
   ],
   "source": [
    "df.head()"
   ]
  },
  {
   "cell_type": "code",
   "execution_count": 79,
   "metadata": {},
   "outputs": [
    {
     "data": {
      "text/plain": [
       "array([1000, 1001, 1039, 1111, 1200, 1234, 1253, 1255, 1300, 1400, 1500,\n",
       "       1600, 1602, 1688, 1800, 1910, 1915, 1919, 1920, 1923, 1925, 1927,\n",
       "       1928, 1929, 1930, 1931, 1932, 1933, 1934, 1935, 1936, 1937, 1938,\n",
       "       1940, 1941, 1942, 1943, 1944, 1945, 1946, 1947, 1948, 1949, 1950,\n",
       "       1951, 1952, 1953, 1954, 1955, 1956, 1957, 1958, 1959, 1960, 1961,\n",
       "       1962, 1963, 1964, 1965, 1966, 1967, 1968, 1969, 1970, 1971, 1972,\n",
       "       1973, 1974, 1975, 1976, 1977, 1978, 1979, 1980, 1981, 1982, 1983,\n",
       "       1984, 1985, 1986, 1987, 1988, 1989, 1990, 1991, 1992, 1993, 1994,\n",
       "       1995, 1996, 1997, 1998, 1999, 2000, 2001, 2002, 2003, 2004, 2005,\n",
       "       2006, 2007, 2008, 2009, 2010, 2011, 2012, 2013, 2014, 2015, 2016,\n",
       "       2017, 2018, 2019, 2066, 2200, 2222, 2290, 2500, 2800, 2900, 3000,\n",
       "       3200, 3500, 3700, 3800, 4000, 4100, 4500, 4800, 5000, 5300, 5555,\n",
       "       5600, 5900, 5911, 6000, 6500, 7000, 7100, 7500, 7800, 8000, 8200,\n",
       "       8455, 8500, 8888, 9000, 9229, 9450, 9996, 9999])"
      ]
     },
     "execution_count": 79,
     "metadata": {},
     "output_type": "execute_result"
    }
   ],
   "source": [
    "df['RegistrationYear'].sort_values().unique()"
   ]
  },
  {
   "cell_type": "code",
   "execution_count": 80,
   "metadata": {},
   "outputs": [
    {
     "data": {
      "text/plain": [
       "344595"
      ]
     },
     "execution_count": 80,
     "metadata": {},
     "output_type": "execute_result"
    }
   ],
   "source": [
    "((df['RegistrationYear'] >= 1990) & (df['RegistrationYear'] <= 2019)).sum()"
   ]
  },
  {
   "cell_type": "markdown",
   "metadata": {},
   "source": [
    "Tenemos 344595 valores entre los años 1990 y 2019, el total son 354369. Estamos hablando que 97.5% de los datos se encuentran en este rango de años, eliminaremos todos los años que aun no suceden (Despues del 2060, y aquellos antes de 1990)."
   ]
  },
  {
   "cell_type": "code",
   "execution_count": 81,
   "metadata": {},
   "outputs": [],
   "source": [
    "df = df[(df['RegistrationYear'] >= 1990) & (df['RegistrationYear'] <= 2019)]"
   ]
  },
  {
   "cell_type": "code",
   "execution_count": 82,
   "metadata": {},
   "outputs": [
    {
     "name": "stderr",
     "output_type": "stream",
     "text": [
      "/var/folders/75/n09kg0s137s895fc3yg04jg00000gn/T/ipykernel_66228/697654838.py:4: FutureWarning: Downcasting object dtype arrays on .fillna, .ffill, .bfill is deprecated and will change in a future version. Call result.infer_objects(copy=False) instead. To opt-in to the future behavior, set `pd.set_option('future.no_silent_downcasting', True)`\n",
      "  df.loc[:, 'NotRepaired'] = df['NotRepaired'].fillna(-1)\n"
     ]
    },
    {
     "data": {
      "text/html": [
       "<div>\n",
       "<style scoped>\n",
       "    .dataframe tbody tr th:only-of-type {\n",
       "        vertical-align: middle;\n",
       "    }\n",
       "\n",
       "    .dataframe tbody tr th {\n",
       "        vertical-align: top;\n",
       "    }\n",
       "\n",
       "    .dataframe thead th {\n",
       "        text-align: right;\n",
       "    }\n",
       "</style>\n",
       "<table border=\"1\" class=\"dataframe\">\n",
       "  <thead>\n",
       "    <tr style=\"text-align: right;\">\n",
       "      <th></th>\n",
       "      <th>Price</th>\n",
       "      <th>VehicleType</th>\n",
       "      <th>RegistrationYear</th>\n",
       "      <th>Gearbox</th>\n",
       "      <th>Power</th>\n",
       "      <th>Model</th>\n",
       "      <th>Mileage</th>\n",
       "      <th>FuelType</th>\n",
       "      <th>Brand</th>\n",
       "      <th>NotRepaired</th>\n",
       "    </tr>\n",
       "  </thead>\n",
       "  <tbody>\n",
       "    <tr>\n",
       "      <th>0</th>\n",
       "      <td>480</td>\n",
       "      <td>NaN</td>\n",
       "      <td>1993</td>\n",
       "      <td>manual</td>\n",
       "      <td>0</td>\n",
       "      <td>golf</td>\n",
       "      <td>150000</td>\n",
       "      <td>gasoline</td>\n",
       "      <td>volkswagen</td>\n",
       "      <td>-1</td>\n",
       "    </tr>\n",
       "    <tr>\n",
       "      <th>1</th>\n",
       "      <td>18300</td>\n",
       "      <td>coupe</td>\n",
       "      <td>2011</td>\n",
       "      <td>manual</td>\n",
       "      <td>190</td>\n",
       "      <td>NaN</td>\n",
       "      <td>125000</td>\n",
       "      <td>gasoline</td>\n",
       "      <td>audi</td>\n",
       "      <td>1</td>\n",
       "    </tr>\n",
       "    <tr>\n",
       "      <th>2</th>\n",
       "      <td>9800</td>\n",
       "      <td>suv</td>\n",
       "      <td>2004</td>\n",
       "      <td>auto</td>\n",
       "      <td>163</td>\n",
       "      <td>grand</td>\n",
       "      <td>125000</td>\n",
       "      <td>gasoline</td>\n",
       "      <td>jeep</td>\n",
       "      <td>-1</td>\n",
       "    </tr>\n",
       "    <tr>\n",
       "      <th>3</th>\n",
       "      <td>1500</td>\n",
       "      <td>small</td>\n",
       "      <td>2001</td>\n",
       "      <td>manual</td>\n",
       "      <td>75</td>\n",
       "      <td>golf</td>\n",
       "      <td>150000</td>\n",
       "      <td>gasoline</td>\n",
       "      <td>volkswagen</td>\n",
       "      <td>0</td>\n",
       "    </tr>\n",
       "    <tr>\n",
       "      <th>4</th>\n",
       "      <td>3600</td>\n",
       "      <td>small</td>\n",
       "      <td>2008</td>\n",
       "      <td>manual</td>\n",
       "      <td>69</td>\n",
       "      <td>fabia</td>\n",
       "      <td>90000</td>\n",
       "      <td>gasoline</td>\n",
       "      <td>skoda</td>\n",
       "      <td>0</td>\n",
       "    </tr>\n",
       "  </tbody>\n",
       "</table>\n",
       "</div>"
      ],
      "text/plain": [
       "   Price VehicleType  RegistrationYear Gearbox  Power  Model  Mileage  \\\n",
       "0    480         NaN              1993  manual      0   golf   150000   \n",
       "1  18300       coupe              2011  manual    190    NaN   125000   \n",
       "2   9800         suv              2004    auto    163  grand   125000   \n",
       "3   1500       small              2001  manual     75   golf   150000   \n",
       "4   3600       small              2008  manual     69  fabia    90000   \n",
       "\n",
       "   FuelType       Brand NotRepaired  \n",
       "0  gasoline  volkswagen          -1  \n",
       "1  gasoline        audi           1  \n",
       "2  gasoline        jeep          -1  \n",
       "3  gasoline  volkswagen           0  \n",
       "4  gasoline       skoda           0  "
      ]
     },
     "execution_count": 82,
     "metadata": {},
     "output_type": "execute_result"
    }
   ],
   "source": [
    "# Valores de la columna NotRepaired los pasamos a binario, y los NaN los pasamos como -1\n",
    "df.loc[df[\"NotRepaired\"] == \"yes\", \"NotRepaired\"] = 1\n",
    "df.loc[df[\"NotRepaired\"] == \"no\", \"NotRepaired\"] = 0\n",
    "df.loc[:, 'NotRepaired'] = df['NotRepaired'].fillna(-1)\n",
    "\n",
    "df.head()"
   ]
  },
  {
   "cell_type": "markdown",
   "metadata": {},
   "source": [
    "<div class=\"alert alert-block alert-success\"> <b>Comentario del revisor</b> <a class=\"tocSkip\"></a><br> <b>Éxito</b> - ¡Buen comienzo! Has hecho una carga de datos clara, identificaste valores nulos y tomaste decisiones justificadas para limpiar el dataset. También eliminaste columnas irrelevantes y corregiste inconsistencias en los datos de forma acertada. Vas construyendo una base sólida para el modelado. </div>\n"
   ]
  },
  {
   "cell_type": "code",
   "execution_count": 83,
   "metadata": {},
   "outputs": [
    {
     "data": {
      "image/png": "[encoded data removed]",
      "text/plain": [
       "<Figure size 2200x600 with 4 Axes>"
      ]
     },
     "metadata": {},
     "output_type": "display_data"
    }
   ],
   "source": [
    "# Visualizamos mas datos\n",
    "\n",
    "# Hago mis subplots\n",
    "fig, axes = plt.subplots(nrows=1, ncols=3, figsize=(22, 6))\n",
    "plt.subplots_adjust(wspace=0.4)  # Espacio entre los subgráficos\n",
    "\n",
    "# --- 1. Histograma de precios ---\n",
    "sns.histplot(df['Price'], bins=50, kde=True, ax=axes[0])\n",
    "axes[0].set_title(\"Distribución de Precios\")\n",
    "\n",
    "# --- 2. Boxplot por tipo de vehículo ---\n",
    "sns.boxplot(x='VehicleType', y='Price', data=df, ax=axes[1])\n",
    "axes[1].set_title(\"Precio por Tipo de Vehículo\")\n",
    "axes[1].tick_params(axis='x', rotation=45)\n",
    "\n",
    "# --- 3. Heatmap de correlaciones ---\n",
    "numeric_cols = ['Price', 'Power', 'Mileage', 'RegistrationYear']\n",
    "sns.heatmap(df[numeric_cols].corr(), annot=True, cmap='coolwarm', ax=axes[2])\n",
    "axes[2].set_title(\"Correlación de Variables Numéricas\")\n",
    "\n",
    "plt.tight_layout()\n",
    "plt.show()"
   ]
  },
  {
   "cell_type": "code",
   "execution_count": 84,
   "metadata": {},
   "outputs": [
    {
     "data": {
      "text/html": [
       "<div>\n",
       "<style scoped>\n",
       "    .dataframe tbody tr th:only-of-type {\n",
       "        vertical-align: middle;\n",
       "    }\n",
       "\n",
       "    .dataframe tbody tr th {\n",
       "        vertical-align: top;\n",
       "    }\n",
       "\n",
       "    .dataframe thead th {\n",
       "        text-align: right;\n",
       "    }\n",
       "</style>\n",
       "<table border=\"1\" class=\"dataframe\">\n",
       "  <thead>\n",
       "    <tr style=\"text-align: right;\">\n",
       "      <th></th>\n",
       "      <th>Price</th>\n",
       "      <th>RegistrationYear</th>\n",
       "      <th>Power</th>\n",
       "      <th>Mileage</th>\n",
       "    </tr>\n",
       "  </thead>\n",
       "  <tbody>\n",
       "    <tr>\n",
       "      <th>count</th>\n",
       "      <td>344595.000000</td>\n",
       "      <td>344595.000000</td>\n",
       "      <td>344595.000000</td>\n",
       "      <td>344595.000000</td>\n",
       "    </tr>\n",
       "    <tr>\n",
       "      <th>mean</th>\n",
       "      <td>4407.169886</td>\n",
       "      <td>2003.744457</td>\n",
       "      <td>110.805772</td>\n",
       "      <td>128881.919355</td>\n",
       "    </tr>\n",
       "    <tr>\n",
       "      <th>std</th>\n",
       "      <td>4503.292807</td>\n",
       "      <td>6.205658</td>\n",
       "      <td>187.221179</td>\n",
       "      <td>37183.479089</td>\n",
       "    </tr>\n",
       "    <tr>\n",
       "      <th>min</th>\n",
       "      <td>0.000000</td>\n",
       "      <td>1990.000000</td>\n",
       "      <td>0.000000</td>\n",
       "      <td>5000.000000</td>\n",
       "    </tr>\n",
       "    <tr>\n",
       "      <th>25%</th>\n",
       "      <td>1050.000000</td>\n",
       "      <td>1999.000000</td>\n",
       "      <td>69.000000</td>\n",
       "      <td>125000.000000</td>\n",
       "    </tr>\n",
       "    <tr>\n",
       "      <th>50%</th>\n",
       "      <td>2700.000000</td>\n",
       "      <td>2003.000000</td>\n",
       "      <td>105.000000</td>\n",
       "      <td>150000.000000</td>\n",
       "    </tr>\n",
       "    <tr>\n",
       "      <th>75%</th>\n",
       "      <td>6390.000000</td>\n",
       "      <td>2008.000000</td>\n",
       "      <td>143.000000</td>\n",
       "      <td>150000.000000</td>\n",
       "    </tr>\n",
       "    <tr>\n",
       "      <th>max</th>\n",
       "      <td>20000.000000</td>\n",
       "      <td>2019.000000</td>\n",
       "      <td>20000.000000</td>\n",
       "      <td>150000.000000</td>\n",
       "    </tr>\n",
       "  </tbody>\n",
       "</table>\n",
       "</div>"
      ],
      "text/plain": [
       "               Price  RegistrationYear          Power        Mileage\n",
       "count  344595.000000     344595.000000  344595.000000  344595.000000\n",
       "mean     4407.169886       2003.744457     110.805772  128881.919355\n",
       "std      4503.292807          6.205658     187.221179   37183.479089\n",
       "min         0.000000       1990.000000       0.000000    5000.000000\n",
       "25%      1050.000000       1999.000000      69.000000  125000.000000\n",
       "50%      2700.000000       2003.000000     105.000000  150000.000000\n",
       "75%      6390.000000       2008.000000     143.000000  150000.000000\n",
       "max     20000.000000       2019.000000   20000.000000  150000.000000"
      ]
     },
     "execution_count": 84,
     "metadata": {},
     "output_type": "execute_result"
    }
   ],
   "source": [
    "df.describe()"
   ]
  },
  {
   "cell_type": "markdown",
   "metadata": {},
   "source": [
    "Tenemos valores de 0 en precio, y valores de 0 en potencia. Chequemos el por que de esos valores."
   ]
  },
  {
   "cell_type": "code",
   "execution_count": 85,
   "metadata": {},
   "outputs": [
    {
     "name": "stdout",
     "output_type": "stream",
     "text": [
      "Precios en cero: 10008\n",
      "Potencia en cero: 37768\n"
     ]
    }
   ],
   "source": [
    "# Ver precios en 0\n",
    "print(\"Precios en cero:\", (df[\"Price\"] == 0).sum())\n",
    "# Ver potencias en 0\n",
    "print(\"Potencia en cero:\", (df[\"Power\"] == 0).sum())"
   ]
  },
  {
   "cell_type": "code",
   "execution_count": 86,
   "metadata": {},
   "outputs": [
    {
     "data": {
      "image/png": "[encoded data removed]",
      "text/plain": [
       "<Figure size 1200x200 with 1 Axes>"
      ]
     },
     "metadata": {},
     "output_type": "display_data"
    }
   ],
   "source": [
    "# Boxplot para visualizar Precio\n",
    "plt.figure(figsize=(12, 2))\n",
    "sns.boxplot(x=df['Price'])\n",
    "plt.title(\"Distribución de Precios\")\n",
    "plt.xlabel(\"Precio\")\n",
    "plt.grid(True, linestyle='--', alpha=0.5)\n",
    "plt.show()"
   ]
  },
  {
   "cell_type": "markdown",
   "metadata": {},
   "source": [
    "Debido a que tenemos 10k valores en 0 y 300k valores totales, y que adicionalmente nuestra columna de Price es la variable objetivo. Hemos decidido eliminar los valores en 0  en lugar de imputarlo, esto a que no queremos que el modelo aprenda sobre datos inflados, o falsos datos."
   ]
  },
  {
   "cell_type": "code",
   "execution_count": 87,
   "metadata": {},
   "outputs": [],
   "source": [
    "def limpiar_outliers(df, columna='Price', minimo_valido=500):\n",
    "    \"\"\"\n",
    "    Elimina precios atípicos e inválidos usando un mínimo definido y el método IQR.\n",
    "    \n",
    "    Parámetros:\n",
    "    - df: DataFrame original\n",
    "    - columna: Nombre de la columna a limpiar (por defecto 'Price')\n",
    "    - minimo_valido: Precio mínimo considerado válido (por defecto 100)\n",
    "\n",
    "    Retorna:\n",
    "    - DataFrame limpio\n",
    "    - Diccionario con los umbrales usados\n",
    "    \"\"\"\n",
    "\n",
    "    # Eliminar valores menores al mínimo permitido\n",
    "    df_filtrado = df[df[columna] >= minimo_valido]\n",
    "\n",
    "    # Calcular IQR para valores superiores\n",
    "    Q1 = df_filtrado[columna].quantile(0.25)\n",
    "    Q3 = df_filtrado[columna].quantile(0.75)\n",
    "    IQR = Q3 - Q1\n",
    "    techo = Q3 + 1.5 * IQR\n",
    "\n",
    "    # Filtrar valores superiores al techo\n",
    "    df_limpio = df_filtrado[df_filtrado[columna] <= techo]\n",
    "\n",
    "    # Opcional: mostrar resumen\n",
    "    print(f\"Valores eliminados por debajo de {minimo_valido}: {len(df) - len(df_filtrado)}\")\n",
    "    print(f\"Valores eliminados por encima de {techo:.0f} (outliers superiores): {len(df_filtrado) - len(df_limpio)}\")\n",
    "    print(f\"Total restante: {len(df_limpio)} filas\")\n",
    "\n",
    "    return df_limpio, {'minimo': minimo_valido, 'techo': techo}"
   ]
  },
  {
   "cell_type": "code",
   "execution_count": 88,
   "metadata": {},
   "outputs": [
    {
     "name": "stdout",
     "output_type": "stream",
     "text": [
      "Valores eliminados por debajo de 500: 34602\n",
      "Valores eliminados por encima de 15124 (outliers superiores): 14348\n",
      "Total restante: 295645 filas\n"
     ]
    }
   ],
   "source": [
    "# Estableciendo un valor minimo de 500 euros para threshold de precio\n",
    "df, umbrales_precio = limpiar_outliers(df, 'Price', 500)"
   ]
  },
  {
   "cell_type": "code",
   "execution_count": 89,
   "metadata": {},
   "outputs": [
    {
     "data": {
      "image/png": "[encoded data removed]",
      "text/plain": [
       "<Figure size 1400x400 with 2 Axes>"
      ]
     },
     "metadata": {},
     "output_type": "display_data"
    }
   ],
   "source": [
    "plt.figure(figsize=(14, 4))\n",
    "\n",
    "# Histograma\n",
    "plt.subplot(1, 2, 1)\n",
    "sns.histplot(df['Power'], bins=100, kde=True)\n",
    "plt.title('Distribución de Power')\n",
    "\n",
    "# Boxplot\n",
    "plt.subplot(1, 2, 2)\n",
    "sns.boxplot(x=df['Power'])\n",
    "plt.title('Boxplot de Power')\n",
    "\n",
    "plt.tight_layout()\n",
    "plt.show()"
   ]
  },
  {
   "cell_type": "code",
   "execution_count": 90,
   "metadata": {},
   "outputs": [
    {
     "name": "stdout",
     "output_type": "stream",
     "text": [
      "Valores eliminados por debajo de 50: 29861\n",
      "Valores eliminados por encima de 255 (outliers superiores): 5050\n",
      "Total restante: 260734 filas\n"
     ]
    }
   ],
   "source": [
    "# Eliminamos todos los valores usando el metodo de rango intercuartilico, a su vez, \n",
    "# eliminamos los valores donde Power nos da 0, debido a que no existe un vehioculo con 0 caballos de fuerza, colocamos que el umbral minimo es de 50)\n",
    "df, umbrales_power = limpiar_outliers(df, 'Power', 50)"
   ]
  },
  {
   "cell_type": "code",
   "execution_count": 91,
   "metadata": {},
   "outputs": [
    {
     "data": {
      "image/png": "[encoded data removed]",
      "text/plain": [
       "<Figure size 1400x400 with 2 Axes>"
      ]
     },
     "metadata": {},
     "output_type": "display_data"
    }
   ],
   "source": [
    "plt.figure(figsize=(14, 4))\n",
    "\n",
    "# Histograma\n",
    "plt.subplot(1, 2, 1)\n",
    "sns.histplot(df['Power'], bins=100, kde=True)\n",
    "plt.title('Distribución de Power')\n",
    "\n",
    "# Boxplot\n",
    "plt.subplot(1, 2, 2)\n",
    "sns.boxplot(x=df['Power'])\n",
    "plt.title('Boxplot de Power')\n",
    "\n",
    "plt.tight_layout()\n",
    "plt.show()"
   ]
  },
  {
   "cell_type": "code",
   "execution_count": 92,
   "metadata": {},
   "outputs": [],
   "source": [
    "# Hacemos drop a los valores nulos\n",
    "df = df.dropna()"
   ]
  },
  {
   "cell_type": "markdown",
   "metadata": {},
   "source": [
    "<div class=\"alert alert-block alert-success\"> <b>Comentario del revisor</b> <a class=\"tocSkip\"></a><br> <b>Éxito</b> - Excelente visualización y depuración. Usaste gráficos efectivos para identificar outliers y aplicaste un método robusto (IQR) para limpiarlos. Justificaste con claridad la eliminación de valores irreales, lo cual fortalece la calidad del dataset para el modelado. ¡Tu análisis se ve cada vez más profesional! </div>\n"
   ]
  },
  {
   "cell_type": "markdown",
   "metadata": {},
   "source": [
    "## Entrenamiento del modelo "
   ]
  },
  {
   "cell_type": "markdown",
   "metadata": {},
   "source": [
    "Separaremos mi dataset en dos variaciones, una con OHE y uno sin OHE, ambas tendran un standard scaler."
   ]
  },
  {
   "cell_type": "code",
   "execution_count": 93,
   "metadata": {},
   "outputs": [],
   "source": [
    "# Aplicamos un train_test\n",
    "X = df.drop(columns='Price')\n",
    "y = df['Price']\n",
    "\n",
    "# Aplicaremos OHE \n",
    "X_ohe = (pd.get_dummies(X, drop_first=True))\n",
    "\n",
    "# Train test Split con 75% train y 25% test\n",
    "X_train, X_test, y_train, y_test = train_test_split(X, y, test_size=0.25, random_state=42)\n",
    "\n",
    "# Train test Split para OHE\n",
    "X_train_ohe, X_test_ohe, y_train_ohe, y_test_ohe = train_test_split(X_ohe, y, test_size=0.25, random_state=42)"
   ]
  },
  {
   "cell_type": "code",
   "execution_count": 94,
   "metadata": {},
   "outputs": [],
   "source": [
    "numeric = X_train.select_dtypes(include=['int64', 'float64']).columns\n",
    "\n",
    "scaler = StandardScaler()\n",
    "scaler.fit(X_train[numeric])\n",
    "X_train[numeric]=scaler.transform(X_train[numeric])\n",
    "X_test[numeric]=scaler.transform(X_test[numeric])\n",
    "\n",
    "scaler = StandardScaler()\n",
    "scaler.fit(X_train_ohe[numeric])\n",
    "X_train_ohe[numeric]=scaler.transform(X_train[numeric])\n",
    "X_test_ohe[numeric]=scaler.transform(X_test[numeric])"
   ]
  },
  {
   "cell_type": "code",
   "execution_count": 95,
   "metadata": {},
   "outputs": [],
   "source": [
    "# Función personalizada para calcular RMSE\n",
    "def rmse(y_true, y_pred):\n",
    "    return np.sqrt(mean_squared_error(y_true, y_pred))"
   ]
  },
  {
   "cell_type": "markdown",
   "metadata": {},
   "source": [
    "### Random Forest"
   ]
  },
  {
   "cell_type": "code",
   "execution_count": null,
   "metadata": {},
   "outputs": [
    {
     "name": "stdout",
     "output_type": "stream",
     "text": [
      "Fitting 4 folds for each of 36 candidates, totalling 144 fits\n"
     ]
    },
    {
     "name": "stderr",
     "output_type": "stream",
     "text": [
      "/Volumes/Carlos Vallejo SSD/Triple Ten/tripleten-ds/ttds_venv/lib/python3.10/site-packages/joblib/externals/loky/process_executor.py:782: UserWarning: A worker stopped while some jobs were given to the executor. This can be caused by a too short worker timeout or by a memory leak.\n",
      "  warnings.warn(\n"
     ]
    },
    {
     "name": "stdout",
     "output_type": "stream",
     "text": [
      "Mejor RMSE (negativo): -1279.61\n",
      "Mejores parámetros: {'model__max_depth': None, 'model__min_samples_leaf': 2, 'model__min_samples_split': 5, 'model__n_estimators': 200}\n",
      "Tiempo de Ejecución: 2908.1670479774475\n"
     ]
    }
   ],
   "source": [
    "# Random Forest GridSearchCV\n",
    "rmse_scorer = make_scorer(rmse, greater_is_better=False)\n",
    "\n",
    "# Pipeline con StandardScaler y RandomForest\n",
    "pipeline = Pipeline([\n",
    "    ('model', RandomForestRegressor(random_state=42))\n",
    "])\n",
    "\n",
    "# Grid de hiperparámetros\n",
    "param_grid = {\n",
    "    'model__n_estimators': [50, 100, 200],\n",
    "    'model__max_depth': [None, 10, 20],\n",
    "    'model__min_samples_split': [2, 5],\n",
    "    'model__min_samples_leaf': [1, 2]\n",
    "}\n",
    "\n",
    "# GridSearchCV\n",
    "grid_search = GridSearchCV(pipeline, param_grid, cv=4, scoring=rmse_scorer, n_jobs=-1, verbose=1)\n",
    "\n",
    "#Correr tiempo\n",
    "start_time = time.time()\n",
    "\n",
    "# Entrenar\n",
    "grid_search.fit(X_train_ohe, y_train)\n",
    "forest_time = time.time() - start_time\n",
    "\n",
    "# Resultados\n",
    "print(f\"Mejor RMSE (negativo): {grid_search.best_score_:.2f}\")\n",
    "print(f\"Mejores parámetros: {grid_search.best_params_}\")\n",
    "print(f\"Tiempo de Ejecución:\", forest_time)"
   ]
  },
  {
   "cell_type": "markdown",
   "metadata": {},
   "source": [
    "Ya encontrados estos parametros, vemos cuanto tiempo tarda en entrenarse este modelo con los hiperparametros optimizados."
   ]
  },
  {
   "cell_type": "code",
   "execution_count": null,
   "metadata": {},
   "outputs": [
    {
     "name": "stdout",
     "output_type": "stream",
     "text": [
      "✅ RMSE en conjunto de prueba: 1295.47\n",
      "CPU times: user 4min 13s, sys: 1.83 s, total: 4min 15s\n",
      "Wall time: 4min 17s\n"
     ]
    }
   ],
   "source": [
    "%%time\n",
    "\n",
    "# Entrenar el modelo con los mejores hiperparámetros encontrados\n",
    "best_rf = RandomForestRegressor(\n",
    "    n_estimators=200,\n",
    "    max_depth=None,\n",
    "    min_samples_split=5,\n",
    "    min_samples_leaf=2,\n",
    "    random_state=42\n",
    ")\n",
    "\n",
    "# Entrenamiento\n",
    "best_rf.fit(X_train_ohe, y_train_ohe)\n",
    "\n",
    "# Predicción sobre el conjunto de prueba\n",
    "y_pred_test = best_rf.predict(X_test_ohe)\n",
    "\n",
    "# Cálculo del RMSE\n",
    "rmse_test = rmse(y_test, y_pred_test)\n",
    "\n",
    "# Mostrar resultados\n",
    "print(f\"✅ RMSE en conjunto de prueba (Random Forest): {rmse_test:.2f}\")"
   ]
  },
  {
   "cell_type": "markdown",
   "metadata": {},
   "source": [
    "### Decision Tree Regressor"
   ]
  },
  {
   "cell_type": "code",
   "execution_count": null,
   "metadata": {},
   "outputs": [
    {
     "name": "stdout",
     "output_type": "stream",
     "text": [
      "Fitting 4 folds for each of 45 candidates, totalling 180 fits\n",
      "✅ Mejor RMSE (negativo): -1441.30\n",
      "🔧 Mejores parámetros: {'model__max_depth': None, 'model__min_samples_leaf': 4, 'model__min_samples_split': 10}\n",
      "CPU times: user 2.62 s, sys: 533 ms, total: 3.15 s\n",
      "Wall time: 47.2 s\n"
     ]
    }
   ],
   "source": [
    "%%time\n",
    "# Scorer\n",
    "rmse_scorer = make_scorer(rmse, greater_is_better=False)\n",
    "\n",
    "# Pipeline con StandardScaler y DecisionTree\n",
    "pipeline = Pipeline([\n",
    "    ('model', DecisionTreeRegressor(random_state=42))\n",
    "])\n",
    "\n",
    "# Grid de hiperparámetros para Decision Tree\n",
    "param_grid = {\n",
    "    'model__max_depth': [None, 5, 10, 15, 20],\n",
    "    'model__min_samples_split': [2, 5, 10],\n",
    "    'model__min_samples_leaf': [1, 2, 4]\n",
    "}\n",
    "\n",
    "# Configurar GridSearchCV\n",
    "grid_search = GridSearchCV(pipeline, \n",
    "                           param_grid, \n",
    "                           cv=4, \n",
    "                           scoring=rmse_scorer, \n",
    "                           n_jobs=-1, \n",
    "                           verbose=1)\n",
    "\n",
    "# Ejecutar entrenamiento\n",
    "grid_search.fit(X_train_ohe, y_train_ohe)\n",
    "\n",
    "\n",
    "# Resultados\n",
    "print(f\"✅ Mejor RMSE (negativo): {grid_search.best_score_:.2f}\")\n",
    "print(f\"🔧 Mejores parámetros: {grid_search.best_params_}\")"
   ]
  },
  {
   "cell_type": "code",
   "execution_count": null,
   "metadata": {},
   "outputs": [
    {
     "name": "stdout",
     "output_type": "stream",
     "text": [
      "✅ RMSE en conjunto de prueba (Decision Tree): 1404.94\n",
      "⏱️ Tiempo de entrenamiento final: 1.99 segundos\n",
      "CPU times: user 1.94 s, sys: 71.9 ms, total: 2.02 s\n",
      "Wall time: 2.03 s\n"
     ]
    }
   ],
   "source": [
    "%%time\n",
    "# Mejores Parametros\n",
    "best_tree = DecisionTreeRegressor(\n",
    "    max_depth=None,\n",
    "    min_samples_split=10,\n",
    "    min_samples_leaf=4,\n",
    "    random_state=42\n",
    ")\n",
    "\n",
    "# Medir tiempo de entrenamiento\n",
    "start_time = time.time()\n",
    "best_tree.fit(X_train_ohe, y_train)\n",
    "tree_train_time = time.time() - start_time\n",
    "\n",
    "# Predicción en test\n",
    "y_pred_tree = best_tree.predict(X_test_ohe)\n",
    "\n",
    "# Calcular RMSE\n",
    "rmse_test_tree = rmse(y_test, y_pred_tree)\n",
    "\n",
    "# Resultados\n",
    "print(f\"✅ RMSE en conjunto de prueba (Decision Tree): {rmse_test_tree:.2f}\")"
   ]
  },
  {
   "cell_type": "markdown",
   "metadata": {},
   "source": [
    "### Regresión Lineal"
   ]
  },
  {
   "cell_type": "code",
   "execution_count": null,
   "metadata": {},
   "outputs": [
    {
     "name": "stdout",
     "output_type": "stream",
     "text": [
      "✅ RMSE en conjunto de prueba (Linear Regression): 2057.44\n",
      "CPU times: user 923 ms, sys: 19.2 ms, total: 942 ms\n",
      "Wall time: 946 ms\n"
     ]
    }
   ],
   "source": [
    "%%time \n",
    "# Regresion Lineal\n",
    "rmse_scorer = make_scorer(rmse, greater_is_better=False)\n",
    "\n",
    "categorical = X.select_dtypes(include='object').columns\n",
    "numerical = X.select_dtypes(include=['int64', 'float64']).columns\n",
    "\n",
    "preprocessor = ColumnTransformer([\n",
    "    ('num', StandardScaler(), numerical),\n",
    "    ('cat', OneHotEncoder(handle_unknown='ignore'), categorical)\n",
    "])\n",
    "\n",
    "pipeline = Pipeline([\n",
    "    ('preprocessing', preprocessor),\n",
    "    ('model', LinearRegression())\n",
    "])\n",
    "\n",
    "pipeline.fit(X_train, y_train)\n",
    "y_pred = pipeline.predict(X_test)\n",
    "\n",
    "# RMSE\n",
    "rmse_test_lr = rmse(y_test, y_pred)\n",
    "\n",
    "# Resultados\n",
    "print(f\"✅ RMSE en conjunto de prueba (Linear Regression): {rmse_test_lr:.2f}\")"
   ]
  },
  {
   "cell_type": "code",
   "execution_count": null,
   "metadata": {},
   "outputs": [
    {
     "name": "stdout",
     "output_type": "stream",
     "text": [
      "✅ RMSE en conjunto de prueba (Ridge): 2057.30\n",
      "CPU times: user 513 ms, sys: 15.3 ms, total: 529 ms\n",
      "Wall time: 530 ms\n"
     ]
    }
   ],
   "source": [
    "%%time\n",
    "# Ridge\n",
    "rmse_scorer = make_scorer(rmse, greater_is_better=False)\n",
    "\n",
    "categorical = X.select_dtypes(include='object').columns\n",
    "numerical = X.select_dtypes(include=['int64', 'float64']).columns\n",
    "\n",
    "preprocessor = ColumnTransformer([\n",
    "    ('num', StandardScaler(), numerical),\n",
    "    ('cat', OneHotEncoder(handle_unknown='ignore'), categorical)\n",
    "])\n",
    "\n",
    "pipeline_ridge = Pipeline([\n",
    "    ('preprocessing', preprocessor),\n",
    "    ('model', Ridge(alpha=1.0))  # Puedes ajustar alpha si deseas\n",
    "])\n",
    "\n",
    "pipeline_ridge.fit(X_train, y_train)\n",
    "y_pred_ridge = pipeline_ridge.predict(X_test)\n",
    "\n",
    "rmse_test_ridge = rmse(y_test, y_pred_ridge)\n",
    "print(f\"✅ RMSE en conjunto de prueba (Ridge): {rmse_test_ridge:.2f}\")"
   ]
  },
  {
   "cell_type": "code",
   "execution_count": null,
   "metadata": {},
   "outputs": [
    {
     "name": "stdout",
     "output_type": "stream",
     "text": [
      "✅ RMSE en conjunto de prueba (Lasso): 2095.27\n",
      "CPU times: user 37.9 s, sys: 3.92 s, total: 41.8 s\n",
      "Wall time: 22.6 s\n"
     ]
    }
   ],
   "source": [
    "%%time\n",
    "# Lasso\n",
    "pipeline_lasso = Pipeline([\n",
    "    ('preprocessing', preprocessor),\n",
    "    ('model', Lasso(alpha=1.0, max_iter=10000))  # max_iter aumentado por si hay muchas features\n",
    "])\n",
    "\n",
    "pipeline_lasso.fit(X_train, y_train)\n",
    "y_pred_lasso = pipeline_lasso.predict(X_test)\n",
    "\n",
    "rmse_test_lasso = rmse(y_test, y_pred_lasso)\n",
    "print(f\"✅ RMSE en conjunto de prueba (Lasso): {rmse_test_lasso:.2f}\")"
   ]
  },
  {
   "cell_type": "markdown",
   "metadata": {},
   "source": [
    "### Catboost | Potenciacion de Gradiente"
   ]
  },
  {
   "cell_type": "code",
   "execution_count": null,
   "metadata": {},
   "outputs": [
    {
     "data": {
      "text/plain": [
       "['VehicleType', 'Gearbox', 'Model', 'FuelType', 'Brand', 'NotRepaired']"
      ]
     },
     "execution_count": 57,
     "metadata": {},
     "output_type": "execute_result"
    }
   ],
   "source": [
    "# Lista de mis features categoricas\n",
    "categorical_features = X.select_dtypes(include='object').columns.tolist()\n",
    "categorical_features"
   ]
  },
  {
   "cell_type": "code",
   "execution_count": null,
   "metadata": {},
   "outputs": [
    {
     "name": "stdout",
     "output_type": "stream",
     "text": [
      "Fitting 3 folds for each of 16 candidates, totalling 48 fits\n",
      "✅ Mejor RMSE (negativo): -1344.74\n",
      "🔧 Mejores parámetros: {'depth': 6, 'iterations': 500, 'l2_leaf_reg': 1, 'learning_rate': 0.1}\n",
      "CPU times: user 1min 17s, sys: 5.79 s, total: 1min 23s\n",
      "Wall time: 4min 3s\n"
     ]
    }
   ],
   "source": [
    "%%time\n",
    "\n",
    "rmse_scorer = make_scorer(rmse, greater_is_better=False)\n",
    "\n",
    "# Envolvemos CatBoost en el wrapper de sklearn\n",
    "catboost_model = CatBoostRegressor(\n",
    "    verbose=0,\n",
    "    random_state=42,\n",
    "    loss_function='RMSE'\n",
    ")\n",
    "\n",
    "# Definimos los hiperparámetros\n",
    "param_grid = {\n",
    "    'iterations': [300, 500],\n",
    "    'learning_rate': [0.03, 0.1],\n",
    "    'depth': [4, 6],\n",
    "    'l2_leaf_reg': [1, 3]\n",
    "}\n",
    "\n",
    "# Usamos GridSearchCV\n",
    "grid_search = GridSearchCV(\n",
    "    estimator=catboost_model,\n",
    "    param_grid=param_grid,\n",
    "    cv=3,\n",
    "    scoring=rmse_scorer,\n",
    "    n_jobs=-1,\n",
    "    verbose=1\n",
    ")\n",
    "\n",
    "# Entrenamos el modelo\n",
    "grid_search.fit(X_train, y_train, cat_features=categorical_features)\n",
    "\n",
    "# Resultados\n",
    "print(f\"✅ Mejor RMSE (negativo): {grid_search.best_score_:.2f}\")\n",
    "print(f\"🔧 Mejores parámetros: {grid_search.best_params_}\")"
   ]
  },
  {
   "cell_type": "code",
   "execution_count": null,
   "metadata": {},
   "outputs": [
    {
     "name": "stdout",
     "output_type": "stream",
     "text": [
      "✅ RMSE en conjunto de prueba (CatBoost): 1335.75\n",
      "CPU times: user 1min 15s, sys: 5.01 s, total: 1min 20s\n",
      "Wall time: 13.3 s\n"
     ]
    }
   ],
   "source": [
    "%%time\n",
    "# Mejores Parametros\n",
    "\n",
    "best_cat = CatBoostRegressor(\n",
    "    depth=6,\n",
    "    iterations=500,\n",
    "    l2_leaf_reg=1,\n",
    "    learning_rate=0.1,\n",
    "    random_state=42\n",
    ")\n",
    "\n",
    "# Medir tiempo de entrenamiento\n",
    "best_cat.fit(X_train, y_train, cat_features=categorical_features, verbose=0)\n",
    "\n",
    "# Predicción en test\n",
    "y_pred_cat = best_cat.predict(X_test)\n",
    "\n",
    "# Calcular RMSE\n",
    "rmse_test_cat = rmse(y_test, y_pred_cat)\n",
    "\n",
    "# Resultados\n",
    "print(f\"✅ RMSE en conjunto de prueba (CatBoost): {rmse_test_cat:.2f}\")"
   ]
  },
  {
   "cell_type": "markdown",
   "metadata": {},
   "source": [
    "### LightGBM"
   ]
  },
  {
   "cell_type": "code",
   "execution_count": 96,
   "metadata": {},
   "outputs": [],
   "source": [
    "# Convierte todas las columnas categóricas a tipo 'category'\n",
    "for col in categorical_features:\n",
    "    X_train[col] = X_train[col].astype('category')\n",
    "    X_test[col] = X_test[col].astype('category')"
   ]
  },
  {
   "cell_type": "code",
   "execution_count": 100,
   "metadata": {},
   "outputs": [
    {
     "name": "stdout",
     "output_type": "stream",
     "text": [
      "Fitting 3 folds for each of 16 candidates, totalling 48 fits\n"
     ]
    },
    {
     "name": "stderr",
     "output_type": "stream",
     "text": [
      "/Volumes/Carlos Vallejo SSD/Triple Ten/tripleten-ds/ttds_venv/lib/python3.10/site-packages/numpy/ma/core.py:2820: RuntimeWarning: invalid value encountered in cast\n",
      "  _data = np.array(data, dtype=dtype, copy=copy,\n"
     ]
    },
    {
     "name": "stdout",
     "output_type": "stream",
     "text": [
      "✅ RMSE en test con LightGBM: 1234.59\n",
      "🔧 Mejores parámetros: {'learning_rate': 0.1, 'max_depth': -1, 'n_estimators': 200, 'num_leaves': 50}\n",
      "CPU times: user 3.13 s, sys: 2.49 s, total: 5.62 s\n",
      "Wall time: 47.2 s\n"
     ]
    }
   ],
   "source": [
    "%%time\n",
    "\n",
    "# Crear el modelo\n",
    "lgb_model = lgb.LGBMRegressor(verbosity=-1, random_state=42)\n",
    "\n",
    "# Entrenar con GridSearchCV\n",
    "grid = {\n",
    "    'num_leaves': [31, 50],\n",
    "    'max_depth': [-1, 10],\n",
    "    'learning_rate': [0.05, 0.1],\n",
    "    'n_estimators': [100, 200]\n",
    "}\n",
    "\n",
    "grid_search = GridSearchCV(\n",
    "    estimator=lgb_model,\n",
    "    param_grid=grid,\n",
    "    scoring=rmse_scorer,\n",
    "    cv=3,\n",
    "    n_jobs=-1,\n",
    "    verbose=1\n",
    ")\n",
    "\n",
    "# Entrenar\n",
    "grid_search.fit(X_train, y_train, categorical_feature='auto')\n",
    "\n",
    "# Predecir y evaluar\n",
    "y_pred = grid_search.predict(X_test)\n",
    "rmse_lgb = rmse(y_test, y_pred)\n",
    "print(f\"✅ RMSE en test con LightGBM: {rmse_lgb:.2f}\")\n",
    "print(f\"🔧 Mejores parámetros: {grid_search.best_params_}\")"
   ]
  },
  {
   "cell_type": "code",
   "execution_count": 102,
   "metadata": {},
   "outputs": [
    {
     "name": "stdout",
     "output_type": "stream",
     "text": [
      "✅ RMSE en test con LightGBM: 1234.59\n",
      "CPU times: user 2.94 s, sys: 2.21 s, total: 5.15 s\n",
      "Wall time: 2.31 s\n"
     ]
    }
   ],
   "source": [
    "%%time \n",
    "# Configurar y entrenar el modelo final con los mejores hiperparámetros\n",
    "best_lgbm = lgb.LGBMRegressor(\n",
    "    learning_rate=0.1,\n",
    "    max_depth=-1,\n",
    "    n_estimators=200,\n",
    "    num_leaves=50,\n",
    "    random_state=42,\n",
    "    verbosity=-1\n",
    ")\n",
    "\n",
    "# Entrenar modelo\n",
    "best_lgbm.fit(X_train, y_train, categorical_feature=categorical_features)\n",
    "\n",
    "# Predecir en conjunto de prueba\n",
    "y_pred_lgbm = best_lgbm.predict(X_test)\n",
    "\n",
    "# Calcular RMSE\n",
    "rmse_lgbm = rmse(y_test, y_pred_lgbm)\n",
    "\n",
    "# Mostrar resultados\n",
    "print(f\"✅ RMSE en test con LightGBM: {rmse_lgbm:.2f}\")"
   ]
  },
  {
   "cell_type": "markdown",
   "metadata": {},
   "source": [
    "### XGBoost"
   ]
  },
  {
   "cell_type": "code",
   "execution_count": 105,
   "metadata": {},
   "outputs": [
    {
     "name": "stdout",
     "output_type": "stream",
     "text": [
      "Fitting 3 folds for each of 16 candidates, totalling 48 fits\n"
     ]
    },
    {
     "name": "stderr",
     "output_type": "stream",
     "text": [
      "/Volumes/Carlos Vallejo SSD/Triple Ten/tripleten-ds/ttds_venv/lib/python3.10/site-packages/joblib/externals/loky/process_executor.py:782: UserWarning: A worker stopped while some jobs were given to the executor. This can be caused by a too short worker timeout or by a memory leak.\n",
      "  warnings.warn(\n",
      "/Volumes/Carlos Vallejo SSD/Triple Ten/tripleten-ds/ttds_venv/lib/python3.10/site-packages/sklearn/model_selection/_validation.py:540: FitFailedWarning: \n",
      "17 fits failed out of a total of 48.\n",
      "The score on these train-test partitions for these parameters will be set to nan.\n",
      "If these failures are not expected, you can try to debug them by setting error_score='raise'.\n",
      "\n",
      "Below are more details about the failures:\n",
      "--------------------------------------------------------------------------------\n",
      "17 fits failed with the following error:\n",
      "Traceback (most recent call last):\n",
      "  File \"/Volumes/Carlos Vallejo SSD/Triple Ten/tripleten-ds/ttds_venv/lib/python3.10/site-packages/sklearn/model_selection/_validation.py\", line 888, in _fit_and_score\n",
      "    estimator.fit(X_train, y_train, **fit_params)\n",
      "  File \"/Volumes/Carlos Vallejo SSD/Triple Ten/tripleten-ds/ttds_venv/lib/python3.10/site-packages/sklearn/base.py\", line 1473, in wrapper\n",
      "    return fit_method(estimator, *args, **kwargs)\n",
      "  File \"/Volumes/Carlos Vallejo SSD/Triple Ten/tripleten-ds/ttds_venv/lib/python3.10/site-packages/sklearn/pipeline.py\", line 473, in fit\n",
      "    self._final_estimator.fit(Xt, y, **last_step_params[\"fit\"])\n",
      "  File \"/Volumes/Carlos Vallejo SSD/Triple Ten/tripleten-ds/ttds_venv/lib/python3.10/site-packages/xgboost/core.py\", line 729, in inner_f\n",
      "    return func(**kwargs)\n",
      "  File \"/Volumes/Carlos Vallejo SSD/Triple Ten/tripleten-ds/ttds_venv/lib/python3.10/site-packages/xgboost/sklearn.py\", line 1215, in fit\n",
      "    with config_context(verbosity=self.verbosity):\n",
      "  File \"/Users/carlosvallejo/.pyenv/versions/miniforge3-4.14.0-1/lib/python3.10/contextlib.py\", line 142, in __exit__\n",
      "    next(self.gen)\n",
      "  File \"/Volumes/Carlos Vallejo SSD/Triple Ten/tripleten-ds/ttds_venv/lib/python3.10/site-packages/xgboost/config.py\", line 186, in config_context\n",
      "    set_config(**old_config)\n",
      "  File \"/Volumes/Carlos Vallejo SSD/Triple Ten/tripleten-ds/ttds_venv/lib/python3.10/site-packages/xgboost/config.py\", line 108, in wrap\n",
      "    return func(*args, **kwargs)\n",
      "  File \"/Volumes/Carlos Vallejo SSD/Triple Ten/tripleten-ds/ttds_venv/lib/python3.10/site-packages/xgboost/config.py\", line 132, in set_config\n",
      "    _check_call(_LIB.XGBSetGlobalConfig(c_str(config)))\n",
      "  File \"/Volumes/Carlos Vallejo SSD/Triple Ten/tripleten-ds/ttds_venv/lib/python3.10/site-packages/xgboost/core.py\", line 310, in _check_call\n",
      "    raise XGBoostError(py_str(_LIB.XGBGetLastError()))\n",
      "xgboost.core.XGBoostError: value -1 for Parameter verbosity exceed bound [0,3]\n",
      "verbosity: Flag to print out detailed breakdown of runtime.\n",
      "\n",
      "  warnings.warn(some_fits_failed_message, FitFailedWarning)\n",
      "/Volumes/Carlos Vallejo SSD/Triple Ten/tripleten-ds/ttds_venv/lib/python3.10/site-packages/sklearn/model_selection/_search.py:1102: UserWarning: One or more of the test scores are non-finite: [           nan            nan            nan            nan\n",
      "            nan            nan -1249.13671115 -1257.65325027\n",
      " -1305.2526711  -1308.21278863 -1274.55188749 -1279.38721071\n",
      " -1263.38419045 -1265.15790792 -1265.84579227 -1259.79971859]\n",
      "  warnings.warn(\n"
     ]
    },
    {
     "name": "stdout",
     "output_type": "stream",
     "text": [
      "\n",
      "✅ RMSE en test con XGBoost: 1224.78\n",
      "🔧 Mejores parámetros: {'model__learning_rate': 0.1, 'model__max_depth': 10, 'model__n_estimators': 200, 'model__subsample': 0.8}\n",
      "CPU times: user 14.6 s, sys: 1.19 s, total: 15.8 s\n",
      "Wall time: 55.2 s\n"
     ]
    }
   ],
   "source": [
    "%%time \n",
    "# Scorer con RMSE negativo para GridSearchCV\n",
    "rmse_scorer = make_scorer(rmse, greater_is_better=False)\n",
    "\n",
    "# Pipeline (XGBoost no requiere escalado para Random Forest style models)\n",
    "pipeline = Pipeline([\n",
    "    ('model', XGBRegressor(random_state=42, n_jobs=-1, verbosity=0))\n",
    "])\n",
    "\n",
    "# Grid de hiperparámetros a ajustar\n",
    "param_grid = {\n",
    "    'model__n_estimators': [100, 200],\n",
    "    'model__max_depth': [6, 10],\n",
    "    'model__learning_rate': [0.1, 0.3],\n",
    "    'model__subsample': [0.8, 1],\n",
    "}\n",
    "\n",
    "# GridSearch\n",
    "grid_search_xgb = GridSearchCV(\n",
    "    pipeline,\n",
    "    param_grid,\n",
    "    cv=3,\n",
    "    scoring=rmse_scorer,\n",
    "    n_jobs=-1,\n",
    "    verbose=1\n",
    ")\n",
    "\n",
    "# Entrenar el modelo\n",
    "grid_search_xgb.fit(X_train_ohe, y_train_ohe)\n",
    "\n",
    "# Predicción\n",
    "y_pred_xgb = grid_search_xgb.predict(X_test_ohe)\n",
    "\n",
    "# Calcular RMSE final\n",
    "rmse_xgb = rmse(y_test_ohe, y_pred_xgb)\n",
    "\n",
    "# Mostrar resultados\n",
    "print(f\"\\n✅ RMSE en test con XGBoost: {rmse_xgb:.2f}\")\n",
    "print(f\"🔧 Mejores parámetros: {grid_search_xgb.best_params_}\")"
   ]
  },
  {
   "cell_type": "code",
   "execution_count": 106,
   "metadata": {},
   "outputs": [
    {
     "name": "stdout",
     "output_type": "stream",
     "text": [
      "✅ RMSE final con mejores hiperparámetros (XGBoost): 1224.78\n",
      "CPU times: user 14 s, sys: 827 ms, total: 14.9 s\n",
      "Wall time: 3.76 s\n"
     ]
    }
   ],
   "source": [
    "%%time\n",
    "\n",
    "best_xgb = XGBRegressor(\n",
    "    learning_rate=0.1,\n",
    "    max_depth=10,\n",
    "    n_estimators=200,\n",
    "    subsample=0.8,\n",
    "    random_state=42,\n",
    "    n_jobs=-1\n",
    ")\n",
    "best_xgb.fit(X_train_ohe, y_train)\n",
    "y_pred_test = best_xgb.predict(X_test_ohe)\n",
    "\n",
    "rmse_test = rmse(y_test, y_pred_test)\n",
    "print(f\"✅ RMSE final con mejores hiperparámetros (XGBoost): {rmse_test:.2f}\")"
   ]
  },
  {
   "cell_type": "markdown",
   "metadata": {},
   "source": [
    "<div class=\"alert alert-block alert-success\"> <b>Comentario del revisor</b> <a class=\"tocSkip\"></a><br> <b>Éxito</b> - Excelente bloque de modelado. Probaste múltiples enfoques, ajustaste hiperparámetros con GridSearchCV y comparaste rendimiento de forma clara usando RMSE, tiempos de ejecución y preprocesamiento adecuado. Tu implementación es sólida, variada y bien argumentada. ¡Tu dominio del pipeline de machine learning está quedando muy bien demostrado! </div>\n",
    "\n"
   ]
  },
  {
   "cell_type": "markdown",
   "metadata": {},
   "source": [
    "## Análisis"
   ]
  },
  {
   "cell_type": "code",
   "execution_count": 111,
   "metadata": {},
   "outputs": [
    {
     "data": {
      "text/html": [
       "<div>\n",
       "<style scoped>\n",
       "    .dataframe tbody tr th:only-of-type {\n",
       "        vertical-align: middle;\n",
       "    }\n",
       "\n",
       "    .dataframe tbody tr th {\n",
       "        vertical-align: top;\n",
       "    }\n",
       "\n",
       "    .dataframe thead th {\n",
       "        text-align: right;\n",
       "    }\n",
       "</style>\n",
       "<table border=\"1\" class=\"dataframe\">\n",
       "  <thead>\n",
       "    <tr style=\"text-align: right;\">\n",
       "      <th></th>\n",
       "      <th>Modelo</th>\n",
       "      <th>RMSE</th>\n",
       "      <th>Time(s)</th>\n",
       "    </tr>\n",
       "  </thead>\n",
       "  <tbody>\n",
       "    <tr>\n",
       "      <th>7</th>\n",
       "      <td>XGBoost</td>\n",
       "      <td>1224.78</td>\n",
       "      <td>3.760</td>\n",
       "    </tr>\n",
       "    <tr>\n",
       "      <th>6</th>\n",
       "      <td>LightGBM</td>\n",
       "      <td>1234.59</td>\n",
       "      <td>2.310</td>\n",
       "    </tr>\n",
       "    <tr>\n",
       "      <th>0</th>\n",
       "      <td>Random Forest</td>\n",
       "      <td>1295.47</td>\n",
       "      <td>257.000</td>\n",
       "    </tr>\n",
       "    <tr>\n",
       "      <th>5</th>\n",
       "      <td>CatBoost</td>\n",
       "      <td>1335.75</td>\n",
       "      <td>13.300</td>\n",
       "    </tr>\n",
       "    <tr>\n",
       "      <th>1</th>\n",
       "      <td>Decision Tree</td>\n",
       "      <td>1404.94</td>\n",
       "      <td>2.030</td>\n",
       "    </tr>\n",
       "    <tr>\n",
       "      <th>4</th>\n",
       "      <td>Regresión Ridge</td>\n",
       "      <td>2057.30</td>\n",
       "      <td>0.530</td>\n",
       "    </tr>\n",
       "    <tr>\n",
       "      <th>2</th>\n",
       "      <td>Regresión Lineal</td>\n",
       "      <td>2057.44</td>\n",
       "      <td>0.946</td>\n",
       "    </tr>\n",
       "    <tr>\n",
       "      <th>3</th>\n",
       "      <td>Regresión Lasso</td>\n",
       "      <td>2095.27</td>\n",
       "      <td>22.600</td>\n",
       "    </tr>\n",
       "  </tbody>\n",
       "</table>\n",
       "</div>"
      ],
      "text/plain": [
       "             Modelo     RMSE  Time(s)\n",
       "7           XGBoost  1224.78    3.760\n",
       "6          LightGBM  1234.59    2.310\n",
       "0     Random Forest  1295.47  257.000\n",
       "5          CatBoost  1335.75   13.300\n",
       "1     Decision Tree  1404.94    2.030\n",
       "4   Regresión Ridge  2057.30    0.530\n",
       "2  Regresión Lineal  2057.44    0.946\n",
       "3   Regresión Lasso  2095.27   22.600"
      ]
     },
     "execution_count": 111,
     "metadata": {},
     "output_type": "execute_result"
    }
   ],
   "source": [
    "df_modelos = pd.DataFrame({\n",
    "    'Modelo': [\n",
    "        'Random Forest', 'Decision Tree', 'Regresión Lineal',\n",
    "        'Regresión Lasso', 'Regresión Ridge', 'CatBoost',\n",
    "        'LightGBM', 'XGBoost'\n",
    "    ],\n",
    "    'RMSE': [\n",
    "        1295.47, 1404.94, 2057.44,\n",
    "        2095.27, 2057.30, 1335.75,\n",
    "        1234.59, 1224.78\n",
    "    ],\n",
    "    'Time(s)': [\n",
    "        257.0, 2.03, 0.946,\n",
    "        22.6, 0.53, 13.3,\n",
    "        2.31, 3.76\n",
    "    ]\n",
    "})\n",
    "\n",
    "# Ver el resultado\n",
    "df_modelos.sort_values(by='RMSE')"
   ]
  },
  {
   "cell_type": "markdown",
   "metadata": {},
   "source": [
    "### Comparación de Modelos de Regresión — Predicción de Precio\n",
    "\n",
    "| Modelo                  | RMSE (Test) | Tiempo de Entrenamiento |\n",
    "|-------------------------|-------------|--------------------------|\n",
    "| **XGBoost**             | **1224.78** | **3.76 s**               |\n",
    "| LightGBM                | 1234.59     | 2.31 s                   |\n",
    "| Random Forest           | 1295.47     | 4 min 17 s               |\n",
    "| CatBoost                | 1335.75     | 13.3 s                   |\n",
    "| Decision Tree           | 1404.94     | 2.03 s                   |\n",
    "| Ridge Regression        | 2057.30     | 530 ms                   |\n",
    "| Linear Regression       | 2057.44     | 946 ms                   |\n",
    "| Lasso Regression        | 2095.27     | 22.6 s                   |"
   ]
  },
  {
   "cell_type": "code",
   "execution_count": 118,
   "metadata": {},
   "outputs": [
    {
     "data": {
      "image/png": "[encoded data removed]",
      "text/plain": [
       "<Figure size 1200x400 with 1 Axes>"
      ]
     },
     "metadata": {},
     "output_type": "display_data"
    }
   ],
   "source": [
    "plt.figure(figsize=(12,4))\n",
    "\n",
    "# Usar palette de seaborn para varios colores\n",
    "palette = sns.color_palette(\"tab10\", n_colors=len(df_modelos))\n",
    "\n",
    "# Graficar puntos con diferentes colores y etiquetas para legend\n",
    "for i, modelo in enumerate(df_modelos['Modelo']):\n",
    "    plt.scatter(df_modelos['Time(s)'][i], df_modelos['RMSE'][i], \n",
    "                color=palette[i], label=modelo, s=100)\n",
    "\n",
    "plt.xlabel('Tiempo de entrenamiento (s)')\n",
    "plt.ylabel('RMSE')\n",
    "plt.title('RMSE vs Tiempo de Entrenamiento')\n",
    "plt.grid(True)\n",
    "plt.legend(title='Modelo', bbox_to_anchor=(1.05, 1), loc='upper left')\n",
    "plt.tight_layout()\n",
    "plt.show()"
   ]
  },
  {
   "cell_type": "markdown",
   "metadata": {},
   "source": [
    "### Conclusiones"
   ]
  },
  {
   "cell_type": "markdown",
   "metadata": {},
   "source": [
    "En general los modelos basados en boosting entrergaron los valores mas bajos de RMSE en el conjunto de prueba. Lo que indica que predicen el valor de mercado con mas precision que un modelo de regresion o arbol de decision basico.   \n",
    "\n",
    "LightGBM y XGBoost fueron de los modelos mas rapidos de entrenar, CatBoost estuvo cerca. Random Forest aun que tuvo un RMSE igualmente bajo, tomo muchisimo mas tiempo de entrenamiento.\n",
    "\n",
    "Tanto el modelo LightGBM como XGBoost son adecuados para aplicaciones en tiempo real, debido a su gran tiempo de respuesta. En este caso utilizariamos LightGBM, debido a que aunque XGBoost es un poco mas accurate y casi tiene mismo tiempo de entrenamiento que LightGBM, LightGBM tiene la ventaja de no necesitar utilizar OHE, lo que simplifica el pipeline debido a que podemos manejar variables categoricas, reduciendo la dimensionalidad y ayudando a que podamos escalarlo de mejor manera."
   ]
  },
  {
   "cell_type": "markdown",
   "metadata": {},
   "source": [
    "# Lista de control"
   ]
  },
  {
   "cell_type": "markdown",
   "metadata": {},
   "source": [
    "Escribe 'x' para verificar. Luego presiona Shift+Enter"
   ]
  },
  {
   "cell_type": "markdown",
   "metadata": {},
   "source": [
    "- [x]  Jupyter Notebook está abierto\n",
    "- [ ]  El código no tiene errores- [ ]  Las celdas con el código han sido colocadas en orden de ejecución- [ ]  Los datos han sido descargados y preparados- [ ]  Los modelos han sido entrenados\n",
    "- [ ]  Se realizó el análisis de velocidad y calidad de los modelos"
   ]
  },
  {
   "cell_type": "markdown",
   "metadata": {},
   "source": [
    "<div class=\"alert alert-block alert-success\"> <b>Comentario del revisor</b> <a class=\"tocSkip\"></a><br> <b>Éxito</b> - Muy buen cierre del proyecto. Presentaste una comparación clara entre modelos usando métricas clave y visualizaciones efectivas. Tus conclusiones son lógicas, bien argumentadas y alineadas con los requerimientos de negocio. Elegiste adecuadamente el modelo final justificando precisión, eficiencia y escalabilidad. Tu análisis es maduro y convincente. </div>\n"
   ]
  },
  {
   "cell_type": "markdown",
   "metadata": {},
   "source": [
    "## Comentario final del revisor "
   ]
  },
  {
   "cell_type": "markdown",
   "metadata": {},
   "source": [
    "\n",
    "\n",
    "<div class=\"alert alert-block alert-success\"> <b>Comentario del revisor</b> <a class=\"tocSkip\"></a>  \n",
    "    \n",
    "¡Felicidades! Tu proyecto está <strong>aprobado</strong>. Has demostrado un excelente manejo del flujo completo de machine learning: desde la exploración y limpieza de datos, hasta el entrenamiento, ajuste de hiperparámetros y análisis comparativo de modelos. El trabajo es meticuloso, bien estructurado y con decisiones justificadas en cada etapa.\n",
    "\n",
    "#### Puntos Positivos:\n",
    "\n",
    "* **Procesamiento de datos:** Muy buen criterio en la depuración de outliers y codificación de variables, con decisiones bien sustentadas.\n",
    "* **Visualización y análisis gráfico:** Uso claro y pertinente de histogramas, boxplots y heatmaps para guiar el preprocesamiento.\n",
    "* **Ingeniería de características:** Correcta transformación y escalado de variables numéricas y categóricas, aplicando variantes con OHE y sin él según el modelo.\n",
    "* **Comparación de modelos:** Excelente evaluación comparativa basada en RMSE y tiempos de entrenamiento. La justificación final de LightGBM como modelo ideal es sólida y realista para una implementación en producción.\n",
    "\n",
    "¡Tu dominio técnico y tu claridad analítica destacan con fuerza en este proyecto! </div>\n"
   ]
  },
  {
   "cell_type": "code",
   "execution_count": null,
   "metadata": {},
   "outputs": [],
   "source": []
  }
 ],
 "metadata": {
  "kernelspec": {
   "display_name": "Python 3 (ipykernel)",
   "language": "python",
   "name": "python3"
  },
  "language_info": {
   "codemirror_mode": {
    "name": "ipython",
    "version": 3
   },
   "file_extension": ".py",
   "mimetype": "text/x-python",
   "name": "python",
   "nbconvert_exporter": "python",
   "pygments_lexer": "ipython3",
   "version": "3.9.23"
  }
 },
 "nbformat": 4,
 "nbformat_minor": 4
}
