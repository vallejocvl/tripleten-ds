{
 "cells": [
  {
   "cell_type": "markdown",
   "id": "f1f728ae",
   "metadata": {},
   "source": [
    "Hola **Carlos**!\n",
    "\n",
    "Soy **Patricio Requena** 👋. Es un placer ser el revisor de tu proyecto el día de hoy!\n",
    "\n",
    "Revisaré tu proyecto detenidamente con el objetivo de ayudarte a mejorar y perfeccionar tus habilidades. Durante mi revisión, identificaré áreas donde puedas hacer mejoras en tu código, señalando específicamente qué y cómo podrías ajustar para optimizar el rendimiento y la claridad de tu proyecto. Además, es importante para mí destacar los aspectos que has manejado excepcionalmente bien. Reconocer tus fortalezas te ayudará a entender qué técnicas y métodos están funcionando a tu favor y cómo puedes aplicarlos en futuras tareas. \n",
    "\n",
    "_**Recuerda que al final de este notebook encontrarás un comentario general de mi parte**_, empecemos!\n",
    "\n",
    "Encontrarás mis comentarios dentro de cajas verdes, amarillas o rojas, ⚠️ **por favor, no muevas, modifiques o borres mis comentarios** ⚠️:\n",
    "\n",
    "\n",
    "<div class=\"alert alert-block alert-success\">\n",
    "<b>Comentario del revisor</b> <a class=“tocSkip”></a>\n",
    "Si todo está perfecto.\n",
    "</div>\n",
    "\n",
    "<div class=\"alert alert-block alert-warning\">\n",
    "<b>Comentario del revisor</b> <a class=“tocSkip”></a>\n",
    "Si tu código está bien pero se puede mejorar o hay algún detalle que le hace falta.\n",
    "</div>\n",
    "\n",
    "<div class=\"alert alert-block alert-danger\">\n",
    "<b>Comentario del revisor</b> <a class=“tocSkip”></a>\n",
    "Si de pronto hace falta algo o existe algún problema con tu código o conclusiones.\n",
    "</div>\n",
    "\n",
    "Puedes responderme de esta forma:\n",
    "<div class=\"alert alert-block alert-info\">\n",
    "<b>Respuesta del estudiante</b> <a class=“tocSkip”></a>\n",
    "</div>"
   ]
  },
  {
   "cell_type": "markdown",
   "id": "3Xg_RQfnafXz",
   "metadata": {
    "id": "3Xg_RQfnafXz"
   },
   "source": [
    "# ¡Llena ese carrito! | Sprint 4 | Carlos Vallejo Leal"
   ]
  },
  {
   "cell_type": "markdown",
   "id": "mhIvmmkW414q",
   "metadata": {
    "id": "mhIvmmkW414q"
   },
   "source": [
    "# Introducción\n",
    "\n",
    "Instacart es una plataforma de entregas de comestibles donde la clientela puede registrar un pedido y hacer que se lo entreguen, similar a Uber Eats y Door Dash.\n",
    "El conjunto de datos que te hemos proporcionado tiene modificaciones del original. Redujimos el tamaño del conjunto para que tus cálculos se hicieran más rápido e introdujimos valores ausentes y duplicados. Tuvimos cuidado de conservar las distribuciones de los datos originales cuando hicimos los cambios.\n",
    "\n",
    "Debes completar tres pasos. Para cada uno de ellos, escribe una breve introducción que refleje con claridad cómo pretendes resolver cada paso, y escribe párrafos explicatorios que justifiquen tus decisiones al tiempo que avanzas en tu solución.  También escribe una conclusión que resuma tus hallazgos y elecciones.\n"
   ]
  },
  {
   "cell_type": "markdown",
   "id": "3MbyzpOQZ5Or",
   "metadata": {
    "id": "3MbyzpOQZ5Or"
   },
   "source": [
    "## Diccionario de datos\n",
    "\n",
    "Hay cinco tablas en el conjunto de datos, y tendrás que usarlas todas para hacer el preprocesamiento de datos y el análisis exploratorio de datos. A continuación se muestra un diccionario de datos que enumera las columnas de cada tabla y describe los datos que contienen.\n",
    "\n",
    "- `instacart_orders.csv`: cada fila corresponde a un pedido en la aplicación Instacart.\n",
    "    - `'order_id'`: número de ID que identifica de manera única cada pedido.\n",
    "    - `'user_id'`: número de ID que identifica de manera única la cuenta de cada cliente.\n",
    "    - `'order_number'`: el número de veces que este cliente ha hecho un pedido.\n",
    "    - `'order_dow'`: día de la semana en que se hizo el pedido (0 si es domingo).\n",
    "    - `'order_hour_of_day'`: hora del día en que se hizo el pedido.\n",
    "    - `'days_since_prior_order'`: número de días transcurridos desde que este cliente hizo su pedido anterior.\n",
    "- `products.csv`: cada fila corresponde a un producto único que pueden comprar los clientes.\n",
    "    - `'product_id'`: número ID que identifica de manera única cada producto.\n",
    "    - `'product_name'`: nombre del producto.\n",
    "    - `'aisle_id'`: número ID que identifica de manera única cada categoría de pasillo de víveres.\n",
    "    - `'department_id'`: número ID que identifica de manera única cada departamento de víveres.\n",
    "- `order_products.csv`: cada fila corresponde a un artículo pedido en un pedido.\n",
    "    - `'order_id'`: número de ID que identifica de manera única cada pedido.\n",
    "    - `'product_id'`: número ID que identifica de manera única cada producto.\n",
    "    - `'add_to_cart_order'`: el orden secuencial en el que se añadió cada artículo en el carrito.\n",
    "    - `'reordered'`: 0 si el cliente nunca ha pedido este producto antes, 1 si lo ha pedido.\n",
    "- `aisles.csv`\n",
    "    - `'aisle_id'`: número ID que identifica de manera única cada categoría de pasillo de víveres.\n",
    "    - `'aisle'`: nombre del pasillo.\n",
    "- `departments.csv`\n",
    "    - `'department_id'`: número ID que identifica de manera única cada departamento de víveres.\n",
    "    - `'department'`: nombre del departamento."
   ]
  },
  {
   "cell_type": "markdown",
   "id": "n3Ha_cNSZ8lK",
   "metadata": {
    "id": "n3Ha_cNSZ8lK"
   },
   "source": [
    "# Paso 1. Descripción de los datos\n",
    "\n",
    "Lee los archivos de datos (`/datasets/instacart_orders.csv`, `/datasets/products.csv`, `/datasets/aisles.csv`, `/datasets/departments.csv` y `/datasets/order_products.csv`) con `pd.read_csv()` usando los parámetros adecuados para leer los datos correctamente. Verifica la información para cada DataFrame creado.\n"
   ]
  },
  {
   "cell_type": "markdown",
   "id": "OmlQPLlyaAfR",
   "metadata": {
    "id": "OmlQPLlyaAfR"
   },
   "source": [
    "## Plan de solución\n",
    "\n",
    "Escribe aquí tu plan de solución para el Paso 1. Descripción de los datos.\n",
    "\n",
    "* Abrir primero mis csv's y usar head para ver como estan los datos.\n",
    "* Al abrir mis archivos csv note que todos tienen como separador un punto y coma ';', entonces pase el argumento sep=';' a mi .read_csv para poder leerlos correctamente. A su vez asigne estos dataframes a un DF con el nombre correspondiente al csv origen."
   ]
  },
  {
   "cell_type": "code",
   "execution_count": 2,
   "id": "fbf1adab",
   "metadata": {
    "id": "fbf1adab"
   },
   "outputs": [],
   "source": [
    "# importar librerías\n",
    "import pandas as pd\n",
    "from matplotlib import pyplot as plt\n",
    "plt.style.use('seaborn-v0_8')"
   ]
  },
  {
   "cell_type": "code",
   "execution_count": 3,
   "id": "ad36396d",
   "metadata": {
    "id": "ad36396d"
   },
   "outputs": [],
   "source": [
    "# leer conjuntos de datos en los DataFrames\n",
    "aisles = pd.read_csv('datasets/aisles.csv', sep=';')\n",
    "departments = pd.read_csv('datasets/departments.csv', sep=';')\n",
    "instacart_orders = pd.read_csv('datasets/instacart_orders.csv', sep=';')\n",
    "order_products = pd.read_csv('datasets/order_products.csv', sep=';')\n",
    "products = pd.read_csv('datasets/products.csv', sep=';')"
   ]
  },
  {
   "cell_type": "code",
   "execution_count": 4,
   "id": "ad6a1efa",
   "metadata": {
    "id": "ad6a1efa"
   },
   "outputs": [
    {
     "name": "stdout",
     "output_type": "stream",
     "text": [
      "<class 'pandas.core.frame.DataFrame'>\n",
      "RangeIndex: 134 entries, 0 to 133\n",
      "Data columns (total 2 columns):\n",
      " #   Column    Non-Null Count  Dtype \n",
      "---  ------    --------------  ----- \n",
      " 0   aisle_id  134 non-null    int64 \n",
      " 1   aisle     134 non-null    object\n",
      "dtypes: int64(1), object(1)\n",
      "memory usage: 2.2+ KB\n"
     ]
    }
   ],
   "source": [
    "# mostrar información del DataFrame\n",
    "aisles.info()"
   ]
  },
  {
   "cell_type": "code",
   "execution_count": 5,
   "id": "5130e05e",
   "metadata": {
    "id": "5130e05e"
   },
   "outputs": [
    {
     "name": "stdout",
     "output_type": "stream",
     "text": [
      "<class 'pandas.core.frame.DataFrame'>\n",
      "RangeIndex: 21 entries, 0 to 20\n",
      "Data columns (total 2 columns):\n",
      " #   Column         Non-Null Count  Dtype \n",
      "---  ------         --------------  ----- \n",
      " 0   department_id  21 non-null     int64 \n",
      " 1   department     21 non-null     object\n",
      "dtypes: int64(1), object(1)\n",
      "memory usage: 468.0+ bytes\n"
     ]
    }
   ],
   "source": [
    "# mostrar información del DataFrame\n",
    "departments.info()"
   ]
  },
  {
   "cell_type": "code",
   "execution_count": 6,
   "id": "d8370c05",
   "metadata": {
    "id": "d8370c05"
   },
   "outputs": [
    {
     "name": "stdout",
     "output_type": "stream",
     "text": [
      "<class 'pandas.core.frame.DataFrame'>\n",
      "RangeIndex: 478967 entries, 0 to 478966\n",
      "Data columns (total 6 columns):\n",
      " #   Column                  Non-Null Count   Dtype  \n",
      "---  ------                  --------------   -----  \n",
      " 0   order_id                478967 non-null  int64  \n",
      " 1   user_id                 478967 non-null  int64  \n",
      " 2   order_number            478967 non-null  int64  \n",
      " 3   order_dow               478967 non-null  int64  \n",
      " 4   order_hour_of_day       478967 non-null  int64  \n",
      " 5   days_since_prior_order  450148 non-null  float64\n",
      "dtypes: float64(1), int64(5)\n",
      "memory usage: 21.9 MB\n"
     ]
    }
   ],
   "source": [
    "# mostrar información del DataFrame\n",
    "instacart_orders.info()"
   ]
  },
  {
   "cell_type": "code",
   "execution_count": 7,
   "id": "59e2090f",
   "metadata": {
    "id": "59e2090f"
   },
   "outputs": [
    {
     "name": "stdout",
     "output_type": "stream",
     "text": [
      "<class 'pandas.core.frame.DataFrame'>\n",
      "RangeIndex: 4545007 entries, 0 to 4545006\n",
      "Data columns (total 4 columns):\n",
      " #   Column             Non-Null Count    Dtype  \n",
      "---  ------             --------------    -----  \n",
      " 0   order_id           4545007 non-null  int64  \n",
      " 1   product_id         4545007 non-null  int64  \n",
      " 2   add_to_cart_order  4544171 non-null  float64\n",
      " 3   reordered          4545007 non-null  int64  \n",
      "dtypes: float64(1), int64(3)\n",
      "memory usage: 138.7 MB\n"
     ]
    }
   ],
   "source": [
    "# mostrar información del DataFrame\n",
    "order_products.info(show_counts=True)"
   ]
  },
  {
   "cell_type": "code",
   "execution_count": 8,
   "id": "6fc81694",
   "metadata": {
    "id": "6fc81694"
   },
   "outputs": [
    {
     "name": "stdout",
     "output_type": "stream",
     "text": [
      "<class 'pandas.core.frame.DataFrame'>\n",
      "RangeIndex: 49694 entries, 0 to 49693\n",
      "Data columns (total 4 columns):\n",
      " #   Column         Non-Null Count  Dtype \n",
      "---  ------         --------------  ----- \n",
      " 0   product_id     49694 non-null  int64 \n",
      " 1   product_name   48436 non-null  object\n",
      " 2   aisle_id       49694 non-null  int64 \n",
      " 3   department_id  49694 non-null  int64 \n",
      "dtypes: int64(3), object(1)\n",
      "memory usage: 1.5+ MB\n"
     ]
    }
   ],
   "source": [
    "# mostrar información del DataFrame\n",
    "products.info()"
   ]
  },
  {
   "cell_type": "markdown",
   "id": "t75BD19oaR5f",
   "metadata": {
    "id": "t75BD19oaR5f"
   },
   "source": [
    "## Conclusiones\n",
    "\n",
    "Escribe aquí tus conclusiones intermedias sobre el Paso 1. Descripción de los datos.\n",
    "\n",
    "Ya tengo mis DataFrames dentro de mi notebook, funciono usar sep=; para importarlos correctamente. Abriendolos puedo notar que el tipo de datos se ve correcto por lo pronto. Adicionalmente puedo ver que tengo datos usentes en \"products\", \"instacart_orders\" y \"order_products\"."
   ]
  },
  {
   "cell_type": "markdown",
   "id": "986369e1",
   "metadata": {},
   "source": [
    "<div class=\"alert alert-block alert-success\">\n",
    "<b>Comentario del revisor (1ra Iteracion)</b> <a class=“tocSkip”></a>\n",
    "\n",
    "Buen trabajo importando las librerías y cargando tus datos en celdas diferentes, esto siempre ayuda que la legibilidad del código sea mejor\n",
    "</div>"
   ]
  },
  {
   "cell_type": "markdown",
   "id": "8RJHqxVmaVsF",
   "metadata": {
    "id": "8RJHqxVmaVsF"
   },
   "source": [
    "# Paso 2. Preprocesamiento de los datos\n",
    "\n",
    "Preprocesa los datos de la siguiente manera:\n",
    "\n",
    "- Verifica y corrige los tipos de datos (por ejemplo, asegúrate de que las columnas de ID sean números enteros).\n",
    "- Identifica y completa los valores ausentes.\n",
    "- Identifica y elimina los valores duplicados.\n",
    "\n",
    "Asegúrate de explicar qué tipos de valores ausentes y duplicados encontraste, cómo los completaste o eliminaste y por qué usaste esos métodos. ¿Por qué crees que estos valores ausentes y duplicados pueden haber estado presentes en el conjunto de datos?"
   ]
  },
  {
   "cell_type": "markdown",
   "id": "p6poABZQaZYb",
   "metadata": {
    "id": "p6poABZQaZYb"
   },
   "source": [
    "## Plan de solución\n",
    "\n",
    "Escribe aquí tu plan para el Paso 2. Preprocesamiento de los datos.\n",
    "\n",
    "* Las columnas de ID en todos los dataframe son números enteros. De resto estan correctas, como INT los numeros y OBJ los strings. Solo hay uno dentro del DF \"instacart_orders\", la columna days_since_prior_order podria pasar a ser mejor enteros. Fuera de que podriamos asignar a algunos como categorias. Creo que los datos se pueden usar tal cual ya estan.\n",
    "* Procederia a checar si tenemos valores duplicados y valores ausentes."
   ]
  },
  {
   "cell_type": "markdown",
   "id": "07357848-dc64-4156-9cc3-01ff4365226d",
   "metadata": {
    "id": "07357848-dc64-4156-9cc3-01ff4365226d"
   },
   "source": [
    "## Encuentra y elimina los valores duplicados (y describe cómo tomaste tus decisiones)."
   ]
  },
  {
   "cell_type": "markdown",
   "id": "f179f0a9",
   "metadata": {
    "id": "f179f0a9"
   },
   "source": [
    "### `instacart_orders` data frame"
   ]
  },
  {
   "cell_type": "code",
   "execution_count": 9,
   "id": "b99297a5-405a-463d-8535-9adc3da4ad74",
   "metadata": {
    "id": "b99297a5-405a-463d-8535-9adc3da4ad74"
   },
   "outputs": [
    {
     "data": {
      "text/plain": [
       "15"
      ]
     },
     "execution_count": 9,
     "metadata": {},
     "output_type": "execute_result"
    }
   ],
   "source": [
    "# Revisa si hay pedidos duplicados\n",
    "instacart_orders.duplicated().sum()"
   ]
  },
  {
   "cell_type": "markdown",
   "id": "PEkwUX_gvt5A",
   "metadata": {
    "id": "PEkwUX_gvt5A"
   },
   "source": [
    "¿Tienes líneas duplicadas? Si sí, ¿qué tienen en común?"
   ]
  },
  {
   "cell_type": "code",
   "execution_count": 10,
   "id": "0d44de5d",
   "metadata": {
    "id": "0d44de5d"
   },
   "outputs": [
    {
     "data": {
      "text/plain": [
       "15"
      ]
     },
     "execution_count": 10,
     "metadata": {},
     "output_type": "execute_result"
    }
   ],
   "source": [
    "# Basándote en tus hallazgos,\n",
    "# Verifica todos los pedidos que se hicieron el miércoles a las 2:00 a.m.\n",
    "\n",
    "#instacart_orders[(instacart_orders['order_dow']==3) & (instacart_orders['order_hour_of_day']==2)]\n",
    "instacart_orders.query('order_dow ==3 and order_hour_of_day ==2').duplicated().sum()"
   ]
  },
  {
   "cell_type": "markdown",
   "id": "vu2OWyoqwOx5",
   "metadata": {
    "id": "vu2OWyoqwOx5"
   },
   "source": [
    "¿Qué sugiere este resultado?"
   ]
  },
  {
   "cell_type": "markdown",
   "id": "0a72537d",
   "metadata": {},
   "source": [
    "Al usar el filtro mediante un query y luego buscar los valores duplicados podemos ver que todos los duplicados se encuentran en este rango."
   ]
  },
  {
   "cell_type": "code",
   "execution_count": 11,
   "id": "480563c7",
   "metadata": {
    "id": "480563c7"
   },
   "outputs": [],
   "source": [
    "# Elimina los pedidos duplicados\n",
    "instacart_orders = instacart_orders.drop_duplicates()"
   ]
  },
  {
   "cell_type": "code",
   "execution_count": 12,
   "id": "0b2396a2",
   "metadata": {
    "id": "0b2396a2"
   },
   "outputs": [
    {
     "data": {
      "text/plain": [
       "0"
      ]
     },
     "execution_count": 12,
     "metadata": {},
     "output_type": "execute_result"
    }
   ],
   "source": [
    "# Vuelve a verificar si hay filas duplicadas\n",
    "instacart_orders.duplicated().sum()"
   ]
  },
  {
   "cell_type": "code",
   "execution_count": 13,
   "id": "f6113ef1",
   "metadata": {
    "id": "f6113ef1"
   },
   "outputs": [
    {
     "data": {
      "text/plain": [
       "0"
      ]
     },
     "execution_count": 13,
     "metadata": {},
     "output_type": "execute_result"
    }
   ],
   "source": [
    "# Vuelve a verificar si hay IDs duplicados de pedidos\n",
    "instacart_orders['order_id'].duplicated().sum()"
   ]
  },
  {
   "cell_type": "markdown",
   "id": "5e8905ae",
   "metadata": {
    "id": "5e8905ae"
   },
   "source": [
    "Describe brevemente tus hallazgos y lo que hiciste con ellos"
   ]
  },
  {
   "cell_type": "markdown",
   "id": "29e23eb4",
   "metadata": {},
   "source": [
    "En este caso los datos duplicados se deben descartar debido a que se duplican en 'order_id', y esta variable debe ser unica por cada fila. Una vez identificados nos podemos deshacer de esos duplicados usando `.drop_duplicates()`."
   ]
  },
  {
   "cell_type": "markdown",
   "id": "45e6bc46",
   "metadata": {
    "id": "45e6bc46"
   },
   "source": [
    "### `products` data frame"
   ]
  },
  {
   "cell_type": "code",
   "execution_count": 14,
   "id": "5f526b5b-8175-46fa-a0fd-441767d50e64",
   "metadata": {
    "id": "5f526b5b-8175-46fa-a0fd-441767d50e64"
   },
   "outputs": [
    {
     "data": {
      "text/plain": [
       "0"
      ]
     },
     "execution_count": 14,
     "metadata": {},
     "output_type": "execute_result"
    }
   ],
   "source": [
    "# Verifica si hay filas totalmente duplicadas\n",
    "\n",
    "products.duplicated().sum()"
   ]
  },
  {
   "cell_type": "code",
   "execution_count": 15,
   "id": "88daa4f4",
   "metadata": {
    "id": "88daa4f4"
   },
   "outputs": [
    {
     "data": {
      "text/plain": [
       "0"
      ]
     },
     "execution_count": 15,
     "metadata": {},
     "output_type": "execute_result"
    }
   ],
   "source": [
    "# Verifica si hay IDs duplicadas de productos\n",
    "products['product_id'].duplicated().sum()"
   ]
  },
  {
   "cell_type": "code",
   "execution_count": 16,
   "id": "c773f0bf",
   "metadata": {
    "id": "c773f0bf"
   },
   "outputs": [
    {
     "data": {
      "text/plain": [
       "1361"
      ]
     },
     "execution_count": 16,
     "metadata": {},
     "output_type": "execute_result"
    }
   ],
   "source": [
    "# Revisa si hay nombres duplicados de productos (convierte los nombres a letras mayúsculas para compararlos mejor)\n",
    "\n",
    "products['product_name'].str.upper().duplicated().sum()"
   ]
  },
  {
   "cell_type": "code",
   "execution_count": 17,
   "id": "01efd02e",
   "metadata": {
    "id": "01efd02e"
   },
   "outputs": [
    {
     "data": {
      "text/plain": [
       "product_name\n",
       "GREEN TEA WITH GINSENG AND HONEY     3\n",
       "HERRING IN WINE SAUCE                2\n",
       "MEGAFLORA PROBIOTIC                  2\n",
       "YAMS CUT SWEET POTATOES IN SYRUP     2\n",
       "GLUTEN FREE SPAGHETTI                2\n",
       "                                    ..\n",
       "DARK CHOCOLATE WITH ALMONDS          2\n",
       "BLANC DE NOIRS                       2\n",
       "MUENSTER CHEESE SLICES               2\n",
       "SALSA MEDIUM                         2\n",
       "LIGHT STRAWBERRY BLUEBERRY YOGURT    1\n",
       "Name: count, Length: 104, dtype: int64"
      ]
     },
     "execution_count": 17,
     "metadata": {},
     "output_type": "execute_result"
    }
   ],
   "source": [
    "# Revisa si hay nombres duplicados de productos no faltantes\n",
    "\n",
    "# Hago el cambio a mayusculas en mi DataFrame para seguir analizando\n",
    "products['product_name'] = products['product_name'].str.upper()\n",
    "\n",
    "#products['product_name'].str.upper().dropna().duplicated().sum()\n",
    "products.query('product_name.notnull()')['product_name'].str.upper().value_counts().sort_values(ascending=False).head(104)"
   ]
  },
  {
   "cell_type": "markdown",
   "id": "01bfed77",
   "metadata": {},
   "source": [
    "<div class=\"alert alert-block alert-success\">\n",
    "<b>Comentario del revisor (1ra Iteracion)</b> <a class=“tocSkip”></a>\n",
    "\n",
    "Buen trabajo! Guardar la transformación de la columna sobre la misma ayuda para que el resto de los análisis queden con la transformación\n",
    "</div>"
   ]
  },
  {
   "cell_type": "code",
   "execution_count": 18,
   "id": "c8980ac2",
   "metadata": {},
   "outputs": [
    {
     "name": "stdout",
     "output_type": "stream",
     "text": [
      "<class 'pandas.core.frame.DataFrame'>\n",
      "RangeIndex: 49694 entries, 0 to 49693\n",
      "Data columns (total 4 columns):\n",
      " #   Column         Non-Null Count  Dtype \n",
      "---  ------         --------------  ----- \n",
      " 0   product_id     49694 non-null  int64 \n",
      " 1   product_name   48436 non-null  object\n",
      " 2   aisle_id       49694 non-null  int64 \n",
      " 3   department_id  49694 non-null  int64 \n",
      "dtypes: int64(3), object(1)\n",
      "memory usage: 1.5+ MB\n"
     ]
    },
    {
     "data": {
      "text/html": [
       "<div>\n",
       "<style scoped>\n",
       "    .dataframe tbody tr th:only-of-type {\n",
       "        vertical-align: middle;\n",
       "    }\n",
       "\n",
       "    .dataframe tbody tr th {\n",
       "        vertical-align: top;\n",
       "    }\n",
       "\n",
       "    .dataframe thead th {\n",
       "        text-align: right;\n",
       "    }\n",
       "</style>\n",
       "<table border=\"1\" class=\"dataframe\">\n",
       "  <thead>\n",
       "    <tr style=\"text-align: right;\">\n",
       "      <th></th>\n",
       "      <th>product_id</th>\n",
       "      <th>product_name</th>\n",
       "      <th>aisle_id</th>\n",
       "      <th>department_id</th>\n",
       "    </tr>\n",
       "  </thead>\n",
       "  <tbody>\n",
       "    <tr>\n",
       "      <th>11163</th>\n",
       "      <td>11164</td>\n",
       "      <td>BLANC DE NOIRS</td>\n",
       "      <td>62</td>\n",
       "      <td>5</td>\n",
       "    </tr>\n",
       "    <tr>\n",
       "      <th>44078</th>\n",
       "      <td>44079</td>\n",
       "      <td>BLANC DE NOIRS</td>\n",
       "      <td>134</td>\n",
       "      <td>5</td>\n",
       "    </tr>\n",
       "  </tbody>\n",
       "</table>\n",
       "</div>"
      ],
      "text/plain": [
       "       product_id    product_name  aisle_id  department_id\n",
       "11163       11164  BLANC DE NOIRS        62              5\n",
       "44078       44079  BLANC DE NOIRS       134              5"
      ]
     },
     "execution_count": 18,
     "metadata": {},
     "output_type": "execute_result"
    }
   ],
   "source": [
    "products.info()\n",
    "products.query('product_name == \"BLANC DE NOIRS\"')"
   ]
  },
  {
   "cell_type": "markdown",
   "id": "9da8d293",
   "metadata": {
    "id": "9da8d293"
   },
   "source": [
    "Describe brevemente tus hallazgos y lo que hiciste con ellos.\n",
    "\n"
   ]
  },
  {
   "cell_type": "markdown",
   "id": "a8ecb788",
   "metadata": {},
   "source": [
    "* ID's cambian pero los nombres si se estan repitiendo.\n",
    "* Imagino que esto se puede deber a que  los productos son diferentes (por su id distinto) pero el nombre no fue registrado completamente, esto podria ser desde la marca, procedencia, tamaño, presentación y/o edición. \n",
    "* Yo considero que la mejor forma de limpiar estos datos sería nadamas dejando en mayusculas o minisculas el nombre del producto. De resto por ser id's de producto diferente los tratare como productos diferentes, a su vez no tengo duplicados completos. Ergo este dataset ya esta listo para usarse."
   ]
  },
  {
   "cell_type": "markdown",
   "id": "60f30db1",
   "metadata": {
    "id": "60f30db1"
   },
   "source": [
    "### `departments` data frame"
   ]
  },
  {
   "cell_type": "code",
   "execution_count": 19,
   "id": "fb410ad4-0fbf-4b80-bb09-23fdea79afe3",
   "metadata": {
    "id": "fb410ad4-0fbf-4b80-bb09-23fdea79afe3"
   },
   "outputs": [
    {
     "data": {
      "text/plain": [
       "0"
      ]
     },
     "execution_count": 19,
     "metadata": {},
     "output_type": "execute_result"
    }
   ],
   "source": [
    "# Revisa si hay filas totalmente duplicadas\n",
    "departments.duplicated().sum()"
   ]
  },
  {
   "cell_type": "code",
   "execution_count": 20,
   "id": "332b12bb",
   "metadata": {
    "id": "332b12bb"
   },
   "outputs": [
    {
     "data": {
      "text/plain": [
       "0"
      ]
     },
     "execution_count": 20,
     "metadata": {},
     "output_type": "execute_result"
    }
   ],
   "source": [
    "# Revisa si hay IDs duplicadas de productos\n",
    "departments['department_id'].duplicated().sum()"
   ]
  },
  {
   "cell_type": "markdown",
   "id": "bd30d78e",
   "metadata": {
    "id": "bd30d78e"
   },
   "source": [
    "Describe brevemente tus hallazgos y lo que hiciste con ellos.\n",
    "* No tengo ninguna fila con duplicados en el DataFrame `departments`."
   ]
  },
  {
   "cell_type": "markdown",
   "id": "889349c1",
   "metadata": {
    "id": "889349c1"
   },
   "source": [
    "### `aisles` data frame"
   ]
  },
  {
   "cell_type": "code",
   "execution_count": 21,
   "id": "9da89fb9-4679-40f5-ad0d-c34df753a3f8",
   "metadata": {
    "id": "9da89fb9-4679-40f5-ad0d-c34df753a3f8"
   },
   "outputs": [
    {
     "data": {
      "text/plain": [
       "0"
      ]
     },
     "execution_count": 21,
     "metadata": {},
     "output_type": "execute_result"
    }
   ],
   "source": [
    "# Revisa si hay filas totalmente duplicadas\n",
    "aisles.duplicated().sum()"
   ]
  },
  {
   "cell_type": "code",
   "execution_count": 22,
   "id": "da7c2822",
   "metadata": {
    "id": "da7c2822"
   },
   "outputs": [
    {
     "data": {
      "text/plain": [
       "0"
      ]
     },
     "execution_count": 22,
     "metadata": {},
     "output_type": "execute_result"
    }
   ],
   "source": [
    "# Revisa si hay IDs duplicadas de productos\n",
    "aisles['aisle_id'].duplicated().sum()"
   ]
  },
  {
   "cell_type": "markdown",
   "id": "ac63826f",
   "metadata": {
    "id": "ac63826f"
   },
   "source": [
    "Describe brevemente tus hallazgos y lo que hiciste con ellos.\n",
    "* No hay ningun tipo de duplicado, ya sea fila completa o id de pasillo."
   ]
  },
  {
   "cell_type": "markdown",
   "id": "274cd06a",
   "metadata": {
    "id": "274cd06a"
   },
   "source": [
    "### `order_products` data frame"
   ]
  },
  {
   "cell_type": "code",
   "execution_count": 23,
   "id": "52326689-84a8-4b8f-a881-7c68780f62c9",
   "metadata": {
    "id": "52326689-84a8-4b8f-a881-7c68780f62c9"
   },
   "outputs": [
    {
     "data": {
      "text/plain": [
       "0"
      ]
     },
     "execution_count": 23,
     "metadata": {},
     "output_type": "execute_result"
    }
   ],
   "source": [
    "# Revisa si hay filas totalmente duplicadas\n",
    "order_products.duplicated().sum()"
   ]
  },
  {
   "cell_type": "code",
   "execution_count": 24,
   "id": "7b861391",
   "metadata": {
    "id": "7b861391"
   },
   "outputs": [
    {
     "name": "stdout",
     "output_type": "stream",
     "text": [
      "4094961\n",
      "4499434\n"
     ]
    },
    {
     "data": {
      "text/html": [
       "<div>\n",
       "<style scoped>\n",
       "    .dataframe tbody tr th:only-of-type {\n",
       "        vertical-align: middle;\n",
       "    }\n",
       "\n",
       "    .dataframe tbody tr th {\n",
       "        vertical-align: top;\n",
       "    }\n",
       "\n",
       "    .dataframe thead th {\n",
       "        text-align: right;\n",
       "    }\n",
       "</style>\n",
       "<table border=\"1\" class=\"dataframe\">\n",
       "  <thead>\n",
       "    <tr style=\"text-align: right;\">\n",
       "      <th></th>\n",
       "      <th>order_id</th>\n",
       "      <th>product_id</th>\n",
       "      <th>add_to_cart_order</th>\n",
       "      <th>reordered</th>\n",
       "    </tr>\n",
       "  </thead>\n",
       "  <tbody>\n",
       "    <tr>\n",
       "      <th>0</th>\n",
       "      <td>2141543</td>\n",
       "      <td>11440</td>\n",
       "      <td>17.0</td>\n",
       "      <td>0</td>\n",
       "    </tr>\n",
       "    <tr>\n",
       "      <th>1</th>\n",
       "      <td>567889</td>\n",
       "      <td>1560</td>\n",
       "      <td>1.0</td>\n",
       "      <td>1</td>\n",
       "    </tr>\n",
       "    <tr>\n",
       "      <th>2</th>\n",
       "      <td>2261212</td>\n",
       "      <td>26683</td>\n",
       "      <td>1.0</td>\n",
       "      <td>1</td>\n",
       "    </tr>\n",
       "    <tr>\n",
       "      <th>3</th>\n",
       "      <td>491251</td>\n",
       "      <td>8670</td>\n",
       "      <td>35.0</td>\n",
       "      <td>1</td>\n",
       "    </tr>\n",
       "    <tr>\n",
       "      <th>4</th>\n",
       "      <td>2571142</td>\n",
       "      <td>1940</td>\n",
       "      <td>5.0</td>\n",
       "      <td>1</td>\n",
       "    </tr>\n",
       "  </tbody>\n",
       "</table>\n",
       "</div>"
      ],
      "text/plain": [
       "   order_id  product_id  add_to_cart_order  reordered\n",
       "0   2141543       11440               17.0          0\n",
       "1    567889        1560                1.0          1\n",
       "2   2261212       26683                1.0          1\n",
       "3    491251        8670               35.0          1\n",
       "4   2571142        1940                5.0          1"
      ]
     },
     "execution_count": 24,
     "metadata": {},
     "output_type": "execute_result"
    }
   ],
   "source": [
    "# Vuelve a verificar si hay cualquier otro duplicado engañoso\n",
    "\n",
    "print(order_products['order_id'].duplicated().sum())\n",
    "print(order_products['product_id'].duplicated().sum())\n",
    "order_products.head()\n"
   ]
  },
  {
   "cell_type": "markdown",
   "id": "0b890492",
   "metadata": {
    "id": "0b890492"
   },
   "source": [
    "Describe brevemente tus hallazgos y lo que hiciste con ellos."
   ]
  },
  {
   "cell_type": "markdown",
   "id": "376d6ef7",
   "metadata": {},
   "source": [
    "* Era de esperarse tener valores duplicados en order_id y en product_id ya que puede haber varios productos en una orden, y puede haber varios productos en distintas ordenes.\n",
    "* No tiene sentido buscar duplicados en mis otras dos columnas por que en add_to_cart_order siempre habra duplicados ya que es un numero secuencial y reordered es binario."
   ]
  },
  {
   "cell_type": "markdown",
   "id": "6a57fa66",
   "metadata": {},
   "source": [
    "<div class=\"alert alert-block alert-success\">\n",
    "<b>Comentario del revisor (1ra Iteracion)</b> <a class=“tocSkip”></a>\n",
    "\n",
    "Buen trabajo con la revisión de estos últimos datasets!\n",
    "</div>"
   ]
  },
  {
   "cell_type": "markdown",
   "id": "1e46de76",
   "metadata": {
    "id": "1e46de76"
   },
   "source": [
    "## Encuentra y elimina los valores ausentes\n",
    "\n",
    "Al trabajar con valores duplicados, pudimos observar que también nos falta investigar valores ausentes:\n",
    "\n",
    "* La columna `'product_name'` de la tabla products.\n",
    "* La columna `'days_since_prior_order'` de la tabla orders.\n",
    "* La columna `'add_to_cart_order'` de la tabla order_productos."
   ]
  },
  {
   "cell_type": "markdown",
   "id": "c0aebd78",
   "metadata": {
    "id": "c0aebd78"
   },
   "source": [
    "### `products` data frame"
   ]
  },
  {
   "cell_type": "code",
   "execution_count": 25,
   "id": "fe4a8b0f",
   "metadata": {
    "id": "fe4a8b0f"
   },
   "outputs": [
    {
     "name": "stdout",
     "output_type": "stream",
     "text": [
      "Valores ausentes:\n",
      " product_id          0\n",
      "product_name     1258\n",
      "aisle_id            0\n",
      "department_id       0\n",
      "dtype: int64\n"
     ]
    }
   ],
   "source": [
    "# Encuentra los valores ausentes en la columna 'product_name'\n",
    "print(\"Valores ausentes:\\n\",products.isna().sum())"
   ]
  },
  {
   "cell_type": "markdown",
   "id": "-A6x1AbJhjkp",
   "metadata": {
    "id": "-A6x1AbJhjkp"
   },
   "source": [
    "Describe brevemente cuáles son tus hallazgos.\n",
    "* Podemos ver que tenemos 1258 valores ausentes en product_name, pero a su vez tengo el ID de todos esos productos, supongo que en algun punto se dejo de llenar esa columna, pero eventualmente si tenemos una base de datos con IDs puedo usarla para rellenar el nombre de mis productos. Mientras tanto puedo sustituir los valores con 'unknown'."
   ]
  },
  {
   "cell_type": "code",
   "execution_count": 26,
   "id": "e96167bc",
   "metadata": {
    "id": "e96167bc"
   },
   "outputs": [
    {
     "data": {
      "text/plain": [
       "product_id          0\n",
       "product_name     1258\n",
       "aisle_id            0\n",
       "department_id       0\n",
       "dtype: int64"
      ]
     },
     "execution_count": 26,
     "metadata": {},
     "output_type": "execute_result"
    }
   ],
   "source": [
    "#  ¿Todos los nombres de productos ausentes están relacionados con el pasillo con ID 100?\n",
    "\n",
    "products.query('aisle_id == 100').isnull().sum()"
   ]
  },
  {
   "cell_type": "markdown",
   "id": "WRpIfXRphpSL",
   "metadata": {
    "id": "WRpIfXRphpSL"
   },
   "source": [
    "Describe brevemente cuáles son tus hallazgos."
   ]
  },
  {
   "cell_type": "markdown",
   "id": "b2c4e4c3",
   "metadata": {},
   "source": [
    "* Todos los productos ausentes se encuentran en el pasillo con ID 100."
   ]
  },
  {
   "cell_type": "code",
   "execution_count": 27,
   "id": "8fd0a541",
   "metadata": {
    "id": "8fd0a541"
   },
   "outputs": [
    {
     "data": {
      "text/plain": [
       "product_id          0\n",
       "product_name     1258\n",
       "aisle_id            0\n",
       "department_id       0\n",
       "dtype: int64"
      ]
     },
     "execution_count": 27,
     "metadata": {},
     "output_type": "execute_result"
    }
   ],
   "source": [
    "# ¿Todos los nombres de productos ausentes están relacionados con el departamento con ID 21?\n",
    "\n",
    "products.query('department_id == 21').isnull().sum()"
   ]
  },
  {
   "cell_type": "markdown",
   "id": "qDpdYn1Fht_I",
   "metadata": {
    "id": "qDpdYn1Fht_I"
   },
   "source": [
    "Describe brevemente cuáles son tus hallazgos."
   ]
  },
  {
   "cell_type": "markdown",
   "id": "07c53662",
   "metadata": {},
   "source": [
    "* Todos los productos que faltan de nombre son del pasillo ID 100 y del departamento ID 21."
   ]
  },
  {
   "cell_type": "code",
   "execution_count": 28,
   "id": "325c3464",
   "metadata": {
    "id": "325c3464"
   },
   "outputs": [
    {
     "name": "stdout",
     "output_type": "stream",
     "text": [
      "    aisle_id    aisle\n",
      "99       100  missing\n",
      "\n",
      "    department_id department\n",
      "20             21    missing\n"
     ]
    }
   ],
   "source": [
    "# Usa las tablas department y aisle para revisar los datos del pasillo con ID 100 y el departamento con ID 21.\n",
    "print(aisles.query('aisle_id == 100'))\n",
    "print()\n",
    "print(departments.query('department_id == 21'))"
   ]
  },
  {
   "cell_type": "markdown",
   "id": "nqhSTUPhhvEJ",
   "metadata": {
    "id": "nqhSTUPhhvEJ"
   },
   "source": [
    "Describe brevemente cuáles son tus hallazgos."
   ]
  },
  {
   "cell_type": "markdown",
   "id": "4dd3fada",
   "metadata": {},
   "source": [
    "* Por lo visto los datos del pasillo 100 y del departamento 21 tambien faltan y no los tenemos, podria ser que se borraron o bien que aun no se han registrado y por lo mismo nos falta esa información de nuestros productos."
   ]
  },
  {
   "cell_type": "markdown",
   "id": "c4ac049a",
   "metadata": {},
   "source": [
    "<div class=\"alert alert-block alert-success\">\n",
    "<b>Comentario del revisor (1ra Iteracion)</b> <a class=“tocSkip”></a>\n",
    "\n",
    "Muy bien, revisaste sobre los datasets correctos para comparar los datos\n",
    "</div>"
   ]
  },
  {
   "cell_type": "code",
   "execution_count": 29,
   "id": "6b295120",
   "metadata": {
    "id": "6b295120"
   },
   "outputs": [
    {
     "data": {
      "text/plain": [
       "product_id       0\n",
       "product_name     0\n",
       "aisle_id         0\n",
       "department_id    0\n",
       "dtype: int64"
      ]
     },
     "execution_count": 29,
     "metadata": {},
     "output_type": "execute_result"
    }
   ],
   "source": [
    "# Completa los nombres de productos ausentes con 'Unknown' -> 'UNKNOWN'\n",
    "products['product_name'] = products['product_name'].fillna('UNKNOWN')\n",
    "\n",
    "products.isna().sum()"
   ]
  },
  {
   "cell_type": "markdown",
   "id": "fc70e5ad",
   "metadata": {
    "id": "fc70e5ad"
   },
   "source": [
    "Describe brevemente tus hallazgos y lo que hiciste con ellos."
   ]
  },
  {
   "cell_type": "markdown",
   "id": "4cb5cd1a",
   "metadata": {},
   "source": [
    "Como comente al comienzo, se reemplazara el nombre de los productos por 'UNKNOWN'. Despues de reemplazarlo corri mi isna() para ver si ya no tenia mas valores ausentes y por lo visto ya no."
   ]
  },
  {
   "cell_type": "markdown",
   "id": "7eb45c86",
   "metadata": {
    "id": "7eb45c86"
   },
   "source": [
    "### `orders` data frame"
   ]
  },
  {
   "cell_type": "code",
   "execution_count": 30,
   "id": "93e41d96",
   "metadata": {
    "id": "93e41d96"
   },
   "outputs": [
    {
     "name": "stdout",
     "output_type": "stream",
     "text": [
      "order_id                      0\n",
      "user_id                       0\n",
      "order_number                  0\n",
      "order_dow                     0\n",
      "order_hour_of_day             0\n",
      "days_since_prior_order    28817\n",
      "dtype: int64\n"
     ]
    }
   ],
   "source": [
    "# Encuentra los valores ausentes\n",
    "print(instacart_orders.isna().sum())\n",
    "\n",
    "# Busque mi valor minimo, en este caso 1.\n",
    "#instacart_orders['order_number'].sort_values().unique()"
   ]
  },
  {
   "cell_type": "code",
   "execution_count": 31,
   "id": "166e5a86",
   "metadata": {
    "id": "166e5a86"
   },
   "outputs": [
    {
     "data": {
      "text/html": [
       "<div>\n",
       "<style scoped>\n",
       "    .dataframe tbody tr th:only-of-type {\n",
       "        vertical-align: middle;\n",
       "    }\n",
       "\n",
       "    .dataframe tbody tr th {\n",
       "        vertical-align: top;\n",
       "    }\n",
       "\n",
       "    .dataframe thead th {\n",
       "        text-align: right;\n",
       "    }\n",
       "</style>\n",
       "<table border=\"1\" class=\"dataframe\">\n",
       "  <thead>\n",
       "    <tr style=\"text-align: right;\">\n",
       "      <th></th>\n",
       "      <th>order_id</th>\n",
       "      <th>user_id</th>\n",
       "      <th>order_number</th>\n",
       "      <th>order_dow</th>\n",
       "      <th>order_hour_of_day</th>\n",
       "      <th>days_since_prior_order</th>\n",
       "    </tr>\n",
       "  </thead>\n",
       "  <tbody>\n",
       "    <tr>\n",
       "      <th>28</th>\n",
       "      <td>133707</td>\n",
       "      <td>182261</td>\n",
       "      <td>1</td>\n",
       "      <td>3</td>\n",
       "      <td>10</td>\n",
       "      <td>NaN</td>\n",
       "    </tr>\n",
       "    <tr>\n",
       "      <th>96</th>\n",
       "      <td>787445</td>\n",
       "      <td>25685</td>\n",
       "      <td>1</td>\n",
       "      <td>6</td>\n",
       "      <td>18</td>\n",
       "      <td>NaN</td>\n",
       "    </tr>\n",
       "    <tr>\n",
       "      <th>100</th>\n",
       "      <td>294410</td>\n",
       "      <td>111449</td>\n",
       "      <td>1</td>\n",
       "      <td>0</td>\n",
       "      <td>19</td>\n",
       "      <td>NaN</td>\n",
       "    </tr>\n",
       "    <tr>\n",
       "      <th>103</th>\n",
       "      <td>2869915</td>\n",
       "      <td>123958</td>\n",
       "      <td>1</td>\n",
       "      <td>4</td>\n",
       "      <td>16</td>\n",
       "      <td>NaN</td>\n",
       "    </tr>\n",
       "    <tr>\n",
       "      <th>104</th>\n",
       "      <td>2521921</td>\n",
       "      <td>42286</td>\n",
       "      <td>1</td>\n",
       "      <td>3</td>\n",
       "      <td>18</td>\n",
       "      <td>NaN</td>\n",
       "    </tr>\n",
       "    <tr>\n",
       "      <th>...</th>\n",
       "      <td>...</td>\n",
       "      <td>...</td>\n",
       "      <td>...</td>\n",
       "      <td>...</td>\n",
       "      <td>...</td>\n",
       "      <td>...</td>\n",
       "    </tr>\n",
       "    <tr>\n",
       "      <th>478895</th>\n",
       "      <td>2589657</td>\n",
       "      <td>205028</td>\n",
       "      <td>1</td>\n",
       "      <td>0</td>\n",
       "      <td>16</td>\n",
       "      <td>NaN</td>\n",
       "    </tr>\n",
       "    <tr>\n",
       "      <th>478896</th>\n",
       "      <td>2222353</td>\n",
       "      <td>141211</td>\n",
       "      <td>1</td>\n",
       "      <td>2</td>\n",
       "      <td>13</td>\n",
       "      <td>NaN</td>\n",
       "    </tr>\n",
       "    <tr>\n",
       "      <th>478922</th>\n",
       "      <td>2272807</td>\n",
       "      <td>204154</td>\n",
       "      <td>1</td>\n",
       "      <td>1</td>\n",
       "      <td>15</td>\n",
       "      <td>NaN</td>\n",
       "    </tr>\n",
       "    <tr>\n",
       "      <th>478926</th>\n",
       "      <td>2499542</td>\n",
       "      <td>68810</td>\n",
       "      <td>1</td>\n",
       "      <td>4</td>\n",
       "      <td>19</td>\n",
       "      <td>NaN</td>\n",
       "    </tr>\n",
       "    <tr>\n",
       "      <th>478945</th>\n",
       "      <td>1387033</td>\n",
       "      <td>22496</td>\n",
       "      <td>1</td>\n",
       "      <td>5</td>\n",
       "      <td>14</td>\n",
       "      <td>NaN</td>\n",
       "    </tr>\n",
       "  </tbody>\n",
       "</table>\n",
       "<p>28817 rows × 6 columns</p>\n",
       "</div>"
      ],
      "text/plain": [
       "        order_id  user_id  order_number  order_dow  order_hour_of_day  \\\n",
       "28        133707   182261             1          3                 10   \n",
       "96        787445    25685             1          6                 18   \n",
       "100       294410   111449             1          0                 19   \n",
       "103      2869915   123958             1          4                 16   \n",
       "104      2521921    42286             1          3                 18   \n",
       "...          ...      ...           ...        ...                ...   \n",
       "478895   2589657   205028             1          0                 16   \n",
       "478896   2222353   141211             1          2                 13   \n",
       "478922   2272807   204154             1          1                 15   \n",
       "478926   2499542    68810             1          4                 19   \n",
       "478945   1387033    22496             1          5                 14   \n",
       "\n",
       "        days_since_prior_order  \n",
       "28                         NaN  \n",
       "96                         NaN  \n",
       "100                        NaN  \n",
       "103                        NaN  \n",
       "104                        NaN  \n",
       "...                        ...  \n",
       "478895                     NaN  \n",
       "478896                     NaN  \n",
       "478922                     NaN  \n",
       "478926                     NaN  \n",
       "478945                     NaN  \n",
       "\n",
       "[28817 rows x 6 columns]"
      ]
     },
     "execution_count": 31,
     "metadata": {},
     "output_type": "execute_result"
    }
   ],
   "source": [
    "# ¿Hay algún valor ausente que no sea el primer pedido del cliente?\n",
    "\n",
    "# Filtro para ver unicamente los clientes que es su primera orden.\n",
    "instacart_orders.query('order_number == 1')"
   ]
  },
  {
   "cell_type": "code",
   "execution_count": 32,
   "id": "8c56c042",
   "metadata": {},
   "outputs": [
    {
     "data": {
      "text/plain": [
       "order_id                  0\n",
       "user_id                   0\n",
       "order_number              0\n",
       "order_dow                 0\n",
       "order_hour_of_day         0\n",
       "days_since_prior_order    0\n",
       "dtype: int64"
      ]
     },
     "execution_count": 32,
     "metadata": {},
     "output_type": "execute_result"
    }
   ],
   "source": [
    "#Sustituir los NaN en 'days_since_prior_order' por 0\n",
    "\n",
    "instacart_orders['days_since_prior_order'] = instacart_orders['days_since_prior_order'].fillna(0)\n",
    "instacart_orders.isnull().sum()"
   ]
  },
  {
   "cell_type": "markdown",
   "id": "4e23d089",
   "metadata": {
    "id": "4e23d089"
   },
   "source": [
    "Describe brevemente tus hallazgos y lo que hiciste con ellos."
   ]
  },
  {
   "cell_type": "markdown",
   "id": "9ca5dffa",
   "metadata": {},
   "source": [
    "* Todos los datos ausentes en mi columna days_since_prior_order eran el primer pedido del cliente, cheque mis valores minimo y maximo y eran 1 y 30. Por esa razón decido cambiar el valor ausente por un 0. Puesto que han pasado 0 dias desde el pedido anterior. Mi otra opción hubiera sido descartar los datos, pero creo que eso podria agregar ruido."
   ]
  },
  {
   "cell_type": "markdown",
   "id": "69dc9ca4",
   "metadata": {
    "id": "69dc9ca4"
   },
   "source": [
    "### `order_products` data frame"
   ]
  },
  {
   "cell_type": "code",
   "execution_count": 33,
   "id": "b8240253",
   "metadata": {
    "id": "b8240253"
   },
   "outputs": [
    {
     "data": {
      "text/plain": [
       "order_id               0\n",
       "product_id             0\n",
       "add_to_cart_order    836\n",
       "reordered              0\n",
       "dtype: int64"
      ]
     },
     "execution_count": 33,
     "metadata": {},
     "output_type": "execute_result"
    }
   ],
   "source": [
    "# Encuentra los valores ausentes\n",
    "order_products.isnull().sum()"
   ]
  },
  {
   "cell_type": "code",
   "execution_count": 34,
   "id": "9a78e5ee",
   "metadata": {
    "id": "9a78e5ee"
   },
   "outputs": [
    {
     "name": "stdout",
     "output_type": "stream",
     "text": [
      "Valor Máximo: 64.0\n",
      "Valor Mínimo: 1.0\n"
     ]
    }
   ],
   "source": [
    "# ¿Cuáles son los valores mínimos y máximos en esta columna?\n",
    "print('Valor Máximo:',order_products['add_to_cart_order'].max())\n",
    "print('Valor Mínimo:',order_products['add_to_cart_order'].min())"
   ]
  },
  {
   "cell_type": "markdown",
   "id": "-Z2Ja215jW78",
   "metadata": {
    "id": "-Z2Ja215jW78"
   },
   "source": [
    "Describe brevemente cuáles son tus hallazgos."
   ]
  },
  {
   "cell_type": "markdown",
   "id": "8ef4566b",
   "metadata": {},
   "source": [
    "* Tengo 836 valores ausentes de 4545007 valores.\n",
    "* 'add_to_cart_order' son valores SECUENCIALES. Es decir siguen un orden, estos pueden ser entre 1 hasta 64."
   ]
  },
  {
   "cell_type": "markdown",
   "id": "2ba02d3d",
   "metadata": {},
   "source": [
    "<div class=\"alert alert-block alert-success\">\n",
    "<b>Comentario del revisor (1ra Iteracion)</b> <a class=“tocSkip”></a>\n",
    "\n",
    "Buen trabajo buscando los valores máximos y mínimos!\n",
    "</div>"
   ]
  },
  {
   "cell_type": "code",
   "execution_count": 35,
   "id": "ab9d0c2b",
   "metadata": {
    "id": "ab9d0c2b"
   },
   "outputs": [
    {
     "name": "stdout",
     "output_type": "stream",
     "text": [
      "[   9310   61355  102236  129627  165801  171934  180546  264710  293169\n",
      "  388234  404157  678116  733526  747668  813364  844733  854647  871281\n",
      "  888470  903110  936852 1021563 1038146 1169835 1183255 1220886 1302315\n",
      " 1308785 1386261 1477139 1529171 1564093 1598369 1625713 1633337 1648217\n",
      " 1673227 1677118 1713430 1717990 1730767 1800005 1832957 1888628 1916118\n",
      " 1959075 1961723 1968313 2094761 2136777 2170451 2256933 2409109 2449164\n",
      " 2470674 2479011 2621907 2625444 2652650 2721963 2729254 2849370 2926893\n",
      " 2979697 2997021 2999801 3125735 3308010 3347453 3383594]\n"
     ]
    }
   ],
   "source": [
    "# Guarda todas las IDs de pedidos que tengan un valor ausente en 'add_to_cart_order'\n",
    "missing_cart_order = order_products[order_products['add_to_cart_order'].isna()]\n",
    "\n",
    "print(missing_cart_order['order_id'].sort_values().unique())"
   ]
  },
  {
   "cell_type": "code",
   "execution_count": 36,
   "id": "54c31695",
   "metadata": {
    "id": "54c31695"
   },
   "outputs": [
    {
     "name": "stdout",
     "output_type": "stream",
     "text": [
      "Agrupados por ID de orden y contando productos en cada orden:\n",
      " order_id\n",
      "9310        65\n",
      "747668      65\n",
      "1598369     65\n",
      "1677118     65\n",
      "2170451     65\n",
      "          ... \n",
      "1959075     98\n",
      "171934     104\n",
      "2136777    108\n",
      "3308010    115\n",
      "61355      127\n",
      "Name: product_id, Length: 70, dtype: int64\n",
      "\n",
      "Valor Minimo del Conteo: 65\n",
      "Valor Maximo del Conteo: 127\n"
     ]
    }
   ],
   "source": [
    "# ¿Todos los pedidos con valores ausentes tienen más de 64 productos?\n",
    "\n",
    "# Extraer ID's de pedidos\n",
    "missing_ids = missing_cart_order['order_id'].unique()\n",
    "\n",
    "filtered_view_id = order_products[order_products['order_id'].isin(missing_ids)]\n",
    "\n",
    "# Agrupa todos los pedidos con datos ausentes por su ID de pedido.\n",
    "group_missing_cart_order = filtered_view_id.groupby('order_id')['product_id'].count().sort_values()\n",
    "\n",
    "print('Agrupados por ID de orden y contando productos en cada orden:\\n',group_missing_cart_order)\n",
    "\n",
    "# Cuenta el número de 'product_id' en cada pedido y revisa el valor mínimo del conteo.\n",
    "print('\\nValor Minimo del Conteo:',group_missing_cart_order.min())\n",
    "print('Valor Maximo del Conteo:',group_missing_cart_order.max())"
   ]
  },
  {
   "cell_type": "markdown",
   "id": "852c43e3",
   "metadata": {},
   "source": [
    "<div class=\"alert alert-block alert-danger\">\n",
    "<b>Comentario del revisor (1ra Iteracion)</b> <a class=“tocSkip”></a>\n",
    "\n",
    "Para revisar si los pedidos con valores ausentes tienen o no más de 64 pedidos primero deberías buscar los valores NaN sobre la columna add_to_cart_order y luego deberías usar las order_id que que tienes en la variable `missing_cart_order` suponiendo que sea donde guardas el resultado anterior (Solo toma los valores de la columna order_id) y filtrar en el dataset original utilizando `isin()` y luego si agrupar por order_id y contar en product_id, ya que de la forma en que lo estás haciendo solo cuenta cuantos valores ausentes hay por órden pero puede que tengas órdenes que tiene valores ausentes y también valores que no lo son y lo que interesa es contar todos estos datos.\n",
    "</div>"
   ]
  },
  {
   "cell_type": "markdown",
   "id": "9d2cf611",
   "metadata": {},
   "source": [
    "<div class=\"alert alert-block alert-info\">\n",
    "<b>Respuesta del estudiante</b> <a class=“tocSkip”></a>\n",
    "\n",
    "Tienes toda la razón, ya hice el cambio correspondiente, extraje mis valores en una nueva variable y luego busque esa variable con isin para aplciar mi filtro y extraer unicamente las ordenes con valores ausentes.\n",
    "</div>"
   ]
  },
  {
   "cell_type": "markdown",
   "id": "ee6b8d9c",
   "metadata": {},
   "source": [
    "<div class=\"alert alert-block alert-success\">\n",
    "<b>Comentario del revisor (2da Iteracion)</b> <a class=“tocSkip”></a>\n",
    "\n",
    "Perfecto Carlos, cómo puedes observar el resultado cambió! Siempre hay que poner especial atención a cómo aplicamos los filtros ya que estas alteran mucho los resultados de nuestros cálculos\n",
    "</div>"
   ]
  },
  {
   "cell_type": "markdown",
   "id": "p9V6pddtjglj",
   "metadata": {
    "id": "p9V6pddtjglj"
   },
   "source": [
    "Describe brevemente cuáles son tus hallazgos."
   ]
  },
  {
   "cell_type": "markdown",
   "id": "8119ac7b",
   "metadata": {},
   "source": [
    "* Se que de mis 70 valores ausentes, todos estan entre 1-63 productos por orden. Como comentaba anteriormente, estos son SECUENCIALES y quiza aportan menos del 0.018% de los datos de mi DataFrame (~4.5m). Yo los descartaría."
   ]
  },
  {
   "cell_type": "code",
   "execution_count": 37,
   "id": "7a987d08",
   "metadata": {
    "id": "7a987d08"
   },
   "outputs": [
    {
     "data": {
      "text/plain": [
       "order_id             0\n",
       "product_id           0\n",
       "add_to_cart_order    0\n",
       "reordered            0\n",
       "dtype: int64"
      ]
     },
     "execution_count": 37,
     "metadata": {},
     "output_type": "execute_result"
    }
   ],
   "source": [
    "# Remplaza los valores ausentes en la columna 'add_to_cart? con 999 y convierte la columna al tipo entero.\n",
    "\n",
    "order_products['add_to_cart_order'] = order_products['add_to_cart_order'].fillna(999).astype('int')\n",
    "\n",
    "order_products.isnull().sum()"
   ]
  },
  {
   "cell_type": "markdown",
   "id": "fea4bcc7",
   "metadata": {
    "id": "fea4bcc7"
   },
   "source": [
    "Describe brevemente tus hallazgos y lo que hiciste con ellos."
   ]
  },
  {
   "cell_type": "markdown",
   "id": "788a7360",
   "metadata": {},
   "source": [
    "* Nuestros datos ausentes se llenaron con 999, yo los hubiera descartado. Supongo 999 es un estandar para este tipo de situaciones, no me queda del todo claro por que lo usariamos.\n",
    "* Despues de esto convertimos a tipo INT mi columna 'add_to_cart_order' mediante .astype(). Esto por que al ser valores secuenciales no ocupamos decimales."
   ]
  },
  {
   "cell_type": "markdown",
   "id": "RnplPFY1gSrb",
   "metadata": {
    "id": "RnplPFY1gSrb"
   },
   "source": [
    "## Conclusiones\n",
    "\n",
    "Escribe aquí tus conclusiones intermedias sobre el Paso 2. Preprocesamiento de los datos\n"
   ]
  },
  {
   "cell_type": "markdown",
   "id": "c1e203cc",
   "metadata": {},
   "source": [
    "* Ya tenemos nuestros conjuntos de datos limpios y listos para empezar a hacer analisis con ellos. Utilice metodos como fillna y isnull() para tratar con los datos ausentes ais como filtros y duplicated() para tratar con datos duplicados.\n",
    "* Ya conocemos tambien que tipo de información provee cada uno de nuestros datos."
   ]
  },
  {
   "cell_type": "markdown",
   "id": "UjrOIwTcz3ri",
   "metadata": {
    "id": "UjrOIwTcz3ri"
   },
   "source": [
    "# Paso 3. Análisis de los datos\n",
    "\n",
    "Una vez los datos estén procesados y listos, haz el siguiente análisis:"
   ]
  },
  {
   "cell_type": "markdown",
   "id": "turkish-kidney",
   "metadata": {
    "id": "turkish-kidney"
   },
   "source": [
    "# [A] Fácil (deben completarse todos para aprobar)\n",
    "\n",
    "1. Verifica que los valores en las columnas `'order_hour_of_day'` y `'order_dow'` en la tabla orders sean razonables (es decir, `'order_hour_of_day'` oscile entre 0 y 23 y `'order_dow'` oscile entre 0 y 6).\n",
    "2. Crea un gráfico que muestre el número de personas que hacen pedidos dependiendo de la hora del día.\n",
    "3. Crea un gráfico que muestre qué día de la semana la gente hace sus compras.\n",
    "4. Crea un gráfico que muestre el tiempo que la gente espera hasta hacer su siguiente pedido, y comenta sobre los valores mínimos y máximos."
   ]
  },
  {
   "cell_type": "markdown",
   "id": "short-capability",
   "metadata": {
    "id": "short-capability"
   },
   "source": [
    "### [A1] Verifica que los valores sean sensibles"
   ]
  },
  {
   "cell_type": "code",
   "execution_count": 38,
   "id": "growing-fruit",
   "metadata": {
    "id": "growing-fruit"
   },
   "outputs": [
    {
     "data": {
      "text/plain": [
       "array([ 0,  1,  2,  3,  4,  5,  6,  7,  8,  9, 10, 11, 12, 13, 14, 15, 16,\n",
       "       17, 18, 19, 20, 21, 22, 23])"
      ]
     },
     "execution_count": 38,
     "metadata": {},
     "output_type": "execute_result"
    }
   ],
   "source": [
    "# Uso unique para verificar los valores\n",
    "instacart_orders['order_hour_of_day'].sort_values().unique()"
   ]
  },
  {
   "cell_type": "code",
   "execution_count": 39,
   "id": "accessory-malaysia",
   "metadata": {
    "id": "accessory-malaysia"
   },
   "outputs": [
    {
     "data": {
      "text/plain": [
       "array([0, 1, 2, 3, 4, 5, 6])"
      ]
     },
     "execution_count": 39,
     "metadata": {},
     "output_type": "execute_result"
    }
   ],
   "source": [
    "# Uso unique para verificar los valores\n",
    "instacart_orders['order_dow'].sort_values().unique()"
   ]
  },
  {
   "cell_type": "markdown",
   "id": "hmR2GNQ6lCsX",
   "metadata": {
    "id": "hmR2GNQ6lCsX"
   },
   "source": [
    "Escribe aquí tus conclusiones\n",
    "* Los valores de 'order_hour_of_day' se encuentras entre 0-23, representando el horario en formato de 24 hrs.\n",
    "*  Los valores de 'order_dow' se encuentran entre 0 y 6, representando los dias de la semana, empezando con 0 -> Domingo"
   ]
  },
  {
   "cell_type": "markdown",
   "id": "521cb800",
   "metadata": {},
   "source": [
    "<div class=\"alert alert-block alert-success\">\n",
    "<b>Comentario del revisor (1ra Iteracion)</b> <a class=“tocSkip”></a>\n",
    "\n",
    "Perfecto! Siempre hay que revisar que los datos que se tienen tengan los valores adecuados \n",
    "</div>"
   ]
  },
  {
   "cell_type": "markdown",
   "id": "a6743a70",
   "metadata": {
    "id": "a6743a70"
   },
   "source": [
    "### [A2] Para cada hora del día, ¿cuántas personas hacen órdenes?"
   ]
  },
  {
   "cell_type": "code",
   "execution_count": 40,
   "id": "a36cca27",
   "metadata": {
    "id": "a36cca27"
   },
   "outputs": [
    {
     "data": {
      "image/png": "[encoded data removed]",
      "text/plain": [
       "<Figure size 800x550 with 1 Axes>"
      ]
     },
     "metadata": {},
     "output_type": "display_data"
    }
   ],
   "source": [
    "people_hour_of_day = instacart_orders.groupby('order_hour_of_day')['user_id'].count()\n",
    "\n",
    "(people_hour_of_day/1000).plot(kind = 'bar',\n",
    "                        title = 'Order Frequency by Time of Day',\n",
    "                        xlabel='Time of Day\\n(24h format)',\n",
    "                        ylabel= 'Frequency \\n(in thousands)',\n",
    "                        rot = 45,\n",
    "                        color='slategray'\n",
    "                        )\n",
    "plt.show()"
   ]
  },
  {
   "cell_type": "markdown",
   "id": "11270eed",
   "metadata": {
    "id": "11270eed"
   },
   "source": [
    "Escribe aquí tus conclusiones\n",
    "* Con este gráfico podemos ver que hay muy pocas compras en las madrugadas (como lo esperaba). \n",
    "* A partir de las 6:00 empieza a subir la frecuencia de las compras, teniendo su pico a las 10:00 y manteniendose alto hasta las 16:00. Despues de esta hora empieza a bajar la frecuencia de compras.\n",
    "* Como conclusion tenemos que el punto mas alto de compras realziadas es entre 10:00 y 16:00. Con su pico a las 10:00."
   ]
  },
  {
   "cell_type": "markdown",
   "id": "documented-command",
   "metadata": {
    "id": "documented-command"
   },
   "source": [
    "### [A3] ¿Qué día de la semana compran víveres las personas?"
   ]
  },
  {
   "cell_type": "code",
   "execution_count": 41,
   "id": "chief-digit",
   "metadata": {
    "id": "chief-digit"
   },
   "outputs": [
    {
     "data": {
      "text/plain": [
       "<function matplotlib.pyplot.show(close=None, block=None)>"
      ]
     },
     "execution_count": 41,
     "metadata": {},
     "output_type": "execute_result"
    },
    {
     "data": {
      "image/png": "[encoded data removed]",
      "text/plain": [
       "<Figure size 800x550 with 1 Axes>"
      ]
     },
     "metadata": {},
     "output_type": "display_data"
    }
   ],
   "source": [
    "# Diccionario days of week\n",
    "days_of_week_dict = {0 : 'Sunday',\n",
    "                     1 : 'Monday',\n",
    "                     2 : 'Tuesday',\n",
    "                     3 : 'Wednesday',\n",
    "                     4 : 'Thursday',\n",
    "                     5 : 'Friday',\n",
    "                     6 : 'Saturday'\n",
    "                     }\n",
    "\n",
    "# Replace my Dictionary values in my DataFrame\n",
    "instacart_orders['order_dow'] = instacart_orders['order_dow'].replace(days_of_week_dict)\n",
    "\n",
    "plot_dow = instacart_orders['order_dow'].value_counts()\n",
    "ordered_days = ['Sunday', 'Monday', 'Tuesday', 'Wednesday', 'Thursday', 'Friday', 'Saturday']\n",
    "plot_dow = plot_dow.reindex(ordered_days)\n",
    "\n",
    "(plot_dow/1000).plot(kind='line',\n",
    "                  title='Frequency of People Ordering \\nby Day of the Week',\n",
    "                  x='order_dow',\n",
    "                  xlabel='Day of the Week',\n",
    "                  ylabel='Frequency\\n(in thousands)',\n",
    "                  rot=55,\n",
    "                  color='tan'\n",
    "                  )\n",
    "\n",
    "plt.show"
   ]
  },
  {
   "cell_type": "markdown",
   "id": "dominant-lightning",
   "metadata": {
    "id": "dominant-lightning"
   },
   "source": [
    "Escribe aquí tus conclusiones\n",
    "* Aun que se que la mejor practica no es empezar mis valores y desde 60,000. Aqui no es tan inconveniente puesto que queremos hacer mas notoria la diferencia entre los dias de la semana.\n",
    "* Use una grafica de líneas para ver un poco mas la tendencia.\n",
    "* El dia en que la gente hace mas su mandado es el Domingo, seguido por el día Lunes. Miercoles y Jueves es cuando la gente menos realizan compras de viveres."
   ]
  },
  {
   "cell_type": "markdown",
   "id": "cutting-concert",
   "metadata": {
    "id": "cutting-concert"
   },
   "source": [
    "### [A4] ¿Cuánto tiempo esperan las personas hasta hacer otro pedido? Comenta sobre los valores mínimos y máximos."
   ]
  },
  {
   "cell_type": "code",
   "execution_count": 42,
   "id": "c231f523",
   "metadata": {
    "id": "c231f523"
   },
   "outputs": [
    {
     "data": {
      "image/png": "[encoded data removed]",
      "text/plain": [
       "<Figure size 800x550 with 1 Axes>"
      ]
     },
     "metadata": {},
     "output_type": "display_data"
    }
   ],
   "source": [
    "# Utilizo un query para quitar las ordenes con 'days_since_prior_order' es 0, por que 0 fue el valor que agregue para representar primera compra.\n",
    "days_since_plot = instacart_orders.query('days_since_prior_order != 0')['days_since_prior_order'].astype(int).value_counts().sort_index()\n",
    "\n",
    "(days_since_plot/1000).plot(kind='bar',\n",
    "                     title='Order Frequency by Days Since Last Order',\n",
    "                     xlabel='Days Since Last Order',\n",
    "                     ylabel='Order Frequency\\n(in thousands)',\n",
    "                     color='burlywood'\n",
    "                     )\n",
    "plt.show()"
   ]
  },
  {
   "cell_type": "markdown",
   "id": "discrete-vertex",
   "metadata": {
    "id": "discrete-vertex"
   },
   "source": [
    "Escribe aquí tus conclusiones"
   ]
  },
  {
   "cell_type": "markdown",
   "id": "f4651406",
   "metadata": {},
   "source": [
    "* Hay bastante actividad entre el día uno y el día 7, lo que me dice que usualmente la gente compra por semana y compra probablemente el mismo día.\n",
    "* Hay un pico en los días 7, 14, 21 y 30. Lo que me dice que la gente suele comprar en estos lapsos de tiempo, 1, 2 3 y 4 semanas.\n",
    "* La gente compra mas un mes despues, entonces hacen compras para todo el mes o por otra parte hacen compras por semana. Son los dos momentos con mas frecuencia."
   ]
  },
  {
   "cell_type": "markdown",
   "id": "df411963",
   "metadata": {},
   "source": [
    "<div class=\"alert alert-block alert-success\">\n",
    "<b>Comentario del revisor (1ra Iteracion)</b> <a class=“tocSkip”></a>\n",
    "\n",
    "Buen trabajo con estas visualizaciones y conclusiones. Siempre hay que dejar las conclusiones de las imágenes que se está mostrando\n",
    "</div>"
   ]
  },
  {
   "cell_type": "markdown",
   "id": "tight-staff",
   "metadata": {
    "id": "tight-staff"
   },
   "source": [
    "# [B] Intermedio (deben completarse todos para aprobar)\n",
    "\n",
    "1. ¿Existe alguna diferencia entre las distribuciones `'order_hour_of_day'` de los miércoles y los sábados? Traza gráficos de barra de `'order_hour_of_day'` para ambos días en la misma figura y describe las diferencias que observes.\n",
    "2. Grafica la distribución para el número de órdenes que hacen los clientes (es decir, cuántos clientes hicieron solo 1 pedido, cuántos hicieron 2, cuántos 3, y así sucesivamente...).\n",
    "3. ¿Cuáles son los 20 principales productos que se piden con más frecuencia (muestra su identificación y nombre)?"
   ]
  },
  {
   "cell_type": "markdown",
   "id": "packed-classic",
   "metadata": {
    "id": "packed-classic"
   },
   "source": [
    "### [B1] Diferencia entre miércoles y sábados para  `'order_hour_of_day'`. Traza gráficos de barra para los dos días y describe las diferencias que veas."
   ]
  },
  {
   "cell_type": "code",
   "execution_count": 43,
   "id": "d89b8403",
   "metadata": {
    "id": "d89b8403"
   },
   "outputs": [],
   "source": [
    "#Filtro primero para agarrar mis valores de 'Wednesday' y 'Saturday'\n",
    "filter_wednesday = instacart_orders[instacart_orders['order_dow']=='Wednesday']\n",
    "filter_saturday = instacart_orders[instacart_orders['order_dow']=='Saturday']"
   ]
  },
  {
   "cell_type": "code",
   "execution_count": 44,
   "id": "94e54e8a",
   "metadata": {
    "id": "94e54e8a"
   },
   "outputs": [],
   "source": [
    "# Procedo a contar los valores de hora del dia, y le doy sort index para que me los acomode de 0-23.\n",
    "plot_wednesday = filter_wednesday['order_hour_of_day'].value_counts().sort_index()\n",
    "plot_saturday = filter_saturday['order_hour_of_day'].value_counts().sort_index()"
   ]
  },
  {
   "cell_type": "code",
   "execution_count": 45,
   "id": "797c90a8",
   "metadata": {
    "id": "797c90a8"
   },
   "outputs": [
    {
     "data": {
      "image/png": "[encoded data removed]",
      "text/plain": [
       "<Figure size 800x550 with 1 Axes>"
      ]
     },
     "metadata": {},
     "output_type": "display_data"
    }
   ],
   "source": [
    "#Preparo mis gráficas\n",
    "(plot_saturday/1000).plot(kind='bar',\n",
    "                   color='pink',\n",
    "                   title='Amount of Orders by Time of Day\\n(Wednesday vs Saturday)'\n",
    "                   )\n",
    "\n",
    "(plot_wednesday/1000).plot(kind='bar',\n",
    "                    color='green',\n",
    "                    alpha = 0.5,\n",
    "                    xlabel='Time of Day\\n(24 hrs format)',\n",
    "                    ylabel='Amount of Orders\\n(in thousands)',\n",
    "                    rot=45\n",
    "                    )\n",
    "\n",
    "plt.legend(['Saturday','Wednesday'])\n",
    "plt.show()"
   ]
  },
  {
   "cell_type": "markdown",
   "id": "charitable-congo",
   "metadata": {
    "id": "charitable-congo"
   },
   "source": [
    "Escribe aquí tus conclusiones"
   ]
  },
  {
   "cell_type": "markdown",
   "id": "d5556012",
   "metadata": {},
   "source": [
    "* Los patrones de compra son muy similares tanto en numero de ordenes como en horario. Una pequeña diferencia entre las 12:00 y 14:00 donde hay ligeramente mas movimiento los dias sabados."
   ]
  },
  {
   "cell_type": "markdown",
   "id": "a1f0db3e",
   "metadata": {},
   "source": [
    "<div class=\"alert alert-block alert-success\">\n",
    "<b>Comentario del revisor (1ra Iteracion)</b> <a class=“tocSkip”></a>\n",
    "\n",
    "Correcto, esta gráfica ayuda a realizar la comparación de mejor manera debido a que esta en una sola\n",
    "    \n",
    "</div>"
   ]
  },
  {
   "cell_type": "markdown",
   "id": "e3891143",
   "metadata": {
    "id": "e3891143"
   },
   "source": [
    "### [B2] ¿Cuál es la distribución para el número de pedidos por cliente?"
   ]
  },
  {
   "cell_type": "code",
   "execution_count": 46,
   "id": "d8c26c23",
   "metadata": {
    "id": "d8c26c23"
   },
   "outputs": [
    {
     "data": {
      "text/plain": [
       "order_number\n",
       "1      28817\n",
       "2      28633\n",
       "3      28685\n",
       "4      28703\n",
       "5      25661\n",
       "       ...  \n",
       "96       220\n",
       "97       221\n",
       "98       191\n",
       "99       169\n",
       "100      194\n",
       "Name: count, Length: 100, dtype: int64"
      ]
     },
     "execution_count": 46,
     "metadata": {},
     "output_type": "execute_result"
    }
   ],
   "source": [
    "# Filtro por numero de orden, seguido cuento los valores individuales y le doy sort a mi index para poderlo graficar en orden.\n",
    "order_number_plot = instacart_orders['order_number'].value_counts().sort_index()\n",
    "\n",
    "order_number_plot"
   ]
  },
  {
   "cell_type": "code",
   "execution_count": 47,
   "id": "00e69a66",
   "metadata": {
    "id": "00e69a66"
   },
   "outputs": [
    {
     "data": {
      "image/png": "[encoded data removed]",
      "text/plain": [
       "<Figure size 800x550 with 1 Axes>"
      ]
     },
     "metadata": {},
     "output_type": "display_data"
    }
   ],
   "source": [
    "# Desarrollo mi gráfica\n",
    "order_number_plot.plot(kind='line',\n",
    "                       title='Distribution of Total Orders Made by Users',\n",
    "                       xlabel='Orders Made',\n",
    "                       ylabel='Users\\n(in thousands)',\n",
    "                       color='teal')\n",
    "plt.show()"
   ]
  },
  {
   "cell_type": "markdown",
   "id": "d2eff7d5",
   "metadata": {
    "id": "d2eff7d5"
   },
   "source": [
    "Escribe aquí tus conclusiones"
   ]
  },
  {
   "cell_type": "markdown",
   "id": "34a49b5d",
   "metadata": {},
   "source": [
    "* Se puede apreciar que la cantidad de usuarios que han hecho mas compras es exponencialmente inversa. La mayoría de usuario hacen de 0 a 20 compras aprox. Despues de 20 compras baja drasticamente la cantidad de usuarios. "
   ]
  },
  {
   "cell_type": "markdown",
   "id": "54a0319c",
   "metadata": {
    "id": "54a0319c"
   },
   "source": [
    "### [B3] ¿Cuáles son los 20 productos más populares (muestra su ID y nombre)?"
   ]
  },
  {
   "cell_type": "code",
   "execution_count": 48,
   "id": "exterior-arizona",
   "metadata": {
    "id": "exterior-arizona",
    "scrolled": true
   },
   "outputs": [
    {
     "data": {
      "text/html": [
       "<div>\n",
       "<style scoped>\n",
       "    .dataframe tbody tr th:only-of-type {\n",
       "        vertical-align: middle;\n",
       "    }\n",
       "\n",
       "    .dataframe tbody tr th {\n",
       "        vertical-align: top;\n",
       "    }\n",
       "\n",
       "    .dataframe thead th {\n",
       "        text-align: right;\n",
       "    }\n",
       "</style>\n",
       "<table border=\"1\" class=\"dataframe\">\n",
       "  <thead>\n",
       "    <tr style=\"text-align: right;\">\n",
       "      <th></th>\n",
       "      <th>product_id</th>\n",
       "      <th>product_name</th>\n",
       "      <th>count</th>\n",
       "    </tr>\n",
       "  </thead>\n",
       "  <tbody>\n",
       "    <tr>\n",
       "      <th>0</th>\n",
       "      <td>24852</td>\n",
       "      <td>BANANA</td>\n",
       "      <td>66050</td>\n",
       "    </tr>\n",
       "    <tr>\n",
       "      <th>1</th>\n",
       "      <td>13176</td>\n",
       "      <td>BAG OF ORGANIC BANANAS</td>\n",
       "      <td>53297</td>\n",
       "    </tr>\n",
       "    <tr>\n",
       "      <th>2</th>\n",
       "      <td>21137</td>\n",
       "      <td>ORGANIC STRAWBERRIES</td>\n",
       "      <td>37039</td>\n",
       "    </tr>\n",
       "    <tr>\n",
       "      <th>3</th>\n",
       "      <td>21903</td>\n",
       "      <td>ORGANIC BABY SPINACH</td>\n",
       "      <td>33971</td>\n",
       "    </tr>\n",
       "    <tr>\n",
       "      <th>4</th>\n",
       "      <td>47209</td>\n",
       "      <td>ORGANIC HASS AVOCADO</td>\n",
       "      <td>29773</td>\n",
       "    </tr>\n",
       "    <tr>\n",
       "      <th>5</th>\n",
       "      <td>47766</td>\n",
       "      <td>ORGANIC AVOCADO</td>\n",
       "      <td>24689</td>\n",
       "    </tr>\n",
       "    <tr>\n",
       "      <th>6</th>\n",
       "      <td>47626</td>\n",
       "      <td>LARGE LEMON</td>\n",
       "      <td>21495</td>\n",
       "    </tr>\n",
       "    <tr>\n",
       "      <th>7</th>\n",
       "      <td>16797</td>\n",
       "      <td>STRAWBERRIES</td>\n",
       "      <td>20018</td>\n",
       "    </tr>\n",
       "    <tr>\n",
       "      <th>8</th>\n",
       "      <td>26209</td>\n",
       "      <td>LIMES</td>\n",
       "      <td>19690</td>\n",
       "    </tr>\n",
       "    <tr>\n",
       "      <th>9</th>\n",
       "      <td>27845</td>\n",
       "      <td>ORGANIC WHOLE MILK</td>\n",
       "      <td>19600</td>\n",
       "    </tr>\n",
       "    <tr>\n",
       "      <th>10</th>\n",
       "      <td>27966</td>\n",
       "      <td>ORGANIC RASPBERRIES</td>\n",
       "      <td>19197</td>\n",
       "    </tr>\n",
       "    <tr>\n",
       "      <th>11</th>\n",
       "      <td>22935</td>\n",
       "      <td>ORGANIC YELLOW ONION</td>\n",
       "      <td>15898</td>\n",
       "    </tr>\n",
       "    <tr>\n",
       "      <th>12</th>\n",
       "      <td>24964</td>\n",
       "      <td>ORGANIC GARLIC</td>\n",
       "      <td>15292</td>\n",
       "    </tr>\n",
       "    <tr>\n",
       "      <th>13</th>\n",
       "      <td>45007</td>\n",
       "      <td>ORGANIC ZUCCHINI</td>\n",
       "      <td>14584</td>\n",
       "    </tr>\n",
       "    <tr>\n",
       "      <th>14</th>\n",
       "      <td>39275</td>\n",
       "      <td>ORGANIC BLUEBERRIES</td>\n",
       "      <td>13879</td>\n",
       "    </tr>\n",
       "    <tr>\n",
       "      <th>15</th>\n",
       "      <td>49683</td>\n",
       "      <td>CUCUMBER KIRBY</td>\n",
       "      <td>13675</td>\n",
       "    </tr>\n",
       "    <tr>\n",
       "      <th>16</th>\n",
       "      <td>28204</td>\n",
       "      <td>ORGANIC FUJI APPLE</td>\n",
       "      <td>12544</td>\n",
       "    </tr>\n",
       "    <tr>\n",
       "      <th>17</th>\n",
       "      <td>5876</td>\n",
       "      <td>ORGANIC LEMON</td>\n",
       "      <td>12232</td>\n",
       "    </tr>\n",
       "    <tr>\n",
       "      <th>18</th>\n",
       "      <td>8277</td>\n",
       "      <td>APPLE HONEYCRISP ORGANIC</td>\n",
       "      <td>11993</td>\n",
       "    </tr>\n",
       "    <tr>\n",
       "      <th>19</th>\n",
       "      <td>40706</td>\n",
       "      <td>ORGANIC GRAPE TOMATOES</td>\n",
       "      <td>11781</td>\n",
       "    </tr>\n",
       "  </tbody>\n",
       "</table>\n",
       "</div>"
      ],
      "text/plain": [
       "    product_id              product_name  count\n",
       "0        24852                    BANANA  66050\n",
       "1        13176    BAG OF ORGANIC BANANAS  53297\n",
       "2        21137      ORGANIC STRAWBERRIES  37039\n",
       "3        21903      ORGANIC BABY SPINACH  33971\n",
       "4        47209      ORGANIC HASS AVOCADO  29773\n",
       "5        47766           ORGANIC AVOCADO  24689\n",
       "6        47626               LARGE LEMON  21495\n",
       "7        16797              STRAWBERRIES  20018\n",
       "8        26209                     LIMES  19690\n",
       "9        27845        ORGANIC WHOLE MILK  19600\n",
       "10       27966       ORGANIC RASPBERRIES  19197\n",
       "11       22935      ORGANIC YELLOW ONION  15898\n",
       "12       24964            ORGANIC GARLIC  15292\n",
       "13       45007          ORGANIC ZUCCHINI  14584\n",
       "14       39275       ORGANIC BLUEBERRIES  13879\n",
       "15       49683            CUCUMBER KIRBY  13675\n",
       "16       28204        ORGANIC FUJI APPLE  12544\n",
       "17        5876             ORGANIC LEMON  12232\n",
       "18        8277  APPLE HONEYCRISP ORGANIC  11993\n",
       "19       40706    ORGANIC GRAPE TOMATOES  11781"
      ]
     },
     "execution_count": 48,
     "metadata": {},
     "output_type": "execute_result"
    }
   ],
   "source": [
    "# Filtro mis productos por id, cuento los valores de las id para definir los mas vendidos, y agarro los primeros 20 valores\n",
    "top_20_products = order_products['product_id'].value_counts().head(20)\n",
    "#top_20_products = order_products.groupby('product_id')['product_id'].count().sort_values(ascending=False).head(20)\n",
    "\n",
    "# Reseteo mi indice\n",
    "#top_20_products.reset_index(name='count')\n",
    "top_20_products = top_20_products.reset_index(name='count')\n",
    "\n",
    "# Uso merge en los top 20 productos con mi csv de productos para poder obtener el nombre del producto.\n",
    "top_20_products_wid = pd.merge(top_20_products,products,on='product_id')\n",
    "\n",
    "# Imprimo las columnas de product_id y product_name\n",
    "top_20_products_wid[['product_id','product_name','count']]"
   ]
  },
  {
   "cell_type": "code",
   "execution_count": 49,
   "id": "8c157dff",
   "metadata": {},
   "outputs": [
    {
     "data": {
      "image/png": "[encoded data removed]",
      "text/plain": [
       "<Figure size 800x550 with 1 Axes>"
      ]
     },
     "metadata": {},
     "output_type": "display_data"
    }
   ],
   "source": [
    "top_20_products_wid.plot(kind='bar',\n",
    "                         y='count',\n",
    "                         x='product_name',\n",
    "                         color='salmon',\n",
    "                         alpha=0.53,\n",
    "                         legend=False,\n",
    "                         title='Top 20 Products',\n",
    "                         xlabel='Product Name',\n",
    "                         ylabel='Amount of Orders'\n",
    "                         )\n",
    "\n",
    "plt.show()"
   ]
  },
  {
   "cell_type": "markdown",
   "id": "7df00f47",
   "metadata": {
    "id": "7df00f47"
   },
   "source": [
    "Escribe aquí tus conclusiones"
   ]
  },
  {
   "cell_type": "markdown",
   "id": "4fa47444",
   "metadata": {},
   "source": [
    "* De 20 productos, 14 tienen la palabra organic en su nombre. Lo que me indica 2 cosas, esta tienda tiene bastantes productos organicos en su catalogo y/o los productos organicos son lo mas vendido en esta tienda.\n",
    "* El articulo mas vendido son las bananas.\n",
    "* Podria agregar una columna para ver cual es el % total de ventas del producto sobre el departamento, o el pasillo."
   ]
  },
  {
   "cell_type": "markdown",
   "id": "03932ec6",
   "metadata": {},
   "source": [
    "<div class=\"alert alert-block alert-danger\">\n",
    "<b>Comentario del revisor (1ra Iteracion)</b> <a class=“tocSkip”></a>\n",
    "\n",
    "No estás mostrando el conteo de los productos, deberías mostrarlo y al no aplicar un ordenamiento del resultado del conteo estás tomando cualquier producto sin tomar en cuenta cuales son los más populares. Deberías ordenar por el conteo de forma descendente y ahí tomar el head(20). También para complementar debes mostrar una gráfica de barras para su comparación\n",
    "</div>"
   ]
  },
  {
   "cell_type": "markdown",
   "id": "0f234497",
   "metadata": {},
   "source": [
    "<div class=\"alert alert-block alert-info\">\n",
    "<b>Respuesta del estudiante</b> <a class=“tocSkip”></a>\n",
    "\n",
    "En este caso, una disculpa, no agregue mi gráfica de barras ni mi columna de count por que el ejercicio especifica que no busca eso, pero si tiene sentido el agregarla. Ya agregue mi grafica para ayudar con la comparacion. Y cuando uso un .value_counts() automaticamente me acomoda en modo descendente, lo cual hace inecesario que utilice un sort_values(). De igual manera, agregue la forma de hacerlo con groupby. Hay alguna ventaja en hacerlo con group by y luego agregar el sort values? O es solamente para evitar que me lo haga una Serie y mejor mantenerlo como un DF?\n",
    "</div>"
   ]
  },
  {
   "cell_type": "markdown",
   "id": "2f564924",
   "metadata": {},
   "source": [
    "<div class=\"alert alert-block alert-danger\">\n",
    "<b>Comentario del revisor (2da Iteracion)</b> <a class=“tocSkip”></a>\n",
    "\n",
    "Al intentar ejecutarlo en la instancia me dió error de ejecución por el nombre de la columna que se está usando, si te das cuenta la parte del `reset_index` no se está aplicando al dataframe, por eso salta el error, deberías guardar el resultado de reset_index en una variable y esa usarla para graficar. En algunas versiones es necesario especificar el sort_values para que se ordene, pero depende de la instancia donde trabajes el proyecto pero en si solo es para ordenarlo y luego poder graficarlo de manera correcta\n",
    "</div>"
   ]
  },
  {
   "cell_type": "markdown",
   "id": "abef61f6",
   "metadata": {},
   "source": [
    "<div class=\"alert alert-block alert-info\">\n",
    "<b>Respuesta del estudiante</b> <a class=“tocSkip”></a>\n",
    "\n",
    "Ya lo guarde dentro de mi variable, creo que por error comente el que era la version mas nueva. Pero ya quedo.\n",
    "</div>"
   ]
  },
  {
   "cell_type": "markdown",
   "id": "gross-theme",
   "metadata": {
    "id": "gross-theme"
   },
   "source": [
    "# [C] Difícil (deben completarse todos para aprobar)\n",
    "\n",
    "1. ¿Cuántos artículos suelen comprar las personas en un pedido? ¿Cómo es la distribución?\n",
    "2. ¿Cuáles son los 20 principales artículos que vuelven a pedirse con mayor frecuencia (muestra sus nombres e IDs de los productos)?\n",
    "3. Para cada producto, ¿cuál es la tasa de repetición del pedido (número de repeticiones de pedido/total de pedidos?\n",
    "4. Para cada cliente, ¿qué proporción de los productos que pidió ya los había pedido? Calcula la tasa de repetición de pedido para cada usuario en lugar de para cada producto.\n",
    "5. ¿Cuáles son los 20 principales artículos que la gente pone primero en sus carritos (muestra las IDs de los productos, sus nombres, y el número de veces en que fueron el primer artículo en añadirse al carrito)?"
   ]
  },
  {
   "cell_type": "markdown",
   "id": "romantic-deposit",
   "metadata": {
    "id": "romantic-deposit"
   },
   "source": [
    "### [C1] ¿Cuántos artículos compran normalmente las personas en un pedido? ¿Cómo es la distribución?"
   ]
  },
  {
   "cell_type": "code",
   "execution_count": 50,
   "id": "virtual-punch",
   "metadata": {
    "id": "virtual-punch"
   },
   "outputs": [
    {
     "data": {
      "text/plain": [
       "order_id\n",
       "4          13\n",
       "9          15\n",
       "11          5\n",
       "19          3\n",
       "20          8\n",
       "           ..\n",
       "3421034    17\n",
       "3421053     9\n",
       "3421071     5\n",
       "3421077     4\n",
       "3421079     1\n",
       "Name: product_id, Length: 450046, dtype: int64"
      ]
     },
     "execution_count": 50,
     "metadata": {},
     "output_type": "execute_result"
    }
   ],
   "source": [
    "# Asigno un grupo que me da cuantos productos se compraron por orden.\n",
    "articles_per_order = order_products.groupby('order_id')['product_id'].count()\n",
    "articles_per_order"
   ]
  },
  {
   "cell_type": "code",
   "execution_count": 51,
   "id": "sensitive-breathing",
   "metadata": {
    "id": "sensitive-breathing"
   },
   "outputs": [
    {
     "data": {
      "text/plain": [
       "127"
      ]
     },
     "execution_count": 51,
     "metadata": {},
     "output_type": "execute_result"
    }
   ],
   "source": [
    "# Quiero ver mi valor maximo para poder definir mis bins\n",
    "articles_per_order.max()"
   ]
  },
  {
   "cell_type": "code",
   "execution_count": 52,
   "id": "completed-frank",
   "metadata": {
    "id": "completed-frank"
   },
   "outputs": [
    {
     "data": {
      "image/png": "[encoded data removed]",
      "text/plain": [
       "<Figure size 800x550 with 1 Axes>"
      ]
     },
     "metadata": {},
     "output_type": "display_data"
    }
   ],
   "source": [
    "# Creo un histograma para ver mi distribución\n",
    "articles_per_order.plot(kind='hist',\n",
    "                        bins=127,\n",
    "                        xlabel='Articles Bought',\n",
    "                        ylabel='Frequency',\n",
    "                        title='Distribution of Articles Bought per Order',\n",
    "                        color='salmon',\n",
    "                        alpha=0.7)\n",
    "\n",
    "plt.show()"
   ]
  },
  {
   "cell_type": "markdown",
   "id": "designed-mortality",
   "metadata": {
    "id": "designed-mortality"
   },
   "source": [
    "Escribe aquí tus conclusiones"
   ]
  },
  {
   "cell_type": "markdown",
   "id": "f5967dec",
   "metadata": {},
   "source": [
    "* Por lo que veo en el gráfico, las cantidades mas compradas son 5 y 6 artículos. \n",
    "* A partir de 10 articulos empieza a decaer.\n",
    "* Despues de 20 articulos ya es una caida gigantezca y se puede considerar casi nulo despues de 40 articulos. Por el lapso de tiempo que se recopilo esta informacion son 1-5 ordenes con mas de 40+ articulos."
   ]
  },
  {
   "cell_type": "markdown",
   "id": "5e6b5537",
   "metadata": {
    "id": "5e6b5537"
   },
   "source": [
    "### [C2] ¿Cuáles son los 20 principales artículos que vuelven a pedirse con mayor frecuencia (muestra sus nombres e IDs de los productos)?"
   ]
  },
  {
   "cell_type": "code",
   "execution_count": 53,
   "id": "9374e55a",
   "metadata": {
    "id": "9374e55a"
   },
   "outputs": [
    {
     "data": {
      "text/html": [
       "<div>\n",
       "<style scoped>\n",
       "    .dataframe tbody tr th:only-of-type {\n",
       "        vertical-align: middle;\n",
       "    }\n",
       "\n",
       "    .dataframe tbody tr th {\n",
       "        vertical-align: top;\n",
       "    }\n",
       "\n",
       "    .dataframe thead th {\n",
       "        text-align: right;\n",
       "    }\n",
       "</style>\n",
       "<table border=\"1\" class=\"dataframe\">\n",
       "  <thead>\n",
       "    <tr style=\"text-align: right;\">\n",
       "      <th></th>\n",
       "      <th>product_id</th>\n",
       "      <th>reorders</th>\n",
       "    </tr>\n",
       "  </thead>\n",
       "  <tbody>\n",
       "    <tr>\n",
       "      <th>0</th>\n",
       "      <td>24852</td>\n",
       "      <td>55763</td>\n",
       "    </tr>\n",
       "    <tr>\n",
       "      <th>1</th>\n",
       "      <td>13176</td>\n",
       "      <td>44450</td>\n",
       "    </tr>\n",
       "    <tr>\n",
       "      <th>2</th>\n",
       "      <td>21137</td>\n",
       "      <td>28639</td>\n",
       "    </tr>\n",
       "    <tr>\n",
       "      <th>3</th>\n",
       "      <td>21903</td>\n",
       "      <td>26233</td>\n",
       "    </tr>\n",
       "    <tr>\n",
       "      <th>4</th>\n",
       "      <td>47209</td>\n",
       "      <td>23629</td>\n",
       "    </tr>\n",
       "    <tr>\n",
       "      <th>5</th>\n",
       "      <td>47766</td>\n",
       "      <td>18743</td>\n",
       "    </tr>\n",
       "    <tr>\n",
       "      <th>6</th>\n",
       "      <td>27845</td>\n",
       "      <td>16251</td>\n",
       "    </tr>\n",
       "    <tr>\n",
       "      <th>7</th>\n",
       "      <td>47626</td>\n",
       "      <td>15044</td>\n",
       "    </tr>\n",
       "    <tr>\n",
       "      <th>8</th>\n",
       "      <td>27966</td>\n",
       "      <td>14748</td>\n",
       "    </tr>\n",
       "    <tr>\n",
       "      <th>9</th>\n",
       "      <td>16797</td>\n",
       "      <td>13945</td>\n",
       "    </tr>\n",
       "    <tr>\n",
       "      <th>10</th>\n",
       "      <td>26209</td>\n",
       "      <td>13327</td>\n",
       "    </tr>\n",
       "    <tr>\n",
       "      <th>11</th>\n",
       "      <td>22935</td>\n",
       "      <td>11145</td>\n",
       "    </tr>\n",
       "    <tr>\n",
       "      <th>12</th>\n",
       "      <td>24964</td>\n",
       "      <td>10411</td>\n",
       "    </tr>\n",
       "    <tr>\n",
       "      <th>13</th>\n",
       "      <td>45007</td>\n",
       "      <td>10076</td>\n",
       "    </tr>\n",
       "    <tr>\n",
       "      <th>14</th>\n",
       "      <td>49683</td>\n",
       "      <td>9538</td>\n",
       "    </tr>\n",
       "    <tr>\n",
       "      <th>15</th>\n",
       "      <td>28204</td>\n",
       "      <td>8989</td>\n",
       "    </tr>\n",
       "    <tr>\n",
       "      <th>16</th>\n",
       "      <td>8277</td>\n",
       "      <td>8836</td>\n",
       "    </tr>\n",
       "    <tr>\n",
       "      <th>17</th>\n",
       "      <td>39275</td>\n",
       "      <td>8799</td>\n",
       "    </tr>\n",
       "    <tr>\n",
       "      <th>18</th>\n",
       "      <td>5876</td>\n",
       "      <td>8412</td>\n",
       "    </tr>\n",
       "    <tr>\n",
       "      <th>19</th>\n",
       "      <td>49235</td>\n",
       "      <td>8389</td>\n",
       "    </tr>\n",
       "  </tbody>\n",
       "</table>\n",
       "</div>"
      ],
      "text/plain": [
       "    product_id  reorders\n",
       "0        24852     55763\n",
       "1        13176     44450\n",
       "2        21137     28639\n",
       "3        21903     26233\n",
       "4        47209     23629\n",
       "5        47766     18743\n",
       "6        27845     16251\n",
       "7        47626     15044\n",
       "8        27966     14748\n",
       "9        16797     13945\n",
       "10       26209     13327\n",
       "11       22935     11145\n",
       "12       24964     10411\n",
       "13       45007     10076\n",
       "14       49683      9538\n",
       "15       28204      8989\n",
       "16        8277      8836\n",
       "17       39275      8799\n",
       "18        5876      8412\n",
       "19       49235      8389"
      ]
     },
     "execution_count": 53,
     "metadata": {},
     "output_type": "execute_result"
    }
   ],
   "source": [
    "# Hago un grupo por id de producto y sumo la columna 'reordered', el cual es 1 si se volvio a pedir o 0 si se compro por primera vez.\n",
    "# sort_values para saber los mas pedidos y .head(20)\n",
    "df_top20_reorder = order_products.groupby('product_id')['reordered'].sum().sort_values(ascending=False).head(20)\n",
    "df_top20_reorder = df_top20_reorder.reset_index(name='reorders')\n",
    "df_top20_reorder "
   ]
  },
  {
   "cell_type": "code",
   "execution_count": 54,
   "id": "possible-change",
   "metadata": {
    "id": "possible-change",
    "scrolled": true
   },
   "outputs": [],
   "source": [
    "# Necesito hacer un merge tomando los valores de mi nueva serie\n",
    "df_top20_reorder_merge = pd.merge(df_top20_reorder, products, on='product_id')"
   ]
  },
  {
   "cell_type": "code",
   "execution_count": 55,
   "id": "48dd3658",
   "metadata": {
    "id": "48dd3658"
   },
   "outputs": [
    {
     "data": {
      "text/html": [
       "<div>\n",
       "<style scoped>\n",
       "    .dataframe tbody tr th:only-of-type {\n",
       "        vertical-align: middle;\n",
       "    }\n",
       "\n",
       "    .dataframe tbody tr th {\n",
       "        vertical-align: top;\n",
       "    }\n",
       "\n",
       "    .dataframe thead th {\n",
       "        text-align: right;\n",
       "    }\n",
       "</style>\n",
       "<table border=\"1\" class=\"dataframe\">\n",
       "  <thead>\n",
       "    <tr style=\"text-align: right;\">\n",
       "      <th></th>\n",
       "      <th>product_name</th>\n",
       "      <th>product_id</th>\n",
       "      <th>reorders</th>\n",
       "    </tr>\n",
       "  </thead>\n",
       "  <tbody>\n",
       "    <tr>\n",
       "      <th>0</th>\n",
       "      <td>BANANA</td>\n",
       "      <td>24852</td>\n",
       "      <td>55763</td>\n",
       "    </tr>\n",
       "    <tr>\n",
       "      <th>1</th>\n",
       "      <td>BAG OF ORGANIC BANANAS</td>\n",
       "      <td>13176</td>\n",
       "      <td>44450</td>\n",
       "    </tr>\n",
       "    <tr>\n",
       "      <th>2</th>\n",
       "      <td>ORGANIC STRAWBERRIES</td>\n",
       "      <td>21137</td>\n",
       "      <td>28639</td>\n",
       "    </tr>\n",
       "    <tr>\n",
       "      <th>3</th>\n",
       "      <td>ORGANIC BABY SPINACH</td>\n",
       "      <td>21903</td>\n",
       "      <td>26233</td>\n",
       "    </tr>\n",
       "    <tr>\n",
       "      <th>4</th>\n",
       "      <td>ORGANIC HASS AVOCADO</td>\n",
       "      <td>47209</td>\n",
       "      <td>23629</td>\n",
       "    </tr>\n",
       "    <tr>\n",
       "      <th>5</th>\n",
       "      <td>ORGANIC AVOCADO</td>\n",
       "      <td>47766</td>\n",
       "      <td>18743</td>\n",
       "    </tr>\n",
       "    <tr>\n",
       "      <th>6</th>\n",
       "      <td>ORGANIC WHOLE MILK</td>\n",
       "      <td>27845</td>\n",
       "      <td>16251</td>\n",
       "    </tr>\n",
       "    <tr>\n",
       "      <th>7</th>\n",
       "      <td>LARGE LEMON</td>\n",
       "      <td>47626</td>\n",
       "      <td>15044</td>\n",
       "    </tr>\n",
       "    <tr>\n",
       "      <th>8</th>\n",
       "      <td>ORGANIC RASPBERRIES</td>\n",
       "      <td>27966</td>\n",
       "      <td>14748</td>\n",
       "    </tr>\n",
       "    <tr>\n",
       "      <th>9</th>\n",
       "      <td>STRAWBERRIES</td>\n",
       "      <td>16797</td>\n",
       "      <td>13945</td>\n",
       "    </tr>\n",
       "    <tr>\n",
       "      <th>10</th>\n",
       "      <td>LIMES</td>\n",
       "      <td>26209</td>\n",
       "      <td>13327</td>\n",
       "    </tr>\n",
       "    <tr>\n",
       "      <th>11</th>\n",
       "      <td>ORGANIC YELLOW ONION</td>\n",
       "      <td>22935</td>\n",
       "      <td>11145</td>\n",
       "    </tr>\n",
       "    <tr>\n",
       "      <th>12</th>\n",
       "      <td>ORGANIC GARLIC</td>\n",
       "      <td>24964</td>\n",
       "      <td>10411</td>\n",
       "    </tr>\n",
       "    <tr>\n",
       "      <th>13</th>\n",
       "      <td>ORGANIC ZUCCHINI</td>\n",
       "      <td>45007</td>\n",
       "      <td>10076</td>\n",
       "    </tr>\n",
       "    <tr>\n",
       "      <th>14</th>\n",
       "      <td>CUCUMBER KIRBY</td>\n",
       "      <td>49683</td>\n",
       "      <td>9538</td>\n",
       "    </tr>\n",
       "    <tr>\n",
       "      <th>15</th>\n",
       "      <td>ORGANIC FUJI APPLE</td>\n",
       "      <td>28204</td>\n",
       "      <td>8989</td>\n",
       "    </tr>\n",
       "    <tr>\n",
       "      <th>16</th>\n",
       "      <td>APPLE HONEYCRISP ORGANIC</td>\n",
       "      <td>8277</td>\n",
       "      <td>8836</td>\n",
       "    </tr>\n",
       "    <tr>\n",
       "      <th>17</th>\n",
       "      <td>ORGANIC BLUEBERRIES</td>\n",
       "      <td>39275</td>\n",
       "      <td>8799</td>\n",
       "    </tr>\n",
       "    <tr>\n",
       "      <th>18</th>\n",
       "      <td>ORGANIC LEMON</td>\n",
       "      <td>5876</td>\n",
       "      <td>8412</td>\n",
       "    </tr>\n",
       "    <tr>\n",
       "      <th>19</th>\n",
       "      <td>ORGANIC HALF &amp; HALF</td>\n",
       "      <td>49235</td>\n",
       "      <td>8389</td>\n",
       "    </tr>\n",
       "  </tbody>\n",
       "</table>\n",
       "</div>"
      ],
      "text/plain": [
       "                product_name  product_id  reorders\n",
       "0                     BANANA       24852     55763\n",
       "1     BAG OF ORGANIC BANANAS       13176     44450\n",
       "2       ORGANIC STRAWBERRIES       21137     28639\n",
       "3       ORGANIC BABY SPINACH       21903     26233\n",
       "4       ORGANIC HASS AVOCADO       47209     23629\n",
       "5            ORGANIC AVOCADO       47766     18743\n",
       "6         ORGANIC WHOLE MILK       27845     16251\n",
       "7                LARGE LEMON       47626     15044\n",
       "8        ORGANIC RASPBERRIES       27966     14748\n",
       "9               STRAWBERRIES       16797     13945\n",
       "10                     LIMES       26209     13327\n",
       "11      ORGANIC YELLOW ONION       22935     11145\n",
       "12            ORGANIC GARLIC       24964     10411\n",
       "13          ORGANIC ZUCCHINI       45007     10076\n",
       "14            CUCUMBER KIRBY       49683      9538\n",
       "15        ORGANIC FUJI APPLE       28204      8989\n",
       "16  APPLE HONEYCRISP ORGANIC        8277      8836\n",
       "17       ORGANIC BLUEBERRIES       39275      8799\n",
       "18             ORGANIC LEMON        5876      8412\n",
       "19       ORGANIC HALF & HALF       49235      8389"
      ]
     },
     "execution_count": 55,
     "metadata": {},
     "output_type": "execute_result"
    }
   ],
   "source": [
    "# Filtro por las columnas que requiero unicamente\n",
    "df_top20_reorder_merge[['product_name','product_id','reorders']]"
   ]
  },
  {
   "cell_type": "code",
   "execution_count": 56,
   "id": "71f9cfd6",
   "metadata": {},
   "outputs": [
    {
     "data": {
      "image/png": "[encoded data removed]",
      "text/plain": [
       "<Figure size 800x550 with 1 Axes>"
      ]
     },
     "metadata": {},
     "output_type": "display_data"
    }
   ],
   "source": [
    "df_top20_reorder_merge.plot(x='product_name',\n",
    "                            y='reorders',\n",
    "                            title='Top 20\\nMost Reordered Products',\n",
    "                            kind='bar',\n",
    "                            color='burlywood',\n",
    "                            xlabel='Product Name',\n",
    "                            ylabel='Amount of Reorders',\n",
    "                            legend=False)\n",
    "\n",
    "plt.show()"
   ]
  },
  {
   "cell_type": "markdown",
   "id": "80e70c74",
   "metadata": {
    "id": "80e70c74"
   },
   "source": [
    "Escribe aquí tus conclusiones"
   ]
  },
  {
   "cell_type": "markdown",
   "id": "9772ebf0",
   "metadata": {},
   "source": [
    "* Hay varios compartidos con los productos mas populares, podría ser por esta razón que son populares, por ser los mas reordenados por la gente.\n",
    "Banana y la bolsa de bananas son los mas reordenados y a su vez los mas populares."
   ]
  },
  {
   "cell_type": "markdown",
   "id": "0eea6bc8",
   "metadata": {},
   "source": [
    "<div class=\"alert alert-block alert-warning\">\n",
    "<b>Comentario del revisor (1ra Iteracion)</b> <a class=“tocSkip”></a>\n",
    "\n",
    "Muy bien, aquí aplicaste correctamente el ordenamiento. También puedes mostrar una gráfica de barras para que la comparación sea visual\n",
    "</div>"
   ]
  },
  {
   "cell_type": "markdown",
   "id": "99973dc4",
   "metadata": {},
   "source": [
    "<div class=\"alert alert-block alert-info\">\n",
    "<b>Respuesta del estudiante</b> <a class=“tocSkip”></a>\n",
    "\n",
    "Tienes toda la razón, agregue una grafica para apoyar mis datos.\n",
    "</div>"
   ]
  },
  {
   "cell_type": "markdown",
   "id": "9d312b14",
   "metadata": {
    "id": "9d312b14"
   },
   "source": [
    "### [C3] Para cada producto, ¿cuál es la proporción de las veces que se pide y que se vuelve a pedir?\n",
    "Para cada producto, ¿cuál es la tasa de repetición del pedido (número de repeticiones de pedido/total de pedidos?\n"
   ]
  },
  {
   "cell_type": "code",
   "execution_count": 57,
   "id": "8ae9f4b1",
   "metadata": {
    "id": "8ae9f4b1"
   },
   "outputs": [
    {
     "data": {
      "text/html": [
       "<div>\n",
       "<style scoped>\n",
       "    .dataframe tbody tr th:only-of-type {\n",
       "        vertical-align: middle;\n",
       "    }\n",
       "\n",
       "    .dataframe tbody tr th {\n",
       "        vertical-align: top;\n",
       "    }\n",
       "\n",
       "    .dataframe thead th {\n",
       "        text-align: right;\n",
       "    }\n",
       "</style>\n",
       "<table border=\"1\" class=\"dataframe\">\n",
       "  <thead>\n",
       "    <tr style=\"text-align: right;\">\n",
       "      <th></th>\n",
       "      <th>total_repeticiones</th>\n",
       "      <th>total_pedidos</th>\n",
       "    </tr>\n",
       "    <tr>\n",
       "      <th>product_id</th>\n",
       "      <th></th>\n",
       "      <th></th>\n",
       "    </tr>\n",
       "  </thead>\n",
       "  <tbody>\n",
       "    <tr>\n",
       "      <th>1</th>\n",
       "      <td>158</td>\n",
       "      <td>280</td>\n",
       "    </tr>\n",
       "    <tr>\n",
       "      <th>2</th>\n",
       "      <td>0</td>\n",
       "      <td>11</td>\n",
       "    </tr>\n",
       "    <tr>\n",
       "      <th>3</th>\n",
       "      <td>31</td>\n",
       "      <td>42</td>\n",
       "    </tr>\n",
       "    <tr>\n",
       "      <th>4</th>\n",
       "      <td>25</td>\n",
       "      <td>49</td>\n",
       "    </tr>\n",
       "    <tr>\n",
       "      <th>7</th>\n",
       "      <td>1</td>\n",
       "      <td>2</td>\n",
       "    </tr>\n",
       "    <tr>\n",
       "      <th>...</th>\n",
       "      <td>...</td>\n",
       "      <td>...</td>\n",
       "    </tr>\n",
       "    <tr>\n",
       "      <th>49690</th>\n",
       "      <td>4</td>\n",
       "      <td>5</td>\n",
       "    </tr>\n",
       "    <tr>\n",
       "      <th>49691</th>\n",
       "      <td>31</td>\n",
       "      <td>72</td>\n",
       "    </tr>\n",
       "    <tr>\n",
       "      <th>49692</th>\n",
       "      <td>5</td>\n",
       "      <td>12</td>\n",
       "    </tr>\n",
       "    <tr>\n",
       "      <th>49693</th>\n",
       "      <td>11</td>\n",
       "      <td>25</td>\n",
       "    </tr>\n",
       "    <tr>\n",
       "      <th>49694</th>\n",
       "      <td>3</td>\n",
       "      <td>9</td>\n",
       "    </tr>\n",
       "  </tbody>\n",
       "</table>\n",
       "<p>45573 rows × 2 columns</p>\n",
       "</div>"
      ],
      "text/plain": [
       "            total_repeticiones  total_pedidos\n",
       "product_id                                   \n",
       "1                          158            280\n",
       "2                            0             11\n",
       "3                           31             42\n",
       "4                           25             49\n",
       "7                            1              2\n",
       "...                        ...            ...\n",
       "49690                        4              5\n",
       "49691                       31             72\n",
       "49692                        5             12\n",
       "49693                       11             25\n",
       "49694                        3              9\n",
       "\n",
       "[45573 rows x 2 columns]"
      ]
     },
     "execution_count": 57,
     "metadata": {},
     "output_type": "execute_result"
    }
   ],
   "source": [
    "# Filtremos para conseguir dos columnas, mi numero de repeticiones y mi total de pedidos\n",
    "\n",
    "repeticion_df = order_products.groupby('product_id').agg(\n",
    "    total_repeticiones = ('reordered','sum'),\n",
    "    total_pedidos = ('reordered','count')\n",
    ")\n",
    "repeticion_df"
   ]
  },
  {
   "cell_type": "code",
   "execution_count": 58,
   "id": "103e7fe1",
   "metadata": {
    "id": "103e7fe1"
   },
   "outputs": [
    {
     "data": {
      "text/html": [
       "<div>\n",
       "<style scoped>\n",
       "    .dataframe tbody tr th:only-of-type {\n",
       "        vertical-align: middle;\n",
       "    }\n",
       "\n",
       "    .dataframe tbody tr th {\n",
       "        vertical-align: top;\n",
       "    }\n",
       "\n",
       "    .dataframe thead th {\n",
       "        text-align: right;\n",
       "    }\n",
       "</style>\n",
       "<table border=\"1\" class=\"dataframe\">\n",
       "  <thead>\n",
       "    <tr style=\"text-align: right;\">\n",
       "      <th></th>\n",
       "      <th>total_repeticiones</th>\n",
       "      <th>total_pedidos</th>\n",
       "      <th>tasa_repeticion</th>\n",
       "    </tr>\n",
       "    <tr>\n",
       "      <th>product_id</th>\n",
       "      <th></th>\n",
       "      <th></th>\n",
       "      <th></th>\n",
       "    </tr>\n",
       "  </thead>\n",
       "  <tbody>\n",
       "    <tr>\n",
       "      <th>1</th>\n",
       "      <td>158</td>\n",
       "      <td>280</td>\n",
       "      <td>56.428571</td>\n",
       "    </tr>\n",
       "    <tr>\n",
       "      <th>2</th>\n",
       "      <td>0</td>\n",
       "      <td>11</td>\n",
       "      <td>0.000000</td>\n",
       "    </tr>\n",
       "    <tr>\n",
       "      <th>3</th>\n",
       "      <td>31</td>\n",
       "      <td>42</td>\n",
       "      <td>73.809524</td>\n",
       "    </tr>\n",
       "    <tr>\n",
       "      <th>4</th>\n",
       "      <td>25</td>\n",
       "      <td>49</td>\n",
       "      <td>51.020408</td>\n",
       "    </tr>\n",
       "    <tr>\n",
       "      <th>7</th>\n",
       "      <td>1</td>\n",
       "      <td>2</td>\n",
       "      <td>50.000000</td>\n",
       "    </tr>\n",
       "    <tr>\n",
       "      <th>...</th>\n",
       "      <td>...</td>\n",
       "      <td>...</td>\n",
       "      <td>...</td>\n",
       "    </tr>\n",
       "    <tr>\n",
       "      <th>49690</th>\n",
       "      <td>4</td>\n",
       "      <td>5</td>\n",
       "      <td>80.000000</td>\n",
       "    </tr>\n",
       "    <tr>\n",
       "      <th>49691</th>\n",
       "      <td>31</td>\n",
       "      <td>72</td>\n",
       "      <td>43.055556</td>\n",
       "    </tr>\n",
       "    <tr>\n",
       "      <th>49692</th>\n",
       "      <td>5</td>\n",
       "      <td>12</td>\n",
       "      <td>41.666667</td>\n",
       "    </tr>\n",
       "    <tr>\n",
       "      <th>49693</th>\n",
       "      <td>11</td>\n",
       "      <td>25</td>\n",
       "      <td>44.000000</td>\n",
       "    </tr>\n",
       "    <tr>\n",
       "      <th>49694</th>\n",
       "      <td>3</td>\n",
       "      <td>9</td>\n",
       "      <td>33.333333</td>\n",
       "    </tr>\n",
       "  </tbody>\n",
       "</table>\n",
       "<p>45573 rows × 3 columns</p>\n",
       "</div>"
      ],
      "text/plain": [
       "            total_repeticiones  total_pedidos  tasa_repeticion\n",
       "product_id                                                    \n",
       "1                          158            280        56.428571\n",
       "2                            0             11         0.000000\n",
       "3                           31             42        73.809524\n",
       "4                           25             49        51.020408\n",
       "7                            1              2        50.000000\n",
       "...                        ...            ...              ...\n",
       "49690                        4              5        80.000000\n",
       "49691                       31             72        43.055556\n",
       "49692                        5             12        41.666667\n",
       "49693                       11             25        44.000000\n",
       "49694                        3              9        33.333333\n",
       "\n",
       "[45573 rows x 3 columns]"
      ]
     },
     "execution_count": 58,
     "metadata": {},
     "output_type": "execute_result"
    }
   ],
   "source": [
    "# Agrego una tercer columna -> tasa_repeticion\n",
    "\n",
    "repeticion_df['tasa_repeticion'] = (repeticion_df['total_repeticiones'] / repeticion_df['total_pedidos'])*100\n",
    "repeticion_df"
   ]
  },
  {
   "cell_type": "code",
   "execution_count": 59,
   "id": "social-individual",
   "metadata": {
    "id": "social-individual"
   },
   "outputs": [],
   "source": [
    "# Uso merge para poder asignarles los nombres a los IDs de producto\n",
    "repeticion_df = pd.merge(repeticion_df, products, on='product_id')"
   ]
  },
  {
   "cell_type": "code",
   "execution_count": 60,
   "id": "9a9540ce",
   "metadata": {},
   "outputs": [
    {
     "data": {
      "text/html": [
       "<div>\n",
       "<style scoped>\n",
       "    .dataframe tbody tr th:only-of-type {\n",
       "        vertical-align: middle;\n",
       "    }\n",
       "\n",
       "    .dataframe tbody tr th {\n",
       "        vertical-align: top;\n",
       "    }\n",
       "\n",
       "    .dataframe thead th {\n",
       "        text-align: right;\n",
       "    }\n",
       "</style>\n",
       "<table border=\"1\" class=\"dataframe\">\n",
       "  <thead>\n",
       "    <tr style=\"text-align: right;\">\n",
       "      <th></th>\n",
       "      <th>product_name</th>\n",
       "      <th>tasa_repeticion</th>\n",
       "    </tr>\n",
       "  </thead>\n",
       "  <tbody>\n",
       "    <tr>\n",
       "      <th>13453</th>\n",
       "      <td>BONE STRENGTH TAKE CARE</td>\n",
       "      <td>100.0</td>\n",
       "    </tr>\n",
       "    <tr>\n",
       "      <th>19195</th>\n",
       "      <td>VANILLA SANDWICH COOKIES</td>\n",
       "      <td>100.0</td>\n",
       "    </tr>\n",
       "    <tr>\n",
       "      <th>6136</th>\n",
       "      <td>PALMIERS- PETITE</td>\n",
       "      <td>100.0</td>\n",
       "    </tr>\n",
       "    <tr>\n",
       "      <th>6144</th>\n",
       "      <td>NATURALLY SPARKLING MINERAL WATER</td>\n",
       "      <td>100.0</td>\n",
       "    </tr>\n",
       "    <tr>\n",
       "      <th>41319</th>\n",
       "      <td>CALIFORNIA DILL POLLEN &amp; GARLIC GOAT CHEESE &amp; ...</td>\n",
       "      <td>100.0</td>\n",
       "    </tr>\n",
       "    <tr>\n",
       "      <th>41310</th>\n",
       "      <td>POMEGRANATEA</td>\n",
       "      <td>100.0</td>\n",
       "    </tr>\n",
       "    <tr>\n",
       "      <th>19258</th>\n",
       "      <td>PARCHMENT LINED 8 IN X 3.75 IN X 2.5 IN PANS</td>\n",
       "      <td>100.0</td>\n",
       "    </tr>\n",
       "    <tr>\n",
       "      <th>19248</th>\n",
       "      <td>PEANUT BUTTER PIE ICE CREAM</td>\n",
       "      <td>100.0</td>\n",
       "    </tr>\n",
       "    <tr>\n",
       "      <th>32273</th>\n",
       "      <td>CHOCOLATE SOY MILK SINGLES</td>\n",
       "      <td>100.0</td>\n",
       "    </tr>\n",
       "    <tr>\n",
       "      <th>32277</th>\n",
       "      <td>MOCHA CHOCOLATE CHIP  ORGANIC NON-DAIRY FROZEN...</td>\n",
       "      <td>100.0</td>\n",
       "    </tr>\n",
       "    <tr>\n",
       "      <th>6211</th>\n",
       "      <td>RASPBERRY GOJI PALEO PRINTS</td>\n",
       "      <td>100.0</td>\n",
       "    </tr>\n",
       "    <tr>\n",
       "      <th>41274</th>\n",
       "      <td>HEAD LOCK MEGA GEL</td>\n",
       "      <td>100.0</td>\n",
       "    </tr>\n",
       "    <tr>\n",
       "      <th>41269</th>\n",
       "      <td>COFFEE FLAVOR YOGURT</td>\n",
       "      <td>100.0</td>\n",
       "    </tr>\n",
       "    <tr>\n",
       "      <th>25120</th>\n",
       "      <td>MEAT LOAF MEAL</td>\n",
       "      <td>100.0</td>\n",
       "    </tr>\n",
       "    <tr>\n",
       "      <th>28203</th>\n",
       "      <td>CHEESE &amp; GARLIC CROUTONS</td>\n",
       "      <td>100.0</td>\n",
       "    </tr>\n",
       "    <tr>\n",
       "      <th>41265</th>\n",
       "      <td>SUGAR FREE HAZELNUT COFFEE CREAMER</td>\n",
       "      <td>100.0</td>\n",
       "    </tr>\n",
       "    <tr>\n",
       "      <th>32224</th>\n",
       "      <td>SUPERIOR PREFERENCE FADE-DEFYING COLOR + SHINE...</td>\n",
       "      <td>100.0</td>\n",
       "    </tr>\n",
       "    <tr>\n",
       "      <th>28202</th>\n",
       "      <td>DENTOTAPE® UNFLAVORED WAXED TAPE</td>\n",
       "      <td>100.0</td>\n",
       "    </tr>\n",
       "    <tr>\n",
       "      <th>32304</th>\n",
       "      <td>MARVELOUS MUFFINS BAKING MIX</td>\n",
       "      <td>100.0</td>\n",
       "    </tr>\n",
       "    <tr>\n",
       "      <th>32305</th>\n",
       "      <td>BEAN &amp; CHEESE BURRITOS</td>\n",
       "      <td>100.0</td>\n",
       "    </tr>\n",
       "  </tbody>\n",
       "</table>\n",
       "</div>"
      ],
      "text/plain": [
       "                                            product_name  tasa_repeticion\n",
       "13453                            BONE STRENGTH TAKE CARE            100.0\n",
       "19195                           VANILLA SANDWICH COOKIES            100.0\n",
       "6136                                    PALMIERS- PETITE            100.0\n",
       "6144                   NATURALLY SPARKLING MINERAL WATER            100.0\n",
       "41319  CALIFORNIA DILL POLLEN & GARLIC GOAT CHEESE & ...            100.0\n",
       "41310                                       POMEGRANATEA            100.0\n",
       "19258       PARCHMENT LINED 8 IN X 3.75 IN X 2.5 IN PANS            100.0\n",
       "19248                        PEANUT BUTTER PIE ICE CREAM            100.0\n",
       "32273                         CHOCOLATE SOY MILK SINGLES            100.0\n",
       "32277  MOCHA CHOCOLATE CHIP  ORGANIC NON-DAIRY FROZEN...            100.0\n",
       "6211                         RASPBERRY GOJI PALEO PRINTS            100.0\n",
       "41274                                 HEAD LOCK MEGA GEL            100.0\n",
       "41269                               COFFEE FLAVOR YOGURT            100.0\n",
       "25120                                     MEAT LOAF MEAL            100.0\n",
       "28203                           CHEESE & GARLIC CROUTONS            100.0\n",
       "41265                 SUGAR FREE HAZELNUT COFFEE CREAMER            100.0\n",
       "32224  SUPERIOR PREFERENCE FADE-DEFYING COLOR + SHINE...            100.0\n",
       "28202                   DENTOTAPE® UNFLAVORED WAXED TAPE            100.0\n",
       "32304                       MARVELOUS MUFFINS BAKING MIX            100.0\n",
       "32305                             BEAN & CHEESE BURRITOS            100.0"
      ]
     },
     "execution_count": 60,
     "metadata": {},
     "output_type": "execute_result"
    }
   ],
   "source": [
    "# Uso mi sort values para tener las tasas mas altas y uso head para imprimir mis 20 valores mas altos\n",
    "repeticion_df[['product_name','tasa_repeticion']].sort_values(by='tasa_repeticion',ascending=False).head(20)\n",
    "\n",
    "# Usaria este para filtrar con ciertas condiciones ya que el de arriba me da puros de 100%\n",
    "#repeticion_df.query('tasa_repeticion < 100').sort_values(by='tasa_repeticion',ascending=False).head(20)[['product_name','tasa_repeticion']]"
   ]
  },
  {
   "cell_type": "markdown",
   "id": "I10dEIAyldcO",
   "metadata": {
    "id": "I10dEIAyldcO"
   },
   "source": [
    "Escribe aquí tus conclusiones"
   ]
  },
  {
   "cell_type": "markdown",
   "id": "c721dff9",
   "metadata": {},
   "source": [
    "* Para mis productos menos re ordenados solo es cuestion de quitar mi ascending=False de sort_values\n",
    "    * Esos productos probablemente o son de baja calidad y no se vuelven a comprar, o articulos que duran muchisimo tiempo (llantas, articulos de limpieza) o mal producto.\n",
    "* Acomodando con sorting y usando ascending = False podemos ver los productos que mas se vuelven a comprar despues de su compra inicial, varios con 100%\n",
    "    * Analizando los datos completos y agregando la cantidad de veces que han sido reordenados vs pedidos, podemos ver que muchos solamente tienen 1 o 15 compras. Para un dataset del tamaño que tenemos siento que esto es ruido. Por eso agregue un query que checa por tasa de reorder, igual podemos agregar esos filtros en distintos parametros y ver que mas insights podemos obtener."
   ]
  },
  {
   "cell_type": "markdown",
   "id": "subject-boxing",
   "metadata": {
    "id": "subject-boxing"
   },
   "source": [
    "### [C4] Para cada cliente, ¿qué proporción de sus productos ya los había pedido?\n",
    "Para cada cliente, ¿qué proporción de los productos que pidió ya los había pedido? Calcula la tasa de repetición de pedido para cada usuario en lugar de para cada producto."
   ]
  },
  {
   "cell_type": "code",
   "execution_count": 61,
   "id": "medical-couple",
   "metadata": {
    "id": "medical-couple",
    "scrolled": true
   },
   "outputs": [],
   "source": [
    "# Primero uso merge en mis DF's para tener user_id y reordered como columnas. Por defecto usa inner, que es lo que buscamos.\n",
    "merged_products_user = pd.merge(order_products,instacart_orders,on='order_id')\n",
    "\n",
    "#Agrupo por usuario y cuento productos pedidos por usuario y sumop productos reordenados.\n",
    "merged_products_user = merged_products_user.groupby('user_id').agg(\n",
    "    total_products_ordered = ('reordered','count'),\n",
    "    total_products_reordered = ('reordered','sum')\n",
    ")"
   ]
  },
  {
   "cell_type": "code",
   "execution_count": 62,
   "id": "8892e4b4",
   "metadata": {
    "id": "8892e4b4"
   },
   "outputs": [
    {
     "data": {
      "image/png": "[encoded data removed]",
      "text/plain": [
       "<Figure size 800x550 with 1 Axes>"
      ]
     },
     "metadata": {},
     "output_type": "display_data"
    }
   ],
   "source": [
    "# Creo mi columna 'reorder_percent' y saco mi %\n",
    "merged_products_user['reorder_percent'] = (merged_products_user['total_products_reordered'] / merged_products_user['total_products_ordered'])*100\n",
    "\n",
    "#Creo un histograma con 10 percentiles para poder visualizar mejor en cuadrantes.\n",
    "merged_products_user['reorder_percent'].plot(kind='hist',\n",
    "                                             bins=10,\n",
    "                                             color='teal',\n",
    "                                             alpha=0.4,\n",
    "                                             title='Distribution of Reorder Percentage\\n Histogram',\n",
    "                                             rot = 55,\n",
    "                                             xlabel='Percentage of Reordered Products (%)',\n",
    "                                             ylabel='Frequency')\n",
    "\n",
    "plt.show()"
   ]
  },
  {
   "cell_type": "markdown",
   "id": "BgJSvXDsleXz",
   "metadata": {
    "id": "BgJSvXDsleXz"
   },
   "source": [
    "Escribe aquí tus conclusiones"
   ]
  },
  {
   "cell_type": "markdown",
   "id": "d2c91769",
   "metadata": {},
   "source": [
    "* Hay muchos usuarios (~20k) que solo el 10% de su carrito es repetido, esto podrian ser distintos factores. \n",
    "    * Les gusta probar distintas marcas.\n",
    "    * No les ha agradado los productos que han comprado.\n",
    "* Hay bastantes usarios que el 50% o mas de su carrito es repetido, el pico es usuarios done la mitad de su carrito se repite.\n",
    "    * Pueden repetirse ciertos productos y o abarrotes.\n",
    "    * Se puede aplicar ciertas estrategias de marketing al ver tendencias en estos productos.\n",
    "* Podriamos aplicar igual el emparejar ciertos productos para fomentar a que la gente los siga comprando."
   ]
  },
  {
   "cell_type": "markdown",
   "id": "208ed8d2",
   "metadata": {},
   "source": [
    "<div class=\"alert alert-block alert-success\">\n",
    "<b>Comentario del revisor (1ra Iteracion)</b> <a class=“tocSkip”></a>\n",
    "\n",
    "Muy bien calculadas las proporciones! También podrías haber usado el groupby y aplicando `mean()` sobre la columna de reordered\n",
    "</div>"
   ]
  },
  {
   "cell_type": "markdown",
   "id": "92d35137",
   "metadata": {
    "id": "92d35137"
   },
   "source": [
    "### [C5] ¿Cuáles son los 20 principales artículos que las personas ponen primero en sus carritos?\n",
    "¿Cuáles son los 20 principales artículos que la gente pone primero en sus carritos (muestra las IDs de los productos, sus nombres, y el número de veces en que fueron el primer artículo en añadirse al carrito)?"
   ]
  },
  {
   "cell_type": "code",
   "execution_count": 63,
   "id": "0ae57274",
   "metadata": {
    "id": "0ae57274",
    "scrolled": true
   },
   "outputs": [],
   "source": [
    "# Uso merge en mis DFs para traerme los nombres de los productos.\n",
    "top20_add_to_cart = pd.merge(order_products,products, on='product_id')"
   ]
  },
  {
   "cell_type": "code",
   "execution_count": 64,
   "id": "forty-netherlands",
   "metadata": {
    "id": "forty-netherlands",
    "scrolled": true
   },
   "outputs": [],
   "source": [
    "# Uso un filtro para unicamente tener los articulos que fueron aregados primero\n",
    "top20_add_to_cart = top20_add_to_cart.query('add_to_cart_order == 1')"
   ]
  },
  {
   "cell_type": "code",
   "execution_count": 65,
   "id": "08e41ec2",
   "metadata": {
    "id": "08e41ec2"
   },
   "outputs": [
    {
     "data": {
      "text/html": [
       "<div>\n",
       "<style scoped>\n",
       "    .dataframe tbody tr th:only-of-type {\n",
       "        vertical-align: middle;\n",
       "    }\n",
       "\n",
       "    .dataframe tbody tr th {\n",
       "        vertical-align: top;\n",
       "    }\n",
       "\n",
       "    .dataframe thead th {\n",
       "        text-align: right;\n",
       "    }\n",
       "</style>\n",
       "<table border=\"1\" class=\"dataframe\">\n",
       "  <thead>\n",
       "    <tr style=\"text-align: right;\">\n",
       "      <th></th>\n",
       "      <th>product_id</th>\n",
       "      <th>product_name</th>\n",
       "      <th>count</th>\n",
       "    </tr>\n",
       "  </thead>\n",
       "  <tbody>\n",
       "    <tr>\n",
       "      <th>13414</th>\n",
       "      <td>24852</td>\n",
       "      <td>BANANA</td>\n",
       "      <td>15562</td>\n",
       "    </tr>\n",
       "    <tr>\n",
       "      <th>7127</th>\n",
       "      <td>13176</td>\n",
       "      <td>BAG OF ORGANIC BANANAS</td>\n",
       "      <td>11026</td>\n",
       "    </tr>\n",
       "    <tr>\n",
       "      <th>15028</th>\n",
       "      <td>27845</td>\n",
       "      <td>ORGANIC WHOLE MILK</td>\n",
       "      <td>4363</td>\n",
       "    </tr>\n",
       "    <tr>\n",
       "      <th>11384</th>\n",
       "      <td>21137</td>\n",
       "      <td>ORGANIC STRAWBERRIES</td>\n",
       "      <td>3946</td>\n",
       "    </tr>\n",
       "    <tr>\n",
       "      <th>25439</th>\n",
       "      <td>47209</td>\n",
       "      <td>ORGANIC HASS AVOCADO</td>\n",
       "      <td>3390</td>\n",
       "    </tr>\n",
       "    <tr>\n",
       "      <th>11786</th>\n",
       "      <td>21903</td>\n",
       "      <td>ORGANIC BABY SPINACH</td>\n",
       "      <td>3336</td>\n",
       "    </tr>\n",
       "    <tr>\n",
       "      <th>25732</th>\n",
       "      <td>47766</td>\n",
       "      <td>ORGANIC AVOCADO</td>\n",
       "      <td>3044</td>\n",
       "    </tr>\n",
       "    <tr>\n",
       "      <th>10622</th>\n",
       "      <td>19660</td>\n",
       "      <td>SPRING WATER</td>\n",
       "      <td>2336</td>\n",
       "    </tr>\n",
       "    <tr>\n",
       "      <th>9050</th>\n",
       "      <td>16797</td>\n",
       "      <td>STRAWBERRIES</td>\n",
       "      <td>2308</td>\n",
       "    </tr>\n",
       "    <tr>\n",
       "      <th>15102</th>\n",
       "      <td>27966</td>\n",
       "      <td>ORGANIC RASPBERRIES</td>\n",
       "      <td>2024</td>\n",
       "    </tr>\n",
       "    <tr>\n",
       "      <th>24024</th>\n",
       "      <td>44632</td>\n",
       "      <td>SPARKLING WATER GRAPEFRUIT</td>\n",
       "      <td>1914</td>\n",
       "    </tr>\n",
       "    <tr>\n",
       "      <th>26519</th>\n",
       "      <td>49235</td>\n",
       "      <td>ORGANIC HALF &amp; HALF</td>\n",
       "      <td>1797</td>\n",
       "    </tr>\n",
       "    <tr>\n",
       "      <th>25658</th>\n",
       "      <td>47626</td>\n",
       "      <td>LARGE LEMON</td>\n",
       "      <td>1737</td>\n",
       "    </tr>\n",
       "    <tr>\n",
       "      <th>115</th>\n",
       "      <td>196</td>\n",
       "      <td>SODA</td>\n",
       "      <td>1733</td>\n",
       "    </tr>\n",
       "    <tr>\n",
       "      <th>20853</th>\n",
       "      <td>38689</td>\n",
       "      <td>ORGANIC REDUCED FAT MILK</td>\n",
       "      <td>1397</td>\n",
       "    </tr>\n",
       "    <tr>\n",
       "      <th>14158</th>\n",
       "      <td>26209</td>\n",
       "      <td>LIMES</td>\n",
       "      <td>1370</td>\n",
       "    </tr>\n",
       "    <tr>\n",
       "      <th>6660</th>\n",
       "      <td>12341</td>\n",
       "      <td>HASS AVOCADOS</td>\n",
       "      <td>1340</td>\n",
       "    </tr>\n",
       "    <tr>\n",
       "      <th>3153</th>\n",
       "      <td>5785</td>\n",
       "      <td>ORGANIC REDUCED FAT 2% MILK</td>\n",
       "      <td>1310</td>\n",
       "    </tr>\n",
       "    <tr>\n",
       "      <th>14639</th>\n",
       "      <td>27086</td>\n",
       "      <td>HALF &amp; HALF</td>\n",
       "      <td>1309</td>\n",
       "    </tr>\n",
       "    <tr>\n",
       "      <th>23335</th>\n",
       "      <td>43352</td>\n",
       "      <td>RASPBERRIES</td>\n",
       "      <td>1246</td>\n",
       "    </tr>\n",
       "  </tbody>\n",
       "</table>\n",
       "</div>"
      ],
      "text/plain": [
       "       product_id                 product_name  count\n",
       "13414       24852                       BANANA  15562\n",
       "7127        13176       BAG OF ORGANIC BANANAS  11026\n",
       "15028       27845           ORGANIC WHOLE MILK   4363\n",
       "11384       21137         ORGANIC STRAWBERRIES   3946\n",
       "25439       47209         ORGANIC HASS AVOCADO   3390\n",
       "11786       21903         ORGANIC BABY SPINACH   3336\n",
       "25732       47766              ORGANIC AVOCADO   3044\n",
       "10622       19660                 SPRING WATER   2336\n",
       "9050        16797                 STRAWBERRIES   2308\n",
       "15102       27966          ORGANIC RASPBERRIES   2024\n",
       "24024       44632   SPARKLING WATER GRAPEFRUIT   1914\n",
       "26519       49235          ORGANIC HALF & HALF   1797\n",
       "25658       47626                  LARGE LEMON   1737\n",
       "115           196                         SODA   1733\n",
       "20853       38689     ORGANIC REDUCED FAT MILK   1397\n",
       "14158       26209                        LIMES   1370\n",
       "6660        12341                HASS AVOCADOS   1340\n",
       "3153         5785  ORGANIC REDUCED FAT 2% MILK   1310\n",
       "14639       27086                  HALF & HALF   1309\n",
       "23335       43352                  RASPBERRIES   1246"
      ]
     },
     "execution_count": 65,
     "metadata": {},
     "output_type": "execute_result"
    }
   ],
   "source": [
    "# Uso mi group by, 2 columnas para conservar nombre y ID, cuento la cantidad de veces que se agregaron primero al carrito\n",
    "# Uso sort con ascending False para tener primero los que mas se agregaron primero y finalmente uso head(20) para solo tener 20 valores.\n",
    "#top20_add_to_cart.groupby(['product_id','product_name'])['add_to_cart_order'].count().sort_values(ascending=False).head(20)\n",
    "\n",
    "top20_count = top20_add_to_cart.groupby(['product_id','product_name'])['add_to_cart_order'].count().reset_index(name='count')\n",
    "top20_count = top20_count.sort_values(by='count',ascending=False).head(20)\n",
    "top20_count"
   ]
  },
  {
   "cell_type": "code",
   "execution_count": 66,
   "id": "4474456a",
   "metadata": {},
   "outputs": [
    {
     "data": {
      "text/plain": [
       "<Axes: title={'center': 'Top 20 Articles\\n(Added First to Cart)'}, xlabel='Product Name', ylabel='Number of Times Added First to Cart'>"
      ]
     },
     "execution_count": 66,
     "metadata": {},
     "output_type": "execute_result"
    },
    {
     "data": {
      "image/png": "[encoded data removed]",
      "text/plain": [
       "<Figure size 800x550 with 1 Axes>"
      ]
     },
     "metadata": {},
     "output_type": "display_data"
    }
   ],
   "source": [
    "top20_count.plot(x='product_name',\n",
    "                 y='count',\n",
    "                 title='Top 20 Articles\\n(Added First to Cart)',\n",
    "                 kind='bar',\n",
    "                 color='thistle',\n",
    "                 ylabel='Number of Times Added First to Cart',\n",
    "                 xlabel='Product Name',\n",
    "                 legend=False\n",
    "                 )"
   ]
  },
  {
   "cell_type": "markdown",
   "id": "28ce9872",
   "metadata": {
    "id": "28ce9872"
   },
   "source": [
    "Escribe aquí tus conclusiones"
   ]
  },
  {
   "cell_type": "markdown",
   "id": "4e90adb5",
   "metadata": {},
   "source": [
    "* Mas de la mitad de los productos son frutas / verduras. Los otros productos son bebidas.\n",
    "* La mayoria de la gente empieza a hacer su mandado por las frutas y verduras."
   ]
  },
  {
   "cell_type": "markdown",
   "id": "6de51e26",
   "metadata": {},
   "source": [
    "<div class=\"alert alert-block alert-danger\">\n",
    "<b>Comentario del revisor (1ra Iteracion)</b> <a class=“tocSkip”></a>\n",
    "\n",
    "Muy bien! Aquí también deberías mostrar una gráfica de barras para poder realizar la comparación del conteo de manera visual\n",
    "</div>"
   ]
  },
  {
   "cell_type": "markdown",
   "id": "d5950016",
   "metadata": {},
   "source": [
    "<div class=\"alert alert-block alert-info\">\n",
    "<b>Respuesta del estudiante</b> <a class=“tocSkip”></a>\n",
    "\n",
    "Tienes toda la razón, agregue mi gráfica.\n",
    "</div>"
   ]
  },
  {
   "cell_type": "markdown",
   "id": "bca526b0",
   "metadata": {},
   "source": [
    "<div class=\"alert alert-block alert-success\">\n",
    "<b>Comentario del revisor (2da Iteracion)</b> <a class=“tocSkip”></a>\n",
    "\n",
    "Muy bien, ahora es mucho más fácil poder comparar los datos de cada producto\n",
    "</div>"
   ]
  },
  {
   "cell_type": "markdown",
   "id": "uITbFCEoDosC",
   "metadata": {
    "id": "uITbFCEoDosC"
   },
   "source": [
    "### Conclusion general del proyecto:"
   ]
  },
  {
   "cell_type": "markdown",
   "id": "8589a3d6",
   "metadata": {},
   "source": [
    "Muy buen proyecto, conseguimos varios insights y me gustaria ir viendo como poder procesarlos para compartirlos con distintos departamentos para poder incrementar ventas o hacer campañas de productos mas exitosas. Hay muchas cosas que se pueden hacer. Desde optimizar y/ acomodar productos como ver estrategias de marketing de que juntar con que. Juntar un producti top seller con uno de bajo movimiento pero que esten relacionados para subir la cantidadd e veces que clientes re-ordenan. Ver que dias de la semana la gente compra mas reordenes y que dias compran menos reordenes y ajustar marketing acorde a eso.\n",
    "\n",
    "Personalmente este proyecto me ha gustado muchisimo, siento que ya empieza a ser manejo de datos con un enfoque mas aplicado y no puedo esperar a ver que mas se viene.\n",
    "\n",
    "Lamentablemente habia llegado al punto B con mi proyecto y me di cuenta que lo estaba haciendo en un Notebook vacio que empece de cero. Me gusto saber que llegue tan lejos con resultados demasiado similares. Practicamente identicos. Me hubiera gustado acabar antes pero me retrase bastante por ese error."
   ]
  }
 ],
 "metadata": {
  "ExecuteTimeLog": [
   {
    "duration": 749,
    "start_time": "2024-12-14T20:00:49.045Z"
   },
   {
    "duration": 0,
    "start_time": "2024-12-14T20:00:49.798Z"
   },
   {
    "duration": 0,
    "start_time": "2024-12-14T20:00:49.800Z"
   },
   {
    "duration": 0,
    "start_time": "2024-12-14T20:00:49.801Z"
   },
   {
    "duration": 1,
    "start_time": "2024-12-14T20:00:49.802Z"
   },
   {
    "duration": 0,
    "start_time": "2024-12-14T20:00:49.804Z"
   },
   {
    "duration": 0,
    "start_time": "2024-12-14T20:00:49.805Z"
   },
   {
    "duration": 0,
    "start_time": "2024-12-14T20:00:49.807Z"
   },
   {
    "duration": 0,
    "start_time": "2024-12-14T20:00:49.808Z"
   },
   {
    "duration": 0,
    "start_time": "2024-12-14T20:00:49.809Z"
   },
   {
    "duration": 0,
    "start_time": "2024-12-14T20:00:49.811Z"
   },
   {
    "duration": 0,
    "start_time": "2024-12-14T20:00:49.812Z"
   },
   {
    "duration": 0,
    "start_time": "2024-12-14T20:00:49.814Z"
   },
   {
    "duration": 0,
    "start_time": "2024-12-14T20:00:49.815Z"
   },
   {
    "duration": 0,
    "start_time": "2024-12-14T20:00:49.816Z"
   },
   {
    "duration": 0,
    "start_time": "2024-12-14T20:00:49.843Z"
   },
   {
    "duration": 0,
    "start_time": "2024-12-14T20:00:49.844Z"
   },
   {
    "duration": 0,
    "start_time": "2024-12-14T20:00:49.845Z"
   },
   {
    "duration": 0,
    "start_time": "2024-12-14T20:00:49.846Z"
   },
   {
    "duration": 0,
    "start_time": "2024-12-14T20:00:49.848Z"
   },
   {
    "duration": 0,
    "start_time": "2024-12-14T20:00:49.849Z"
   },
   {
    "duration": 0,
    "start_time": "2024-12-14T20:00:49.850Z"
   },
   {
    "duration": 0,
    "start_time": "2024-12-14T20:00:49.851Z"
   },
   {
    "duration": 0,
    "start_time": "2024-12-14T20:00:49.851Z"
   },
   {
    "duration": 0,
    "start_time": "2024-12-14T20:00:49.852Z"
   },
   {
    "duration": 0,
    "start_time": "2024-12-14T20:00:49.853Z"
   },
   {
    "duration": 0,
    "start_time": "2024-12-14T20:00:49.855Z"
   },
   {
    "duration": 0,
    "start_time": "2024-12-14T20:00:49.857Z"
   },
   {
    "duration": 0,
    "start_time": "2024-12-14T20:00:49.858Z"
   },
   {
    "duration": 0,
    "start_time": "2024-12-14T20:00:49.860Z"
   },
   {
    "duration": 0,
    "start_time": "2024-12-14T20:00:49.861Z"
   },
   {
    "duration": 0,
    "start_time": "2024-12-14T20:00:49.862Z"
   },
   {
    "duration": 0,
    "start_time": "2024-12-14T20:00:49.864Z"
   },
   {
    "duration": 0,
    "start_time": "2024-12-14T20:00:49.865Z"
   },
   {
    "duration": 0,
    "start_time": "2024-12-14T20:00:49.867Z"
   },
   {
    "duration": 0,
    "start_time": "2024-12-14T20:00:49.868Z"
   },
   {
    "duration": 0,
    "start_time": "2024-12-14T20:00:49.869Z"
   },
   {
    "duration": 0,
    "start_time": "2024-12-14T20:00:49.871Z"
   },
   {
    "duration": 0,
    "start_time": "2024-12-14T20:00:49.872Z"
   },
   {
    "duration": 0,
    "start_time": "2024-12-14T20:00:49.875Z"
   },
   {
    "duration": 0,
    "start_time": "2024-12-14T20:00:49.876Z"
   },
   {
    "duration": 0,
    "start_time": "2024-12-14T20:00:49.880Z"
   },
   {
    "duration": 0,
    "start_time": "2024-12-14T20:00:49.881Z"
   },
   {
    "duration": 0,
    "start_time": "2024-12-14T20:00:49.882Z"
   },
   {
    "duration": 0,
    "start_time": "2024-12-14T20:00:49.884Z"
   },
   {
    "duration": 0,
    "start_time": "2024-12-14T20:00:49.942Z"
   },
   {
    "duration": 0,
    "start_time": "2024-12-14T20:00:49.943Z"
   },
   {
    "duration": 0,
    "start_time": "2024-12-14T20:00:49.944Z"
   },
   {
    "duration": 0,
    "start_time": "2024-12-14T20:00:49.945Z"
   },
   {
    "duration": 0,
    "start_time": "2024-12-14T20:00:49.947Z"
   },
   {
    "duration": 0,
    "start_time": "2024-12-14T20:00:49.948Z"
   },
   {
    "duration": 0,
    "start_time": "2024-12-14T20:00:49.950Z"
   },
   {
    "duration": 0,
    "start_time": "2024-12-14T20:00:49.951Z"
   },
   {
    "duration": 0,
    "start_time": "2024-12-14T20:00:49.952Z"
   },
   {
    "duration": 0,
    "start_time": "2024-12-14T20:00:49.953Z"
   },
   {
    "duration": 0,
    "start_time": "2024-12-14T20:00:49.954Z"
   },
   {
    "duration": 0,
    "start_time": "2024-12-14T20:00:49.955Z"
   },
   {
    "duration": 0,
    "start_time": "2024-12-14T20:00:49.956Z"
   },
   {
    "duration": 0,
    "start_time": "2024-12-14T20:00:49.958Z"
   },
   {
    "duration": 0,
    "start_time": "2024-12-14T20:00:49.959Z"
   },
   {
    "duration": 0,
    "start_time": "2024-12-14T20:00:49.960Z"
   },
   {
    "duration": 0,
    "start_time": "2024-12-14T20:00:49.961Z"
   },
   {
    "duration": 2,
    "start_time": "2024-12-14T20:01:02.522Z"
   },
   {
    "duration": 1014,
    "start_time": "2024-12-14T20:01:02.526Z"
   },
   {
    "duration": 8,
    "start_time": "2024-12-14T20:01:03.542Z"
   },
   {
    "duration": 7,
    "start_time": "2024-12-14T20:01:03.552Z"
   },
   {
    "duration": 9,
    "start_time": "2024-12-14T20:01:03.561Z"
   },
   {
    "duration": 21,
    "start_time": "2024-12-14T20:01:03.572Z"
   },
   {
    "duration": 9,
    "start_time": "2024-12-14T20:01:03.595Z"
   },
   {
    "duration": 108,
    "start_time": "2024-12-14T20:01:03.606Z"
   },
   {
    "duration": 109,
    "start_time": "2024-12-14T20:01:03.716Z"
   },
   {
    "duration": 86,
    "start_time": "2024-12-14T20:01:03.827Z"
   },
   {
    "duration": 84,
    "start_time": "2024-12-14T20:01:03.916Z"
   },
   {
    "duration": 25,
    "start_time": "2024-12-14T20:01:04.002Z"
   },
   {
    "duration": 24,
    "start_time": "2024-12-14T20:01:04.029Z"
   },
   {
    "duration": 4,
    "start_time": "2024-12-14T20:01:04.054Z"
   },
   {
    "duration": 18,
    "start_time": "2024-12-14T20:01:04.060Z"
   },
   {
    "duration": 42,
    "start_time": "2024-12-14T20:01:04.079Z"
   },
   {
    "duration": 17,
    "start_time": "2024-12-14T20:01:04.144Z"
   },
   {
    "duration": 4,
    "start_time": "2024-12-14T20:01:04.162Z"
   },
   {
    "duration": 3,
    "start_time": "2024-12-14T20:01:04.169Z"
   },
   {
    "duration": 4,
    "start_time": "2024-12-14T20:01:04.174Z"
   },
   {
    "duration": 4,
    "start_time": "2024-12-14T20:01:04.180Z"
   },
   {
    "duration": 761,
    "start_time": "2024-12-14T20:01:04.185Z"
   },
   {
    "duration": 115,
    "start_time": "2024-12-14T20:01:04.947Z"
   },
   {
    "duration": 6,
    "start_time": "2024-12-14T20:01:05.063Z"
   },
   {
    "duration": 6,
    "start_time": "2024-12-14T20:01:05.071Z"
   },
   {
    "duration": 6,
    "start_time": "2024-12-14T20:01:05.079Z"
   },
   {
    "duration": 7,
    "start_time": "2024-12-14T20:01:05.086Z"
   },
   {
    "duration": 9,
    "start_time": "2024-12-14T20:01:05.095Z"
   },
   {
    "duration": 5,
    "start_time": "2024-12-14T20:01:05.142Z"
   },
   {
    "duration": 21,
    "start_time": "2024-12-14T20:01:05.149Z"
   },
   {
    "duration": 11,
    "start_time": "2024-12-14T20:01:05.172Z"
   },
   {
    "duration": 21,
    "start_time": "2024-12-14T20:01:05.185Z"
   },
   {
    "duration": 49,
    "start_time": "2024-12-14T20:01:05.208Z"
   },
   {
    "duration": 15,
    "start_time": "2024-12-14T20:01:05.259Z"
   },
   {
    "duration": 5,
    "start_time": "2024-12-14T20:01:05.276Z"
   },
   {
    "duration": 41,
    "start_time": "2024-12-14T20:01:05.283Z"
   },
   {
    "duration": 26,
    "start_time": "2024-12-14T20:01:05.342Z"
   },
   {
    "duration": 22,
    "start_time": "2024-12-14T20:01:05.369Z"
   },
   {
    "duration": 207,
    "start_time": "2024-12-14T20:01:05.392Z"
   },
   {
    "duration": 167,
    "start_time": "2024-12-14T20:01:05.601Z"
   },
   {
    "duration": 205,
    "start_time": "2024-12-14T20:01:05.770Z"
   },
   {
    "duration": 46,
    "start_time": "2024-12-14T20:01:05.977Z"
   },
   {
    "duration": 21,
    "start_time": "2024-12-14T20:01:06.025Z"
   },
   {
    "duration": 276,
    "start_time": "2024-12-14T20:01:06.047Z"
   },
   {
    "duration": 8,
    "start_time": "2024-12-14T20:01:06.324Z"
   },
   {
    "duration": 108,
    "start_time": "2024-12-14T20:01:06.343Z"
   },
   {
    "duration": 98,
    "start_time": "2024-12-14T20:01:06.453Z"
   },
   {
    "duration": 271,
    "start_time": "2024-12-14T20:01:06.553Z"
   },
   {
    "duration": 5,
    "start_time": "2024-12-14T20:01:06.826Z"
   },
   {
    "duration": 242,
    "start_time": "2024-12-14T20:01:06.833Z"
   },
   {
    "duration": 119,
    "start_time": "2024-12-14T20:01:07.077Z"
   },
   {
    "duration": 9,
    "start_time": "2024-12-14T20:01:07.197Z"
   },
   {
    "duration": 7,
    "start_time": "2024-12-14T20:01:07.207Z"
   },
   {
    "duration": 146,
    "start_time": "2024-12-14T20:01:07.217Z"
   },
   {
    "duration": 8,
    "start_time": "2024-12-14T20:01:07.365Z"
   },
   {
    "duration": 10,
    "start_time": "2024-12-14T20:01:07.376Z"
   },
   {
    "duration": 13,
    "start_time": "2024-12-14T20:01:07.387Z"
   },
   {
    "duration": 1249,
    "start_time": "2024-12-14T20:01:07.402Z"
   },
   {
    "duration": 145,
    "start_time": "2024-12-14T20:01:08.652Z"
   },
   {
    "duration": 655,
    "start_time": "2024-12-14T20:01:08.799Z"
   },
   {
    "duration": 123,
    "start_time": "2024-12-14T20:01:09.456Z"
   },
   {
    "duration": 75,
    "start_time": "2024-12-14T20:01:09.581Z"
   },
   {
    "duration": 2565,
    "start_time": "2024-12-15T04:17:19.781Z"
   },
   {
    "duration": 0,
    "start_time": "2024-12-15T04:17:22.351Z"
   },
   {
    "duration": 0,
    "start_time": "2024-12-15T04:17:22.352Z"
   },
   {
    "duration": 0,
    "start_time": "2024-12-15T04:17:22.354Z"
   },
   {
    "duration": 0,
    "start_time": "2024-12-15T04:17:22.369Z"
   },
   {
    "duration": 0,
    "start_time": "2024-12-15T04:17:22.371Z"
   },
   {
    "duration": 0,
    "start_time": "2024-12-15T04:17:22.372Z"
   },
   {
    "duration": 0,
    "start_time": "2024-12-15T04:17:22.374Z"
   },
   {
    "duration": 0,
    "start_time": "2024-12-15T04:17:22.375Z"
   },
   {
    "duration": 0,
    "start_time": "2024-12-15T04:17:22.377Z"
   },
   {
    "duration": 0,
    "start_time": "2024-12-15T04:17:22.379Z"
   },
   {
    "duration": 0,
    "start_time": "2024-12-15T04:17:22.380Z"
   },
   {
    "duration": 0,
    "start_time": "2024-12-15T04:17:22.382Z"
   },
   {
    "duration": 0,
    "start_time": "2024-12-15T04:17:22.383Z"
   },
   {
    "duration": 0,
    "start_time": "2024-12-15T04:17:22.384Z"
   },
   {
    "duration": 0,
    "start_time": "2024-12-15T04:17:22.386Z"
   },
   {
    "duration": 0,
    "start_time": "2024-12-15T04:17:22.387Z"
   },
   {
    "duration": 0,
    "start_time": "2024-12-15T04:17:22.388Z"
   },
   {
    "duration": 0,
    "start_time": "2024-12-15T04:17:22.390Z"
   },
   {
    "duration": 0,
    "start_time": "2024-12-15T04:17:22.391Z"
   },
   {
    "duration": 0,
    "start_time": "2024-12-15T04:17:22.392Z"
   },
   {
    "duration": 0,
    "start_time": "2024-12-15T04:17:22.394Z"
   },
   {
    "duration": 0,
    "start_time": "2024-12-15T04:17:22.395Z"
   },
   {
    "duration": 0,
    "start_time": "2024-12-15T04:17:22.396Z"
   },
   {
    "duration": 0,
    "start_time": "2024-12-15T04:17:22.397Z"
   },
   {
    "duration": 0,
    "start_time": "2024-12-15T04:17:22.398Z"
   },
   {
    "duration": 0,
    "start_time": "2024-12-15T04:17:22.399Z"
   },
   {
    "duration": 0,
    "start_time": "2024-12-15T04:17:22.400Z"
   },
   {
    "duration": 0,
    "start_time": "2024-12-15T04:17:22.402Z"
   },
   {
    "duration": 0,
    "start_time": "2024-12-15T04:17:22.404Z"
   },
   {
    "duration": 0,
    "start_time": "2024-12-15T04:17:22.405Z"
   },
   {
    "duration": 0,
    "start_time": "2024-12-15T04:17:22.406Z"
   },
   {
    "duration": 0,
    "start_time": "2024-12-15T04:17:22.407Z"
   },
   {
    "duration": 0,
    "start_time": "2024-12-15T04:17:22.408Z"
   },
   {
    "duration": 0,
    "start_time": "2024-12-15T04:17:22.409Z"
   },
   {
    "duration": 0,
    "start_time": "2024-12-15T04:17:22.410Z"
   },
   {
    "duration": 0,
    "start_time": "2024-12-15T04:17:22.411Z"
   },
   {
    "duration": 0,
    "start_time": "2024-12-15T04:17:22.470Z"
   },
   {
    "duration": 0,
    "start_time": "2024-12-15T04:17:22.471Z"
   },
   {
    "duration": 0,
    "start_time": "2024-12-15T04:17:22.472Z"
   },
   {
    "duration": 0,
    "start_time": "2024-12-15T04:17:22.474Z"
   },
   {
    "duration": 0,
    "start_time": "2024-12-15T04:17:22.475Z"
   },
   {
    "duration": 0,
    "start_time": "2024-12-15T04:17:22.476Z"
   },
   {
    "duration": 0,
    "start_time": "2024-12-15T04:17:22.477Z"
   },
   {
    "duration": 0,
    "start_time": "2024-12-15T04:17:22.478Z"
   },
   {
    "duration": 0,
    "start_time": "2024-12-15T04:17:22.479Z"
   },
   {
    "duration": 0,
    "start_time": "2024-12-15T04:17:22.480Z"
   },
   {
    "duration": 0,
    "start_time": "2024-12-15T04:17:22.481Z"
   },
   {
    "duration": 0,
    "start_time": "2024-12-15T04:17:22.482Z"
   },
   {
    "duration": 0,
    "start_time": "2024-12-15T04:17:22.484Z"
   },
   {
    "duration": 0,
    "start_time": "2024-12-15T04:17:22.484Z"
   },
   {
    "duration": 0,
    "start_time": "2024-12-15T04:17:22.488Z"
   },
   {
    "duration": 0,
    "start_time": "2024-12-15T04:17:22.489Z"
   },
   {
    "duration": 0,
    "start_time": "2024-12-15T04:17:22.490Z"
   },
   {
    "duration": 0,
    "start_time": "2024-12-15T04:17:22.490Z"
   },
   {
    "duration": 0,
    "start_time": "2024-12-15T04:17:22.492Z"
   },
   {
    "duration": 0,
    "start_time": "2024-12-15T04:17:22.492Z"
   },
   {
    "duration": 0,
    "start_time": "2024-12-15T04:17:22.493Z"
   },
   {
    "duration": 0,
    "start_time": "2024-12-15T04:17:22.495Z"
   },
   {
    "duration": 0,
    "start_time": "2024-12-15T04:17:22.496Z"
   },
   {
    "duration": 0,
    "start_time": "2024-12-15T04:17:22.497Z"
   },
   {
    "duration": 0,
    "start_time": "2024-12-15T04:17:22.498Z"
   },
   {
    "duration": 0,
    "start_time": "2024-12-15T04:17:22.499Z"
   },
   {
    "duration": 0,
    "start_time": "2024-12-15T04:17:22.500Z"
   },
   {
    "duration": 0,
    "start_time": "2024-12-15T04:17:22.502Z"
   },
   {
    "duration": 3,
    "start_time": "2024-12-15T04:17:29.629Z"
   },
   {
    "duration": 337,
    "start_time": "2024-12-15T04:17:29.634Z"
   },
   {
    "duration": 0,
    "start_time": "2024-12-15T04:17:29.975Z"
   },
   {
    "duration": 1,
    "start_time": "2024-12-15T04:17:29.976Z"
   },
   {
    "duration": 0,
    "start_time": "2024-12-15T04:17:29.978Z"
   },
   {
    "duration": 0,
    "start_time": "2024-12-15T04:17:29.979Z"
   },
   {
    "duration": 0,
    "start_time": "2024-12-15T04:17:29.980Z"
   },
   {
    "duration": 0,
    "start_time": "2024-12-15T04:17:29.982Z"
   },
   {
    "duration": 0,
    "start_time": "2024-12-15T04:17:29.984Z"
   },
   {
    "duration": 0,
    "start_time": "2024-12-15T04:17:29.985Z"
   },
   {
    "duration": 0,
    "start_time": "2024-12-15T04:17:29.987Z"
   },
   {
    "duration": 0,
    "start_time": "2024-12-15T04:17:29.988Z"
   },
   {
    "duration": 0,
    "start_time": "2024-12-15T04:17:29.989Z"
   },
   {
    "duration": 0,
    "start_time": "2024-12-15T04:17:29.990Z"
   },
   {
    "duration": 0,
    "start_time": "2024-12-15T04:17:29.991Z"
   },
   {
    "duration": 0,
    "start_time": "2024-12-15T04:17:29.992Z"
   },
   {
    "duration": 0,
    "start_time": "2024-12-15T04:17:29.993Z"
   },
   {
    "duration": 0,
    "start_time": "2024-12-15T04:17:29.994Z"
   },
   {
    "duration": 0,
    "start_time": "2024-12-15T04:17:29.995Z"
   },
   {
    "duration": 0,
    "start_time": "2024-12-15T04:17:29.996Z"
   },
   {
    "duration": 0,
    "start_time": "2024-12-15T04:17:29.997Z"
   },
   {
    "duration": 0,
    "start_time": "2024-12-15T04:17:29.999Z"
   },
   {
    "duration": 0,
    "start_time": "2024-12-15T04:17:30.000Z"
   },
   {
    "duration": 0,
    "start_time": "2024-12-15T04:17:30.001Z"
   },
   {
    "duration": 0,
    "start_time": "2024-12-15T04:17:30.002Z"
   },
   {
    "duration": 0,
    "start_time": "2024-12-15T04:17:30.003Z"
   },
   {
    "duration": 0,
    "start_time": "2024-12-15T04:17:30.004Z"
   },
   {
    "duration": 0,
    "start_time": "2024-12-15T04:17:30.005Z"
   },
   {
    "duration": 0,
    "start_time": "2024-12-15T04:17:30.006Z"
   },
   {
    "duration": 0,
    "start_time": "2024-12-15T04:17:30.007Z"
   },
   {
    "duration": 0,
    "start_time": "2024-12-15T04:17:30.008Z"
   },
   {
    "duration": 0,
    "start_time": "2024-12-15T04:17:30.009Z"
   },
   {
    "duration": 0,
    "start_time": "2024-12-15T04:17:30.010Z"
   },
   {
    "duration": 0,
    "start_time": "2024-12-15T04:17:30.011Z"
   },
   {
    "duration": 0,
    "start_time": "2024-12-15T04:17:30.012Z"
   },
   {
    "duration": 0,
    "start_time": "2024-12-15T04:17:30.013Z"
   },
   {
    "duration": 0,
    "start_time": "2024-12-15T04:17:30.014Z"
   },
   {
    "duration": 0,
    "start_time": "2024-12-15T04:17:30.070Z"
   },
   {
    "duration": 0,
    "start_time": "2024-12-15T04:17:30.071Z"
   },
   {
    "duration": 0,
    "start_time": "2024-12-15T04:17:30.072Z"
   },
   {
    "duration": 0,
    "start_time": "2024-12-15T04:17:30.073Z"
   },
   {
    "duration": 0,
    "start_time": "2024-12-15T04:17:30.074Z"
   },
   {
    "duration": 0,
    "start_time": "2024-12-15T04:17:30.075Z"
   },
   {
    "duration": 0,
    "start_time": "2024-12-15T04:17:30.076Z"
   },
   {
    "duration": 0,
    "start_time": "2024-12-15T04:17:30.076Z"
   },
   {
    "duration": 0,
    "start_time": "2024-12-15T04:17:30.078Z"
   },
   {
    "duration": 0,
    "start_time": "2024-12-15T04:17:30.080Z"
   },
   {
    "duration": 0,
    "start_time": "2024-12-15T04:17:30.081Z"
   },
   {
    "duration": 0,
    "start_time": "2024-12-15T04:17:30.082Z"
   },
   {
    "duration": 0,
    "start_time": "2024-12-15T04:17:30.083Z"
   },
   {
    "duration": 0,
    "start_time": "2024-12-15T04:17:30.084Z"
   },
   {
    "duration": 0,
    "start_time": "2024-12-15T04:17:30.086Z"
   },
   {
    "duration": 0,
    "start_time": "2024-12-15T04:17:30.088Z"
   },
   {
    "duration": 0,
    "start_time": "2024-12-15T04:17:30.089Z"
   },
   {
    "duration": 0,
    "start_time": "2024-12-15T04:17:30.091Z"
   },
   {
    "duration": 0,
    "start_time": "2024-12-15T04:17:30.092Z"
   },
   {
    "duration": 1,
    "start_time": "2024-12-15T04:17:30.092Z"
   },
   {
    "duration": 0,
    "start_time": "2024-12-15T04:17:30.094Z"
   },
   {
    "duration": 0,
    "start_time": "2024-12-15T04:17:30.095Z"
   },
   {
    "duration": 0,
    "start_time": "2024-12-15T04:17:30.096Z"
   },
   {
    "duration": 0,
    "start_time": "2024-12-15T04:17:30.097Z"
   },
   {
    "duration": 0,
    "start_time": "2024-12-15T04:17:30.098Z"
   },
   {
    "duration": 0,
    "start_time": "2024-12-15T04:17:30.099Z"
   },
   {
    "duration": 0,
    "start_time": "2024-12-15T04:17:30.100Z"
   },
   {
    "duration": 0,
    "start_time": "2024-12-15T04:17:30.101Z"
   },
   {
    "duration": 3,
    "start_time": "2024-12-15T04:17:42.459Z"
   },
   {
    "duration": 1026,
    "start_time": "2024-12-15T04:17:42.464Z"
   },
   {
    "duration": 8,
    "start_time": "2024-12-15T04:17:43.492Z"
   },
   {
    "duration": 7,
    "start_time": "2024-12-15T04:17:43.503Z"
   },
   {
    "duration": 9,
    "start_time": "2024-12-15T04:17:43.513Z"
   },
   {
    "duration": 24,
    "start_time": "2024-12-15T04:17:43.524Z"
   },
   {
    "duration": 11,
    "start_time": "2024-12-15T04:17:43.569Z"
   },
   {
    "duration": 105,
    "start_time": "2024-12-15T04:17:43.581Z"
   },
   {
    "duration": 10,
    "start_time": "2024-12-15T04:17:43.688Z"
   },
   {
    "duration": 112,
    "start_time": "2024-12-15T04:17:43.702Z"
   },
   {
    "duration": 89,
    "start_time": "2024-12-15T04:17:43.815Z"
   },
   {
    "duration": 28,
    "start_time": "2024-12-15T04:17:43.906Z"
   },
   {
    "duration": 13,
    "start_time": "2024-12-15T04:17:43.936Z"
   },
   {
    "duration": 22,
    "start_time": "2024-12-15T04:17:43.950Z"
   },
   {
    "duration": 19,
    "start_time": "2024-12-15T04:17:43.974Z"
   },
   {
    "duration": 43,
    "start_time": "2024-12-15T04:17:43.995Z"
   },
   {
    "duration": 42,
    "start_time": "2024-12-15T04:17:44.040Z"
   },
   {
    "duration": 4,
    "start_time": "2024-12-15T04:17:44.084Z"
   },
   {
    "duration": 3,
    "start_time": "2024-12-15T04:17:44.090Z"
   },
   {
    "duration": 5,
    "start_time": "2024-12-15T04:17:44.095Z"
   },
   {
    "duration": 3,
    "start_time": "2024-12-15T04:17:44.102Z"
   },
   {
    "duration": 796,
    "start_time": "2024-12-15T04:17:44.106Z"
   },
   {
    "duration": 141,
    "start_time": "2024-12-15T04:17:44.903Z"
   },
   {
    "duration": 6,
    "start_time": "2024-12-15T04:17:45.046Z"
   },
   {
    "duration": 8,
    "start_time": "2024-12-15T04:17:45.069Z"
   },
   {
    "duration": 6,
    "start_time": "2024-12-15T04:17:45.078Z"
   },
   {
    "duration": 7,
    "start_time": "2024-12-15T04:17:45.086Z"
   },
   {
    "duration": 10,
    "start_time": "2024-12-15T04:17:45.098Z"
   },
   {
    "duration": 6,
    "start_time": "2024-12-15T04:17:45.109Z"
   },
   {
    "duration": 12,
    "start_time": "2024-12-15T04:17:45.116Z"
   },
   {
    "duration": 46,
    "start_time": "2024-12-15T04:17:45.130Z"
   },
   {
    "duration": 16,
    "start_time": "2024-12-15T04:17:45.178Z"
   },
   {
    "duration": 32,
    "start_time": "2024-12-15T04:17:45.196Z"
   },
   {
    "duration": 40,
    "start_time": "2024-12-15T04:17:45.230Z"
   },
   {
    "duration": 63,
    "start_time": "2024-12-15T04:17:45.272Z"
   },
   {
    "duration": 53,
    "start_time": "2024-12-15T04:17:45.337Z"
   },
   {
    "duration": 27,
    "start_time": "2024-12-15T04:17:45.391Z"
   },
   {
    "duration": 23,
    "start_time": "2024-12-15T04:17:45.420Z"
   },
   {
    "duration": 216,
    "start_time": "2024-12-15T04:17:45.444Z"
   },
   {
    "duration": 168,
    "start_time": "2024-12-15T04:17:45.662Z"
   },
   {
    "duration": 204,
    "start_time": "2024-12-15T04:17:45.832Z"
   },
   {
    "duration": 53,
    "start_time": "2024-12-15T04:17:46.038Z"
   },
   {
    "duration": 5,
    "start_time": "2024-12-15T04:17:46.092Z"
   },
   {
    "duration": 314,
    "start_time": "2024-12-15T04:17:46.099Z"
   },
   {
    "duration": 7,
    "start_time": "2024-12-15T04:17:46.415Z"
   },
   {
    "duration": 124,
    "start_time": "2024-12-15T04:17:46.424Z"
   },
   {
    "duration": 432,
    "start_time": "2024-12-15T04:17:46.550Z"
   },
   {
    "duration": 0,
    "start_time": "2024-12-15T04:17:46.984Z"
   },
   {
    "duration": 0,
    "start_time": "2024-12-15T04:17:46.985Z"
   },
   {
    "duration": 0,
    "start_time": "2024-12-15T04:17:46.986Z"
   },
   {
    "duration": 0,
    "start_time": "2024-12-15T04:17:46.987Z"
   },
   {
    "duration": 0,
    "start_time": "2024-12-15T04:17:46.989Z"
   },
   {
    "duration": 0,
    "start_time": "2024-12-15T04:17:46.990Z"
   },
   {
    "duration": 0,
    "start_time": "2024-12-15T04:17:46.992Z"
   },
   {
    "duration": 0,
    "start_time": "2024-12-15T04:17:46.993Z"
   },
   {
    "duration": 0,
    "start_time": "2024-12-15T04:17:46.995Z"
   },
   {
    "duration": 0,
    "start_time": "2024-12-15T04:17:46.996Z"
   },
   {
    "duration": 0,
    "start_time": "2024-12-15T04:17:46.997Z"
   },
   {
    "duration": 0,
    "start_time": "2024-12-15T04:17:46.998Z"
   },
   {
    "duration": 0,
    "start_time": "2024-12-15T04:17:46.999Z"
   },
   {
    "duration": 0,
    "start_time": "2024-12-15T04:17:47.000Z"
   },
   {
    "duration": 0,
    "start_time": "2024-12-15T04:17:47.001Z"
   },
   {
    "duration": 0,
    "start_time": "2024-12-15T04:17:47.002Z"
   },
   {
    "duration": 0,
    "start_time": "2024-12-15T04:17:47.003Z"
   },
   {
    "duration": 0,
    "start_time": "2024-12-15T04:17:47.004Z"
   },
   {
    "duration": 232,
    "start_time": "2024-12-15T04:18:13.696Z"
   },
   {
    "duration": 236,
    "start_time": "2024-12-15T04:20:17.604Z"
   },
   {
    "duration": 5,
    "start_time": "2024-12-15T04:20:18.163Z"
   },
   {
    "duration": 224,
    "start_time": "2024-12-15T04:20:18.900Z"
   },
   {
    "duration": 110,
    "start_time": "2024-12-15T04:20:20.510Z"
   },
   {
    "duration": 8,
    "start_time": "2024-12-15T04:20:20.679Z"
   },
   {
    "duration": 8,
    "start_time": "2024-12-15T04:20:20.843Z"
   },
   {
    "duration": 185,
    "start_time": "2024-12-15T04:20:21.019Z"
   },
   {
    "duration": 127,
    "start_time": "2024-12-15T04:20:28.859Z"
   },
   {
    "duration": 8,
    "start_time": "2024-12-15T04:20:29.549Z"
   },
   {
    "duration": 12,
    "start_time": "2024-12-15T04:20:29.906Z"
   },
   {
    "duration": 15,
    "start_time": "2024-12-15T04:20:30.555Z"
   },
   {
    "duration": 1284,
    "start_time": "2024-12-15T04:20:33.268Z"
   },
   {
    "duration": 135,
    "start_time": "2024-12-15T04:20:34.554Z"
   },
   {
    "duration": 687,
    "start_time": "2024-12-15T04:20:36.270Z"
   },
   {
    "duration": 126,
    "start_time": "2024-12-15T04:20:36.959Z"
   },
   {
    "duration": 77,
    "start_time": "2024-12-15T04:20:37.260Z"
   },
   {
    "duration": 259,
    "start_time": "2024-12-15T04:20:37.980Z"
   },
   {
    "duration": 205,
    "start_time": "2024-12-15T04:21:18.514Z"
   },
   {
    "duration": 122,
    "start_time": "2024-12-15T04:21:32.404Z"
   }
  ],
  "colab": {
   "provenance": []
  },
  "kernelspec": {
   "display_name": "base",
   "language": "python",
   "name": "python3"
  },
  "language_info": {
   "codemirror_mode": {
    "name": "ipython",
    "version": 3
   },
   "file_extension": ".py",
   "mimetype": "text/x-python",
   "name": "python",
   "nbconvert_exporter": "python",
   "pygments_lexer": "ipython3",
   "version": "3.12.7"
  },
  "toc": {
   "base_numbering": 1,
   "nav_menu": {},
   "number_sections": true,
   "sideBar": true,
   "skip_h1_title": true,
   "title_cell": "Table of Contents",
   "title_sidebar": "Contents",
   "toc_cell": false,
   "toc_position": {},
   "toc_section_display": true,
   "toc_window_display": false
  }
 },
 "nbformat": 4,
 "nbformat_minor": 5
}
