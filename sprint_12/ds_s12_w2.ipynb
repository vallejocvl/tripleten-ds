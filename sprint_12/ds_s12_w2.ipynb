{
  "cells": [
    {
      "cell_type": "code",
      "execution_count": 2,
      "id": "7c1f8483",
      "metadata": {
        "id": "7c1f8483"
      },
      "outputs": [],
      "source": [
        "import pandas as pd\n",
        "import numpy as np\n",
        "from sklearn.datasets import load_iris, load_breast_cancer, fetch_california_housing,fetch_openml, make_classification\n",
        "from sklearn.linear_model import Lasso, LogisticRegression\n",
        "from sklearn.ensemble import RandomForestClassifier\n",
        "from sklearn.model_selection import train_test_split, GridSearchCV, StratifiedKFold\n",
        "from sklearn.feature_selection import SelectKBest, chi2, RFECV\n",
        "from sklearn.preprocessing import MinMaxScaler, StandardScaler, LabelEncoder\n",
        "from sklearn.impute import SimpleImputer\n",
        "from sklearn.pipeline import Pipeline\n",
        "from sklearn.metrics import accuracy_score, f1_score\n",
        "import matplotlib.pyplot as plt\n",
        "import time"
      ]
    },
    {
      "cell_type": "code",
      "execution_count": null,
      "id": "7a9dd355",
      "metadata": {
        "id": "7a9dd355",
        "outputId": "8a097d0b-0eb1-4c6c-a164-862510f59907"
      },
      "outputs": [
        {
          "name": "stdout",
          "output_type": "stream",
          "text": [
            "Collecting mrmr_selection\n",
            "  Downloading mrmr_selection-0.2.8-py3-none-any.whl (15 kB)\n",
            "Requirement already satisfied: jinja2 in /Volumes/Carlos Vallejo SSD/Triple Ten/tripleten-ds/ttds_venv/lib/python3.10/site-packages (from mrmr_selection) (3.1.6)\n",
            "Collecting polars>=0.12.5\n",
            "  Downloading polars-1.29.0-cp39-abi3-macosx_11_0_arm64.whl (31.1 MB)\n",
            "\u001b[2K     \u001b[90m━━━━━━━━━━━━━━━━━━━━━━━━━━━━━━━━━━━━━━━━\u001b[0m \u001b[32m31.1/31.1 MB\u001b[0m \u001b[31m14.6 MB/s\u001b[0m eta \u001b[36m0:00:00\u001b[0m00:01\u001b[0m00:01\u001b[0m\n",
            "\u001b[?25hRequirement already satisfied: scikit-learn in /Volumes/Carlos Vallejo SSD/Triple Ten/tripleten-ds/ttds_venv/lib/python3.10/site-packages (from mrmr_selection) (1.5.1)\n",
            "Requirement already satisfied: category-encoders in /Volumes/Carlos Vallejo SSD/Triple Ten/tripleten-ds/ttds_venv/lib/python3.10/site-packages (from mrmr_selection) (2.6.3)\n",
            "Requirement already satisfied: pandas>=1.0.3 in /Volumes/Carlos Vallejo SSD/Triple Ten/tripleten-ds/ttds_venv/lib/python3.10/site-packages (from mrmr_selection) (2.2.2)\n",
            "Requirement already satisfied: tqdm in /Volumes/Carlos Vallejo SSD/Triple Ten/tripleten-ds/ttds_venv/lib/python3.10/site-packages (from mrmr_selection) (4.67.1)\n",
            "Requirement already satisfied: scipy in /Volumes/Carlos Vallejo SSD/Triple Ten/tripleten-ds/ttds_venv/lib/python3.10/site-packages (from mrmr_selection) (1.15.2)\n",
            "Requirement already satisfied: joblib in /Volumes/Carlos Vallejo SSD/Triple Ten/tripleten-ds/ttds_venv/lib/python3.10/site-packages (from mrmr_selection) (1.5.0)\n",
            "Requirement already satisfied: numpy>=1.18.1 in /Volumes/Carlos Vallejo SSD/Triple Ten/tripleten-ds/ttds_venv/lib/python3.10/site-packages (from mrmr_selection) (2.1.1)\n",
            "Requirement already satisfied: tzdata>=2022.7 in /Volumes/Carlos Vallejo SSD/Triple Ten/tripleten-ds/ttds_venv/lib/python3.10/site-packages (from pandas>=1.0.3->mrmr_selection) (2025.2)\n",
            "Requirement already satisfied: pytz>=2020.1 in /Volumes/Carlos Vallejo SSD/Triple Ten/tripleten-ds/ttds_venv/lib/python3.10/site-packages (from pandas>=1.0.3->mrmr_selection) (2025.2)\n",
            "Requirement already satisfied: python-dateutil>=2.8.2 in /Volumes/Carlos Vallejo SSD/Triple Ten/tripleten-ds/ttds_venv/lib/python3.10/site-packages (from pandas>=1.0.3->mrmr_selection) (2.9.0)\n",
            "Requirement already satisfied: statsmodels>=0.9.0 in /Volumes/Carlos Vallejo SSD/Triple Ten/tripleten-ds/ttds_venv/lib/python3.10/site-packages (from category-encoders->mrmr_selection) (0.14.4)\n",
            "Requirement already satisfied: patsy>=0.5.1 in /Volumes/Carlos Vallejo SSD/Triple Ten/tripleten-ds/ttds_venv/lib/python3.10/site-packages (from category-encoders->mrmr_selection) (1.0.1)\n",
            "Requirement already satisfied: threadpoolctl>=3.1.0 in /Volumes/Carlos Vallejo SSD/Triple Ten/tripleten-ds/ttds_venv/lib/python3.10/site-packages (from scikit-learn->mrmr_selection) (3.6.0)\n",
            "Requirement already satisfied: MarkupSafe>=2.0 in /Volumes/Carlos Vallejo SSD/Triple Ten/tripleten-ds/ttds_venv/lib/python3.10/site-packages (from jinja2->mrmr_selection) (3.0.2)\n",
            "Requirement already satisfied: six>=1.5 in /Volumes/Carlos Vallejo SSD/Triple Ten/tripleten-ds/ttds_venv/lib/python3.10/site-packages (from python-dateutil>=2.8.2->pandas>=1.0.3->mrmr_selection) (1.17.0)\n",
            "Requirement already satisfied: packaging>=21.3 in /Volumes/Carlos Vallejo SSD/Triple Ten/tripleten-ds/ttds_venv/lib/python3.10/site-packages (from statsmodels>=0.9.0->category-encoders->mrmr_selection) (24.2)\n",
            "Installing collected packages: polars, mrmr_selection\n",
            "Successfully installed mrmr_selection-0.2.8 polars-1.29.0\n",
            "\n",
            "\u001b[1m[\u001b[0m\u001b[34;49mnotice\u001b[0m\u001b[1;39;49m]\u001b[0m\u001b[39;49m A new release of pip is available: \u001b[0m\u001b[31;49m23.0.1\u001b[0m\u001b[39;49m -> \u001b[0m\u001b[32;49m25.1.1\u001b[0m\n",
            "\u001b[1m[\u001b[0m\u001b[34;49mnotice\u001b[0m\u001b[1;39;49m]\u001b[0m\u001b[39;49m To update, run: \u001b[0m\u001b[32;49mpip install --upgrade pip\u001b[0m\n",
            "Note: you may need to restart the kernel to use updated packages.\n"
          ]
        }
      ],
      "source": [
        "#!pip install mrmr_selection"
      ]
    },
    {
      "cell_type": "code",
      "execution_count": 3,
      "id": "0c44f840",
      "metadata": {
        "id": "0c44f840"
      },
      "outputs": [],
      "source": [
        "import mrmr"
      ]
    },
    {
      "cell_type": "markdown",
      "id": "471d5c2b",
      "metadata": {
        "id": "471d5c2b"
      },
      "source": [
        "# 🧠 Selección de características (Feature Selection)\n",
        "\n",
        "## ¿Qué es?\n",
        "\n",
        "En ciencia de datos, muchas veces tenemos **muchas columnas (o \"features\")** en una tabla de datos. Pero **no todas las columnas son igual de útiles** para hacer predicciones o entender el problema.\n",
        "\n",
        "La **selección de características** (en inglés *feature selection*) es el proceso de **elegir solo las columnas más importantes** para nuestro análisis o modelo de machine learning.\n",
        "\n",
        "---\n",
        "\n",
        "## 🎯 ¿Por qué es importante?\n",
        "\n",
        "- Mejora la **precisión** del modelo.\n",
        "- Reduce el **tiempo de entrenamiento** y la complejidad.\n",
        "- Evita que el modelo aprenda \"ruido\" o datos irrelevantes.\n",
        "- Hace que los resultados sean más fáciles de interpretar.\n",
        "\n",
        "---\n",
        "\n",
        "## 🧑‍🍳 Ejemplo del mundo real\n",
        "\n",
        "Imagina que eres chef y quieres predecir si a alguien le va a gustar una receta. Tienes datos como:\n",
        "\n",
        "- Edad del comensal  \n",
        "- Si le gusta el picante  \n",
        "- Tamaño del plato  \n",
        "- Marca del horno usado  \n",
        "- Número de letras en el nombre del plato  \n",
        "- Ingredientes principales\n",
        "\n",
        "Claramente, algunas columnas no tienen mucha relación con el gusto (por ejemplo, la **marca del horno** o el **número de letras**). Entonces, al hacer *feature selection*, te quedas solo con las **columnas relevantes**, como si le gusta el picante o los ingredientes.\n",
        "\n",
        "---\n",
        "\n",
        "## ✅ ¿Cómo se puede hacer?\n",
        "\n",
        "Existen varias formas de hacer feature selection. Algunas comunes son:\n",
        "\n",
        "- Usar **correlaciones** para ver qué columnas se relacionan con la variable que queremos predecir.\n",
        "- Usar modelos como árboles de decisión para ver qué columnas considera importantes.\n",
        "- Eliminar columnas con **muchos valores faltantes** o que tienen el **mismo valor en casi todos los registros**.\n",
        "\n",
        "En el siguiente bloque de código, veremos un ejemplo práctico. 👇\n"
      ]
    },
    {
      "cell_type": "code",
      "execution_count": null,
      "id": "c0850e3b",
      "metadata": {
        "id": "c0850e3b",
        "outputId": "61e69240-d159-4b76-f5ae-1c453f868ea9"
      },
      "outputs": [
        {
          "name": "stdout",
          "output_type": "stream",
          "text": [
            "🎯 Importancia de cada feature:\n",
            "             feature  importancia\n",
            "2  petal length (cm)     0.437380\n",
            "3   petal width (cm)     0.391590\n",
            "0  sepal length (cm)     0.138476\n",
            "1   sepal width (cm)     0.032554\n"
          ]
        },
        {
          "data": {
            "image/png": "[encoded data removed]",
            "text/plain": [
              "<Figure size 640x480 with 1 Axes>"
            ]
          },
          "metadata": {},
          "output_type": "display_data"
        }
      ],
      "source": [
        "# Cargar un conjunto de datos clásico (flores iris)\n",
        "iris = load_iris()\n",
        "df = pd.DataFrame(iris.data, columns=iris.feature_names)\n",
        "df[\"target\"] = iris.target\n",
        "\n",
        "# Crear modelo\n",
        "model = RandomForestClassifier()\n",
        "model.fit(df[iris.feature_names], df[\"target\"])\n",
        "\n",
        "# Mostrar la importancia de cada columna\n",
        "importancias = model.feature_importances_\n",
        "\n",
        "# Crear tabla con resultados\n",
        "importancia_df = pd.DataFrame({\n",
        "    'feature': iris.feature_names,\n",
        "    'importancia': importancias\n",
        "}).sort_values(by='importancia', ascending=False)\n",
        "\n",
        "print(\"🎯 Importancia de cada feature:\")\n",
        "print(importancia_df)\n",
        "\n",
        "# Graficar\n",
        "plt.barh(importancia_df['feature'], importancia_df['importancia'])\n",
        "plt.xlabel(\"Importancia\")\n",
        "plt.title(\"Importancia de las características (features)\")\n",
        "plt.gca().invert_yaxis()\n",
        "plt.show()"
      ]
    },
    {
      "cell_type": "markdown",
      "id": "0c8bbfdc",
      "metadata": {
        "id": "0c8bbfdc"
      },
      "source": [
        "# 🧠 Métodos de Feature Selection: Con y Sin Interacción entre Features"
      ]
    },
    {
      "cell_type": "markdown",
      "id": "2ea23c0f",
      "metadata": {
        "id": "2ea23c0f"
      },
      "source": [
        "## 👈 1. Métodos que **NO tienen en cuenta la interacción** entre las columnas (features)\n",
        "\n",
        "Estos métodos analizan **cada columna por separado**, sin considerar cómo se combinan o influyen entre sí. Son simples y rápidos.\n",
        "\n",
        "### 🔧 Técnicas comunes:\n",
        "\n",
        "- **Filtro por correlación**: Elimina columnas que tienen poca o ninguna relación con la variable objetivo.\n",
        "- **Chi-cuadrado (Chi²)**: Evalúa si una columna categórica y la variable objetivo están relacionadas.\n",
        "- **Varianza baja**: Elimina columnas que casi no cambian (por ejemplo, una columna que siempre tiene el mismo valor).\n",
        "- **Selección univariante (SelectKBest)**: Prueba cada columna individualmente con una prueba estadística.\n",
        "\n",
        "📌 Útiles cuando:\n",
        "- Se quiere una primera limpieza de columnas irrelevantes.\n",
        "- No hay mucho poder computacional."
      ]
    },
    {
      "cell_type": "markdown",
      "id": "5e1eeff9",
      "metadata": {
        "id": "5e1eeff9"
      },
      "source": [
        "## 🎯 SelectKBest: Selección univariante de columnas\n",
        "\n",
        "`SelectKBest` es una técnica que **evalúa cada columna (feature) de forma individual** y selecciona las mejores según una medida estadística.\n",
        "\n",
        "👉 Esto es útil como primer filtro para eliminar columnas irrelevantes, sin necesidad de entrenar un modelo.\n",
        "\n",
        "---\n",
        "\n",
        "### 🧪 Parámetro `score_func`: ¿Cómo decide qué columnas son \"las mejores\"?\n",
        "\n",
        "El parámetro `score_func` define **la prueba estadística** que se usará para puntuar cada columna. Aquí están las opciones más comunes y cuándo usarlas:\n",
        "\n",
        "---\n",
        "\n",
        "#### 1. `chi2`: Prueba chi-cuadrado\n",
        "\n",
        "- 📊 Tipo de datos: **Features categóricas o numéricas positivas (escaladas)** y **objetivo categórico**.\n",
        "- 🧠 ¿Qué mide?: Qué tan dependiente es una columna respecto a la variable objetivo.\n",
        "- 🧪 Ejemplo: Evaluar si el número de compras está relacionado con el género (masculino/femenino).\n",
        "- ⚠️ Requiere que los valores sean **mayores o iguales a 0** (usar `MinMaxScaler` si son numéricos).\n",
        "\n",
        "---\n",
        "\n",
        "#### 2. `f_classif`: Prueba ANOVA F (para clasificación)\n",
        "\n",
        "- 📊 Tipo de datos: **Features numéricas** y **objetivo categórico**.\n",
        "- 🧠 ¿Qué mide?: Si las medias de una feature cambian significativamente entre diferentes clases.\n",
        "- 🧪 Ejemplo: Evaluar si la altura promedio cambia entre pacientes con o sin enfermedad.\n",
        "- ✅ Muy usado cuando la tarea es **clasificación**.\n",
        "\n",
        "---\n",
        "\n",
        "#### 3. `f_regression`: Prueba F para regresión\n",
        "\n",
        "- 📊 Tipo de datos: **Features numéricas** y **objetivo numérico continuo**.\n",
        "- 🧠 ¿Qué mide?: Cuánto contribuye una feature a predecir una variable numérica.\n",
        "- 🧪 Ejemplo: Ver qué columnas ayudan más a predecir el precio de una casa.\n",
        "- ✅ Usado en tareas de **regresión** (predicción de valores continuos).\n",
        "\n",
        "---\n",
        "\n",
        "### 🧠 Recomendación general\n",
        "\n",
        "| score_func    | Tarea del modelo | Tipo de variable objetivo | Tipo de features   |\n",
        "|---------------|------------------|----------------------------|--------------------|\n",
        "| `chi2`        | Clasificación    | Categórica                 | Categóricas o numéricas positivas |\n",
        "| `f_classif`   | Clasificación    | Categórica                 | Numéricas          |\n",
        "| `f_regression`| Regresión        | Numérica continua          | Numéricas          |\n",
        "\n",
        "Usa este método como **primer paso** antes de entrenar un modelo más complejo 🚀\n"
      ]
    },
    {
      "cell_type": "code",
      "execution_count": null,
      "id": "e2cb8ff1",
      "metadata": {
        "id": "e2cb8ff1",
        "outputId": "afa77e0e-7ca0-4030-9d5c-f413e370f6cb"
      },
      "outputs": [
        {
          "name": "stdout",
          "output_type": "stream",
          "text": [
            "✅ Features seleccionadas (sin interacción):\n",
            "['mean concavity', 'mean concave points', 'worst perimeter', 'worst area', 'worst concave points']\n"
          ]
        }
      ],
      "source": [
        "# Cargar dataset\n",
        "data = load_breast_cancer()\n",
        "X = pd.DataFrame(data.data, columns=data.feature_names)\n",
        "y = data.target\n",
        "\n",
        "# Escalar los datos para que chi2 funcione correctamente\n",
        "X_scaled = MinMaxScaler().fit_transform(X)\n",
        "\n",
        "# Aplicar SelectKBest con prueba chi-cuadrado\n",
        "selector = SelectKBest(score_func=chi2, k=5)\n",
        "X_new = selector.fit_transform(X_scaled, y)\n",
        "\n",
        "# Mostrar las columnas seleccionadas\n",
        "selected_features = X.columns[selector.get_support()]\n",
        "print(\"✅ Features seleccionadas (sin interacción):\")\n",
        "print(selected_features.tolist())\n"
      ]
    },
    {
      "cell_type": "markdown",
      "id": "1baaad6e",
      "metadata": {
        "id": "1baaad6e"
      },
      "source": [
        "-----------"
      ]
    },
    {
      "cell_type": "markdown",
      "id": "49869b1a",
      "metadata": {
        "id": "49869b1a"
      },
      "source": [
        "## 🤝 2. Métodos que **SÍ tienen en cuenta la interacción** entre columnas\n",
        "\n",
        "Estos métodos consideran **cómo se combinan varias columnas** para hacer mejores predicciones. Son más avanzados y cercanos al funcionamiento real de los modelos.\n",
        "\n",
        "#### 🔧 Técnicas comunes:\n",
        "\n",
        "- **Lasso (con regularización L1)**: Penaliza columnas menos importantes, dejando solo las esenciales.\n",
        "- **MRMR**:Minima redundancia / Maxima relevancia.\n",
        "- **Modelos de árboles (Random Forest, XGBoost)**: Analizan combinaciones de columnas para predecir la variable objetivo.\n",
        "- **RFECV (Recursive Feature Elimination)**: Quita columnas una por una, evaluando el desempeño del modelo cada vez con cross validation.\n",
        "\n",
        "📌 Útiles cuando:\n",
        "- Queremos construir un modelo con alto rendimiento.\n",
        "- Queremos entender **cómo trabajan juntas** las variables para influir en la predicción.\n",
        "\n",
        "---\n",
        "\n",
        "En los siguientes bloques de código veremos un ejemplo de cada tipo. 👇"
      ]
    },
    {
      "cell_type": "markdown",
      "id": "1dbefcc2",
      "metadata": {
        "id": "1dbefcc2"
      },
      "source": [
        "## 🧮 LASSO: Selección de características con regresión\n",
        "\n",
        "### 🧠 ¿Qué es LASSO?\n",
        "\n",
        "LASSO (Least Absolute Shrinkage and Selection Operator) es una técnica de regresión que **no solo hace predicciones**, sino que también **selecciona automáticamente las columnas más importantes** para el modelo.\n",
        "\n",
        "---\n",
        "\n",
        "### 🧰 ¿Cómo funciona?\n",
        "\n",
        "LASSO funciona como un modelo de regresión tradicional (como predecir el precio de una casa), pero con una diferencia clave:\n",
        "\n",
        "👉 Le **\"penaliza\"** a las columnas que no ayudan mucho a la predicción.  \n",
        "👉 Si una columna no aporta información útil, LASSO le pone un **peso de cero**, es decir, la **descarta automáticamente**.\n",
        "\n",
        "Es como si estuvieras en un grupo de trabajo: si alguien no está aportando al proyecto, LASSO le dice \"¡gracias, pero no más!\" 😄\n",
        "\n",
        "---\n",
        "\n",
        "### 📉 ¿Por qué es útil?\n",
        "\n",
        "- Elimina automáticamente las columnas irrelevantes.\n",
        "- Ayuda a evitar el sobreajuste (cuando el modelo aprende ruido en lugar de patrones reales).\n",
        "- Hace que los modelos sean más simples y fáciles de interpretar.\n",
        "\n",
        "---\n",
        "\n",
        "### 📌 ¿Cuándo usar LASSO?\n",
        "\n",
        "- Cuando tienes **muchas columnas** y no sabes cuáles son realmente importantes.\n",
        "- Cuando necesitas **entender mejor** qué variables afectan la predicción.\n",
        "- Cuando quieres un modelo más **simple y rápido**.\n",
        "\n",
        "---\n",
        "\n",
        "### 🎯 Ejemplo del mundo real\n",
        "\n",
        "Imagina que estás tratando de predecir el precio de un apartamento. Tienes columnas como:\n",
        "\n",
        "- Número de habitaciones  \n",
        "- Piso  \n",
        "- Tamaño en m²  \n",
        "- Número de plantas en el edificio  \n",
        "- Día de la semana en que se publicó el aviso  \n",
        "- Color de las paredes  \n",
        "\n",
        "Claramente, algunas columnas no ayudan (como el color de las paredes). LASSO se encarga de **detectar y eliminar** esas automáticamente al entrenar el modelo."
      ]
    },
    {
      "cell_type": "code",
      "execution_count": null,
      "id": "a136d845",
      "metadata": {
        "id": "a136d845",
        "outputId": "ea985f86-ed41-4875-c1e6-3c5525ea117f"
      },
      "outputs": [
        {
          "name": "stdout",
          "output_type": "stream",
          "text": [
            "✅ Features seleccionadas por LASSO:\n",
            "['MedInc', 'HouseAge', 'Latitude']\n",
            "\n",
            "🚫 Features descartadas por LASSO:\n",
            "['AveRooms', 'AveBedrms', 'Population', 'AveOccup', 'Longitude']\n"
          ]
        }
      ],
      "source": [
        "# Cargar el dataset California Housing\n",
        "data = fetch_california_housing()\n",
        "X = pd.DataFrame(data.data, columns=data.feature_names)\n",
        "y = data.target\n",
        "\n",
        "# Escalar los datos (LASSO lo necesita para que todas las columnas estén en la misma escala)\n",
        "scaler = StandardScaler()\n",
        "X_scaled = scaler.fit_transform(X)\n",
        "\n",
        "# Entrenar un modelo LASSO con penalización alpha\n",
        "lasso = Lasso(alpha=0.1)\n",
        "lasso.fit(X_scaled, y)\n",
        "\n",
        "# Ver qué columnas fueron seleccionadas (coeficientes distintos de cero)\n",
        "selected_features = X.columns[lasso.coef_ != 0]\n",
        "discarded_features = X.columns[lasso.coef_ == 0]\n",
        "\n",
        "print(\"✅ Features seleccionadas por LASSO:\")\n",
        "print(selected_features.tolist())\n",
        "\n",
        "print(\"\\n🚫 Features descartadas por LASSO:\")\n",
        "print(discarded_features.tolist())"
      ]
    },
    {
      "cell_type": "markdown",
      "id": "81332dc7",
      "metadata": {
        "id": "81332dc7"
      },
      "source": [
        "-------------------"
      ]
    },
    {
      "cell_type": "markdown",
      "id": "8fa9c315",
      "metadata": {
        "id": "8fa9c315"
      },
      "source": [
        "## 🧠 MRMR: Minimum Redundancy Maximum Relevance\n",
        "\n",
        "MRMR es un método de selección de características que busca un **equilibrio inteligente** entre:\n",
        "\n",
        "✅ Elegir las columnas **más relevantes** para la variable que queremos predecir  \n",
        "🚫 Evitar columnas que **repiten la misma información** (redundantes)\n",
        "\n",
        "---\n",
        "\n",
        "### 🎯 ¿Cómo funciona?\n",
        "\n",
        "Imagina que estás eligiendo un grupo de personas para resolver un problema:\n",
        "\n",
        "- Quieres a los que **más saben del tema** (relevancia máxima con el objetivo).\n",
        "- Pero también quieres que **no digan lo mismo una y otra vez** (redundancia mínima entre ellos).\n",
        "\n",
        "Eso es exactamente lo que hace MRMR:\n",
        "- Evalúa **cuánto aporta cada columna** a la predicción.\n",
        "- Pero también mide **cuánto se parece esa columna a las ya seleccionadas** (para no repetir información).\n",
        "\n",
        "---\n",
        "\n",
        "### 🧪 ¿Cuándo usar MRMR?\n",
        "\n",
        "- Cuando tienes **muchas columnas** y no sabes cuáles usar.\n",
        "- Cuando quieres evitar **columnas duplicadas o que digan lo mismo con otras palabras**.\n",
        "- Cuando estás haciendo **clasificación o regresión** y necesitas un subconjunto más limpio y explicativo.\n",
        "\n",
        "---\n",
        "\n",
        "### 🌎 Ejemplo de la vida real\n",
        "\n",
        "Supongamos que estás prediciendo si un paciente tiene diabetes. Tienes columnas como:\n",
        "\n",
        "- Nivel de azúcar en sangre  \n",
        "- Porcentaje de hemoglobina glucosilada (que también mide azúcar)  \n",
        "- Edad  \n",
        "- Peso  \n",
        "- Presión arterial  \n",
        "\n",
        "MRMR detectaría que **azúcar en sangre y hemoglobina glucosilada son muy similares**, y te dejaría solo una. Así, el modelo **aprende más con menos columnas**."
      ]
    },
    {
      "cell_type": "code",
      "execution_count": null,
      "id": "26fc7b29",
      "metadata": {
        "id": "26fc7b29",
        "outputId": "eaa7a35e-e6ac-41fa-b14c-ab094247ea1a"
      },
      "outputs": [
        {
          "name": "stderr",
          "output_type": "stream",
          "text": [
            "100%|██████████| 5/5 [00:00<00:00, 79.09it/s]"
          ]
        },
        {
          "name": "stdout",
          "output_type": "stream",
          "text": [
            "✅ Features seleccionadas por MRMR:\n",
            "['thal', 'resting_electrocardiographic_results', 'number_of_major_vessels', 'chest', 'oldpeak']\n"
          ]
        },
        {
          "name": "stderr",
          "output_type": "stream",
          "text": [
            "\n"
          ]
        }
      ],
      "source": [
        "# Cargar un dataset de ejemplo desde openML (Heart Disease)\n",
        "df = fetch_openml(\"heart-statlog\", version=1, as_frame=True).frame\n",
        "# Convertir la variable objetivo en números si es categórica\n",
        "df[\"class\"] = LabelEncoder().fit_transform(df[\"class\"])\n",
        "\n",
        "# Separar features y objetivo\n",
        "X = df.drop(columns=[\"class\"])\n",
        "y = df[\"class\"]\n",
        "\n",
        "# MRMR necesita un solo DataFrame con todas las columnas, incluyendo el target\n",
        "df_full = X.copy()\n",
        "df_full[\"class\"] = y\n",
        "\n",
        "# Aplicar MRMR para seleccionar las 5 mejores columnas\n",
        "selected = mrmr.mrmr_classif(\n",
        "    X=df_full.drop(columns=\"class\"),\n",
        "    y=df_full[\"class\"], K=5\n",
        ")\n",
        "\n",
        "print(\"✅ Features seleccionadas por MRMR:\")\n",
        "print(selected)"
      ]
    },
    {
      "cell_type": "markdown",
      "id": "35720b0f",
      "metadata": {
        "id": "35720b0f"
      },
      "source": [
        "-------\n"
      ]
    },
    {
      "cell_type": "markdown",
      "id": "dd224c08",
      "metadata": {
        "id": "dd224c08"
      },
      "source": [
        "## 🔍 RFECV: Eliminación recursiva de características con validación cruzada\n",
        "\n",
        "`RFECV` es una técnica automática de selección de columnas que:\n",
        "\n",
        "✅ Utiliza un modelo (como `LogisticRegression` o `RandomForest`)  \n",
        "🔁 Elimina columnas una por una, de forma inteligente  \n",
        "📈 Evalúa el rendimiento del modelo en cada paso con validación cruzada  \n",
        "🎯 Se queda con el subconjunto de columnas que **mejor desempeño da al modelo**\n",
        "\n",
        "---\n",
        "\n",
        "### 🧠 ¿Cómo funciona?\n",
        "\n",
        "1. Entrena un modelo con **todas las columnas**.\n",
        "2. Elimina la columna **menos importante** (según el modelo).\n",
        "3. Repite el proceso hasta quedarse solo con las más útiles.\n",
        "4. Usa **validación cruzada** en cada paso para medir qué tan bueno es el modelo.\n",
        "5. Devuelve el subconjunto óptimo de columnas.\n",
        "\n",
        "Es como probar diferentes equipos de trabajo y elegir aquel que **trabaja mejor con menos personas**.\n",
        "\n",
        "---\n",
        "\n",
        "### 🧪 ¿Cuándo usar RFECV?\n",
        "\n",
        "- Cuando tienes un modelo en mente y quieres que **elija las mejores columnas**.\n",
        "- Cuando quieres **automáticamente balancear simplicidad y rendimiento**.\n",
        "- Cuando te importa que las variables seleccionadas **interactúen bien entre sí**.\n",
        "\n",
        "---\n",
        "\n",
        "### 🌎 Ejemplo de la vida real\n",
        "\n",
        "Supón que estás entrenando un modelo para predecir si un correo es spam. Tienes columnas como:\n",
        "\n",
        "- Número de signos de exclamación  \n",
        "- Cantidad de palabras en mayúsculas  \n",
        "- Presencia de palabras como \"gratis\", \"urgente\", etc.  \n",
        "- Longitud del asunto  \n",
        "- Cantidad de errores ortográficos  \n",
        "\n",
        "RFECV puede evaluar distintas combinaciones de estas columnas y elegir solo las que realmente ayudan al modelo a identificar correctamente los correos spam, descartando las que confunden o no aportan.\n"
      ]
    },
    {
      "cell_type": "code",
      "execution_count": null,
      "id": "dc41a630",
      "metadata": {
        "id": "dc41a630",
        "outputId": "161ddd30-99bb-42e3-c8b9-2d1ad1ddcd7d"
      },
      "outputs": [
        {
          "name": "stdout",
          "output_type": "stream",
          "text": [
            "✅ Número óptimo de features: 30\n",
            "🔍 Features seleccionadas:\n",
            "['mean radius', 'mean texture', 'mean perimeter', 'mean area', 'mean smoothness', 'mean compactness', 'mean concavity', 'mean concave points', 'mean symmetry', 'mean fractal dimension', 'radius error', 'texture error', 'perimeter error', 'area error', 'smoothness error', 'compactness error', 'concavity error', 'concave points error', 'symmetry error', 'fractal dimension error', 'worst radius', 'worst texture', 'worst perimeter', 'worst area', 'worst smoothness', 'worst compactness', 'worst concavity', 'worst concave points', 'worst symmetry', 'worst fractal dimension']\n"
          ]
        }
      ],
      "source": [
        "# Cargar dataset de cáncer de mama\n",
        "data = load_breast_cancer()\n",
        "X = pd.DataFrame(data.data, columns=data.feature_names)\n",
        "y = data.target\n",
        "\n",
        "# Escalar los datos (importante para modelos lineales)\n",
        "scaler = StandardScaler()\n",
        "X_scaled = scaler.fit_transform(X)\n",
        "\n",
        "# Modelo base: regresión logística\n",
        "model = LogisticRegression(max_iter=1000)\n",
        "\n",
        "# Aplicar RFECV con validación cruzada estratificada\n",
        "rfecv = RFECV(\n",
        "    estimator=model,\n",
        "    step=1,\n",
        "    cv=StratifiedKFold(5),\n",
        "    scoring='accuracy',\n",
        "    min_features_to_select = 10)\n",
        "rfecv.fit(X_scaled, y)\n",
        "\n",
        "# Mostrar resultados\n",
        "print(f\"✅ Número óptimo de features: {rfecv.n_features_}\")\n",
        "print(\"🔍 Features seleccionadas:\")\n",
        "print(X.columns[rfecv.support_].tolist())\n"
      ]
    },
    {
      "cell_type": "markdown",
      "id": "bf9fd606",
      "metadata": {
        "id": "bf9fd606"
      },
      "source": [
        "# 🧪 Ejercicio práctico: ¿Vale la pena seleccionar variables?\n",
        "\n",
        "En este ejercicio pondrás en práctica lo aprendido sobre **feature selection** y evaluarás su impacto en el entrenamiento de un modelo de machine learning.\n",
        "\n",
        "---\n",
        "\n",
        "## 🎯 Objetivo\n",
        "\n",
        "Comparar dos modelos de clasificación que predicen si un tumor es maligno o benigno:\n",
        "\n",
        "1. Un modelo entrenado con **todas las columnas** disponibles en el dataset.\n",
        "2. Un modelo entrenado **solo con las columnas seleccionadas automáticamente** mediante el método `RFECV`.\n",
        "\n",
        "---\n",
        "\n",
        "## 🧰 Lo que debes hacer\n",
        "\n",
        "A partir del dataset de cáncer de mama (`sklearn.datasets.load_breast_cancer`), realiza lo siguiente:\n",
        "\n",
        "### Paso 1: Cargar y dividir los datos\n",
        "- Separa el dataset en entrenamiento y prueba.\n",
        "\n",
        "### Paso 2: Modelo base (sin selección de variables)\n",
        "- Construye un pipeline que incluya:\n",
        "  - Imputación (`SimpleImputer`)\n",
        "  - Escalado (`StandardScaler`)\n",
        "  - Modelo (`LogisticRegression`)\n",
        "  - Optimización de hiperparámetros con `GridSearchCV`\n",
        "- Entrena el modelo con **todas las columnas** y evalúalo.\n",
        "\n",
        "### Paso 3: Feature selection con RFECV\n",
        "- Usa `RFECV` para seleccionar las columnas más útiles basándote **solo en el conjunto de entrenamiento**.\n",
        "\n",
        "### Paso 4: Modelo con variables seleccionadas\n",
        "- Repite el mismo pipeline anterior pero **usando solo las columnas seleccionadas** por RFECV.\n",
        "\n",
        "### Paso 5: Comparación\n",
        "- Compara ambos modelos en términos de:\n",
        "  - Tiempo de entrenamiento\n",
        "  - Accuracy\n",
        "  - F1-Score\n",
        "  - Número de columnas usadas\n",
        "- Reflexiona sobre: ¿vale la pena usar menos columnas? ¿se pierde desempeño?\n",
        "\n",
        "---\n",
        "\n",
        "## 💡 Sugerencias\n",
        "\n",
        "- Usa `time.time()` para medir los tiempos.\n",
        "- Asegúrate de aplicar la misma estrategia de imputación y escalado en ambos modelos.\n",
        "- Usa `StratifiedKFold` para mantener el equilibrio de clases durante la validación cruzada.\n",
        "\n",
        "---\n",
        "\n",
        "## 🚀 Nivel extra (opcional)\n",
        "- Repite el ejercicio con un modelo distinto (por ejemplo `RandomForestClassifier`) y compara los resultados.\n",
        "- Visualiza con una gráfica cómo cambia el rendimiento durante la selección recursiva con RFECV.\n",
        "\n",
        "---\n",
        "\n",
        "Cuando termines, discute tus hallazgos con tus compañeros o escribe una breve conclusión explicando qué aprendiste sobre la selección de variables.\n"
      ]
    },
    {
      "cell_type": "code",
      "execution_count": 29,
      "id": "efecab24",
      "metadata": {
        "id": "efecab24"
      },
      "outputs": [],
      "source": [
        "# 1. Cargar el dataset\n",
        "# Crear un dataset sintético\n",
        "X, y = make_classification(\n",
        "    n_samples=10000,\n",
        "    n_features=30,\n",
        "    n_informative=10,\n",
        "    n_redundant=10,\n",
        "    n_repeated=0,\n",
        "    n_clusters_per_class=2,\n",
        "    random_state=42,\n",
        "    shuffle=False\n",
        ")\n",
        "\n",
        "# Crear DataFrame\n",
        "feature_names = [f\"feature_{i}\" for i in range(X.shape[1])]\n",
        "X = pd.DataFrame(X, columns=feature_names)"
      ]
    },
    {
      "cell_type": "code",
      "execution_count": 30,
      "id": "e7282bf1",
      "metadata": {
        "id": "e7282bf1"
      },
      "outputs": [],
      "source": [
        "# Dividir datos\n",
        "X_train, X_test, y_train, y_test = train_test_split(X, y, test_size=0.2, random_state=42)"
      ]
    },
    {
      "cell_type": "code",
      "execution_count": 31,
      "id": "0e663858",
      "metadata": {
        "id": "0e663858"
      },
      "outputs": [],
      "source": [
        "# 3. Pipeline base (sin feature selection)\n",
        "# Preprocesador\n",
        "preprocessor = Pipeline([\n",
        "    ('imputer', SimpleImputer(strategy='mean')),\n",
        "    ('scaler', StandardScaler())\n",
        "])"
      ]
    },
    {
      "cell_type": "code",
      "execution_count": 32,
      "id": "e0d699d9",
      "metadata": {
        "id": "e0d699d9"
      },
      "outputs": [],
      "source": [
        "# Hiperparámetros a explorar\n",
        "param_grid = {\n",
        "    'n_estimators': [50, 100],\n",
        "    'max_depth': [4, 6, 8]\n",
        "}"
      ]
    },
    {
      "cell_type": "code",
      "execution_count": 33,
      "id": "c2fca81c",
      "metadata": {
        "id": "c2fca81c",
        "outputId": "8cf96029-eb3b-4b06-eb72-ff016f53fa0c"
      },
      "outputs": [
        {
          "name": "stdout",
          "output_type": "stream",
          "text": [
            "🔵 Modelo con todas las variables\n",
            "Accuracy: 0.922\n",
            "F1 Score: 0.9196704428424305\n",
            "Tiempo de entrenamiento: 25.63673996925354 segundos\n"
          ]
        }
      ],
      "source": [
        "# Modelo\n",
        "model = RandomForestClassifier(random_state=42)\n",
        "\n",
        "skf = StratifiedKFold(5,shuffle=True,random_state=0)\n",
        "# Modelo con TODAS las variables\n",
        "pipe_all = Pipeline([\n",
        "    ('prep', preprocessor),\n",
        "    ('clf', GridSearchCV(\n",
        "        estimator=model,\n",
        "        param_grid=param_grid,\n",
        "        cv=skf\n",
        "    ))\n",
        "])\n",
        "\n",
        "start_all = time.time()\n",
        "pipe_all.fit(X_train, y_train)\n",
        "end_all = time.time()\n",
        "\n",
        "# Métricas con todas las features\n",
        "y_pred_all = pipe_all.predict(X_test)\n",
        "print(\"🔵 Modelo con todas las variables\")\n",
        "print(\"Accuracy:\", accuracy_score(y_test, y_pred_all))\n",
        "print(\"F1 Score:\", f1_score(y_test, y_pred_all))\n",
        "print(\"Tiempo de entrenamiento:\", end_all - start_all, \"segundos\")"
      ]
    },
    {
      "cell_type": "code",
      "execution_count": null,
      "id": "979f8b8a",
      "metadata": {
        "id": "979f8b8a"
      },
      "outputs": [],
      "source": [
        "# 5. Selección de features con RFECV (solo en entrenamiento)\n",
        "\n",
        "# Aplicar preprocesamiento antes de RFECV\n",
        "X_train_prep = preprocessor.fit_transform(X_train)\n",
        "X_test_prep = preprocessor.transform(X_test)\n",
        "\n",
        "# Selección de features\n",
        "selector = RFECV(\n",
        "    estimator=RandomForestClassifier(random_state=42),\n",
        "    step=1,\n",
        "    cv=StratifiedKFold(5),\n",
        "    scoring='f1',\n",
        "    n_jobs=-1\n",
        ")\n",
        "\n",
        "X_train_sel = selector.fit_transform(X_train_prep, y_train)\n",
        "X_test_sel = selector.transform(X_test_prep)\n",
        "selected_features = np.array(feature_names)[selector.support_]"
      ]
    },
    {
      "cell_type": "code",
      "execution_count": null,
      "id": "e98bd1d6",
      "metadata": {
        "id": "e98bd1d6",
        "outputId": "565f8553-a815-4cba-ebd0-6c8f8fccdb26"
      },
      "outputs": [
        {
          "name": "stdout",
          "output_type": "stream",
          "text": [
            "\n",
            "🟢 Modelo con features seleccionadas\n",
            "Features seleccionadas: [np.str_('feature_0'), np.str_('feature_1'), np.str_('feature_2'), np.str_('feature_3'), np.str_('feature_4'), np.str_('feature_5'), np.str_('feature_6'), np.str_('feature_7'), np.str_('feature_8'), np.str_('feature_9'), np.str_('feature_10'), np.str_('feature_11'), np.str_('feature_12'), np.str_('feature_13'), np.str_('feature_14'), np.str_('feature_15'), np.str_('feature_16'), np.str_('feature_17'), np.str_('feature_18'), np.str_('feature_19')]\n",
            "Accuracy: 0.9245\n",
            "F1 Score: 0.9223650385604113\n",
            "Tiempo de entrenamiento: 36.928837299346924 segundos\n"
          ]
        }
      ],
      "source": [
        "#6. Modelo con features seleccionadas\n",
        "grid_sel = GridSearchCV(\n",
        "    estimator=model,\n",
        "    param_grid={'n_estimators': [50, 100], 'max_depth': [4, 6, 8]},\n",
        "    cv=5\n",
        ")\n",
        "\n",
        "start_sel = time.time()\n",
        "grid_sel.fit(X_train_sel, y_train)\n",
        "end_sel = time.time()\n",
        "\n",
        "# Métricas con features seleccionadas\n",
        "y_pred_sel = grid_sel.predict(X_test_sel)\n",
        "print(\"\\n🟢 Modelo con features seleccionadas\")\n",
        "print(\"Features seleccionadas:\", list(selected_features))\n",
        "print(\"Accuracy:\", accuracy_score(y_test, y_pred_sel))\n",
        "print(\"F1 Score:\", f1_score(y_test, y_pred_sel))\n",
        "print(\"Tiempo de entrenamiento:\", end_sel - start_sel, \"segundos\")"
      ]
    },
    {
      "cell_type": "markdown",
      "id": "a9bdd383",
      "metadata": {},
      "source": [
        "# Modelo"
      ]
    },
    {
      "cell_type": "code",
      "execution_count": 21,
      "id": "9671e002",
      "metadata": {},
      "outputs": [],
      "source": [
        "# 1. Cargar el dataset\n",
        "# Crear un dataset sintético\n",
        "X, y = make_classification(\n",
        "    n_samples=10000,\n",
        "    n_features=30,\n",
        "    n_informative=10,\n",
        "    n_redundant=10,\n",
        "    n_repeated=0,\n",
        "    n_clusters_per_class=2,\n",
        "    random_state=42,\n",
        "    shuffle=False\n",
        ")\n",
        "\n",
        "# Crear DataFrame\n",
        "feature_names = [f\"feature_{i}\" for i in range(X.shape[1])]\n",
        "X = pd.DataFrame(X, columns=feature_names)"
      ]
    },
    {
      "cell_type": "code",
      "execution_count": 22,
      "id": "8fc6d837",
      "metadata": {},
      "outputs": [],
      "source": [
        "# Divido los datos en conjunto de entrenamiento (75%) y prueba (25%)\n",
        "X_train, X_test, y_train, y_test = train_test_split(\n",
        "    X, y, test_size=0.25, random_state=42)  "
      ]
    },
    {
      "cell_type": "code",
      "execution_count": 23,
      "id": "46c24618",
      "metadata": {},
      "outputs": [
        {
          "data": {
            "text/plain": [
              "(array([0, 1]), array([5004, 4996]))"
            ]
          },
          "execution_count": 23,
          "metadata": {},
          "output_type": "execute_result"
        }
      ],
      "source": [
        "np.unique(y, return_counts=True)"
      ]
    },
    {
      "cell_type": "code",
      "execution_count": 28,
      "id": "4680a961",
      "metadata": {},
      "outputs": [
        {
          "name": "stdout",
          "output_type": "stream",
          "text": [
            "Mejores hiperparámetros: {}\n",
            "Mejor score: 0.8162666666666667\n"
          ]
        }
      ],
      "source": [
        "# Creamos un Pipeline con StandardScaler y Regresion Lineal\n",
        "pipeline = Pipeline([\n",
        "    (\"imputer\", SimpleImputer(strategy=\"median\")),\n",
        "    ('scaler', StandardScaler()),\n",
        "    ('regressor', LogisticRegression())\n",
        "])\n",
        "\n",
        "param_grid = {}\n",
        "\n",
        "grid_search = GridSearchCV(\n",
        "    pipeline,\n",
        "    param_grid=param_grid,\n",
        "    cv=5,\n",
        "    scoring='accuracy',\n",
        "    n_jobs=-1\n",
        ")\n",
        "\n",
        "grid_search.fit(X_train, y_train)\n",
        "\n",
        "print(\"Mejores hiperparámetros:\", grid_search.best_params_)\n",
        "print(\"Mejor score:\", grid_search.best_score_)"
      ]
    },
    {
      "cell_type": "code",
      "execution_count": null,
      "id": "240725a2",
      "metadata": {},
      "outputs": [],
      "source": [
        "# Cargar dataset de cáncer de mama\n",
        "data = load_breast_cancer()\n",
        "X = pd.DataFrame(data.data, columns=data.feature_names)\n",
        "y = data.target\n",
        "\n",
        "# Escalar los datos (importante para modelos lineales)\n",
        "scaler = StandardScaler()\n",
        "X_scaled = scaler.fit_transform(X)\n",
        "\n",
        "# Modelo base: regresión logística\n",
        "model = LogisticRegression(max_iter=1000)\n",
        "\n",
        "# Aplicar RFECV con validación cruzada estratificada\n",
        "rfecv = RFECV(\n",
        "    estimator=model,\n",
        "    step=1,\n",
        "    cv=StratifiedKFold(5),\n",
        "    scoring='accuracy',\n",
        "    min_features_to_select = 10)\n",
        "rfecv.fit(X_scaled, y)\n",
        "\n",
        "# Mostrar resultados\n",
        "print(f\"✅ Número óptimo de features: {rfecv.n_features_}\")\n",
        "print(\"🔍 Features seleccionadas:\")\n",
        "print(X.columns[rfecv.support_].tolist())\n"
      ]
    }
  ],
  "metadata": {
    "colab": {
      "provenance": []
    },
    "kernelspec": {
      "display_name": "ttds_venv",
      "language": "python",
      "name": "python3"
    },
    "language_info": {
      "codemirror_mode": {
        "name": "ipython",
        "version": 3
      },
      "file_extension": ".py",
      "mimetype": "text/x-python",
      "name": "python",
      "nbconvert_exporter": "python",
      "pygments_lexer": "ipython3",
      "version": "3.10.16"
    }
  },
  "nbformat": 4,
  "nbformat_minor": 5
}
