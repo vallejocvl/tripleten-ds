{
 "cells": [
  {
   "cell_type": "markdown",
   "id": "d61c2452",
   "metadata": {},
   "source": [
    "# Tune 2+ Models"
   ]
  },
  {
   "cell_type": "markdown",
   "id": "247f137c",
   "metadata": {},
   "source": [
    "You can tune 2+ models using the same grid search! Here's how:\n",
    "\n",
    "1. Create multiple parameter dictionaries\n",
    "2. Specify the model within each dictionary\n",
    "3. Put the dictionaries in a list\n",
    "\n",
    "https://www.youtube.com/watch?v=v2QpvCJ1ar8"
   ]
  },
  {
   "cell_type": "markdown",
   "id": "3cd369c2",
   "metadata": {},
   "source": [
    "Alternativa : https://github.com/janhenner/HyperclassifierSearch"
   ]
  },
  {
   "cell_type": "code",
   "execution_count": 3,
   "id": "4d860de8",
   "metadata": {},
   "outputs": [],
   "source": [
    "import pandas as pd\n",
    "import numpy as np\n",
    "from sklearn.model_selection import GridSearchCV\n",
    "from sklearn.pipeline import Pipeline\n",
    "from sklearn.compose import ColumnTransformer\n",
    "from sklearn.preprocessing import StandardScaler, OrdinalEncoder, OneHotEncoder\n",
    "from sklearn.impute import SimpleImputer\n",
    "from sklearn.tree import DecisionTreeClassifier\n",
    "from sklearn.ensemble import RandomForestClassifier\n",
    "from sklearn.linear_model import LogisticRegression"
   ]
  },
  {
   "cell_type": "code",
   "execution_count": null,
   "id": "e9839085",
   "metadata": {},
   "outputs": [],
   "source": [
    "# This will be the first pipeline step\n",
    "\n",
    "ct = ColumnTransformer([\n",
    "    ('ohe', OneHotEncoder(), ['Sex']),\n",
    "    ('imputer', SimpleImputer(), ['Age'])\n",
    "])"
   ]
  },
  {
   "cell_type": "code",
   "execution_count": null,
   "id": "3acc76e9",
   "metadata": {},
   "outputs": [],
   "source": [
    "# Each of these models will take a turn as the second Pipeline Step\n",
    "\n",
    "clf1 = LogisticRegression(solver='liblinear', random_state=42)\n",
    "clf2 = RandomForestClassifier(random_state=42)"
   ]
  },
  {
   "cell_type": "code",
   "execution_count": null,
   "id": "04e650f6",
   "metadata": {},
   "outputs": [],
   "source": [
    "# Create the Pipeline\n",
    "\n",
    "pipe = Pipeline([\n",
    "    ('preprocessor', ct),\n",
    "    ('classifier', clf1)\n",
    "])"
   ]
  },
  {
   "cell_type": "code",
   "execution_count": 4,
   "id": "d0db1d03",
   "metadata": {},
   "outputs": [
    {
     "ename": "NameError",
     "evalue": "name 'clf1' is not defined",
     "output_type": "error",
     "traceback": [
      "\u001b[0;31m---------------------------------------------------------------------------\u001b[0m",
      "\u001b[0;31mNameError\u001b[0m                                 Traceback (most recent call last)",
      "Cell \u001b[0;32mIn[4], line 5\u001b[0m\n\u001b[1;32m      3\u001b[0m params1 \u001b[38;5;241m=\u001b[39m {}\n\u001b[1;32m      4\u001b[0m params1[\u001b[38;5;124m'\u001b[39m\u001b[38;5;124mclassifier__C\u001b[39m\u001b[38;5;124m'\u001b[39m] \u001b[38;5;241m=\u001b[39m [\u001b[38;5;241m0.1\u001b[39m, \u001b[38;5;241m1\u001b[39m, \u001b[38;5;241m10\u001b[39m]\n\u001b[0;32m----> 5\u001b[0m params1[\u001b[38;5;124m'\u001b[39m\u001b[38;5;124mclassifier\u001b[39m\u001b[38;5;124m'\u001b[39m] \u001b[38;5;241m=\u001b[39m [\u001b[43mclf1\u001b[49m]\n",
      "\u001b[0;31mNameError\u001b[0m: name 'clf1' is not defined"
     ]
    }
   ],
   "source": [
    "# Create the parameter dictionary for clf1\n",
    "\n",
    "params1 = {}\n",
    "params1['classifier__C'] = [0.1, 1, 10]\n",
    "params1['classifier'] = [clf1]"
   ]
  },
  {
   "cell_type": "code",
   "execution_count": null,
   "id": "505a72b9",
   "metadata": {},
   "outputs": [],
   "source": [
    "# Create the parameter dictionary for clf2\n",
    "\n",
    "params2 = {}\n",
    "params2['classifier__n_estimators'] = [100, 200]\n",
    "params2['classifier'] = [clf2]"
   ]
  },
  {
   "cell_type": "code",
   "execution_count": null,
   "id": "791d3d59",
   "metadata": {},
   "outputs": [],
   "source": [
    "# Create a list of parameter dictionaries\n",
    "\n",
    "params = [params1, params2]"
   ]
  },
  {
   "cell_type": "code",
   "execution_count": null,
   "id": "a116a46a",
   "metadata": {},
   "outputs": [],
   "source": [
    "# This will search every parameter combination within each dictionary\n",
    "\n",
    "grid = GridSearchCV(\n",
    "    pipe, \n",
    "    params\n",
    ")\n",
    "grid.fit(X, y)\n",
    "grid.best_params_"
   ]
  }
 ],
 "metadata": {
  "kernelspec": {
   "display_name": "ttds_venv",
   "language": "python",
   "name": "python3"
  },
  "language_info": {
   "codemirror_mode": {
    "name": "ipython",
    "version": 3
   },
   "file_extension": ".py",
   "mimetype": "text/x-python",
   "name": "python",
   "nbconvert_exporter": "python",
   "pygments_lexer": "ipython3",
   "version": "3.10.16"
  }
 },
 "nbformat": 4,
 "nbformat_minor": 5
}
