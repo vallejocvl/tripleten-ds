{
 "cells": [
  {
   "cell_type": "markdown",
   "id": "844ae1ab",
   "metadata": {},
   "source": [
    "# Descripción del proyecto\n",
    "Los clientes de Beta Bank se están yendo, cada mes, poco a poco. Los banqueros descubrieron que es más barato salvar a los clientes existentes que atraer nuevos.  \n",
    "\n",
    "Necesitamos predecir si un cliente dejará el banco pronto. Tú tienes los datos sobre el comportamiento pasado de los clientes y la terminación de contratos con el banco.  \n",
    "\n",
    "Crea un modelo con el máximo valor *F1* posible. Para aprobar la revisión, necesitas un valor *F1* de al menos 0.59. Verifica F1 para el conjunto de prueba.  \n",
    "\n",
    "Además, debes medir la métrica *AUC-ROC* y compararla con el valor *F1*.\n",
    "\n",
    "## Instrucciones del proyecto\n",
    "1. Descarga y prepara los datos.  Explica el procedimiento.\n",
    "2. Examina el equilibrio de clases. Entrena el modelo sin tener en cuenta el desequilibrio. Describe brevemente tus hallazgos.\n",
    "3. Mejora la calidad del modelo. Asegúrate de utilizar al menos dos enfoques para corregir el desequilibrio de clases. Utiliza conjuntos de entrenamiento y validación para encontrar el mejor modelo y el mejor conjunto de parámetros. Entrena diferentes modelos en los conjuntos de entrenamiento y validación. Encuentra el mejor. Describe brevemente tus hallazgos.\n",
    "4. Realiza la prueba final.\n",
    "\n",
    "## Descripción de los datos\n",
    "Puedes encontrar los datos en el archivo  /datasets/Churn.csv file. Descarga el conjunto de datos aqui: https://practicum-content.s3.us-west-1.amazonaws.com/datasets/Churn.csv\n",
    "\n",
    "### Características\n",
    "\n",
    "- *RowNumber*: índice de cadena de datos\n",
    "- *CustomerId*: identificador de cliente único\n",
    "Surname: apellido\n",
    "- *CreditScore*: valor de crédito\n",
    "- *Geography*: país de residencia\n",
    "- *Gender*: sexo\n",
    "- *Age*: edad\n",
    "- *Tenure*: período durante el cual ha madurado el depósito a plazo fijo de un cliente (años)\n",
    "- *Balance*: saldo de la cuenta\n",
    "- *NumOfProducts*: número de productos bancarios utilizados por el cliente\n",
    "- *HasCrCard*: el cliente tiene una tarjeta de crédito (1 - sí; 0 - no)\n",
    "- *IsActiveMember*: actividad del cliente (1 - sí; 0 - no)\n",
    "- *EstimatedSalary*: salario estimado\n",
    "\n",
    "### Objetivo\n",
    "\n",
    "- *Exited*: El cliente se ha ido (1 - sí; 0 - no)\n",
    "\n",
    "\n",
    "## Evaluación del proyecto\n",
    "Hemos definido los criterios de evaluación para el proyecto. Lee esto con atención antes de pasar al ejercicio.\n",
    "\n",
    "Esto es lo que los revisores buscarán cuando evalúen tu proyecto:\n",
    "\n",
    "- ¿Cómo preparaste los datos para el entrenamiento? ¿Procesaste todos los tipos de características?\n",
    "- ¿Explicaste los pasos de preprocesamiento lo suficientemente bien?\n",
    "- ¿Cómo investigaste el equilibrio de clases?\n",
    "- ¿Estudiaste el modelo sin tener en cuenta el desequilibrio de clases?\n",
    "- ¿Qué descubriste sobre la investigación del ejercicio?\n",
    "- ¿Dividiste correctamente los datos en conjuntos?\n",
    "- ¿Cómo trabajaste con el desequilibrio de clases?\n",
    "- ¿Utilizaste al menos dos técnicas para corregir el desequilibrio?\n",
    "- ¿Realizaste correctamente el entrenamiento, la validación y las pruebas finales del modelo?\n",
    "- ¿Qué tan alto es tu valor F1?\n",
    "- ¿Examinaste los valores AUC-ROC?\n",
    "- ¿Mantuviste la estructura del proyecto y el código limpio?"
   ]
  },
  {
   "cell_type": "markdown",
   "id": "282f61de",
   "metadata": {},
   "source": [
    "# Análisis Exploratorio"
   ]
  },
  {
   "cell_type": "code",
   "execution_count": 87,
   "id": "80c3f279",
   "metadata": {},
   "outputs": [],
   "source": [
    "# Importo mis librerias\n",
    "import pandas as pd"
   ]
  },
  {
   "cell_type": "code",
   "execution_count": 88,
   "id": "08d5c664",
   "metadata": {},
   "outputs": [
    {
     "data": {
      "text/html": [
       "<div>\n",
       "<style scoped>\n",
       "    .dataframe tbody tr th:only-of-type {\n",
       "        vertical-align: middle;\n",
       "    }\n",
       "\n",
       "    .dataframe tbody tr th {\n",
       "        vertical-align: top;\n",
       "    }\n",
       "\n",
       "    .dataframe thead th {\n",
       "        text-align: right;\n",
       "    }\n",
       "</style>\n",
       "<table border=\"1\" class=\"dataframe\">\n",
       "  <thead>\n",
       "    <tr style=\"text-align: right;\">\n",
       "      <th></th>\n",
       "      <th>RowNumber</th>\n",
       "      <th>CustomerId</th>\n",
       "      <th>Surname</th>\n",
       "      <th>CreditScore</th>\n",
       "      <th>Geography</th>\n",
       "      <th>Gender</th>\n",
       "      <th>Age</th>\n",
       "      <th>Tenure</th>\n",
       "      <th>Balance</th>\n",
       "      <th>NumOfProducts</th>\n",
       "      <th>HasCrCard</th>\n",
       "      <th>IsActiveMember</th>\n",
       "      <th>EstimatedSalary</th>\n",
       "      <th>Exited</th>\n",
       "    </tr>\n",
       "  </thead>\n",
       "  <tbody>\n",
       "    <tr>\n",
       "      <th>0</th>\n",
       "      <td>1</td>\n",
       "      <td>15634602</td>\n",
       "      <td>Hargrave</td>\n",
       "      <td>619</td>\n",
       "      <td>France</td>\n",
       "      <td>Female</td>\n",
       "      <td>42</td>\n",
       "      <td>2.0</td>\n",
       "      <td>0.00</td>\n",
       "      <td>1</td>\n",
       "      <td>1</td>\n",
       "      <td>1</td>\n",
       "      <td>101348.88</td>\n",
       "      <td>1</td>\n",
       "    </tr>\n",
       "    <tr>\n",
       "      <th>1</th>\n",
       "      <td>2</td>\n",
       "      <td>15647311</td>\n",
       "      <td>Hill</td>\n",
       "      <td>608</td>\n",
       "      <td>Spain</td>\n",
       "      <td>Female</td>\n",
       "      <td>41</td>\n",
       "      <td>1.0</td>\n",
       "      <td>83807.86</td>\n",
       "      <td>1</td>\n",
       "      <td>0</td>\n",
       "      <td>1</td>\n",
       "      <td>112542.58</td>\n",
       "      <td>0</td>\n",
       "    </tr>\n",
       "    <tr>\n",
       "      <th>2</th>\n",
       "      <td>3</td>\n",
       "      <td>15619304</td>\n",
       "      <td>Onio</td>\n",
       "      <td>502</td>\n",
       "      <td>France</td>\n",
       "      <td>Female</td>\n",
       "      <td>42</td>\n",
       "      <td>8.0</td>\n",
       "      <td>159660.80</td>\n",
       "      <td>3</td>\n",
       "      <td>1</td>\n",
       "      <td>0</td>\n",
       "      <td>113931.57</td>\n",
       "      <td>1</td>\n",
       "    </tr>\n",
       "    <tr>\n",
       "      <th>3</th>\n",
       "      <td>4</td>\n",
       "      <td>15701354</td>\n",
       "      <td>Boni</td>\n",
       "      <td>699</td>\n",
       "      <td>France</td>\n",
       "      <td>Female</td>\n",
       "      <td>39</td>\n",
       "      <td>1.0</td>\n",
       "      <td>0.00</td>\n",
       "      <td>2</td>\n",
       "      <td>0</td>\n",
       "      <td>0</td>\n",
       "      <td>93826.63</td>\n",
       "      <td>0</td>\n",
       "    </tr>\n",
       "    <tr>\n",
       "      <th>4</th>\n",
       "      <td>5</td>\n",
       "      <td>15737888</td>\n",
       "      <td>Mitchell</td>\n",
       "      <td>850</td>\n",
       "      <td>Spain</td>\n",
       "      <td>Female</td>\n",
       "      <td>43</td>\n",
       "      <td>2.0</td>\n",
       "      <td>125510.82</td>\n",
       "      <td>1</td>\n",
       "      <td>1</td>\n",
       "      <td>1</td>\n",
       "      <td>79084.10</td>\n",
       "      <td>0</td>\n",
       "    </tr>\n",
       "  </tbody>\n",
       "</table>\n",
       "</div>"
      ],
      "text/plain": [
       "   RowNumber  CustomerId   Surname  CreditScore Geography  Gender  Age  \\\n",
       "0          1    15634602  Hargrave          619    France  Female   42   \n",
       "1          2    15647311      Hill          608     Spain  Female   41   \n",
       "2          3    15619304      Onio          502    France  Female   42   \n",
       "3          4    15701354      Boni          699    France  Female   39   \n",
       "4          5    15737888  Mitchell          850     Spain  Female   43   \n",
       "\n",
       "   Tenure    Balance  NumOfProducts  HasCrCard  IsActiveMember  \\\n",
       "0     2.0       0.00              1          1               1   \n",
       "1     1.0   83807.86              1          0               1   \n",
       "2     8.0  159660.80              3          1               0   \n",
       "3     1.0       0.00              2          0               0   \n",
       "4     2.0  125510.82              1          1               1   \n",
       "\n",
       "   EstimatedSalary  Exited  \n",
       "0        101348.88       1  \n",
       "1        112542.58       0  \n",
       "2        113931.57       1  \n",
       "3         93826.63       0  \n",
       "4         79084.10       0  "
      ]
     },
     "execution_count": 88,
     "metadata": {},
     "output_type": "execute_result"
    }
   ],
   "source": [
    "# Importo y veo mi dataframe\n",
    "\n",
    "df = pd.read_csv('databases/Churn.csv')\n",
    "df.head()"
   ]
  },
  {
   "cell_type": "code",
   "execution_count": 89,
   "id": "393d548d",
   "metadata": {},
   "outputs": [],
   "source": [
    "# Hago drop a mi columna RowNumber ya que usare el indice que me proporciona pandas\n",
    "df = df.drop('RowNumber', axis=1)"
   ]
  },
  {
   "cell_type": "code",
   "execution_count": 90,
   "id": "8343759d",
   "metadata": {},
   "outputs": [
    {
     "name": "stdout",
     "output_type": "stream",
     "text": [
      "<class 'pandas.core.frame.DataFrame'>\n",
      "RangeIndex: 10000 entries, 0 to 9999\n",
      "Data columns (total 13 columns):\n",
      " #   Column           Non-Null Count  Dtype  \n",
      "---  ------           --------------  -----  \n",
      " 0   CustomerId       10000 non-null  int64  \n",
      " 1   Surname          10000 non-null  object \n",
      " 2   CreditScore      10000 non-null  int64  \n",
      " 3   Geography        10000 non-null  object \n",
      " 4   Gender           10000 non-null  object \n",
      " 5   Age              10000 non-null  int64  \n",
      " 6   Tenure           9091 non-null   float64\n",
      " 7   Balance          10000 non-null  float64\n",
      " 8   NumOfProducts    10000 non-null  int64  \n",
      " 9   HasCrCard        10000 non-null  int64  \n",
      " 10  IsActiveMember   10000 non-null  int64  \n",
      " 11  EstimatedSalary  10000 non-null  float64\n",
      " 12  Exited           10000 non-null  int64  \n",
      "dtypes: float64(3), int64(7), object(3)\n",
      "memory usage: 1015.8+ KB\n"
     ]
    }
   ],
   "source": [
    "# Usemos info para ver si los datos son del tipo correcto\n",
    "df.info()"
   ]
  },
  {
   "cell_type": "code",
   "execution_count": 91,
   "id": "5567f2a1",
   "metadata": {},
   "outputs": [
    {
     "name": "stdout",
     "output_type": "stream",
     "text": [
      "El dataframe tiene una cantidad de 0 valores duplicados\n"
     ]
    }
   ],
   "source": [
    "# Busco valores duplicados\n",
    "print(f'El dataframe tiene una cantidad de {df.duplicated().sum()} valores duplicados')"
   ]
  },
  {
   "cell_type": "code",
   "execution_count": 92,
   "id": "357c3e8d",
   "metadata": {},
   "outputs": [
    {
     "name": "stdout",
     "output_type": "stream",
     "text": [
      "Basado en mi funcion .info, la columna 'Tenure' tiene una cantidad de: 909 valores ausentes.\n"
     ]
    }
   ],
   "source": [
    "print(f\"Basado en mi funcion .info, la columna 'Tenure' tiene una cantidad de: {df['Tenure'].isna().sum()} valores ausentes.\")"
   ]
  },
  {
   "cell_type": "markdown",
   "id": "4772ed3f",
   "metadata": {},
   "source": [
    "Tengo 909 valores ausentes en 'Tenure', estamos hablando de ~9% de valores ausentes, por lo que procedere a ver como imputarlos."
   ]
  },
  {
   "cell_type": "code",
   "execution_count": 93,
   "id": "4066ac7a",
   "metadata": {},
   "outputs": [
    {
     "name": "stdout",
     "output_type": "stream",
     "text": [
      "Tenure\n",
      "0.0     382\n",
      "1.0     952\n",
      "2.0     950\n",
      "3.0     928\n",
      "4.0     885\n",
      "5.0     927\n",
      "6.0     881\n",
      "7.0     925\n",
      "8.0     933\n",
      "9.0     882\n",
      "10.0    446\n",
      "Name: count, dtype: int64\n"
     ]
    }
   ],
   "source": [
    "# Busco el tipo de valores dentro de Tenure\n",
    "print(df['Tenure'].value_counts().sort_index())"
   ]
  },
  {
   "cell_type": "markdown",
   "id": "c2ae9597",
   "metadata": {},
   "source": [
    "Los valores se encuentran entre 0 y 10, imputare mis valores con la media y luego pasare todo a INT. Manteniendo el estilo de que los valores, es decir sin contar fracciones de año, solamente unidades enteras. Al no tener outliers o valores extremos, es mejor imputar con la media en lugar de la mediana."
   ]
  },
  {
   "cell_type": "code",
   "execution_count": 94,
   "id": "12df3acc",
   "metadata": {},
   "outputs": [],
   "source": [
    "# Calulo la media y redondeo\n",
    "tenure_mean= round(df['Tenure'].mean())\n",
    "\n",
    "# Imputo con la media\n",
    "df['Tenure'] = df['Tenure'].fillna(tenure_mean)"
   ]
  },
  {
   "cell_type": "markdown",
   "id": "7b914cf0",
   "metadata": {},
   "source": [
    "Ahora que tenemos los datos totalmente imputados, estamos listos para entrenar nuestro primer modelo."
   ]
  },
  {
   "cell_type": "code",
   "execution_count": null,
   "id": "f77a2ed0",
   "metadata": {},
   "outputs": [
    {
     "data": {
      "text/plain": [
       "array(['France', 'Spain', 'Germany'], dtype=object)"
      ]
     },
     "execution_count": 96,
     "metadata": {},
     "output_type": "execute_result"
    }
   ],
   "source": []
  },
  {
   "cell_type": "code",
   "execution_count": null,
   "id": "0254ede9",
   "metadata": {},
   "outputs": [],
   "source": []
  }
 ],
 "metadata": {
  "kernelspec": {
   "display_name": "ttds_venv",
   "language": "python",
   "name": "python3"
  },
  "language_info": {
   "codemirror_mode": {
    "name": "ipython",
    "version": 3
   },
   "file_extension": ".py",
   "mimetype": "text/x-python",
   "name": "python",
   "nbconvert_exporter": "python",
   "pygments_lexer": "ipython3",
   "version": "3.10.16"
  }
 },
 "nbformat": 4,
 "nbformat_minor": 5
}
