{
 "cells": [
  {
   "cell_type": "markdown",
   "id": "18876db7",
   "metadata": {},
   "source": [
    "# Técnica de Bootstrapping"
   ]
  },
  {
   "cell_type": "markdown",
   "id": "b2ddcbc4",
   "metadata": {},
   "source": []
  }
 ],
 "metadata": {
  "language_info": {
   "name": "python"
  }
 },
 "nbformat": 4,
 "nbformat_minor": 5
}
