{
 "cells": [
  {
   "cell_type": "markdown",
   "id": "87294d6f-b5e0-437b-8893-1b8c38003d97",
   "metadata": {},
   "source": [
    "<div class=\"alert alert-block alert-success\">\n",
    "<b>Comentario general del revisor</b> <a class=\"tocSkip\"></a><br />\n",
    "Status del proyecto: <b>Aprobado</b>\n",
    "</div>\n"
   ]
  },
  {
   "cell_type": "markdown",
   "id": "47afba26-76a5-4a61-b354-eba2f4dbd019",
   "metadata": {},
   "source": [
    "¡Hola!<br />\n",
    "Soy **Francisco Cortés**, estoy contento de revisar tu proyecto y ser parte de tu proceso de aprendizaje.\n",
    "A lo largo del texto, haré algunas observaciones sobre mejoras en el código y también haré comentarios sobre tus percepciones sobre el tema. Si existe algún error en el código, no te preocupes, estoy aquí para ayudarte a mejorarlo, en la primera iteración te lo señalaré para que tengas la oportunidad de corregirlo, pero si aún no encuentras una solución para esta tarea, te daré una pista más precisa en la próxima iteración y también algunos ejemplos prácticos. Estaré abierto a retroalimentación y discusiones sobre el tema.<br />\n",
    "Encontrarás mis comentarios a continuación - **por favor no los muevas, modifiques o borres**.\n",
    "Revisaré cuidadosamente tu código para comprobar que se han cumplido con los requisitos y te proporcionaré mis comentarios en cajas verdes, amarillas o rojas como esta:\n",
    "\n",
    "<div class=\"alert alert-block alert-success\">\n",
    "<b>Comentario del revisor</b> <a class=\"tocSkip\"></a>\n",
    "\n",
    "Si la ejecución fue perfecta succesfully.\n",
    "</div>\n",
    "\n",
    "<div class=\"alert alert-block alert-warning\">\n",
    "<b>Comentario del revisor</b> <a class=\"tocSkip\"></a>\n",
    "\n",
    "Si existe alguna recomendación para que tu código mejore.\n",
    "</div>\n",
    "\n",
    "<div class=\"alert alert-block alert-danger\">\n",
    "\n",
    "<b>Comentario del revisor</b> <a class=\"tocSkip\"></a>\n",
    "\n",
    "Si existen correcciones necesarias para cumplir con los requisitos. El trabajo no puede ser aceptado si hay alguna caja roja.\n",
    "</div>\n",
    "\n",
    "Puedes responderme de la siguiente manera:\n",
    "\n",
    "<div class=\"alert alert-block alert-info\">\n",
    "<b>Respuesta del estudiante.</b> <a class=\"tocSkip\"></a>\n",
    "</div>"
   ]
  },
  {
   "cell_type": "markdown",
   "id": "fc2c5119",
   "metadata": {},
   "source": [
    "# Descripción del proyecto\n",
    "\n",
    "Trabajas en la compañía de extracción de petróleo OilyGiant. Tu tarea es encontrar los mejores lugares donde abrir **200 pozos nuevos de petróleo.**\n",
    "\n",
    "Para completar esta tarea, tendrás que realizar los siguientes pasos:\n",
    "\n",
    "- Leer los archivos con los parámetros recogidos de pozos petrolíferos en la región seleccionada: calidad de crudo y volumen de reservas.\n",
    "- Crear un modelo para predecir el volumen de reservas en pozos nuevos.\n",
    "- Elegir los pozos petrolíferos que tienen los valores estimados más altos.\n",
    "- Elegir la región con el beneficio total más alto para los pozos petrolíferos seleccionados.\n",
    "\n",
    "Tienes datos sobre muestras de crudo de tres regiones. Ya se conocen los parámetros de cada pozo petrolero de la región. Crea un modelo que ayude a elegir la región con el mayor margen de beneficio. Analiza los beneficios y riesgos potenciales utilizando la técnica *bootstrapping*.\n",
    "\n",
    "## Condiciones\n",
    "\n",
    "- Solo se debe usar la regresión lineal para el entrenamiento del modelo.\n",
    "- Al explorar la región, se lleva a cabo un estudio de 500 puntos con la selección de los mejores 200 puntos para el cálculo del beneficio.\n",
    "- El presupuesto para el desarrollo de 200 pozos petroleros es de 100 millones de dólares.\n",
    "- Un barril de materias primas genera 4.5 USD de ingresos. El ingreso de una unidad de producto es de 4500 dólares (el volumen de reservas está expresado en miles de barriles).\n",
    "- Después de la evaluación de riesgo, mantén solo las regiones con riesgo de pérdidas inferior al 2.5%. De las que se ajustan a los criterios, se debe seleccionar la región con el beneficio promedio más alto.\n",
    "\n",
    "Los datos son sintéticos: los detalles del contrato y las características del pozo no se publican.\n",
    "\n",
    "## Descripción de datos\n",
    "\n",
    "Los datos de exploración geológica de las tres regiones se almacenan en archivos:\n",
    "\n",
    "- */datasets/geo_data_0.csv*. Descarga el conjunto de datos https://practicum-content.s3.us-west-1.amazonaws.com/datasets/geo_data_0.csv\n",
    "- */datasets/geo_data_1.csv*. Descarga el conjunto de datos https://practicum-content.s3.us-west-1.amazonaws.com/datasets/geo_data_1.csv\n",
    "- */datasets/geo_data_2.csv*. Descarga el conjunto de datos https://practicum-content.s3.us-west-1.amazonaws.com/datasets/geo_data_2.csv \n",
    "- *id* — identificador único de pozo de petróleo\n",
    "- *f0, f1, f2* — tres características de los puntos (su significado específico no es importante, pero las características en sí son significativas)\n",
    "- *product* — volumen de reservas en el pozo de petróleo (miles de barriles).\n",
    "\n",
    "## Instrucciones del proyecto\n",
    "1. Descarga y prepara los datos. Explica el procedimiento.\n",
    "2. Entrena y prueba el modelo para cada región en geo_data_0.csv:\n",
    "    1. Divide los datos en un conjunto de entrenamiento y un conjunto de validación en una proporción de 75:25\n",
    "    2. Entrena el modelo y haz predicciones para el conjunto de validación.\n",
    "    3. Guarda las predicciones y las respuestas correctas para el conjunto de validación.\n",
    "    4. Muestra el volumen medio de reservas predicho y RMSE del modelo.\n",
    "    5. Analiza los resultados.\n",
    "    6. Coloca todos los pasos previos en funciones, realiza y ejecuta los pasos 2.1-2.5 para los archivos 'geo_data_1.csv' y 'geo_data_2.csv'.\n",
    "3. Prepárate para el cálculo de ganancias:\n",
    "    1. Almacena todos los valores necesarios para los cálculos en variables separadas.\n",
    "    2. Dada la inversión de 100 millones por 200 pozos petrolíferos, de media un pozo petrolífero debe producir al menos un valor de 500,000 dólares en unidades para evitar pérdidas (esto es equivalente a 111.1 unidades). Compara esta cantidad con la cantidad media de reservas en cada región.\n",
    "    3. Presenta conclusiones sobre cómo preparar el paso para calcular el beneficio.\n",
    "4. Escribe una función para calcular la ganancia de un conjunto de pozos de petróleo seleccionados y modela las predicciones:\n",
    "    1. Elige los 200 pozos con los valores de predicción más altos de cada una de las 3 regiones (es decir, archivos 'csv').\n",
    "    2. Resume el volumen objetivo de reservas según dichas predicciones. Almacena las predicciones para los 200 pozos para cada una de las 3 regiones.\n",
    "    3. Calcula la ganancia potencial de los 200 pozos principales por región. Presenta tus conclusiones: propón una región para el desarrollo de pozos petrolíferos y justifica tu elección.\n",
    "5. Calcula riesgos y ganancias para cada región:\n",
    "    1. Utilizando las predicciones que almacenaste en el paso 4.2, emplea la técnica del bootstrapping con 1000 muestras para hallar la distribución de los beneficios.\n",
    "    2. Encuentra el beneficio promedio, el intervalo de confianza del 95% y el riesgo de pérdidas. La pérdida es una ganancia negativa, calcúlala como una probabilidad y luego exprésala como un porcentaje.\n",
    "    3. Presenta tus conclusiones: propón una región para el desarrollo de pozos petrolíferos y justifica tu elección. ¿Coincide tu elección con la elección anterior en el punto 4.3?\n",
    "\n",
    "## Evaluación del proyecto\n",
    "Hemos definido los criterios de evaluación para el proyecto. Lee esto con atención antes de pasar al ejercicio.\n",
    "\n",
    "Esto es lo que los revisores buscarán cuando evalúen tu proyecto:\n",
    "\n",
    "- ¿Cómo preparaste los datos para el entrenamiento?\n",
    "- ¿Seguiste todos los pasos de las instrucciones?\n",
    "- ¿Consideraste todas las condiciones del negocio?\n",
    "- ¿Cuáles son tus hallazgos sobre el estudio de tareas?\n",
    "- ¿Aplicaste correctamente la técnica bootstrapping?\n",
    "- ¿Sugeriste la mejor región para el desarrollo de pozos? ¿Justificaste tu elección?\n",
    "- ¿Evitaste la duplicación de código?\n",
    "- ¿Mantuviste la estructura del proyecto y el código limpio?\n",
    "\n",
    "Ya tienes tus hojas informativas y los resúmenes de los capítulos, por lo que todo está listo para continuar con el proyecto."
   ]
  },
  {
   "cell_type": "markdown",
   "id": "f6b42992",
   "metadata": {},
   "source": [
    "# Proyecto"
   ]
  },
  {
   "cell_type": "markdown",
   "id": "82056f27",
   "metadata": {},
   "source": [
    "Como siempre, iniciemos importando mis librerias."
   ]
  },
  {
   "cell_type": "code",
   "execution_count": 13,
   "id": "47acf99a",
   "metadata": {},
   "outputs": [],
   "source": [
    "import pandas as pd\n",
    "import numpy as np\n",
    "from sklearn.model_selection import train_test_split, GridSearchCV\n",
    "from sklearn.pipeline import Pipeline\n",
    "from sklearn.linear_model import LinearRegression, Ridge\n",
    "from sklearn.metrics import root_mean_squared_error\n",
    "from sklearn.preprocessing import StandardScaler"
   ]
  },
  {
   "cell_type": "code",
   "execution_count": null,
   "id": "e1ac9fae",
   "metadata": {},
   "outputs": [],
   "source": [
    "# Importo mis datasets como df_0, df_1 y df_2\n",
    "df_0 = pd.read_csv('datasets/geo_data_0.csv')\n",
    "df_1 = pd.read_csv('datasets/geo_data_1.csv')\n",
    "df_2 = pd.read_csv('datasets/geo_data_2.csv')"
   ]
  },
  {
   "cell_type": "code",
   "execution_count": 5,
   "id": "3d9d6801",
   "metadata": {},
   "outputs": [
    {
     "data": {
      "text/html": [
       "<div>\n",
       "<style scoped>\n",
       "    .dataframe tbody tr th:only-of-type {\n",
       "        vertical-align: middle;\n",
       "    }\n",
       "\n",
       "    .dataframe tbody tr th {\n",
       "        vertical-align: top;\n",
       "    }\n",
       "\n",
       "    .dataframe thead th {\n",
       "        text-align: right;\n",
       "    }\n",
       "</style>\n",
       "<table border=\"1\" class=\"dataframe\">\n",
       "  <thead>\n",
       "    <tr style=\"text-align: right;\">\n",
       "      <th></th>\n",
       "      <th>id</th>\n",
       "      <th>f0</th>\n",
       "      <th>f1</th>\n",
       "      <th>f2</th>\n",
       "      <th>product</th>\n",
       "    </tr>\n",
       "  </thead>\n",
       "  <tbody>\n",
       "    <tr>\n",
       "      <th>0</th>\n",
       "      <td>txEyH</td>\n",
       "      <td>0.705745</td>\n",
       "      <td>-0.497823</td>\n",
       "      <td>1.221170</td>\n",
       "      <td>105.280062</td>\n",
       "    </tr>\n",
       "    <tr>\n",
       "      <th>1</th>\n",
       "      <td>2acmU</td>\n",
       "      <td>1.334711</td>\n",
       "      <td>-0.340164</td>\n",
       "      <td>4.365080</td>\n",
       "      <td>73.037750</td>\n",
       "    </tr>\n",
       "    <tr>\n",
       "      <th>2</th>\n",
       "      <td>409Wp</td>\n",
       "      <td>1.022732</td>\n",
       "      <td>0.151990</td>\n",
       "      <td>1.419926</td>\n",
       "      <td>85.265647</td>\n",
       "    </tr>\n",
       "    <tr>\n",
       "      <th>3</th>\n",
       "      <td>iJLyR</td>\n",
       "      <td>-0.032172</td>\n",
       "      <td>0.139033</td>\n",
       "      <td>2.978566</td>\n",
       "      <td>168.620776</td>\n",
       "    </tr>\n",
       "    <tr>\n",
       "      <th>4</th>\n",
       "      <td>Xdl7t</td>\n",
       "      <td>1.988431</td>\n",
       "      <td>0.155413</td>\n",
       "      <td>4.751769</td>\n",
       "      <td>154.036647</td>\n",
       "    </tr>\n",
       "  </tbody>\n",
       "</table>\n",
       "</div>"
      ],
      "text/plain": [
       "      id        f0        f1        f2     product\n",
       "0  txEyH  0.705745 -0.497823  1.221170  105.280062\n",
       "1  2acmU  1.334711 -0.340164  4.365080   73.037750\n",
       "2  409Wp  1.022732  0.151990  1.419926   85.265647\n",
       "3  iJLyR -0.032172  0.139033  2.978566  168.620776\n",
       "4  Xdl7t  1.988431  0.155413  4.751769  154.036647"
      ]
     },
     "execution_count": 5,
     "metadata": {},
     "output_type": "execute_result"
    }
   ],
   "source": [
    "df_0.head()"
   ]
  },
  {
   "cell_type": "markdown",
   "id": "450d5ec5",
   "metadata": {},
   "source": [
    "## Análisis Exploratorio"
   ]
  },
  {
   "cell_type": "code",
   "execution_count": 6,
   "id": "959bde12",
   "metadata": {},
   "outputs": [
    {
     "name": "stdout",
     "output_type": "stream",
     "text": [
      "<class 'pandas.core.frame.DataFrame'>\n",
      "RangeIndex: 100000 entries, 0 to 99999\n",
      "Data columns (total 5 columns):\n",
      " #   Column   Non-Null Count   Dtype  \n",
      "---  ------   --------------   -----  \n",
      " 0   id       100000 non-null  object \n",
      " 1   f0       100000 non-null  float64\n",
      " 2   f1       100000 non-null  float64\n",
      " 3   f2       100000 non-null  float64\n",
      " 4   product  100000 non-null  float64\n",
      "dtypes: float64(4), object(1)\n",
      "memory usage: 3.8+ MB\n",
      "\n",
      "El dataframe 0 tiene una cantidad de 0 valores duplicados\n"
     ]
    },
    {
     "data": {
      "text/plain": [
       "None"
      ]
     },
     "metadata": {},
     "output_type": "display_data"
    },
    {
     "data": {
      "text/html": [
       "<div>\n",
       "<style scoped>\n",
       "    .dataframe tbody tr th:only-of-type {\n",
       "        vertical-align: middle;\n",
       "    }\n",
       "\n",
       "    .dataframe tbody tr th {\n",
       "        vertical-align: top;\n",
       "    }\n",
       "\n",
       "    .dataframe thead th {\n",
       "        text-align: right;\n",
       "    }\n",
       "</style>\n",
       "<table border=\"1\" class=\"dataframe\">\n",
       "  <thead>\n",
       "    <tr style=\"text-align: right;\">\n",
       "      <th></th>\n",
       "      <th>f0</th>\n",
       "      <th>f1</th>\n",
       "      <th>f2</th>\n",
       "      <th>product</th>\n",
       "    </tr>\n",
       "  </thead>\n",
       "  <tbody>\n",
       "    <tr>\n",
       "      <th>count</th>\n",
       "      <td>100,000.00</td>\n",
       "      <td>100,000.00</td>\n",
       "      <td>100,000.00</td>\n",
       "      <td>100,000.00</td>\n",
       "    </tr>\n",
       "    <tr>\n",
       "      <th>mean</th>\n",
       "      <td>0.50</td>\n",
       "      <td>0.25</td>\n",
       "      <td>2.50</td>\n",
       "      <td>92.50</td>\n",
       "    </tr>\n",
       "    <tr>\n",
       "      <th>std</th>\n",
       "      <td>0.87</td>\n",
       "      <td>0.50</td>\n",
       "      <td>3.25</td>\n",
       "      <td>44.29</td>\n",
       "    </tr>\n",
       "    <tr>\n",
       "      <th>min</th>\n",
       "      <td>-1.41</td>\n",
       "      <td>-0.85</td>\n",
       "      <td>-12.09</td>\n",
       "      <td>0.00</td>\n",
       "    </tr>\n",
       "    <tr>\n",
       "      <th>25%</th>\n",
       "      <td>-0.07</td>\n",
       "      <td>-0.20</td>\n",
       "      <td>0.29</td>\n",
       "      <td>56.50</td>\n",
       "    </tr>\n",
       "    <tr>\n",
       "      <th>50%</th>\n",
       "      <td>0.50</td>\n",
       "      <td>0.25</td>\n",
       "      <td>2.52</td>\n",
       "      <td>91.85</td>\n",
       "    </tr>\n",
       "    <tr>\n",
       "      <th>75%</th>\n",
       "      <td>1.07</td>\n",
       "      <td>0.70</td>\n",
       "      <td>4.72</td>\n",
       "      <td>128.56</td>\n",
       "    </tr>\n",
       "    <tr>\n",
       "      <th>max</th>\n",
       "      <td>2.36</td>\n",
       "      <td>1.34</td>\n",
       "      <td>16.00</td>\n",
       "      <td>185.36</td>\n",
       "    </tr>\n",
       "  </tbody>\n",
       "</table>\n",
       "</div>"
      ],
      "text/plain": [
       "              f0         f1         f2    product\n",
       "count 100,000.00 100,000.00 100,000.00 100,000.00\n",
       "mean        0.50       0.25       2.50      92.50\n",
       "std         0.87       0.50       3.25      44.29\n",
       "min        -1.41      -0.85     -12.09       0.00\n",
       "25%        -0.07      -0.20       0.29      56.50\n",
       "50%         0.50       0.25       2.52      91.85\n",
       "75%         1.07       0.70       4.72     128.56\n",
       "max         2.36       1.34      16.00     185.36"
      ]
     },
     "metadata": {},
     "output_type": "display_data"
    },
    {
     "data": {
      "text/plain": [
       "None"
      ]
     },
     "metadata": {},
     "output_type": "display_data"
    },
    {
     "name": "stdout",
     "output_type": "stream",
     "text": [
      "<class 'pandas.core.frame.DataFrame'>\n",
      "RangeIndex: 100000 entries, 0 to 99999\n",
      "Data columns (total 5 columns):\n",
      " #   Column   Non-Null Count   Dtype  \n",
      "---  ------   --------------   -----  \n",
      " 0   id       100000 non-null  object \n",
      " 1   f0       100000 non-null  float64\n",
      " 2   f1       100000 non-null  float64\n",
      " 3   f2       100000 non-null  float64\n",
      " 4   product  100000 non-null  float64\n",
      "dtypes: float64(4), object(1)\n",
      "memory usage: 3.8+ MB\n",
      "\n",
      "El dataframe 1 tiene una cantidad de 0 valores duplicados\n"
     ]
    },
    {
     "data": {
      "text/plain": [
       "None"
      ]
     },
     "metadata": {},
     "output_type": "display_data"
    },
    {
     "data": {
      "text/html": [
       "<div>\n",
       "<style scoped>\n",
       "    .dataframe tbody tr th:only-of-type {\n",
       "        vertical-align: middle;\n",
       "    }\n",
       "\n",
       "    .dataframe tbody tr th {\n",
       "        vertical-align: top;\n",
       "    }\n",
       "\n",
       "    .dataframe thead th {\n",
       "        text-align: right;\n",
       "    }\n",
       "</style>\n",
       "<table border=\"1\" class=\"dataframe\">\n",
       "  <thead>\n",
       "    <tr style=\"text-align: right;\">\n",
       "      <th></th>\n",
       "      <th>f0</th>\n",
       "      <th>f1</th>\n",
       "      <th>f2</th>\n",
       "      <th>product</th>\n",
       "    </tr>\n",
       "  </thead>\n",
       "  <tbody>\n",
       "    <tr>\n",
       "      <th>count</th>\n",
       "      <td>100,000.00</td>\n",
       "      <td>100,000.00</td>\n",
       "      <td>100,000.00</td>\n",
       "      <td>100,000.00</td>\n",
       "    </tr>\n",
       "    <tr>\n",
       "      <th>mean</th>\n",
       "      <td>1.14</td>\n",
       "      <td>-4.80</td>\n",
       "      <td>2.49</td>\n",
       "      <td>68.83</td>\n",
       "    </tr>\n",
       "    <tr>\n",
       "      <th>std</th>\n",
       "      <td>8.97</td>\n",
       "      <td>5.12</td>\n",
       "      <td>1.70</td>\n",
       "      <td>45.94</td>\n",
       "    </tr>\n",
       "    <tr>\n",
       "      <th>min</th>\n",
       "      <td>-31.61</td>\n",
       "      <td>-26.36</td>\n",
       "      <td>-0.02</td>\n",
       "      <td>0.00</td>\n",
       "    </tr>\n",
       "    <tr>\n",
       "      <th>25%</th>\n",
       "      <td>-6.30</td>\n",
       "      <td>-8.27</td>\n",
       "      <td>1.00</td>\n",
       "      <td>26.95</td>\n",
       "    </tr>\n",
       "    <tr>\n",
       "      <th>50%</th>\n",
       "      <td>1.15</td>\n",
       "      <td>-4.81</td>\n",
       "      <td>2.01</td>\n",
       "      <td>57.09</td>\n",
       "    </tr>\n",
       "    <tr>\n",
       "      <th>75%</th>\n",
       "      <td>8.62</td>\n",
       "      <td>-1.33</td>\n",
       "      <td>4.00</td>\n",
       "      <td>107.81</td>\n",
       "    </tr>\n",
       "    <tr>\n",
       "      <th>max</th>\n",
       "      <td>29.42</td>\n",
       "      <td>18.73</td>\n",
       "      <td>5.02</td>\n",
       "      <td>137.95</td>\n",
       "    </tr>\n",
       "  </tbody>\n",
       "</table>\n",
       "</div>"
      ],
      "text/plain": [
       "              f0         f1         f2    product\n",
       "count 100,000.00 100,000.00 100,000.00 100,000.00\n",
       "mean        1.14      -4.80       2.49      68.83\n",
       "std         8.97       5.12       1.70      45.94\n",
       "min       -31.61     -26.36      -0.02       0.00\n",
       "25%        -6.30      -8.27       1.00      26.95\n",
       "50%         1.15      -4.81       2.01      57.09\n",
       "75%         8.62      -1.33       4.00     107.81\n",
       "max        29.42      18.73       5.02     137.95"
      ]
     },
     "metadata": {},
     "output_type": "display_data"
    },
    {
     "data": {
      "text/plain": [
       "None"
      ]
     },
     "metadata": {},
     "output_type": "display_data"
    },
    {
     "name": "stdout",
     "output_type": "stream",
     "text": [
      "<class 'pandas.core.frame.DataFrame'>\n",
      "RangeIndex: 100000 entries, 0 to 99999\n",
      "Data columns (total 5 columns):\n",
      " #   Column   Non-Null Count   Dtype  \n",
      "---  ------   --------------   -----  \n",
      " 0   id       100000 non-null  object \n",
      " 1   f0       100000 non-null  float64\n",
      " 2   f1       100000 non-null  float64\n",
      " 3   f2       100000 non-null  float64\n",
      " 4   product  100000 non-null  float64\n",
      "dtypes: float64(4), object(1)\n",
      "memory usage: 3.8+ MB\n",
      "\n",
      "El dataframe 2 tiene una cantidad de 0 valores duplicados\n"
     ]
    },
    {
     "data": {
      "text/plain": [
       "None"
      ]
     },
     "metadata": {},
     "output_type": "display_data"
    },
    {
     "data": {
      "text/html": [
       "<div>\n",
       "<style scoped>\n",
       "    .dataframe tbody tr th:only-of-type {\n",
       "        vertical-align: middle;\n",
       "    }\n",
       "\n",
       "    .dataframe tbody tr th {\n",
       "        vertical-align: top;\n",
       "    }\n",
       "\n",
       "    .dataframe thead th {\n",
       "        text-align: right;\n",
       "    }\n",
       "</style>\n",
       "<table border=\"1\" class=\"dataframe\">\n",
       "  <thead>\n",
       "    <tr style=\"text-align: right;\">\n",
       "      <th></th>\n",
       "      <th>f0</th>\n",
       "      <th>f1</th>\n",
       "      <th>f2</th>\n",
       "      <th>product</th>\n",
       "    </tr>\n",
       "  </thead>\n",
       "  <tbody>\n",
       "    <tr>\n",
       "      <th>count</th>\n",
       "      <td>100,000.00</td>\n",
       "      <td>100,000.00</td>\n",
       "      <td>100,000.00</td>\n",
       "      <td>100,000.00</td>\n",
       "    </tr>\n",
       "    <tr>\n",
       "      <th>mean</th>\n",
       "      <td>0.00</td>\n",
       "      <td>-0.00</td>\n",
       "      <td>2.50</td>\n",
       "      <td>95.00</td>\n",
       "    </tr>\n",
       "    <tr>\n",
       "      <th>std</th>\n",
       "      <td>1.73</td>\n",
       "      <td>1.73</td>\n",
       "      <td>3.47</td>\n",
       "      <td>44.75</td>\n",
       "    </tr>\n",
       "    <tr>\n",
       "      <th>min</th>\n",
       "      <td>-8.76</td>\n",
       "      <td>-7.08</td>\n",
       "      <td>-11.97</td>\n",
       "      <td>0.00</td>\n",
       "    </tr>\n",
       "    <tr>\n",
       "      <th>25%</th>\n",
       "      <td>-1.16</td>\n",
       "      <td>-1.17</td>\n",
       "      <td>0.13</td>\n",
       "      <td>59.45</td>\n",
       "    </tr>\n",
       "    <tr>\n",
       "      <th>50%</th>\n",
       "      <td>0.01</td>\n",
       "      <td>-0.01</td>\n",
       "      <td>2.48</td>\n",
       "      <td>94.93</td>\n",
       "    </tr>\n",
       "    <tr>\n",
       "      <th>75%</th>\n",
       "      <td>1.16</td>\n",
       "      <td>1.16</td>\n",
       "      <td>4.86</td>\n",
       "      <td>130.60</td>\n",
       "    </tr>\n",
       "    <tr>\n",
       "      <th>max</th>\n",
       "      <td>7.24</td>\n",
       "      <td>7.84</td>\n",
       "      <td>16.74</td>\n",
       "      <td>190.03</td>\n",
       "    </tr>\n",
       "  </tbody>\n",
       "</table>\n",
       "</div>"
      ],
      "text/plain": [
       "              f0         f1         f2    product\n",
       "count 100,000.00 100,000.00 100,000.00 100,000.00\n",
       "mean        0.00      -0.00       2.50      95.00\n",
       "std         1.73       1.73       3.47      44.75\n",
       "min        -8.76      -7.08     -11.97       0.00\n",
       "25%        -1.16      -1.17       0.13      59.45\n",
       "50%         0.01      -0.01       2.48      94.93\n",
       "75%         1.16       1.16       4.86     130.60\n",
       "max         7.24       7.84      16.74     190.03"
      ]
     },
     "metadata": {},
     "output_type": "display_data"
    },
    {
     "data": {
      "text/plain": [
       "None"
      ]
     },
     "metadata": {},
     "output_type": "display_data"
    }
   ],
   "source": [
    "pd.set_option('display.float_format', '{:,.2f}'.format)\n",
    "\n",
    "display(\n",
    "    df_0.info(),\n",
    "    df_0.describe(),\n",
    "    print(f'\\nEl dataframe 0 tiene una cantidad de {df_0.duplicated().sum()} valores duplicados')\n",
    ")\n",
    "display(\n",
    "    df_1.info(),\n",
    "    df_1.describe(),\n",
    "    print(f'\\nEl dataframe 1 tiene una cantidad de {df_0.duplicated().sum()} valores duplicados')\n",
    ")\n",
    "display(\n",
    "    df_2.info(),\n",
    "    df_2.describe(),\n",
    "    print(f'\\nEl dataframe 2 tiene una cantidad de {df_0.duplicated().sum()} valores duplicados')\n",
    ")"
   ]
  },
  {
   "cell_type": "markdown",
   "id": "295e516b-f21e-4b7c-8367-77bfd847db4d",
   "metadata": {},
   "source": [
    "<div class=\"alert alert-block alert-success\">\n",
    "<b>Comentario del revisor</b> <a class=\"tocSkip\"></a><br />\n",
    "Correcto!<br/>\n",
    "\n",
    "Buena manera de leer los datos y de hacer una revisión inicial\n",
    "</div>\n"
   ]
  },
  {
   "cell_type": "markdown",
   "id": "b3a7d750",
   "metadata": {},
   "source": [
    "Los tres datasets cuentan con 100k rows de datos, no hay datos ausentes por lo tanto no aplicaremos metodos de imputación. Tampoco hay valores duplicados. Estamos listos para los siguientes pasos.\n",
    "\n",
    "Para entrenar el modelo, sera necesario hacer drop a mi columna de id, ya que no me aporta nada en particular y necesitaria de NLP para poderla procesar."
   ]
  },
  {
   "cell_type": "markdown",
   "id": "ae0a5c78",
   "metadata": {},
   "source": [
    "## Función para Modelo de Regresion Lineal"
   ]
  },
  {
   "cell_type": "code",
   "execution_count": null,
   "id": "666bb4f4",
   "metadata": {},
   "outputs": [],
   "source": [
    "def region_model(df):\n",
    "    '''\n",
    "    Esta funcion recibe como entrada un dataframe.\n",
    "\n",
    "    Una ves recibiendo esto se le da el procesamiento completo de dropear las columnas, preparas los datos en test y train, se entrena un modelo de LinearRegression \n",
    "    '''\n",
    "    X = df.drop(columns=['id', 'product'])\n",
    "    y = df['product']\n",
    "\n",
    "    # Dividimos los datos en conjunto de entrenamiento (75%) y prueba (25%)\n",
    "    X_train, X_test, y_train, y_test = train_test_split(\n",
    "        X, y, test_size=0.25, random_state=42\n",
    "    )   \n",
    "\n",
    "    # Creamos un Pipeline con StandardScaler y Regresion Lineal (Usar Ridge o Lasso) \n",
    "    pipeline = Pipeline([\n",
    "        ('scaler', StandardScaler()),\n",
    "        ('regressor', LinearRegression())\n",
    "    ])\n",
    "\n",
    "    # Entrenamos el modelo\n",
    "    pipeline.fit(X_train, y_train)\n",
    "    \n",
    "    # Hacemos predicciones\n",
    "    y_pred = pipeline.predict(X_test)\n",
    "\n",
    "    #Calculamos las métricas\n",
    "    rmse = root_mean_squared_error(y_test, y_pred)\n",
    "    relative_error = rmse / y_test.mean()\n",
    "\n",
    "    # Mostramos valor del RMSE, Error Relativo y Valor Medio de las reservas predicted\n",
    "    print(f\"🔹 Root Mean Squared Error (RMSE): {rmse:.2f}\")\n",
    "    print(f\"📏 Error relativo: {relative_error:.2%}\")\n",
    "    print(f\"🛢️ Volumen medio de reservas: {y_pred.mean():.2f} barriles\")\n",
    "\n",
    "    return "
   ]
  },
  {
   "cell_type": "markdown",
   "id": "adee182d-0c9e-4da9-b018-c6b654333098",
   "metadata": {},
   "source": [
    "<div class=\"alert alert-block alert-success\">\n",
    "<b>Comentario delxrevisor</b> <a class=\"tocSkip\"></a><br />\n",
    "Bien hecho!<br/>\n",
    "\n",
    "Buena manera de construir una función para entrenar y validar el modelo\n",
    "</div>\n"
   ]
  },
  {
   "cell_type": "code",
   "execution_count": 79,
   "id": "ac3e3206",
   "metadata": {},
   "outputs": [
    {
     "name": "stdout",
     "output_type": "stream",
     "text": [
      "DataFrame 0\n",
      "🔹 Root Mean Squared Error (RMSE): 37.76\n",
      "📏 Error relativo: 40.89%\n",
      "🛢️ Volumen medio de reservas: 92.40 barriles\n",
      "\n",
      "\n",
      "DataFrame 1\n",
      "🔹 Root Mean Squared Error (RMSE): 0.89\n",
      "📏 Error relativo: 1.30%\n",
      "🛢️ Volumen medio de reservas: 68.71 barriles\n",
      "\n",
      "\n",
      "DataFrame 2\n",
      "🔹 Root Mean Squared Error (RMSE): 40.15\n",
      "📏 Error relativo: 42.19%\n",
      "🛢️ Volumen medio de reservas: 94.77 barriles\n",
      "\n",
      "\n"
     ]
    }
   ],
   "source": [
    "df_list = [df_0, df_1, df_2]\n",
    "number = 0\n",
    "\n",
    "for i in df_list:\n",
    "    print(f'DataFrame {number}')\n",
    "    region_model(i)\n",
    "    print('\\n')\n",
    "    number += 1"
   ]
  },
  {
   "cell_type": "markdown",
   "id": "a86f3276",
   "metadata": {},
   "source": [
    "## Cálculo de Ganancias"
   ]
  },
  {
   "cell_type": "code",
   "execution_count": 75,
   "id": "43bb135b",
   "metadata": {},
   "outputs": [
    {
     "name": "stdout",
     "output_type": "stream",
     "text": [
      "💰 El valor minimo que debe generar cada pozo en promedio es de $500000 USD\n",
      "🛢️ Cada pozo debe producir un minimo de 111 barriles\n"
     ]
    }
   ],
   "source": [
    "# Valores\n",
    "pozos = 200\n",
    "budget = 100000000\n",
    "precio_barril = 4500\n",
    "minimo_promedio = int(budget/pozos)\n",
    "minimo_barril = minimo_promedio/precio_barril\n",
    "\n",
    "print(f'💰 El valor minimo que debe generar cada pozo en promedio es de ${minimo_promedio} USD')\n",
    "print(f'🛢️ Cada pozo debe producir un minimo de {int(minimo_barril)} barriles')"
   ]
  },
  {
   "cell_type": "markdown",
   "id": "f69ab1a1",
   "metadata": {},
   "source": [
    "### Media de barriles por region\n",
    "Region 1: 92.40  \n",
    "Region 2: 68.71  \n",
    "Region 3: 94.77\n",
    "\n",
    "Ni una de las 3 regiones genera un promedio minimo de 111 barriles, por lo que si elegimos 200 pozos aleatoriamente ninguna región sera rentable."
   ]
  },
  {
   "cell_type": "markdown",
   "id": "9424cecb-cb9b-437f-927d-69810946db41",
   "metadata": {},
   "source": [
    "<div class=\"alert alert-block alert-success\">\n",
    "<b>Comentario del revisor</b> <a class=\"tocSkip\"></a><br />\n",
    "Correcto!<br/>\n",
    "\n",
    "Me parece acertada la manera de mostrar los resultados para cada una de las regiones, estoy de acuerdo con las observaciones dadas, ninguna de las regiones es rentable si se toman de esta manera\n",
    "</div>\n"
   ]
  },
  {
   "cell_type": "markdown",
   "id": "650f160e",
   "metadata": {},
   "source": [
    "## Ganancia Potencial\n",
    "El modelo pronostica la cantidad de barriles de petroleo (en miles) por cada pozo. De todos los pronosticos realizados debo elegir los 200 pozos mas grandes. Modifico mi funcion y regreso las 200 predicciones mas grandes."
   ]
  },
  {
   "cell_type": "code",
   "execution_count": 104,
   "id": "ab2dff7b",
   "metadata": {},
   "outputs": [],
   "source": [
    "# Modifico mi funcion region_model para extraer el top 200 de cada pozo. A su vez, modifico mi y_pred para que tome en cuenta todo el dataset y no solamente X_test\n",
    "def region_model(df):\n",
    "    '''\n",
    "    Esta funcion recibe como entrada un dataframe.\n",
    "\n",
    "    Una ves recibiendo esto se le da el procesamiento completo de dropear las columnas, preparas los datos en test y train, se entrena un modelo de LinearRegression \n",
    "    '''\n",
    "    X = df.drop(columns=['id', 'product'])\n",
    "    y = df['product']\n",
    "\n",
    "    # Dividimos los datos en conjunto de entrenamiento (75%) y prueba (25%)\n",
    "    X_train, X_test, y_train, y_test = train_test_split(\n",
    "        X, y, test_size=0.25, random_state=42\n",
    "    )   \n",
    "\n",
    "    # Creamos un Pipeline con StandardScaler y Regresion Lineal (Usar Ridge o Lasso) \n",
    "    pipeline = Pipeline([\n",
    "        ('scaler', StandardScaler()),\n",
    "        ('regressor', LinearRegression())\n",
    "    ])\n",
    "\n",
    "    # Entrenamos el modelo\n",
    "    pipeline.fit(X_train, y_train)\n",
    "    \n",
    "    # Hacemos predicciones SOBRE mi dataset completo\n",
    "    y_pred = pipeline.predict(X)\n",
    "\n",
    "    # Extraigo el top 200 pozos de mis predicciones basado en producto\n",
    "    top_200 = pd.Series(y_pred).sort_values(ascending=False).head(200)\n",
    "\n",
    "    return top_200"
   ]
  },
  {
   "cell_type": "code",
   "execution_count": 105,
   "id": "f2b0e9a9",
   "metadata": {},
   "outputs": [],
   "source": [
    "# Corro mi funcion con cada DF para extraer mi top 200 pozos por region en formato de Pandas Series\n",
    "region_0_top_200 = region_model(df_0)\n",
    "region_1_top_200 = region_model(df_1)\n",
    "region_2_top_200 = region_model(df_2)"
   ]
  },
  {
   "cell_type": "code",
   "execution_count": 116,
   "id": "6d9c874e",
   "metadata": {},
   "outputs": [
    {
     "name": "stdout",
     "output_type": "stream",
     "text": [
      "🛢️ La region 1 tiene un promedio de barriles de: 163.34728730628322 y una ganancia potencial de $147012558.58 USD\n",
      "\n",
      "🛢️ La region 2 tiene un promedio de barriles de: 139.16109357667088 y una ganancia potencial de $125244984.22 USD\n",
      "\n",
      "🛢️ La region 3 tiene un promedio de barriles de: 156.59273115041017 y una ganancia potencial de $140933458.04 USD\n",
      "\n"
     ]
    }
   ],
   "source": [
    "# Ganancia Potencial\n",
    "\n",
    "print(f'🛢️ La region 1 tiene un promedio de barriles de: {region_0_top_200.mean()} y una ganancia potencial de ${region_0_top_200.sum()*precio_barril:.2f} USD\\n')\n",
    "print(f'🛢️ La region 2 tiene un promedio de barriles de: {region_1_top_200.mean()} y una ganancia potencial de ${region_1_top_200.sum()*precio_barril:.2f} USD\\n')\n",
    "print(f'🛢️ La region 3 tiene un promedio de barriles de: {region_2_top_200.mean()} y una ganancia potencial de ${region_2_top_200.sum()*precio_barril:.2f} USD\\n')"
   ]
  },
  {
   "cell_type": "markdown",
   "id": "7cedd2a6-fbc1-4d88-aef2-f21bf225615b",
   "metadata": {},
   "source": [
    "<div class=\"alert alert-block alert-success\">\n",
    "<b>Comentario del revisor</b> <a class=\"tocSkip\"></a><br />\n",
    "Bien hecho!<br/>\n",
    "\n",
    "Buena manera de encontrar los resultados\n",
    "</div>\n"
   ]
  },
  {
   "cell_type": "markdown",
   "id": "ef7b3380",
   "metadata": {},
   "source": [
    "### Conclusion\n",
    "\n",
    "Basandome en las predicciones del modelo para cada una de las regiones. La región que propongo para el desarrollo de los nuevos pozos petroleros es la región 1, ya que tiene el pronóstico de promedio de barriles mas alto. Si bien las 3 cumplen con el quota, la region 1 es la que tiene potencialmente mayores y mejores ganancias."
   ]
  },
  {
   "cell_type": "markdown",
   "id": "73a9ec6e",
   "metadata": {},
   "source": [
    "5. Calcula riesgos y ganancias para cada región:\n",
    "    1. Utilizando las predicciones que almacenaste en el paso 4.2, emplea la técnica del bootstrapping con 1000 muestras para hallar la distribución de los beneficios.\n",
    "    2. Encuentra el beneficio promedio, el intervalo de confianza del 95% y el riesgo de pérdidas. La pérdida es una ganancia negativa, calcúlala como una probabilidad y luego exprésala como un porcentaje.\n",
    "    3. Presenta tus conclusiones: propón una región para el desarrollo de pozos petrolíferos y justifica tu elección. ¿Coincide tu elección con la elección anterior en el punto 4.3?"
   ]
  },
  {
   "cell_type": "code",
   "execution_count": null,
   "id": "a34e3c49",
   "metadata": {},
   "outputs": [],
   "source": [
    "def bootstrap(df, n_bootstraps = 1000):\n",
    "    ''' \n",
    "    Realiza un bootstrapping sobre un dataframe completo y estima\n",
    "    la distribucion de ganancias, intervalo de confianza y riesgo de pérdida.\n",
    "    '''\n",
    "\n",
    "    # Hago mis variables X y y\n",
    "    X = df.drop(columns=['id', 'product'])\n",
    "    y = df['product']\n",
    "\n",
    "    # Necesito agregar un random state para mi for loop\n",
    "    state = np.random.RandomState(42)\n",
    "    profit = []\n",
    "    \n",
    "    # Inicio un for loop para mi bootstrap, lo aplico para ganancias obtenidas para los 200 pozos\n",
    "    for i in range(n_bootstraps):\n",
    "        sample = y.sample(n=200, replace = True, random_state=state)\n",
    "        total_sample = pd.Series(sample).sum()\n",
    "        ingreso = total_sample * precio_barril\n",
    "        ganancia = ingreso - budget\n",
    "        profit.append(ganancia)\n",
    "    \n",
    "    # Lo paso a serie de Pandas\n",
    "    profit = pd.Series(profit)\n",
    "    risk = (profit < 0).mean()\n",
    "\n",
    "    lower = profit.quantile(0.05)\n",
    "    upper = profit.quantile(0.95)\n",
    "\n",
    "    print(f'💰 Ganancia Promedio: ${profit.mean():.2f}')\n",
    "    print(f'📈 Intervalo de confianza (95%): Entre ${lower:.2f} a ${upper:.2f}')\n",
    "    print(f'🛑 El riesgo de perdida es del {risk*100:.2f}%')\n",
    "    \n",
    "    return "
   ]
  },
  {
   "cell_type": "markdown",
   "id": "9dda4552",
   "metadata": {},
   "source": [
    "Calculo el riesgo de perdida como un porcentaje de cuantas ocasiones mi bootstrap genero menos de 0, es decir mi ingreso - budget. Budget siendo 100m"
   ]
  },
  {
   "cell_type": "code",
   "execution_count": null,
   "id": "930d191b",
   "metadata": {},
   "outputs": [
    {
     "name": "stdout",
     "output_type": "stream",
     "text": [
      "Region 1\n",
      "💰 Ganancia Promedio: $47018969.53\n",
      "📈 Intervalo de confianza (95%): Entre $46430800.51 a $47662940.71\n",
      "🛑 El riesgo de perdida es del 0.00%\n",
      "\n",
      "Region 2\n",
      "💰 Ganancia Promedio: $25245181.58\n",
      "📈 Intervalo de confianza (95%): Entre $25219343.08 a $25272580.26\n",
      "🛑 El riesgo de perdida es del 0.00%\n",
      "\n",
      "Region 3\n",
      "💰 Ganancia Promedio: $40938345.13\n",
      "📈 Intervalo de confianza (95%): Entre $40397017.48 a $41514500.66\n",
      "🛑 El riesgo de perdida es del 0.00%\n"
     ]
    }
   ],
   "source": [
    "print('Region 1')\n",
    "bootstrap(df_0)\n",
    "print('\\nRegion 2')\n",
    "bootstrap(df_1)\n",
    "print('\\nRegion 3')\n",
    "bootstrap(df_2)"
   ]
  },
  {
   "cell_type": "markdown",
   "id": "aa528f22-07e0-49d4-985c-071d3bab1315",
   "metadata": {},
   "source": [
    "<div class=\"alert alert-block alert-warning\">\n",
    "<b>Comentario del revisor</b> <a class=\"tocSkip\"></a><br />\n",
    "Cuidado!<br/>\n",
    "\n",
    "Estas mandando los datos de los mejores 200 pozos de cada región y la función de bootstrap lo que hace es tomar una muestra aleatoria de 200 pozos, por lo que todo el tiempo esta tomando los mismos 200 pozos para hacer el calculo y resulta en buenas ganancias con un riesgo de 0, lo que se debe hacer es mandar los datos completos para que se tomen 200 pozos aleatorios de todos los existentes\n",
    "</div>\n"
   ]
  },
  {
   "cell_type": "markdown",
   "id": "f1db7f1b",
   "metadata": {},
   "source": [
    "## Conclusión\n",
    "\n",
    "Basado en el análisis de rentabilidad y riesgo, se recomienda invertir en la **Region 1**:\n",
    "- Presenta mayor beneficio (ganancia) promedio.\n",
    "- Riesgo de perdida de 0%.\n",
    "- Intervalo de confianza con mayor rendimiento."
   ]
  },
  {
   "cell_type": "markdown",
   "id": "6ee87987",
   "metadata": {},
   "source": [
    "<div class=\"alert alert-block alert-success\">\n",
    "<b>Comentario del revisor</b> <a class=\"tocSkip\"></a><br />\n",
    "Has realizado un buen trabajo, me doy cuenta de que has aplicado los conocimientos que has adquirido durante el curso y los procedimientos realizados son correctos, esta es una gran herramienta que nos ayuda en muchos casos y es bastante útil en proyectos reales.<br/>\n",
    "    \n",
    "El documento que entregas es organizado y fácil de entender.<br/>\n",
    "\n",
    "Este tipo de analisis nos ayuda a confirmar suposiciones o apoyar decisiones de negocio las cuales muchas veces entre más puntos de vista se analisen mejores resultados se obtendrán al final.\n",
    "Continúa con el buen trabajo y mucho éxito en el siguiente Sprint!\n",
    "</div>\n"
   ]
  }
 ],
 "metadata": {
  "kernelspec": {
   "display_name": "Python 3 (ipykernel)",
   "language": "python",
   "name": "python3"
  },
  "language_info": {
   "codemirror_mode": {
    "name": "ipython",
    "version": 3
   },
   "file_extension": ".py",
   "mimetype": "text/x-python",
   "name": "python",
   "nbconvert_exporter": "python",
   "pygments_lexer": "ipython3",
   "version": "3.9.22"
  }
 },
 "nbformat": 4,
 "nbformat_minor": 5
}
