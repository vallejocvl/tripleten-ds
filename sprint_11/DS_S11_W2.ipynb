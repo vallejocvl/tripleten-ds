{
  "cells": [
    {
      "cell_type": "code",
      "execution_count": 3,
      "metadata": {
        "id": "vUqOm_LV6AjG"
      },
      "outputs": [],
      "source": [
        "import numpy as np\n",
        "import pandas as pd\n",
        "import scipy.stats as stats\n",
        "import matplotlib.pyplot as plt\n",
        "from scipy.stats import ttest_ind\n",
        "from statsmodels.stats.power import TTestIndPower\n",
        "from datetime import datetime, timedelta\n",
        "from sklearn.model_selection import train_test_split"
      ]
    },
    {
      "cell_type": "markdown",
      "metadata": {
        "id": "bJsIgCdZGfBX"
      },
      "source": [
        "# Test Estadísticos de Normalidad\n",
        "\n",
        "Cuando trabajamos con datos, una de las suposiciones más comunes es que estos siguen una distribución **normal** (es decir, una forma de campana). Esto es importante porque muchas pruebas estadísticas, como las pruebas t, dependen de que los datos sigan una distribución normal.\n",
        "\n",
        "### ¿Qué es un Test de Normalidad?\n",
        "\n",
        "Un **test de normalidad** es una prueba que nos ayuda a determinar si nuestros datos siguen o no una distribución normal. Esto es importante, ya que si los datos no son normales, algunas pruebas estadísticas pueden no ser válidas. Si los datos son normales, podemos usar ciertas pruebas con más confianza.\n",
        "\n",
        "### Casos de Uso en la Vida Real:\n",
        "- **Test de Normalidad en una Encuesta**: Imagina que has realizado una encuesta sobre el tiempo que las personas pasan navegando por internet y quieres saber si los tiempos siguen una distribución normal para poder aplicar un test estadístico.\n",
        "- **Evaluación de Resultados de una Prueba**: Si tienes los resultados de un examen y quieres saber si esos resultados siguen una distribución normal, para ver si puedes usar una prueba t para compararlos con otros grupos.\n",
        "\n",
        "### ¿Cómo saber si los datos son normales?\n",
        "\n",
        "Existen varias formas de comprobar si los datos siguen una distribución normal. Aquí te mostramos dos de los test más comunes:\n",
        "\n",
        "1. **Test de Shapiro-Wilk**: Es uno de los test más utilizados para comprobar la normalidad en pequeños y medianos conjuntos de datos.\n",
        "2. **Test de Anderson-Darling**: Otro test muy popular que se utiliza para detectar desviaciones de la normalidad.\n",
        "\n"
      ]
    },
    {
      "cell_type": "code",
      "execution_count": 4,
      "metadata": {
        "colab": {
          "base_uri": "https://localhost:8080/",
          "height": 469
        },
        "id": "c2YmcwkrGuxT",
        "outputId": "1b25ae3e-cdc4-4ee2-9d8b-37bce7e8936c"
      },
      "outputs": [
        {
          "data": {
            "image/png": "[encoded data removed]",
            "text/plain": [
              "<Figure size 640x480 with 1 Axes>"
            ]
          },
          "metadata": {},
          "output_type": "display_data"
        },
        {
          "name": "stdout",
          "output_type": "stream",
          "text": [
            "Shapiro-Wilk Test: Estadístico = 0.9986, p-valor = 0.5912\n"
          ]
        }
      ],
      "source": [
        "# Generamos algunos datos de ejemplo (distribución normal)\n",
        "np.random.seed(0)\n",
        "data = np.random.normal(loc=0, scale=1, size=1000)\n",
        "\n",
        "# Visualizamos los datos\n",
        "plt.hist(data, bins=30, density=True, alpha=0.6, color='g')\n",
        "plt.title('Histograma de los Datos')\n",
        "plt.show()\n",
        "\n",
        "# Test de Shapiro-Wilk\n",
        "stat, p_value_shapiro = stats.shapiro(data)\n",
        "print(f\"Shapiro-Wilk Test: Estadístico = {stat:.4f}, p-valor = {p_value_shapiro:.4f}\")\n"
      ]
    },
    {
      "cell_type": "markdown",
      "metadata": {
        "id": "GbNz53AK6IGG"
      },
      "source": [
        "# **Ejercicio: Prueba A/B para Evaluar la Tasa de Conversión en una Página Web**\n",
        "\n",
        "## **Contexto**\n",
        "Una empresa de comercio electrónico quiere probar si cambiar el color del botón \"Comprar Ahora\" en su página web de azul a verde mejora la tasa de conversión de los usuarios. Para ello, se llevará a cabo una prueba A/B.\n",
        "\n",
        "### **Pasos del Ejercicio**\n",
        "\n",
        "1. **Explorar los datos.**\n",
        "\n",
        "2. **Definir el Indicador Clave a Evaluar.**\n",
        "\n",
        "3. **Definir la Hipótesis Estadística.**\n",
        "\n",
        "5. **Definir el Tamaño de Muestra.**\n",
        "\n",
        "6. **Definir el Método de Muestreo.**\n",
        "\n",
        "7. **Definir distribución de los datos.**\n",
        "\n",
        "8. **Seleccionar la Prueba Estadística:**\n",
        "\n",
        "9. **Interpretar la Prueba Estadística:**\n",
        "   - Si el p-valor es menor que 0.05, se rechaza H₀ y se concluye que el color del botón afecta la tasa de conversión.\n"
      ]
    },
    {
      "cell_type": "code",
      "execution_count": 5,
      "metadata": {
        "colab": {
          "base_uri": "https://localhost:8080/",
          "height": 424
        },
        "id": "gR2bU-Ra64Dg",
        "outputId": "fc70352f-fdf9-4fe6-99e3-fe78cad17e29"
      },
      "outputs": [
        {
          "data": {
            "text/html": [
              "<div>\n",
              "<style scoped>\n",
              "    .dataframe tbody tr th:only-of-type {\n",
              "        vertical-align: middle;\n",
              "    }\n",
              "\n",
              "    .dataframe tbody tr th {\n",
              "        vertical-align: top;\n",
              "    }\n",
              "\n",
              "    .dataframe thead th {\n",
              "        text-align: right;\n",
              "    }\n",
              "</style>\n",
              "<table border=\"1\" class=\"dataframe\">\n",
              "  <thead>\n",
              "    <tr style=\"text-align: right;\">\n",
              "      <th></th>\n",
              "      <th>usuario_id</th>\n",
              "      <th>fecha_visita</th>\n",
              "      <th>id_visita</th>\n",
              "      <th>hizo_clic</th>\n",
              "    </tr>\n",
              "  </thead>\n",
              "  <tbody>\n",
              "    <tr>\n",
              "      <th>0</th>\n",
              "      <td>5424</td>\n",
              "      <td>2024-01-07</td>\n",
              "      <td>818515</td>\n",
              "      <td>True</td>\n",
              "    </tr>\n",
              "    <tr>\n",
              "      <th>1</th>\n",
              "      <td>4237</td>\n",
              "      <td>2024-01-20</td>\n",
              "      <td>932230</td>\n",
              "      <td>True</td>\n",
              "    </tr>\n",
              "    <tr>\n",
              "      <th>2</th>\n",
              "      <td>4893</td>\n",
              "      <td>2024-01-29</td>\n",
              "      <td>177271</td>\n",
              "      <td>True</td>\n",
              "    </tr>\n",
              "    <tr>\n",
              "      <th>3</th>\n",
              "      <td>3005</td>\n",
              "      <td>2024-01-15</td>\n",
              "      <td>916609</td>\n",
              "      <td>True</td>\n",
              "    </tr>\n",
              "    <tr>\n",
              "      <th>4</th>\n",
              "      <td>3016</td>\n",
              "      <td>2024-01-11</td>\n",
              "      <td>589464</td>\n",
              "      <td>True</td>\n",
              "    </tr>\n",
              "    <tr>\n",
              "      <th>...</th>\n",
              "      <td>...</td>\n",
              "      <td>...</td>\n",
              "      <td>...</td>\n",
              "      <td>...</td>\n",
              "    </tr>\n",
              "    <tr>\n",
              "      <th>4995</th>\n",
              "      <td>1886</td>\n",
              "      <td>2024-01-13</td>\n",
              "      <td>771162</td>\n",
              "      <td>False</td>\n",
              "    </tr>\n",
              "    <tr>\n",
              "      <th>4996</th>\n",
              "      <td>6854</td>\n",
              "      <td>2024-01-04</td>\n",
              "      <td>593844</td>\n",
              "      <td>True</td>\n",
              "    </tr>\n",
              "    <tr>\n",
              "      <th>4997</th>\n",
              "      <td>6318</td>\n",
              "      <td>2024-01-02</td>\n",
              "      <td>666695</td>\n",
              "      <td>False</td>\n",
              "    </tr>\n",
              "    <tr>\n",
              "      <th>4998</th>\n",
              "      <td>3258</td>\n",
              "      <td>2024-01-16</td>\n",
              "      <td>220283</td>\n",
              "      <td>True</td>\n",
              "    </tr>\n",
              "    <tr>\n",
              "      <th>4999</th>\n",
              "      <td>5382</td>\n",
              "      <td>2024-01-09</td>\n",
              "      <td>113338</td>\n",
              "      <td>True</td>\n",
              "    </tr>\n",
              "  </tbody>\n",
              "</table>\n",
              "<p>5000 rows × 4 columns</p>\n",
              "</div>"
            ],
            "text/plain": [
              "      usuario_id fecha_visita  id_visita  hizo_clic\n",
              "0           5424   2024-01-07     818515       True\n",
              "1           4237   2024-01-20     932230       True\n",
              "2           4893   2024-01-29     177271       True\n",
              "3           3005   2024-01-15     916609       True\n",
              "4           3016   2024-01-11     589464       True\n",
              "...          ...          ...        ...        ...\n",
              "4995        1886   2024-01-13     771162      False\n",
              "4996        6854   2024-01-04     593844       True\n",
              "4997        6318   2024-01-02     666695      False\n",
              "4998        3258   2024-01-16     220283       True\n",
              "4999        5382   2024-01-09     113338       True\n",
              "\n",
              "[5000 rows x 4 columns]"
            ]
          },
          "execution_count": 5,
          "metadata": {},
          "output_type": "execute_result"
        }
      ],
      "source": [
        "# Generar los datos\n",
        "# Paso 1: Simular datos\n",
        "np.random.seed(42)\n",
        "n_users = 5000\n",
        "\n",
        "# Fechas aleatorias dentro de un rango de 30 días\n",
        "start_date = datetime(2024, 1, 1)\n",
        "dates = [start_date + timedelta(days=np.random.randint(0, 30)) for _ in range(n_users)]\n",
        "\n",
        "# Generamos identificadores únicos de usuario y de visita\n",
        "usuario_ids = np.random.randint(1000, 9999, n_users)\n",
        "id_visitas = np.random.randint(100000, 999999, n_users)\n",
        "\n",
        "# Asignamos usuarios aleatoriamente a los grupos\n",
        "conversion_rates = {\"azul\": (0.12, 0.02), \"verde\": (0.14, 0.02)}\n",
        "\n",
        "# Simulación de conversiones con distribución normal\n",
        "grupo = np.random.choice([\"azul\", \"verde\"], size=n_users)\n",
        "datos_conversion = [\n",
        "    np.random.normal(loc=conversion_rates[color][0], scale=conversion_rates[color][1]) > 0.12\n",
        "    for color in grupo\n",
        "]\n",
        "\n",
        "# Crear el DataFrame\n",
        "\n",
        "df = pd.DataFrame({\n",
        "    \"usuario_id\": usuario_ids,\n",
        "    \"fecha_visita\": dates,\n",
        "    \"id_visita\": id_visitas,\n",
        "    \"hizo_clic\": datos_conversion\n",
        "})\n",
        "\n",
        "df"
      ]
    },
    {
      "cell_type": "code",
      "execution_count": 6,
      "metadata": {
        "colab": {
          "base_uri": "https://localhost:8080/",
          "height": 490
        },
        "id": "i7KywP6f4yRD",
        "outputId": "62e1bb1e-7d65-440d-d5ef-5d3aeff3cf9c"
      },
      "outputs": [
        {
          "data": {
            "text/plain": [
              "usuario_id\n",
              "6442    1\n",
              "4907    1\n",
              "1807    1\n",
              "5827    1\n",
              "3284    1\n",
              "       ..\n",
              "3513    4\n",
              "4406    5\n",
              "1615    5\n",
              "5920    5\n",
              "2907    5\n",
              "Name: count, Length: 3839, dtype: int64"
            ]
          },
          "execution_count": 6,
          "metadata": {},
          "output_type": "execute_result"
        }
      ],
      "source": [
        "df['usuario_id'].value_counts().sort_values()"
      ]
    },
    {
      "cell_type": "code",
      "execution_count": 7,
      "metadata": {
        "colab": {
          "base_uri": "https://localhost:8080/",
          "height": 424
        },
        "id": "uyrarqoH4D0E",
        "outputId": "d848004f-8d75-456a-e65b-d72235d212ce"
      },
      "outputs": [
        {
          "data": {
            "text/html": [
              "<div>\n",
              "<style scoped>\n",
              "    .dataframe tbody tr th:only-of-type {\n",
              "        vertical-align: middle;\n",
              "    }\n",
              "\n",
              "    .dataframe tbody tr th {\n",
              "        vertical-align: top;\n",
              "    }\n",
              "\n",
              "    .dataframe thead th {\n",
              "        text-align: right;\n",
              "    }\n",
              "</style>\n",
              "<table border=\"1\" class=\"dataframe\">\n",
              "  <thead>\n",
              "    <tr style=\"text-align: right;\">\n",
              "      <th></th>\n",
              "      <th>usuario_id</th>\n",
              "      <th>fecha_visita</th>\n",
              "      <th>id_visita</th>\n",
              "      <th>hizo_clic</th>\n",
              "    </tr>\n",
              "  </thead>\n",
              "  <tbody>\n",
              "    <tr>\n",
              "      <th>2361</th>\n",
              "      <td>3706</td>\n",
              "      <td>2024-01-06</td>\n",
              "      <td>951481</td>\n",
              "      <td>True</td>\n",
              "    </tr>\n",
              "    <tr>\n",
              "      <th>314</th>\n",
              "      <td>3120</td>\n",
              "      <td>2024-01-06</td>\n",
              "      <td>583791</td>\n",
              "      <td>True</td>\n",
              "    </tr>\n",
              "    <tr>\n",
              "      <th>4757</th>\n",
              "      <td>6902</td>\n",
              "      <td>2024-01-15</td>\n",
              "      <td>332275</td>\n",
              "      <td>True</td>\n",
              "    </tr>\n",
              "    <tr>\n",
              "      <th>3072</th>\n",
              "      <td>2101</td>\n",
              "      <td>2024-01-12</td>\n",
              "      <td>629983</td>\n",
              "      <td>True</td>\n",
              "    </tr>\n",
              "    <tr>\n",
              "      <th>282</th>\n",
              "      <td>3708</td>\n",
              "      <td>2024-01-23</td>\n",
              "      <td>145708</td>\n",
              "      <td>True</td>\n",
              "    </tr>\n",
              "    <tr>\n",
              "      <th>...</th>\n",
              "      <td>...</td>\n",
              "      <td>...</td>\n",
              "      <td>...</td>\n",
              "      <td>...</td>\n",
              "    </tr>\n",
              "    <tr>\n",
              "      <th>2906</th>\n",
              "      <td>1880</td>\n",
              "      <td>2024-01-04</td>\n",
              "      <td>484474</td>\n",
              "      <td>True</td>\n",
              "    </tr>\n",
              "    <tr>\n",
              "      <th>1713</th>\n",
              "      <td>8833</td>\n",
              "      <td>2024-01-21</td>\n",
              "      <td>356216</td>\n",
              "      <td>True</td>\n",
              "    </tr>\n",
              "    <tr>\n",
              "      <th>4851</th>\n",
              "      <td>5670</td>\n",
              "      <td>2024-01-19</td>\n",
              "      <td>359291</td>\n",
              "      <td>False</td>\n",
              "    </tr>\n",
              "    <tr>\n",
              "      <th>3352</th>\n",
              "      <td>6988</td>\n",
              "      <td>2024-01-18</td>\n",
              "      <td>273217</td>\n",
              "      <td>True</td>\n",
              "    </tr>\n",
              "    <tr>\n",
              "      <th>388</th>\n",
              "      <td>7043</td>\n",
              "      <td>2024-01-25</td>\n",
              "      <td>411896</td>\n",
              "      <td>True</td>\n",
              "    </tr>\n",
              "  </tbody>\n",
              "</table>\n",
              "<p>1000 rows × 4 columns</p>\n",
              "</div>"
            ],
            "text/plain": [
              "      usuario_id fecha_visita  id_visita  hizo_clic\n",
              "2361        3706   2024-01-06     951481       True\n",
              "314         3120   2024-01-06     583791       True\n",
              "4757        6902   2024-01-15     332275       True\n",
              "3072        2101   2024-01-12     629983       True\n",
              "282         3708   2024-01-23     145708       True\n",
              "...          ...          ...        ...        ...\n",
              "2906        1880   2024-01-04     484474       True\n",
              "1713        8833   2024-01-21     356216       True\n",
              "4851        5670   2024-01-19     359291      False\n",
              "3352        6988   2024-01-18     273217       True\n",
              "388         7043   2024-01-25     411896       True\n",
              "\n",
              "[1000 rows x 4 columns]"
            ]
          },
          "execution_count": 7,
          "metadata": {},
          "output_type": "execute_result"
        }
      ],
      "source": [
        "df.sample(1000)"
      ]
    },
    {
      "cell_type": "code",
      "execution_count": 8,
      "metadata": {
        "colab": {
          "base_uri": "https://localhost:8080/",
          "height": 458
        },
        "id": "IPlZDsSmCCAn",
        "outputId": "3a61ccdd-1f9f-407c-e548-3b9d0ac1ab33"
      },
      "outputs": [
        {
          "data": {
            "text/plain": [
              "<Axes: xlabel='fecha_visita'>"
            ]
          },
          "execution_count": 8,
          "metadata": {},
          "output_type": "execute_result"
        },
        {
          "data": {
            "image/png": "[encoded data removed]",
            "text/plain": [
              "<Figure size 1000x400 with 1 Axes>"
            ]
          },
          "metadata": {},
          "output_type": "display_data"
        }
      ],
      "source": [
        "df.groupby('fecha_visita')['id_visita'].count().plot(kind='line',figsize=(10,4))"
      ]
    },
    {
      "cell_type": "code",
      "execution_count": 9,
      "metadata": {
        "colab": {
          "base_uri": "https://localhost:8080/"
        },
        "id": "6T-ZxmqH8ccY",
        "outputId": "bbe13d3f-3650-4c0a-878c-511f26882077"
      },
      "outputs": [
        {
          "data": {
            "text/plain": [
              "-1571"
            ]
          },
          "execution_count": 9,
          "metadata": {},
          "output_type": "execute_result"
        }
      ],
      "source": [
        "- 1920\n",
        "\n",
        "- 1571\n",
        "\n"
      ]
    },
    {
      "cell_type": "code",
      "execution_count": 10,
      "metadata": {
        "colab": {
          "base_uri": "https://localhost:8080/"
        },
        "id": "gBP2aAb4CCE7",
        "outputId": "9c2cc27d-499d-458e-cd79-757d24c8528e"
      },
      "outputs": [
        {
          "data": {
            "text/plain": [
              "3839"
            ]
          },
          "execution_count": 10,
          "metadata": {},
          "output_type": "execute_result"
        }
      ],
      "source": [
        "df['usuario_id'].nunique()"
      ]
    },
    {
      "cell_type": "code",
      "execution_count": 11,
      "metadata": {
        "colab": {
          "base_uri": "https://localhost:8080/",
          "height": 490
        },
        "id": "g4GYeCWvCCMU",
        "outputId": "8b1bd915-63f9-4e5e-8773-96f524541415"
      },
      "outputs": [],
      "source": [
        "conteo = df[\"usuario_id\"].value_counts()\n",
        "unicos = conteo[conteo==1].index\n",
        "# unicos.shape\n",
        "# df_usuario_unico = df[df['usuario_id'].isin(unicos)]\n",
        "# print(df_usuario_unico.info())"
      ]
    },
    {
      "cell_type": "markdown",
      "metadata": {
        "id": "pvI_Ky6l-9BJ"
      },
      "source": [
        "## Mi Prueba"
      ]
    },
    {
      "cell_type": "markdown",
      "metadata": {},
      "source": [
        "1) Exploramos los datos, se necesita calcular la conversion diaria, para esto necesitamos la taza de conversion de los usuarios diaria."
      ]
    },
    {
      "cell_type": "code",
      "execution_count": 12,
      "metadata": {},
      "outputs": [
        {
          "data": {
            "text/html": [
              "<div>\n",
              "<style scoped>\n",
              "    .dataframe tbody tr th:only-of-type {\n",
              "        vertical-align: middle;\n",
              "    }\n",
              "\n",
              "    .dataframe tbody tr th {\n",
              "        vertical-align: top;\n",
              "    }\n",
              "\n",
              "    .dataframe thead th {\n",
              "        text-align: right;\n",
              "    }\n",
              "</style>\n",
              "<table border=\"1\" class=\"dataframe\">\n",
              "  <thead>\n",
              "    <tr style=\"text-align: right;\">\n",
              "      <th></th>\n",
              "      <th>usuario_id</th>\n",
              "      <th>fecha_visita</th>\n",
              "      <th>id_visita</th>\n",
              "      <th>hizo_clic</th>\n",
              "    </tr>\n",
              "  </thead>\n",
              "  <tbody>\n",
              "    <tr>\n",
              "      <th>0</th>\n",
              "      <td>5424</td>\n",
              "      <td>2024-01-07</td>\n",
              "      <td>818515</td>\n",
              "      <td>True</td>\n",
              "    </tr>\n",
              "    <tr>\n",
              "      <th>1</th>\n",
              "      <td>4237</td>\n",
              "      <td>2024-01-20</td>\n",
              "      <td>932230</td>\n",
              "      <td>True</td>\n",
              "    </tr>\n",
              "    <tr>\n",
              "      <th>2</th>\n",
              "      <td>4893</td>\n",
              "      <td>2024-01-29</td>\n",
              "      <td>177271</td>\n",
              "      <td>True</td>\n",
              "    </tr>\n",
              "    <tr>\n",
              "      <th>3</th>\n",
              "      <td>3005</td>\n",
              "      <td>2024-01-15</td>\n",
              "      <td>916609</td>\n",
              "      <td>True</td>\n",
              "    </tr>\n",
              "    <tr>\n",
              "      <th>4</th>\n",
              "      <td>3016</td>\n",
              "      <td>2024-01-11</td>\n",
              "      <td>589464</td>\n",
              "      <td>True</td>\n",
              "    </tr>\n",
              "  </tbody>\n",
              "</table>\n",
              "</div>"
            ],
            "text/plain": [
              "   usuario_id fecha_visita  id_visita  hizo_clic\n",
              "0        5424   2024-01-07     818515       True\n",
              "1        4237   2024-01-20     932230       True\n",
              "2        4893   2024-01-29     177271       True\n",
              "3        3005   2024-01-15     916609       True\n",
              "4        3016   2024-01-11     589464       True"
            ]
          },
          "execution_count": 12,
          "metadata": {},
          "output_type": "execute_result"
        }
      ],
      "source": [
        "df.head()"
      ]
    },
    {
      "cell_type": "markdown",
      "metadata": {},
      "source": [
        "Siempre que tengamos una columna de tiempo vale la pena ver la duración. Y ver como evolucionan las variables claves a traves del tiempo."
      ]
    },
    {
      "cell_type": "code",
      "execution_count": 13,
      "metadata": {},
      "outputs": [
        {
          "data": {
            "text/plain": [
              "<Axes: xlabel='fecha_visita'>"
            ]
          },
          "execution_count": 13,
          "metadata": {},
          "output_type": "execute_result"
        },
        {
          "data": {
            "image/png": "[encoded data removed]",
            "text/plain": [
              "<Figure size 1000x300 with 1 Axes>"
            ]
          },
          "metadata": {},
          "output_type": "display_data"
        }
      ],
      "source": [
        "df.groupby('fecha_visita')['id_visita'].count().plot(kind='line', figsize=(10,3))"
      ]
    },
    {
      "cell_type": "markdown",
      "metadata": {},
      "source": [
        "Usaremos una hipotesis de una cola, hipotesis alterna es que el boton verde mejora la tasa de conversion."
      ]
    },
    {
      "cell_type": "code",
      "execution_count": 14,
      "metadata": {},
      "outputs": [
        {
          "data": {
            "text/plain": [
              "1571"
            ]
          },
          "execution_count": 14,
          "metadata": {},
          "output_type": "execute_result"
        }
      ],
      "source": [
        "#4. Definir tamaño de muestra\n",
        "alpha = 0.05  # Nivel de significancia\n",
        "power = 0.8  # Potencia estadística\n",
        "effect_size = 0.1  # Diferencia mínima detectable\n",
        "sample_size = TTestIndPower().solve_power(effect_size=effect_size, alpha=alpha, power=power, ratio=1)\n",
        "sample_size = int(np.ceil(sample_size))\n",
        "sample_size"
      ]
    },
    {
      "cell_type": "code",
      "execution_count": 15,
      "metadata": {},
      "outputs": [
        {
          "data": {
            "text/plain": [
              "3839"
            ]
          },
          "execution_count": 15,
          "metadata": {},
          "output_type": "execute_result"
        }
      ],
      "source": [
        "df['usuario_id'].nunique()"
      ]
    },
    {
      "cell_type": "markdown",
      "metadata": {},
      "source": [
        "Tenemos 1920 como la mitad de valores unicos, y tenemos 1571 como el minimo necesario. En este caso es recomendable usar 1571 de sample por que seria mas economico hacer las pruebas, debido a que este numero representar muy bien el comportamiento de una población."
      ]
    },
    {
      "cell_type": "code",
      "execution_count": 30,
      "metadata": {},
      "outputs": [],
      "source": [
        "df_users = df[['usuario_id']].drop_duplicates()\n",
        "\n",
        "# Le doy test_size entre 2\n",
        "users_control , users_treatment = train_test_split(\n",
        "    df_users, \n",
        "    test_size=1571, \n",
        "    random_state=0)\n",
        "\n",
        "# treatment tiene 1571 pero users control tiene el resto, asi que usamos sample\n",
        "users_control = users_control.sample(n=1571)\n",
        "\n",
        "# Filtro mi df control y mi df tratamiento\n",
        "\n",
        "control = df[df['usuario_id'].isin(users_control['usuario_id'])]\n",
        "treatment = df[df['usuario_id'].isin(users_treatment['usuario_id'])]\n"
      ]
    },
    {
      "cell_type": "code",
      "execution_count": 31,
      "metadata": {},
      "outputs": [
        {
          "data": {
            "text/plain": [
              "(1571, 1)"
            ]
          },
          "metadata": {},
          "output_type": "display_data"
        },
        {
          "data": {
            "text/plain": [
              "(1571, 1)"
            ]
          },
          "metadata": {},
          "output_type": "display_data"
        }
      ],
      "source": [
        "# Verifico el tamano de mi muestra\n",
        "display(\n",
        "    users_control.shape,\n",
        "    users_treatment.shape\n",
        ")"
      ]
    },
    {
      "cell_type": "code",
      "execution_count": 36,
      "metadata": {},
      "outputs": [
        {
          "data": {
            "text/html": [
              "<div>\n",
              "<style scoped>\n",
              "    .dataframe tbody tr th:only-of-type {\n",
              "        vertical-align: middle;\n",
              "    }\n",
              "\n",
              "    .dataframe tbody tr th {\n",
              "        vertical-align: top;\n",
              "    }\n",
              "\n",
              "    .dataframe thead th {\n",
              "        text-align: right;\n",
              "    }\n",
              "</style>\n",
              "<table border=\"1\" class=\"dataframe\">\n",
              "  <thead>\n",
              "    <tr style=\"text-align: right;\">\n",
              "      <th></th>\n",
              "      <th>usuario_id</th>\n",
              "      <th>fecha_visita</th>\n",
              "      <th>id_visita</th>\n",
              "      <th>hizo_clic</th>\n",
              "    </tr>\n",
              "  </thead>\n",
              "  <tbody>\n",
              "    <tr>\n",
              "      <th>3</th>\n",
              "      <td>3005</td>\n",
              "      <td>2024-01-15</td>\n",
              "      <td>916609</td>\n",
              "      <td>True</td>\n",
              "    </tr>\n",
              "    <tr>\n",
              "      <th>6</th>\n",
              "      <td>9353</td>\n",
              "      <td>2024-01-29</td>\n",
              "      <td>615631</td>\n",
              "      <td>False</td>\n",
              "    </tr>\n",
              "    <tr>\n",
              "      <th>7</th>\n",
              "      <td>4976</td>\n",
              "      <td>2024-01-21</td>\n",
              "      <td>444359</td>\n",
              "      <td>False</td>\n",
              "    </tr>\n",
              "    <tr>\n",
              "      <th>12</th>\n",
              "      <td>7469</td>\n",
              "      <td>2024-01-11</td>\n",
              "      <td>541144</td>\n",
              "      <td>True</td>\n",
              "    </tr>\n",
              "    <tr>\n",
              "      <th>16</th>\n",
              "      <td>6184</td>\n",
              "      <td>2024-01-04</td>\n",
              "      <td>723578</td>\n",
              "      <td>True</td>\n",
              "    </tr>\n",
              "  </tbody>\n",
              "</table>\n",
              "</div>"
            ],
            "text/plain": [
              "    usuario_id fecha_visita  id_visita  hizo_clic\n",
              "3         3005   2024-01-15     916609       True\n",
              "6         9353   2024-01-29     615631      False\n",
              "7         4976   2024-01-21     444359      False\n",
              "12        7469   2024-01-11     541144       True\n",
              "16        6184   2024-01-04     723578       True"
            ]
          },
          "execution_count": 36,
          "metadata": {},
          "output_type": "execute_result"
        }
      ],
      "source": [
        "control.head()"
      ]
    },
    {
      "cell_type": "code",
      "execution_count": null,
      "metadata": {},
      "outputs": [],
      "source": [
        "# Sigue generar la tasa de conversion diaria\n",
        "\n",
        "control_agg = control.groupby('fecha_visita').agg(\n",
        "    visitas = ('id_visita', 'count'),\n",
        "    clicks = ('hizo_clic', 'sum')\n",
        ").reset_index()\n",
        "\n",
        "# Se genera la columna de tasa de conversion\n",
        "control_agg['tasa_conversion'] = control_agg['clicks'] / control_agg['visitas']\n",
        "\n",
        "treatment_agg = treatment.groupby('fecha_visita').agg(\n",
        "    visitas = ('id_visita', 'count'),\n",
        "    clicks = ('hizo_clic', 'sum')\n",
        ").reset_index()\n",
        "\n",
        "treatment_agg['tasa_conversion'] = treatment_agg['clicks'] / treatment_agg['visitas']"
      ]
    },
    {
      "cell_type": "code",
      "execution_count": 48,
      "metadata": {},
      "outputs": [
        {
          "name": "stdout",
          "output_type": "stream",
          "text": [
            "Shapiro-Wilk para Grupo 1: p-value = 0.5266\n",
            "Shapiro-Wilk para Grupo 2: p-value = 0.4841\n",
            "La muestra de control es normal\n",
            "La muestra de tratamiento es normal\n"
          ]
        }
      ],
      "source": [
        "# Veamos si siguen o no siguen una distribución normal\n",
        "\n",
        "# Podemos usar el test de Shapiro Wilk, la hipotesis nula es que se sigue una distribucion normal, la alterna es que no se sgue una distribucion normal\n",
        "\n",
        "alpha = 0.05\n",
        "\n",
        "stat1, pvalue_control = stats.shapiro(control_agg['tasa_conversion'])\n",
        "stat2, pvalue_treatment = stats.shapiro(treatment_agg['tasa_conversion'])\n",
        "\n",
        "print(f\"Shapiro-Wilk para Grupo 1: p-value = {pvalue_control:.4f}\")\n",
        "print(f\"Shapiro-Wilk para Grupo 2: p-value = {pvalue_treatment:.4f}\")\n",
        "\n",
        "if pvalue_control > alpha:\n",
        "    print('La muestra de control es normal')\n",
        "else:\n",
        "    print('La muestra de control no es normal')\n",
        "\n",
        "if pvalue_treatment > alpha:\n",
        "    print('La muestra de tratamiento es normal')\n",
        "else:\n",
        "    print('La muestra de tratamiento no es normal')"
      ]
    },
    {
      "cell_type": "markdown",
      "metadata": {},
      "source": [
        "Ambos valores son mayores a alpha = 0.05 esto quiere decir que ambos tienen una distribución normal, por ende podemos usar la prueba de TStudent."
      ]
    },
    {
      "cell_type": "code",
      "execution_count": 49,
      "metadata": {},
      "outputs": [
        {
          "name": "stdout",
          "output_type": "stream",
          "text": [
            "t-Student: p-valor = 0.2089\n",
            "No rechazamos la hipotesis nula: La tasa de conversión del verde es menor o igual a la del azul.\n"
          ]
        }
      ],
      "source": [
        "if pvalue_control > alpha and pvalue_treatment > alpha:\n",
        "    # Si ambos son normales, usamos t-Student\n",
        "    t_stat, p_value = stats.ttest_ind(control_agg['tasa_conversion'], treatment_agg['tasa_conversion'])\n",
        "    print(f\"t-Student: p-valor = {p_value/2:.4f}\")\n",
        "else:\n",
        "    # Si alguno no es normal, usamos Mann-Whitney\n",
        "    mw_stat, p_value = stats.mannwhitneyu(control_agg['tasa_conversion'], treatment_agg['tasa_conversion'])\n",
        "    print(f\"Mann-Whitney U: p-valor = {p_value/2:.4f}\")\n",
        "\n",
        "\n",
        "if (p_value / 2 < alpha) and (treatment_agg['tasa_conversion'].mean() > control_agg['tasa_conversion'].mean()):\n",
        "  print('Rechazamos la hipotesis nula: El verde mejora la tasa de conversión.')\n",
        "else:\n",
        "  print('No rechazamos la hipotesis nula: La tasa de conversión del verde es menor o igual a la del azul.')"
      ]
    },
    {
      "cell_type": "markdown",
      "metadata": {
        "id": "W0kWB_V38-uP"
      },
      "source": [
        "# Solución"
      ]
    },
    {
      "cell_type": "code",
      "execution_count": null,
      "metadata": {
        "id": "urZG-_C49ypN"
      },
      "outputs": [],
      "source": [
        "#2. Indicador clave: Tasa de conversión diaria."
      ]
    },
    {
      "cell_type": "code",
      "execution_count": null,
      "metadata": {
        "id": "U0cavkJm96dj"
      },
      "outputs": [],
      "source": [
        "#3.\n",
        "# **Hipótesis nula (H₀):** La tasa de conversión del botón verde es menor o igual al botón azul.\n",
        "# **Hipótesis alternativa (H₁):** La tasa de conversión del botón verde es mayor al botón azul."
      ]
    },
    {
      "cell_type": "markdown",
      "metadata": {
        "id": "r84bsAYi_IB0"
      },
      "source": [
        "## 📊 Cómo funciona `solve_power` de `TTestIndPower` en Python\n",
        "\n",
        "El método `solve_power()` de la clase `TTestIndPower` se usa para calcular uno de los cuatro elementos clave en una prueba t de dos muestras independientes: **tamaño del efecto (`effect_size`), nivel de significancia (`alpha`), potencia estadística (`power`) o tamaño de muestra**, con base en los otros tres.\n",
        "\n",
        "---\n",
        "\n",
        "### 🔍 Parámetros importantes\n",
        "\n",
        "#### 1. `effect_size`\n",
        "Representa la magnitud de la diferencia que esperamos detectar entre los dos grupos. Valores de referencia comunes:\n",
        "- 0.2 → efecto pequeño\n",
        "- 0.5 → efecto mediano\n",
        "- 0.8 → efecto grande\n",
        "\n",
        "Este valor debe basarse en estudios anteriores, experiencia del dominio o una estimación razonable de lo que se considera una diferencia relevante.\n",
        "\n",
        "#### 2. `alpha`\n",
        "Es el **nivel de significancia**, o la probabilidad de cometer un **error tipo I**: rechazar la hipótesis nula cuando en realidad es verdadera.\n",
        "\n",
        "- Valor común: `alpha = 0.05`, es decir, aceptamos un 5% de riesgo de falso positivo.\n",
        "\n",
        "Este valor define qué tan estricto seremos al aceptar resultados como \"estadísticamente significativos\".\n",
        "\n",
        "#### 3. `power`\n",
        "Es la **potencia estadística**, o la probabilidad de detectar un efecto real si existe (es decir, evitar un **error tipo II**).\n",
        "\n",
        "- Valor típico: `power = 0.8`, lo que significa que queremos un 80% de probabilidad de detectar diferencias reales.\n",
        "\n",
        "Una potencia más alta requiere un tamaño de muestra mayor, pero reduce la posibilidad de pasar por alto efectos importantes.\n",
        "\n",
        "\n",
        "#### 4. `ratio`\n",
        "Representa la relación entre el tamaño del segundo grupo y el primero. Si `ratio = 1`, significa que ambos grupos serán del mismo tamaño.\n",
        "\n",
        "---\n",
        "\n",
        "Este método es muy útil al planificar experimentos o pruebas A/B, ya que permite estimar cuántos datos necesitas recolectar para tener una alta probabilidad de obtener resultados significativos."
      ]
    },
    {
      "cell_type": "code",
      "execution_count": null,
      "metadata": {
        "colab": {
          "base_uri": "https://localhost:8080/"
        },
        "id": "veGY8dIv-3M7",
        "outputId": "f56e346c-48be-4e22-d75f-9d0d7a7b77b7"
      },
      "outputs": [
        {
          "data": {
            "text/plain": [
              "1571"
            ]
          },
          "execution_count": 37,
          "metadata": {},
          "output_type": "execute_result"
        }
      ],
      "source": [
        "#4. Definir tamaño de muestra\n",
        "alpha = 0.05  # Nivel de significancia\n",
        "power = 0.8  # Potencia estadística\n",
        "effect_size = 0.1  # Diferencia mínima detectable\n",
        "sample_size = TTestIndPower().solve_power(effect_size=effect_size, alpha=alpha, power=power, ratio=1)\n",
        "sample_size = int(np.ceil(sample_size))\n",
        "sample_size"
      ]
    },
    {
      "cell_type": "code",
      "execution_count": null,
      "metadata": {
        "id": "Xca7o3qlBwYx"
      },
      "outputs": [],
      "source": [
        "#5. Tipo de muestreo.\n",
        "\n",
        "df_users = df[['usuario_id']].drop_duplicates()\n",
        "\n",
        "users_control, users_tratamiento = train_test_split(\n",
        "    df_users,\n",
        "    test_size=1571,\n",
        "    random_state=0)\n",
        "\n",
        "users_control = users_control.sample(n=1571)\n",
        "\n",
        "control = df[df['usuario_id'].isin(users_control['usuario_id'])]\n",
        "tratamiento = df[df['usuario_id'].isin(users_tratamiento['usuario_id'])]"
      ]
    },
    {
      "cell_type": "code",
      "execution_count": null,
      "metadata": {
        "colab": {
          "base_uri": "https://localhost:8080/",
          "height": 424
        },
        "id": "aVBMJwGhA8ss",
        "outputId": "4058c2fa-5e5d-4789-da64-99ffad8c922a"
      },
      "outputs": [
        {
          "data": {
            "text/html": [
              "<div>\n",
              "<style scoped>\n",
              "    .dataframe tbody tr th:only-of-type {\n",
              "        vertical-align: middle;\n",
              "    }\n",
              "\n",
              "    .dataframe tbody tr th {\n",
              "        vertical-align: top;\n",
              "    }\n",
              "\n",
              "    .dataframe thead th {\n",
              "        text-align: right;\n",
              "    }\n",
              "</style>\n",
              "<table border=\"1\" class=\"dataframe\">\n",
              "  <thead>\n",
              "    <tr style=\"text-align: right;\">\n",
              "      <th></th>\n",
              "      <th>usuario_id</th>\n",
              "      <th>fecha_visita</th>\n",
              "      <th>id_visita</th>\n",
              "      <th>hizo_clic</th>\n",
              "    </tr>\n",
              "  </thead>\n",
              "  <tbody>\n",
              "    <tr>\n",
              "      <th>0</th>\n",
              "      <td>5424</td>\n",
              "      <td>2024-01-07</td>\n",
              "      <td>818515</td>\n",
              "      <td>True</td>\n",
              "    </tr>\n",
              "    <tr>\n",
              "      <th>6</th>\n",
              "      <td>9353</td>\n",
              "      <td>2024-01-29</td>\n",
              "      <td>615631</td>\n",
              "      <td>False</td>\n",
              "    </tr>\n",
              "    <tr>\n",
              "      <th>7</th>\n",
              "      <td>4976</td>\n",
              "      <td>2024-01-21</td>\n",
              "      <td>444359</td>\n",
              "      <td>False</td>\n",
              "    </tr>\n",
              "    <tr>\n",
              "      <th>11</th>\n",
              "      <td>8170</td>\n",
              "      <td>2024-01-23</td>\n",
              "      <td>415594</td>\n",
              "      <td>True</td>\n",
              "    </tr>\n",
              "    <tr>\n",
              "      <th>16</th>\n",
              "      <td>6184</td>\n",
              "      <td>2024-01-04</td>\n",
              "      <td>723578</td>\n",
              "      <td>True</td>\n",
              "    </tr>\n",
              "    <tr>\n",
              "      <th>...</th>\n",
              "      <td>...</td>\n",
              "      <td>...</td>\n",
              "      <td>...</td>\n",
              "      <td>...</td>\n",
              "    </tr>\n",
              "    <tr>\n",
              "      <th>4992</th>\n",
              "      <td>6733</td>\n",
              "      <td>2024-01-13</td>\n",
              "      <td>136080</td>\n",
              "      <td>False</td>\n",
              "    </tr>\n",
              "    <tr>\n",
              "      <th>4993</th>\n",
              "      <td>4240</td>\n",
              "      <td>2024-01-18</td>\n",
              "      <td>883103</td>\n",
              "      <td>True</td>\n",
              "    </tr>\n",
              "    <tr>\n",
              "      <th>4996</th>\n",
              "      <td>6854</td>\n",
              "      <td>2024-01-04</td>\n",
              "      <td>593844</td>\n",
              "      <td>True</td>\n",
              "    </tr>\n",
              "    <tr>\n",
              "      <th>4997</th>\n",
              "      <td>6318</td>\n",
              "      <td>2024-01-02</td>\n",
              "      <td>666695</td>\n",
              "      <td>False</td>\n",
              "    </tr>\n",
              "    <tr>\n",
              "      <th>4998</th>\n",
              "      <td>3258</td>\n",
              "      <td>2024-01-16</td>\n",
              "      <td>220283</td>\n",
              "      <td>True</td>\n",
              "    </tr>\n",
              "  </tbody>\n",
              "</table>\n",
              "<p>2045 rows × 4 columns</p>\n",
              "</div>"
            ],
            "text/plain": [
              "      usuario_id fecha_visita  id_visita  hizo_clic\n",
              "0           5424   2024-01-07     818515       True\n",
              "6           9353   2024-01-29     615631      False\n",
              "7           4976   2024-01-21     444359      False\n",
              "11          8170   2024-01-23     415594       True\n",
              "16          6184   2024-01-04     723578       True\n",
              "...          ...          ...        ...        ...\n",
              "4992        6733   2024-01-13     136080      False\n",
              "4993        4240   2024-01-18     883103       True\n",
              "4996        6854   2024-01-04     593844       True\n",
              "4997        6318   2024-01-02     666695      False\n",
              "4998        3258   2024-01-16     220283       True\n",
              "\n",
              "[2045 rows x 4 columns]"
            ]
          },
          "execution_count": 39,
          "metadata": {},
          "output_type": "execute_result"
        }
      ],
      "source": [
        "control"
      ]
    },
    {
      "cell_type": "code",
      "execution_count": null,
      "metadata": {
        "colab": {
          "base_uri": "https://localhost:8080/",
          "height": 990
        },
        "id": "fV50o_gjBFJy",
        "outputId": "063ff2f9-c8bb-444d-e026-884f67022048"
      },
      "outputs": [
        {
          "data": {
            "text/html": [
              "<div>\n",
              "<style scoped>\n",
              "    .dataframe tbody tr th:only-of-type {\n",
              "        vertical-align: middle;\n",
              "    }\n",
              "\n",
              "    .dataframe tbody tr th {\n",
              "        vertical-align: top;\n",
              "    }\n",
              "\n",
              "    .dataframe thead th {\n",
              "        text-align: right;\n",
              "    }\n",
              "</style>\n",
              "<table border=\"1\" class=\"dataframe\">\n",
              "  <thead>\n",
              "    <tr style=\"text-align: right;\">\n",
              "      <th></th>\n",
              "      <th>fecha_visita</th>\n",
              "      <th>visitas</th>\n",
              "      <th>clics</th>\n",
              "    </tr>\n",
              "  </thead>\n",
              "  <tbody>\n",
              "    <tr>\n",
              "      <th>0</th>\n",
              "      <td>2024-01-01</td>\n",
              "      <td>72</td>\n",
              "      <td>49</td>\n",
              "    </tr>\n",
              "    <tr>\n",
              "      <th>1</th>\n",
              "      <td>2024-01-02</td>\n",
              "      <td>86</td>\n",
              "      <td>62</td>\n",
              "    </tr>\n",
              "    <tr>\n",
              "      <th>2</th>\n",
              "      <td>2024-01-03</td>\n",
              "      <td>69</td>\n",
              "      <td>46</td>\n",
              "    </tr>\n",
              "    <tr>\n",
              "      <th>3</th>\n",
              "      <td>2024-01-04</td>\n",
              "      <td>68</td>\n",
              "      <td>52</td>\n",
              "    </tr>\n",
              "    <tr>\n",
              "      <th>4</th>\n",
              "      <td>2024-01-05</td>\n",
              "      <td>85</td>\n",
              "      <td>61</td>\n",
              "    </tr>\n",
              "    <tr>\n",
              "      <th>5</th>\n",
              "      <td>2024-01-06</td>\n",
              "      <td>67</td>\n",
              "      <td>37</td>\n",
              "    </tr>\n",
              "    <tr>\n",
              "      <th>6</th>\n",
              "      <td>2024-01-07</td>\n",
              "      <td>72</td>\n",
              "      <td>48</td>\n",
              "    </tr>\n",
              "    <tr>\n",
              "      <th>7</th>\n",
              "      <td>2024-01-08</td>\n",
              "      <td>72</td>\n",
              "      <td>44</td>\n",
              "    </tr>\n",
              "    <tr>\n",
              "      <th>8</th>\n",
              "      <td>2024-01-09</td>\n",
              "      <td>72</td>\n",
              "      <td>49</td>\n",
              "    </tr>\n",
              "    <tr>\n",
              "      <th>9</th>\n",
              "      <td>2024-01-10</td>\n",
              "      <td>63</td>\n",
              "      <td>40</td>\n",
              "    </tr>\n",
              "    <tr>\n",
              "      <th>10</th>\n",
              "      <td>2024-01-11</td>\n",
              "      <td>47</td>\n",
              "      <td>35</td>\n",
              "    </tr>\n",
              "    <tr>\n",
              "      <th>11</th>\n",
              "      <td>2024-01-12</td>\n",
              "      <td>70</td>\n",
              "      <td>42</td>\n",
              "    </tr>\n",
              "    <tr>\n",
              "      <th>12</th>\n",
              "      <td>2024-01-13</td>\n",
              "      <td>77</td>\n",
              "      <td>50</td>\n",
              "    </tr>\n",
              "    <tr>\n",
              "      <th>13</th>\n",
              "      <td>2024-01-14</td>\n",
              "      <td>69</td>\n",
              "      <td>46</td>\n",
              "    </tr>\n",
              "    <tr>\n",
              "      <th>14</th>\n",
              "      <td>2024-01-15</td>\n",
              "      <td>72</td>\n",
              "      <td>44</td>\n",
              "    </tr>\n",
              "    <tr>\n",
              "      <th>15</th>\n",
              "      <td>2024-01-16</td>\n",
              "      <td>48</td>\n",
              "      <td>36</td>\n",
              "    </tr>\n",
              "    <tr>\n",
              "      <th>16</th>\n",
              "      <td>2024-01-17</td>\n",
              "      <td>71</td>\n",
              "      <td>48</td>\n",
              "    </tr>\n",
              "    <tr>\n",
              "      <th>17</th>\n",
              "      <td>2024-01-18</td>\n",
              "      <td>51</td>\n",
              "      <td>29</td>\n",
              "    </tr>\n",
              "    <tr>\n",
              "      <th>18</th>\n",
              "      <td>2024-01-19</td>\n",
              "      <td>62</td>\n",
              "      <td>38</td>\n",
              "    </tr>\n",
              "    <tr>\n",
              "      <th>19</th>\n",
              "      <td>2024-01-20</td>\n",
              "      <td>66</td>\n",
              "      <td>47</td>\n",
              "    </tr>\n",
              "    <tr>\n",
              "      <th>20</th>\n",
              "      <td>2024-01-21</td>\n",
              "      <td>63</td>\n",
              "      <td>38</td>\n",
              "    </tr>\n",
              "    <tr>\n",
              "      <th>21</th>\n",
              "      <td>2024-01-22</td>\n",
              "      <td>69</td>\n",
              "      <td>45</td>\n",
              "    </tr>\n",
              "    <tr>\n",
              "      <th>22</th>\n",
              "      <td>2024-01-23</td>\n",
              "      <td>73</td>\n",
              "      <td>44</td>\n",
              "    </tr>\n",
              "    <tr>\n",
              "      <th>23</th>\n",
              "      <td>2024-01-24</td>\n",
              "      <td>72</td>\n",
              "      <td>55</td>\n",
              "    </tr>\n",
              "    <tr>\n",
              "      <th>24</th>\n",
              "      <td>2024-01-25</td>\n",
              "      <td>57</td>\n",
              "      <td>37</td>\n",
              "    </tr>\n",
              "    <tr>\n",
              "      <th>25</th>\n",
              "      <td>2024-01-26</td>\n",
              "      <td>76</td>\n",
              "      <td>48</td>\n",
              "    </tr>\n",
              "    <tr>\n",
              "      <th>26</th>\n",
              "      <td>2024-01-27</td>\n",
              "      <td>52</td>\n",
              "      <td>34</td>\n",
              "    </tr>\n",
              "    <tr>\n",
              "      <th>27</th>\n",
              "      <td>2024-01-28</td>\n",
              "      <td>81</td>\n",
              "      <td>55</td>\n",
              "    </tr>\n",
              "    <tr>\n",
              "      <th>28</th>\n",
              "      <td>2024-01-29</td>\n",
              "      <td>75</td>\n",
              "      <td>50</td>\n",
              "    </tr>\n",
              "    <tr>\n",
              "      <th>29</th>\n",
              "      <td>2024-01-30</td>\n",
              "      <td>68</td>\n",
              "      <td>45</td>\n",
              "    </tr>\n",
              "  </tbody>\n",
              "</table>\n",
              "</div>"
            ],
            "text/plain": [
              "   fecha_visita  visitas  clics\n",
              "0    2024-01-01       72     49\n",
              "1    2024-01-02       86     62\n",
              "2    2024-01-03       69     46\n",
              "3    2024-01-04       68     52\n",
              "4    2024-01-05       85     61\n",
              "5    2024-01-06       67     37\n",
              "6    2024-01-07       72     48\n",
              "7    2024-01-08       72     44\n",
              "8    2024-01-09       72     49\n",
              "9    2024-01-10       63     40\n",
              "10   2024-01-11       47     35\n",
              "11   2024-01-12       70     42\n",
              "12   2024-01-13       77     50\n",
              "13   2024-01-14       69     46\n",
              "14   2024-01-15       72     44\n",
              "15   2024-01-16       48     36\n",
              "16   2024-01-17       71     48\n",
              "17   2024-01-18       51     29\n",
              "18   2024-01-19       62     38\n",
              "19   2024-01-20       66     47\n",
              "20   2024-01-21       63     38\n",
              "21   2024-01-22       69     45\n",
              "22   2024-01-23       73     44\n",
              "23   2024-01-24       72     55\n",
              "24   2024-01-25       57     37\n",
              "25   2024-01-26       76     48\n",
              "26   2024-01-27       52     34\n",
              "27   2024-01-28       81     55\n",
              "28   2024-01-29       75     50\n",
              "29   2024-01-30       68     45"
            ]
          },
          "execution_count": 40,
          "metadata": {},
          "output_type": "execute_result"
        }
      ],
      "source": [
        "control.groupby(\"fecha_visita\").agg(\n",
        "    visitas=(\"id_visita\", \"count\"),\n",
        "    clics=(\"hizo_clic\", \"sum\")\n",
        ").reset_index()"
      ]
    },
    {
      "cell_type": "code",
      "execution_count": null,
      "metadata": {
        "id": "Qrz0AC1ZEeTH"
      },
      "outputs": [],
      "source": [
        "#6. Tipo de distribución.\n",
        "\n",
        "control_agg = control.groupby(\"fecha_visita\").agg(\n",
        "    visitas=(\"id_visita\", \"count\"),\n",
        "    clics=(\"hizo_clic\", \"sum\")\n",
        ").reset_index()\n",
        "\n",
        "control_agg[\"tasa_conversion\"] = control_agg[\"clics\"] / control_agg[\"visitas\"]\n",
        "\n",
        "tratamiento_agg = tratamiento.groupby(\"fecha_visita\").agg(\n",
        "    visitas=(\"id_visita\", \"count\"),\n",
        "    clics=(\"hizo_clic\", \"sum\")\n",
        ").reset_index()\n",
        "\n",
        "tratamiento_agg[\"tasa_conversion\"] = tratamiento_agg[\"clics\"] / tratamiento_agg[\"visitas\"]"
      ]
    },
    {
      "cell_type": "code",
      "execution_count": null,
      "metadata": {
        "colab": {
          "base_uri": "https://localhost:8080/",
          "height": 1000
        },
        "id": "bOph7P6dB5Md",
        "outputId": "f13a87f8-00cc-4828-fb96-e135d43a3dab"
      },
      "outputs": [
        {
          "data": {
            "text/plain": [
              "0     0.611940\n",
              "1     0.709677\n",
              "2     0.617284\n",
              "3     0.642857\n",
              "4     0.671642\n",
              "5     0.758065\n",
              "6     0.666667\n",
              "7     0.653846\n",
              "8     0.650000\n",
              "9     0.679245\n",
              "10    0.815385\n",
              "11    0.602941\n",
              "12    0.588235\n",
              "13    0.571429\n",
              "14    0.757576\n",
              "15    0.625000\n",
              "16    0.597403\n",
              "17    0.704225\n",
              "18    0.681159\n",
              "19    0.666667\n",
              "20    0.698795\n",
              "21    0.585714\n",
              "22    0.640625\n",
              "23    0.661538\n",
              "24    0.716049\n",
              "25    0.675676\n",
              "26    0.680556\n",
              "27    0.717647\n",
              "28    0.636364\n",
              "29    0.638889\n",
              "Name: tasa_conversion, dtype: float64"
            ]
          },
          "execution_count": 42,
          "metadata": {},
          "output_type": "execute_result"
        }
      ],
      "source": [
        "tratamiento_agg['tasa_conversion']"
      ]
    },
    {
      "cell_type": "code",
      "execution_count": null,
      "metadata": {
        "colab": {
          "base_uri": "https://localhost:8080/",
          "height": 515
        },
        "id": "n6lkGmsJBbVq",
        "outputId": "c0f5f553-449d-404d-8500-5f8f1dbda207"
      },
      "outputs": [
        {
          "data": {
            "text/plain": [
              "<Axes: xlabel='fecha_visita'>"
            ]
          },
          "execution_count": 43,
          "metadata": {},
          "output_type": "execute_result"
        },
        {
          "data": {
            "image/png": "[encoded data removed]",
            "text/plain": [
              "<Figure size 640x480 with 1 Axes>"
            ]
          },
          "metadata": {},
          "output_type": "display_data"
        }
      ],
      "source": [
        "control_agg.set_index('fecha_visita')['tasa_conversion'].plot(kind='line',color = 'blue')\n",
        "tratamiento_agg.set_index('fecha_visita')['tasa_conversion'].plot(kind='line',color = 'green')"
      ]
    },
    {
      "cell_type": "code",
      "execution_count": null,
      "metadata": {
        "colab": {
          "base_uri": "https://localhost:8080/"
        },
        "id": "CGAMjoA7DT4-",
        "outputId": "c5a8b7c4-d31c-4481-af3b-b6cf3a6db105"
      },
      "outputs": [
        {
          "name": "stdout",
          "output_type": "stream",
          "text": [
            "Shapiro-Wilk para Grupo 1: p-valor = 0.5099\n",
            "Shapiro-Wilk para Grupo 2: p-valor = 0.4841\n",
            "La muestra de control es normal\n",
            "La muestra de control es normal\n"
          ]
        }
      ],
      "source": [
        "alpha = 0.05\n",
        "\n",
        "stat1, p_value_control  = stats.shapiro(control_agg['tasa_conversion'])\n",
        "stat2, p_value_tratamiento  = stats.shapiro(tratamiento_agg['tasa_conversion'])\n",
        "\n",
        "print(f\"Shapiro-Wilk para Grupo 1: p-valor = {p_value_control:.4f}\")\n",
        "print(f\"Shapiro-Wilk para Grupo 2: p-valor = {p_value_tratamiento:.4f}\")\n",
        "\n",
        "if p_value_control > alpha:\n",
        "  print('La muestra de control es normal')\n",
        "else:\n",
        "  print('La muestra de control no es normal')\n",
        "\n",
        "if p_value_tratamiento > alpha:\n",
        "  print('La muestra de control es normal')\n",
        "else:\n",
        "  print('La muestra de control no es normal')"
      ]
    },
    {
      "cell_type": "code",
      "execution_count": null,
      "metadata": {
        "colab": {
          "base_uri": "https://localhost:8080/"
        },
        "id": "avoKY2-iEq81",
        "outputId": "f51c79a6-d74f-4046-a876-e3f575091ec8"
      },
      "outputs": [
        {
          "name": "stdout",
          "output_type": "stream",
          "text": [
            "t-Student: p-valor = nan\n",
            "No rechazamos la hipotesis nula: La tasa de conversión del verde es menor o igual a la del azul.\n"
          ]
        },
        {
          "name": "stderr",
          "output_type": "stream",
          "text": [
            "/Volumes/Carlos Vallejo SSD/Triple Ten/tripleten-ds/ttds_venv/lib/python3.10/site-packages/scipy/stats/_stats_py.py:6195: RuntimeWarning: invalid value encountered in scalar divide\n",
            "  svar = ((n1 - 1) * v1 + (n2 - 1) * v2) / df\n"
          ]
        }
      ],
      "source": [
        "if p_value_control > alpha and p_value_tratamiento > alpha:\n",
        "    # Si ambos son normales, usamos t-Student\n",
        "    t_stat, p_value = stats.ttest_ind(p_value_control, p_value_tratamiento)\n",
        "    print(f\"t-Student: p-valor = {p_value/2:.4f}\")\n",
        "else:\n",
        "    # Si alguno no es normal, usamos Mann-Whitney\n",
        "    mw_stat, p_value = stats.mannwhitneyu(p_value_control, p_value_tratamiento)\n",
        "    print(f\"Mann-Whitney U: p-valor = {p_value/2:.4f}\")\n",
        "\n",
        "\n",
        "if (p_value / 2 < alpha) and (tratamiento_agg['tasa_conversion'].mean() > control_agg['tasa_conversion'].mean()):\n",
        "  print('Rechazamos la hipotesis nula: El verde mejora la tasa de conversión.')\n",
        "else:\n",
        "  print('No rechazamos la hipotesis nula: La tasa de conversión del verde es menor o igual a la del azul.')"
      ]
    }
  ],
  "metadata": {
    "colab": {
      "provenance": []
    },
    "kernelspec": {
      "display_name": "ttds_venv",
      "language": "python",
      "name": "python3"
    },
    "language_info": {
      "codemirror_mode": {
        "name": "ipython",
        "version": 3
      },
      "file_extension": ".py",
      "mimetype": "text/x-python",
      "name": "python",
      "nbconvert_exporter": "python",
      "pygments_lexer": "ipython3",
      "version": "3.10.16"
    }
  },
  "nbformat": 4,
  "nbformat_minor": 0
}
